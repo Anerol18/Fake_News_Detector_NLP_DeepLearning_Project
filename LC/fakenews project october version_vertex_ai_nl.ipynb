{
  "cells": [
    {
      "cell_type": "markdown",
      "id": "b78069c6-04c0-470a-b491-4f3948c21114",
      "metadata": {
        "id": "b78069c6-04c0-470a-b491-4f3948c21114"
      },
      "source": [
        "# Environment setting"
      ]
    },
    {
      "cell_type": "code",
      "source": [
        "!pip install tqdm"
      ],
      "metadata": {
        "colab": {
          "base_uri": "https://localhost:8080/"
        },
        "id": "euiMurqEFA7l",
        "executionInfo": {
          "status": "ok",
          "timestamp": 1728919132435,
          "user_tz": -120,
          "elapsed": 3384,
          "user": {
            "displayName": "",
            "userId": ""
          }
        },
        "outputId": "5752e362-9d0b-44b7-b07b-32fe5347d6ba"
      },
      "id": "euiMurqEFA7l",
      "execution_count": 1,
      "outputs": [
        {
          "output_type": "stream",
          "name": "stdout",
          "text": [
            "Requirement already satisfied: tqdm in /usr/local/lib/python3.10/dist-packages (4.66.5)\n"
          ]
        }
      ]
    },
    {
      "cell_type": "code",
      "source": [
        "%pip install --upgrade --quiet --user google-cloud-aiplatform"
      ],
      "metadata": {
        "id": "DJXRlCFOJoas",
        "executionInfo": {
          "status": "ok",
          "timestamp": 1728919151362,
          "user_tz": -120,
          "elapsed": 9069,
          "user": {
            "displayName": "",
            "userId": ""
          }
        },
        "colab": {
          "base_uri": "https://localhost:8080/"
        },
        "outputId": "a83826c6-fc3f-4119-f81e-75cb9b9011c4"
      },
      "id": "DJXRlCFOJoas",
      "execution_count": 2,
      "outputs": [
        {
          "output_type": "stream",
          "name": "stdout",
          "text": [
            "\u001b[?25l   \u001b[90m━━━━━━━━━━━━━━━━━━━━━━━━━━━━━━━━━━━━━━━━\u001b[0m \u001b[32m0.0/5.3 MB\u001b[0m \u001b[31m?\u001b[0m eta \u001b[36m-:--:--\u001b[0m\r\u001b[2K   \u001b[91m━━━━\u001b[0m\u001b[90m╺\u001b[0m\u001b[90m━━━━━━━━━━━━━━━━━━━━━━━━━━━━━━━━━━━\u001b[0m \u001b[32m0.6/5.3 MB\u001b[0m \u001b[31m16.4 MB/s\u001b[0m eta \u001b[36m0:00:01\u001b[0m\r\u001b[2K   \u001b[91m━━━━━━━━━━━━━━━━━━━━━━━━━━━\u001b[0m\u001b[91m╸\u001b[0m\u001b[90m━━━━━━━━━━━━\u001b[0m \u001b[32m3.6/5.3 MB\u001b[0m \u001b[31m52.1 MB/s\u001b[0m eta \u001b[36m0:00:01\u001b[0m\r\u001b[2K   \u001b[90m━━━━━━━━━━━━━━━━━━━━━━━━━━━━━━━━━━━━━━━━\u001b[0m \u001b[32m5.3/5.3 MB\u001b[0m \u001b[31m54.3 MB/s\u001b[0m eta \u001b[36m0:00:00\u001b[0m\n",
            "\u001b[?25h\u001b[33m  WARNING: The script tb-gcp-uploader is installed in '/root/.local/bin' which is not on PATH.\n",
            "  Consider adding this directory to PATH or, if you prefer to suppress this warning, use --no-warn-script-location.\u001b[0m\u001b[33m\n",
            "\u001b[0m"
          ]
        }
      ]
    },
    {
      "cell_type": "code",
      "execution_count": 3,
      "id": "1345a3e6-cfac-4d3b-9a36-7c7f7cf726d3",
      "metadata": {
        "id": "1345a3e6-cfac-4d3b-9a36-7c7f7cf726d3",
        "executionInfo": {
          "status": "ok",
          "timestamp": 1728919164060,
          "user_tz": -120,
          "elapsed": 11048,
          "user": {
            "displayName": "",
            "userId": ""
          }
        }
      },
      "outputs": [],
      "source": [
        "# Import libraries\n",
        "import time\n",
        "import pandas as pd\n",
        "import numpy as np\n",
        "import torch\n",
        "import torch.nn as nn\n",
        "import torch.optim as optim\n",
        "from transformers import RobertaTokenizer, RobertaModel\n",
        "from sklearn.model_selection import train_test_split\n",
        "from sklearn.metrics import accuracy_score, classification_report, confusion_matrix\n",
        "from torch.utils.data import DataLoader, Dataset\n",
        "import matplotlib.pyplot as plt\n",
        "import seaborn as sns\n",
        "\n",
        "# Import vertexai libraries\n",
        "import vertexai\n",
        "from vertexai.language_models import TextEmbeddingModel\n",
        "from tqdm import tqdm"
      ]
    },
    {
      "cell_type": "code",
      "source": [
        "torch.device(\"cuda\" if torch.cuda.is_available() else \"mps\" if torch.backends.mps.is_available() else \"cpu\")"
      ],
      "metadata": {
        "colab": {
          "base_uri": "https://localhost:8080/"
        },
        "id": "U4osI_YG3vUq",
        "executionInfo": {
          "status": "ok",
          "timestamp": 1728919165838,
          "user_tz": -120,
          "elapsed": 292,
          "user": {
            "displayName": "",
            "userId": ""
          }
        },
        "outputId": "e700a7ea-5c19-4d62-89f9-6d62e335e4fa"
      },
      "id": "U4osI_YG3vUq",
      "execution_count": 4,
      "outputs": [
        {
          "output_type": "execute_result",
          "data": {
            "text/plain": [
              "device(type='cuda')"
            ]
          },
          "metadata": {},
          "execution_count": 4
        }
      ]
    },
    {
      "cell_type": "code",
      "execution_count": 5,
      "id": "c7f07b50-8f29-4475-8376-728ca909daf6",
      "metadata": {
        "id": "c7f07b50-8f29-4475-8376-728ca909daf6",
        "outputId": "d7922464-d953-4f69-e666-724751cebaca",
        "colab": {
          "base_uri": "https://localhost:8080/",
          "height": 105
        },
        "executionInfo": {
          "status": "ok",
          "timestamp": 1728919168963,
          "user_tz": -120,
          "elapsed": 5,
          "user": {
            "displayName": "",
            "userId": ""
          }
        }
      },
      "outputs": [
        {
          "output_type": "execute_result",
          "data": {
            "text/plain": [
              "'\\nWe could also use pytorch_lightning package\\ntry:\\n    import pytorch_lightning as pl\\nexcept ModuleNotFoundError: # Google Colab does not have PyTorch Lightning installed by default. Hence, we do it here if necessary\\n    !pip install --quiet pytorch-lightning>=1.5\\n    import pytorch_lightning as pl\\n\\npl.seed_everything(42)\\n'"
            ],
            "application/vnd.google.colaboratory.intrinsic+json": {
              "type": "string"
            }
          },
          "metadata": {},
          "execution_count": 5
        }
      ],
      "source": [
        "# Setting seed:\n",
        "\n",
        "def set_seed_fun(seed_number: int):\n",
        "    np.random.seed(seed_number)\n",
        "    if torch.backends.mps.is_available():\n",
        "        torch.mps.manual_seed(seed_number)\n",
        "    if torch.cuda.is_available():\n",
        "        torch.manual_seed(seed_number)\n",
        "        torch.cuda.manual_seed(seed_number)\n",
        "        torch.cuda.manual_seed_all(seed_number)\n",
        "        torch.backends.cudnn.deterministic = True\n",
        "        torch.backends.cudnn.benchark = False\n",
        "\n",
        "set_seed_fun(42)\n",
        "\"\"\"\n",
        "We could also use pytorch_lightning package\n",
        "try:\n",
        "    import pytorch_lightning as pl\n",
        "except ModuleNotFoundError: # Google Colab does not have PyTorch Lightning installed by default. Hence, we do it here if necessary\n",
        "    !pip install --quiet pytorch-lightning>=1.5\n",
        "    import pytorch_lightning as pl\n",
        "\n",
        "pl.seed_everything(42)\n",
        "\"\"\""
      ]
    },
    {
      "cell_type": "code",
      "execution_count": 6,
      "id": "99e07a94-fbf3-4d20-84bc-822e61682eac",
      "metadata": {
        "id": "99e07a94-fbf3-4d20-84bc-822e61682eac",
        "executionInfo": {
          "status": "ok",
          "timestamp": 1728919172825,
          "user_tz": -120,
          "elapsed": 335,
          "user": {
            "displayName": "",
            "userId": ""
          }
        }
      },
      "outputs": [],
      "source": [
        "# Load Dataset\n",
        "df = pd.read_csv(\"final_combined_dataset.csv\")"
      ]
    },
    {
      "cell_type": "code",
      "execution_count": 7,
      "id": "46d4ab2b-ee2a-4ce9-9b20-c457b0b0ac2c",
      "metadata": {
        "id": "46d4ab2b-ee2a-4ce9-9b20-c457b0b0ac2c",
        "executionInfo": {
          "status": "ok",
          "timestamp": 1728919174827,
          "user_tz": -120,
          "elapsed": 336,
          "user": {
            "displayName": "",
            "userId": ""
          }
        }
      },
      "outputs": [],
      "source": [
        "# Prepare data\n",
        "X = df['Text'].values.astype(str)\n",
        "y = (df['Label'] == 'fake').astype(int).values\n"
      ]
    },
    {
      "cell_type": "code",
      "execution_count": 8,
      "id": "81a7d200-6a4e-4bb1-a166-05da53b3ab10",
      "metadata": {
        "id": "81a7d200-6a4e-4bb1-a166-05da53b3ab10",
        "executionInfo": {
          "status": "ok",
          "timestamp": 1728919177508,
          "user_tz": -120,
          "elapsed": 659,
          "user": {
            "displayName": "",
            "userId": ""
          }
        }
      },
      "outputs": [],
      "source": [
        "# Split the data into training, validation, and test sets\n",
        "X_train, X_temp, y_train, y_temp = train_test_split(X, y, test_size=0.3, random_state=42)\n",
        "X_val, X_test, y_val, y_test = train_test_split(X_temp, y_temp, test_size=0.5, random_state=42)\n"
      ]
    },
    {
      "cell_type": "markdown",
      "id": "6dc6ae47-93f1-40a0-9295-3c75928120c7",
      "metadata": {
        "id": "6dc6ae47-93f1-40a0-9295-3c75928120c7"
      },
      "source": [
        "# Embedding"
      ]
    },
    {
      "cell_type": "code",
      "source": [
        "# Modified function to process texts in batches\n",
        "\n",
        "def generate_vertex_embeddings(texts, model, task_type=\"CLASSIFICATION\", output_dimensionality=768, batch_size=32):\n",
        "    embeddings = []\n",
        "\n",
        "    # Set up keyword arguments for model.get_embeddings()\n",
        "    kwargs = dict(output_dimensionality=output_dimensionality) if output_dimensionality else {}\n",
        "\n",
        "    # Initialize tqdm progress bar\n",
        "    for i in tqdm(range(0, len(texts), batch_size), desc=\"Generating Embeddings\"):\n",
        "        # Slicing might return a string if the batch size is 1 and it's the last element\n",
        "        batch_texts = texts[i:i + batch_size]\n",
        "\n",
        "        # Ensure that batch_texts is always a list\n",
        "        if isinstance(batch_texts, str):\n",
        "            batch_texts = [batch_texts]\n",
        "        elif isinstance(batch_texts, np.ndarray):  # Handle np.array slice which might not be a list\n",
        "            batch_texts = batch_texts.tolist()\n",
        "\n",
        "        try:\n",
        "            # Get the embeddings in batches, passing the kwargs to control output_dimensionality if set\n",
        "            embedding_response = model.get_embeddings(batch_texts, **kwargs)\n",
        "\n",
        "            # Extract the embedding values from each text in the batch\n",
        "            for embedding in embedding_response:\n",
        "                embeddings.append(embedding.values)\n",
        "\n",
        "        except Exception as e:\n",
        "            print(f\"Error processing batch {i}: {e}\")\n",
        "\n",
        "    # Ensure embeddings list is not empty before attempting to concatenate\n",
        "    if embeddings:\n",
        "        return np.vstack(embeddings)\n",
        "    else:\n",
        "        raise ValueError(\"No valid embeddings were generated.\")\n"
      ],
      "metadata": {
        "id": "b7Nubkly8ocs",
        "executionInfo": {
          "status": "ok",
          "timestamp": 1728919180826,
          "user_tz": -120,
          "elapsed": 285,
          "user": {
            "displayName": "",
            "userId": ""
          }
        }
      },
      "id": "b7Nubkly8ocs",
      "execution_count": 9,
      "outputs": []
    },
    {
      "cell_type": "code",
      "execution_count": 10,
      "metadata": {
        "id": "befa178b-cbc7-4d7f-9c96-5cbb828470ee",
        "executionInfo": {
          "status": "ok",
          "timestamp": 1728919184710,
          "user_tz": -120,
          "elapsed": 277,
          "user": {
            "displayName": "",
            "userId": ""
          }
        }
      },
      "outputs": [],
      "source": [
        "#####################################\n",
        "# benchmark beginning for embedding #\n",
        "#####################################\n",
        "time_start_embed = time.perf_counter()"
      ],
      "id": "befa178b-cbc7-4d7f-9c96-5cbb828470ee"
    },
    {
      "cell_type": "code",
      "source": [
        "# Initialize the Vertex AI TextEmbeddingModel\n",
        "embedding_model = TextEmbeddingModel.from_pretrained(\"text-embedding-004\")"
      ],
      "metadata": {
        "id": "a1Z8m1kVFnTQ",
        "executionInfo": {
          "status": "ok",
          "timestamp": 1728919186793,
          "user_tz": -120,
          "elapsed": 269,
          "user": {
            "displayName": "",
            "userId": ""
          }
        }
      },
      "id": "a1Z8m1kVFnTQ",
      "execution_count": 11,
      "outputs": []
    },
    {
      "cell_type": "code",
      "source": [
        "# Generate embeddings using Vertex AI's text-embedding-004\n",
        "X_train_embeddings = generate_vertex_embeddings(X_train, embedding_model)\n",
        "X_val_embeddings = generate_vertex_embeddings(X_val, embedding_model)\n",
        "X_test_embeddings = generate_vertex_embeddings(X_test, embedding_model)"
      ],
      "metadata": {
        "colab": {
          "base_uri": "https://localhost:8080/"
        },
        "id": "kUiUJO8c9Udz",
        "executionInfo": {
          "status": "ok",
          "timestamp": 1728919347053,
          "user_tz": -120,
          "elapsed": 156909,
          "user": {
            "displayName": "",
            "userId": ""
          }
        },
        "outputId": "cc9e4312-cc61-430e-82ed-6c75fea8dcc7"
      },
      "id": "kUiUJO8c9Udz",
      "execution_count": 12,
      "outputs": [
        {
          "output_type": "stream",
          "name": "stderr",
          "text": [
            "Generating Embeddings: 100%|██████████| 401/401 [01:52<00:00,  3.58it/s]\n",
            "Generating Embeddings: 100%|██████████| 86/86 [00:22<00:00,  3.87it/s]\n",
            "Generating Embeddings: 100%|██████████| 86/86 [00:21<00:00,  3.99it/s]\n"
          ]
        }
      ]
    },
    {
      "cell_type": "code",
      "execution_count": 13,
      "metadata": {
        "id": "eb68c53d-0a6c-4f2e-99f6-1c85d0d26ef1",
        "executionInfo": {
          "status": "ok",
          "timestamp": 1728919351569,
          "user_tz": -120,
          "elapsed": 285,
          "user": {
            "displayName": "",
            "userId": ""
          }
        }
      },
      "outputs": [],
      "source": [
        "#####################################\n",
        "# benchmark ending for embedding    #\n",
        "#####################################\n",
        "time_end_embed = time.perf_counter()"
      ],
      "id": "eb68c53d-0a6c-4f2e-99f6-1c85d0d26ef1"
    },
    {
      "cell_type": "markdown",
      "id": "fc999217-4072-46d1-8e44-b05cd901fa66",
      "metadata": {
        "id": "fc999217-4072-46d1-8e44-b05cd901fa66"
      },
      "source": [
        "# Training part"
      ]
    },
    {
      "cell_type": "markdown",
      "id": "7acb5108-17ca-499e-8ecd-b4933f1b2b18",
      "metadata": {
        "id": "7acb5108-17ca-499e-8ecd-b4933f1b2b18"
      },
      "source": [
        "## Class functions\n",
        "\n",
        "Definition of functions to:\n",
        "- Transform a data set into the good format\n",
        "- create a simple neural network architecture\n",
        "- create a funtion to transform seconds into a list of (hours, minutes, seconds)"
      ]
    },
    {
      "cell_type": "code",
      "execution_count": 14,
      "id": "423bc231-7992-40a8-aaaa-cc7920a72ceb",
      "metadata": {
        "id": "423bc231-7992-40a8-aaaa-cc7920a72ceb",
        "executionInfo": {
          "status": "ok",
          "timestamp": 1728919354394,
          "user_tz": -120,
          "elapsed": 4,
          "user": {
            "displayName": "",
            "userId": ""
          }
        }
      },
      "outputs": [],
      "source": [
        "# Define a Dataset class for PyTorch\n",
        "class NewsDataset(Dataset):\n",
        "    def __init__(self, X, y):\n",
        "        self.X = X\n",
        "        self.y = y\n",
        "\n",
        "    def __len__(self):\n",
        "        return len(self.y)\n",
        "\n",
        "    def __getitem__(self, idx):\n",
        "        return torch.tensor(self.X[idx], dtype=torch.float32), torch.tensor(self.y[idx], dtype=torch.long)\n",
        "\n"
      ]
    },
    {
      "cell_type": "code",
      "execution_count": 15,
      "id": "8c2b1910-63be-4ca7-ab7d-f441ad81c576",
      "metadata": {
        "id": "8c2b1910-63be-4ca7-ab7d-f441ad81c576",
        "executionInfo": {
          "status": "ok",
          "timestamp": 1728919357077,
          "user_tz": -120,
          "elapsed": 285,
          "user": {
            "displayName": "",
            "userId": ""
          }
        }
      },
      "outputs": [],
      "source": [
        "# Define a simple neural network\n",
        "class SimpleNN(nn.Module):\n",
        "    def __init__(self, input_size):\n",
        "        super(SimpleNN, self).__init__()\n",
        "        self.fc1 = nn.Linear(input_size, 256)\n",
        "        self.dropout1 = nn.Dropout(p=0.6)\n",
        "        self.relu1 = nn.ReLU()\n",
        "        self.fc2 = nn.Linear(256, 256)\n",
        "        self.dropout2 = nn.Dropout(p=0.6)\n",
        "        self.relu2 = nn.ReLU()\n",
        "        self.fc3 = nn.Linear(256, 2)\n",
        "\n",
        "    def forward(self, x):\n",
        "        x = self.fc1(x)\n",
        "        x = self.dropout1(x)\n",
        "        x = self.relu1(x)\n",
        "        x = self.fc2(x)\n",
        "        x = self.dropout2(x)\n",
        "        x = self.relu2(x)\n",
        "        x = self.fc3(x)\n",
        "        return x\n"
      ]
    },
    {
      "cell_type": "code",
      "execution_count": 16,
      "id": "ff2fedd9-c85c-4144-8dd5-139af39d891d",
      "metadata": {
        "id": "ff2fedd9-c85c-4144-8dd5-139af39d891d",
        "executionInfo": {
          "status": "ok",
          "timestamp": 1728919359500,
          "user_tz": -120,
          "elapsed": 1,
          "user": {
            "displayName": "",
            "userId": ""
          }
        }
      },
      "outputs": [],
      "source": [
        "def sec2hms(ss):\n",
        "\t(hh, ss)=divmod(ss, 3600)\n",
        "\t(mm, ss)=divmod(ss, 60)\n",
        "\treturn (hh, mm, ss)"
      ]
    },
    {
      "cell_type": "markdown",
      "id": "f5a1eed2-7a53-4921-9d9f-cb35848dedbf",
      "metadata": {
        "id": "f5a1eed2-7a53-4921-9d9f-cb35848dedbf"
      },
      "source": [
        "## Training function\n",
        "\n",
        "Definition of the training function."
      ]
    },
    {
      "cell_type": "code",
      "execution_count": 17,
      "id": "3c424347-5b2d-42cd-829a-1a36e6dcf742",
      "metadata": {
        "id": "3c424347-5b2d-42cd-829a-1a36e6dcf742",
        "executionInfo": {
          "status": "ok",
          "timestamp": 1728919363234,
          "user_tz": -120,
          "elapsed": 264,
          "user": {
            "displayName": "",
            "userId": ""
          }
        }
      },
      "outputs": [],
      "source": [
        "# Function to train the model\n",
        "def train_model(X_train, y_train, X_val, y_val, input_size):\n",
        "    train_dataset = NewsDataset(X_train, y_train)\n",
        "    val_dataset = NewsDataset(X_val, y_val)\n",
        "\n",
        "    train_loader = DataLoader(train_dataset, batch_size=64, shuffle=True)\n",
        "    val_loader = DataLoader(val_dataset, batch_size=64, shuffle=False)\n",
        "\n",
        "    model = SimpleNN(input_size).to(device)\n",
        "    criterion = nn.CrossEntropyLoss()\n",
        "    optimizer = optim.Adam(model.parameters(), lr=0.0001, weight_decay=0.01)\n",
        "\n",
        "    num_epochs = 30\n",
        "    best_val_loss = float('inf')\n",
        "    patience = 2\n",
        "    patience_counter = 0\n",
        "\n",
        "    for epoch in range(num_epochs):\n",
        "        model.train()\n",
        "        for X_batch, y_batch in train_loader:\n",
        "            X_batch, y_batch = X_batch.to(device), y_batch.to(device)\n",
        "            optimizer.zero_grad()\n",
        "            outputs = model(X_batch)\n",
        "            loss = criterion(outputs, y_batch)\n",
        "            loss.backward()\n",
        "            optimizer.step()\n",
        "\n",
        "        model.eval()\n",
        "        val_loss = 0.0\n",
        "        with torch.no_grad():\n",
        "            for X_batch, y_batch in val_loader:\n",
        "                X_batch, y_batch = X_batch.to(device), y_batch.to(device)\n",
        "                outputs = model(X_batch)\n",
        "                loss = criterion(outputs, y_batch)\n",
        "                val_loss += loss.item()\n",
        "\n",
        "        val_loss /= len(val_loader)\n",
        "        print(f'Epoch {epoch+1}/{num_epochs}, Validation Loss: {val_loss}')\n",
        "\n",
        "        if val_loss < best_val_loss:\n",
        "            best_val_loss = val_loss\n",
        "            patience_counter = 0\n",
        "        else:\n",
        "            patience_counter += 1\n",
        "\n",
        "        if patience_counter >= patience:\n",
        "           print(\"Early stopping\")\n",
        "           break\n",
        "\n",
        "    return model"
      ]
    },
    {
      "cell_type": "markdown",
      "id": "58ce1736-5492-4a67-9311-4294831030b0",
      "metadata": {
        "id": "58ce1736-5492-4a67-9311-4294831030b0"
      },
      "source": [
        "## Model initialization"
      ]
    },
    {
      "cell_type": "markdown",
      "id": "c7ebddb4-ac72-4d8e-9bc7-164b69619894",
      "metadata": {
        "id": "c7ebddb4-ac72-4d8e-9bc7-164b69619894"
      },
      "source": [
        "## Training"
      ]
    },
    {
      "cell_type": "code",
      "execution_count": 18,
      "id": "4511da9a-0124-4288-82a6-7a36576ad514",
      "metadata": {
        "id": "4511da9a-0124-4288-82a6-7a36576ad514",
        "executionInfo": {
          "status": "ok",
          "timestamp": 1728919367242,
          "user_tz": -120,
          "elapsed": 288,
          "user": {
            "displayName": "",
            "userId": ""
          }
        }
      },
      "outputs": [],
      "source": [
        "#####################################\n",
        "# benchmark beginning for modeling  #\n",
        "#####################################\n",
        "time_start_model = time.perf_counter()"
      ]
    },
    {
      "cell_type": "code",
      "source": [
        "input_size = 768"
      ],
      "metadata": {
        "id": "toO_23frOXAC",
        "executionInfo": {
          "status": "ok",
          "timestamp": 1728919368611,
          "user_tz": -120,
          "elapsed": 3,
          "user": {
            "displayName": "",
            "userId": ""
          }
        }
      },
      "id": "toO_23frOXAC",
      "execution_count": 19,
      "outputs": []
    },
    {
      "cell_type": "code",
      "source": [
        "# Set up the device (cuda, mps, or cpu)\n",
        "device = torch.device(\"cuda\" if torch.cuda.is_available() else \"mps\" if torch.backends.mps.is_available() else \"cpu\")"
      ],
      "metadata": {
        "id": "gjUGzK27PlT0",
        "executionInfo": {
          "status": "ok",
          "timestamp": 1728919370601,
          "user_tz": -120,
          "elapsed": 1,
          "user": {
            "displayName": "",
            "userId": ""
          }
        }
      },
      "id": "gjUGzK27PlT0",
      "execution_count": 20,
      "outputs": []
    },
    {
      "cell_type": "code",
      "execution_count": 21,
      "id": "40991ebd-b228-4ebe-ae91-f750a75ce5ed",
      "metadata": {
        "id": "40991ebd-b228-4ebe-ae91-f750a75ce5ed",
        "outputId": "ec2270da-d70f-4a54-d385-936b65b1aaf0",
        "colab": {
          "base_uri": "https://localhost:8080/"
        },
        "executionInfo": {
          "status": "ok",
          "timestamp": 1728919389705,
          "user_tz": -120,
          "elapsed": 16086,
          "user": {
            "displayName": "",
            "userId": ""
          }
        }
      },
      "outputs": [
        {
          "output_type": "stream",
          "name": "stdout",
          "text": [
            "Epoch 1/30, Validation Loss: 0.6800526020138763\n",
            "Epoch 2/30, Validation Loss: 0.49980796284453816\n",
            "Epoch 3/30, Validation Loss: 0.29195631035538605\n",
            "Epoch 4/30, Validation Loss: 0.25051826134670613\n",
            "Epoch 5/30, Validation Loss: 0.23526633686797563\n",
            "Epoch 6/30, Validation Loss: 0.22809337079524994\n",
            "Epoch 7/30, Validation Loss: 0.21921591218127762\n",
            "Epoch 8/30, Validation Loss: 0.21645016032595968\n",
            "Epoch 9/30, Validation Loss: 0.21559998479693435\n",
            "Epoch 10/30, Validation Loss: 0.21055186609196108\n",
            "Epoch 11/30, Validation Loss: 0.2079056588023208\n",
            "Epoch 12/30, Validation Loss: 0.20552811078553976\n",
            "Epoch 13/30, Validation Loss: 0.20401118002658666\n",
            "Epoch 14/30, Validation Loss: 0.20680939215560293\n",
            "Epoch 15/30, Validation Loss: 0.20288865891999977\n",
            "Epoch 16/30, Validation Loss: 0.2053678486236306\n",
            "Epoch 17/30, Validation Loss: 0.20263880110064217\n",
            "Epoch 18/30, Validation Loss: 0.20184113795674125\n",
            "Epoch 19/30, Validation Loss: 0.19961376349593318\n",
            "Epoch 20/30, Validation Loss: 0.19801714115364608\n",
            "Epoch 21/30, Validation Loss: 0.19809391349554062\n",
            "Epoch 22/30, Validation Loss: 0.19854074387356294\n",
            "Early stopping\n"
          ]
        }
      ],
      "source": [
        "# Train the model\n",
        "model = train_model(X_train_embeddings, y_train, X_val_embeddings, y_val, input_size)\n"
      ]
    },
    {
      "cell_type": "code",
      "execution_count": 22,
      "id": "43732b1f-cdf3-450d-a147-0349d3fc86be",
      "metadata": {
        "id": "43732b1f-cdf3-450d-a147-0349d3fc86be",
        "executionInfo": {
          "status": "ok",
          "timestamp": 1728919394469,
          "user_tz": -120,
          "elapsed": 347,
          "user": {
            "displayName": "",
            "userId": ""
          }
        }
      },
      "outputs": [],
      "source": [
        "#####################################\n",
        "# benchmark ending for modeling     #\n",
        "#####################################\n",
        "time_end_model = time.perf_counter()"
      ]
    },
    {
      "cell_type": "markdown",
      "id": "2076dd75-8f15-44d5-9bdd-4f15e858f39b",
      "metadata": {
        "id": "2076dd75-8f15-44d5-9bdd-4f15e858f39b"
      },
      "source": [
        "## Evaluating"
      ]
    },
    {
      "cell_type": "code",
      "execution_count": 23,
      "id": "5f8d3f95-98e6-445b-8e1e-27c485679b34",
      "metadata": {
        "id": "5f8d3f95-98e6-445b-8e1e-27c485679b34",
        "executionInfo": {
          "status": "ok",
          "timestamp": 1728919398738,
          "user_tz": -120,
          "elapsed": 861,
          "user": {
            "displayName": "",
            "userId": ""
          }
        }
      },
      "outputs": [],
      "source": [
        "# Evaluate the model on the test set\n",
        "model.eval()\n",
        "y_pred = []\n",
        "with torch.no_grad():\n",
        "    for X_batch in torch.tensor(X_test_embeddings, dtype=torch.float32).to(device):\n",
        "        outputs = model(X_batch.unsqueeze(0))\n",
        "        _, predicted = torch.max(outputs, 1)\n",
        "        y_pred.append(predicted.cpu().numpy()[0])\n"
      ]
    },
    {
      "cell_type": "code",
      "execution_count": 24,
      "id": "eec37c8e-621e-46c8-a1d3-9badc7dd37e8",
      "metadata": {
        "id": "eec37c8e-621e-46c8-a1d3-9badc7dd37e8",
        "outputId": "e459cd2a-ddf7-4c18-a7d2-d4c7bf6d0ec8",
        "colab": {
          "base_uri": "https://localhost:8080/"
        },
        "executionInfo": {
          "status": "ok",
          "timestamp": 1728919402405,
          "user_tz": -120,
          "elapsed": 274,
          "user": {
            "displayName": "",
            "userId": ""
          }
        }
      },
      "outputs": [
        {
          "output_type": "stream",
          "name": "stdout",
          "text": [
            "Accuracy: 0.9354956268221575\n",
            "Classification Report:              precision    recall  f1-score   support\n",
            "\n",
            "        real       0.94      0.94      0.94      1413\n",
            "        fake       0.94      0.93      0.93      1331\n",
            "\n",
            "    accuracy                           0.94      2744\n",
            "   macro avg       0.94      0.94      0.94      2744\n",
            "weighted avg       0.94      0.94      0.94      2744\n",
            "\n",
            "Confusion Matrix:[[1328   85]\n",
            " [  92 1239]]\n"
          ]
        }
      ],
      "source": [
        "# Evaluate performance\n",
        "acc = accuracy_score(y_test, y_pred)\n",
        "class_report = classification_report(y_test, y_pred, target_names=[\"real\", \"fake\"])\n",
        "conf_matrix = confusion_matrix(y_test, y_pred)\n",
        "\n",
        "print(f\"Accuracy: {acc}\")\n",
        "print(f\"Classification Report:{class_report}\")\n",
        "print(f\"Confusion Matrix:{conf_matrix}\")\n"
      ]
    },
    {
      "cell_type": "code",
      "execution_count": 25,
      "id": "2fd422e1-9c39-43a3-9caa-511491cd9341",
      "metadata": {
        "scrolled": true,
        "id": "2fd422e1-9c39-43a3-9caa-511491cd9341",
        "outputId": "fa49b2c6-68c1-433f-8ce6-fdb8ca7eed1c",
        "colab": {
          "base_uri": "https://localhost:8080/",
          "height": 540
        },
        "executionInfo": {
          "status": "ok",
          "timestamp": 1728919409755,
          "user_tz": -120,
          "elapsed": 636,
          "user": {
            "displayName": "",
            "userId": ""
          }
        }
      },
      "outputs": [
        {
          "output_type": "display_data",
          "data": {
            "text/plain": [
              "<Figure size 800x600 with 2 Axes>"
            ],
            "image/png": "[encoded data removed]"
          },
          "metadata": {}
        }
      ],
      "source": [
        "# Visualize the confusion matrix\n",
        "plt.figure(figsize=(8, 6))\n",
        "sns.heatmap(conf_matrix, annot=True, fmt='d', cmap='Blues', xticklabels=[\"real\", \"fake\"], yticklabels=[\"real\", \"fake\"])\n",
        "plt.ylabel('True Label')\n",
        "plt.xlabel('Predicted Label')\n",
        "plt.title('Confusion Matrix')\n",
        "plt.show()"
      ]
    },
    {
      "cell_type": "markdown",
      "id": "7ad31460-8f94-4de2-be81-aa55e8196ebb",
      "metadata": {
        "id": "7ad31460-8f94-4de2-be81-aa55e8196ebb"
      },
      "source": [
        "## Benchmark results"
      ]
    },
    {
      "cell_type": "code",
      "execution_count": 26,
      "id": "4efc1ba3-f5f4-4723-bd6e-bbead42ddd5b",
      "metadata": {
        "id": "4efc1ba3-f5f4-4723-bd6e-bbead42ddd5b",
        "outputId": "f25391f0-a724-476d-9c4f-96ccf282df6e",
        "colab": {
          "base_uri": "https://localhost:8080/"
        },
        "executionInfo": {
          "status": "ok",
          "timestamp": 1728919414818,
          "user_tz": -120,
          "elapsed": 283,
          "user": {
            "displayName": "",
            "userId": ""
          }
        }
      },
      "outputs": [
        {
          "output_type": "stream",
          "name": "stdout",
          "text": [
            "Embedding duration : 0:2:46.852\n",
            "Modeling duration : 0:0:27.167\n"
          ]
        }
      ],
      "source": [
        "#####################################\n",
        "#          Benchmark results        #\n",
        "#####################################\n",
        "# calculating the performances\n",
        "embedding_duration = time_end_embed - time_start_embed\n",
        "modeling_duration = time_end_model - time_start_model\n",
        "\n",
        "# formating\n",
        "embedding_duration_hms = sec2hms(embedding_duration)\n",
        "modeling_duration_hms = sec2hms(modeling_duration)\n",
        "\n",
        "# printing the embedding and modeling performances\n",
        "\n",
        "print(f'Embedding duration : {embedding_duration_hms[0]:.0f}:{embedding_duration_hms[1]:.0f}:{embedding_duration_hms[2]:.3f}')\n",
        "print(f'Modeling duration : {modeling_duration_hms[0]:.0f}:{modeling_duration_hms[1]:.0f}:{modeling_duration_hms[2]:.3f}')"
      ]
    },
    {
      "cell_type": "code",
      "execution_count": 27,
      "id": "4fb71ef3-27fb-47bc-8c9b-b1d7dd9aeb17",
      "metadata": {
        "id": "4fb71ef3-27fb-47bc-8c9b-b1d7dd9aeb17",
        "executionInfo": {
          "status": "ok",
          "timestamp": 1728919417998,
          "user_tz": -120,
          "elapsed": 294,
          "user": {
            "displayName": "",
            "userId": ""
          }
        }
      },
      "outputs": [],
      "source": [
        "## we should write a function with an if else condition for when a drive is in and where there's not\n",
        "# Save the trained model to Google Drive\n",
        "# final_model_path = '/content/drive/My Drive/fake_news_model_roberta3.pth'\n",
        "# torch.save(model.state_dict(), final_model_path)\n",
        "# print(f\"Model saved to: {final_model_path}\")\n",
        "torch.save(model.state_dict(), \"model.tar\")\n"
      ]
    }
  ],
  "metadata": {
    "kernelspec": {
      "display_name": "Python 3 (ipykernel)",
      "language": "python",
      "name": "python3"
    },
    "language_info": {
      "codemirror_mode": {
        "name": "ipython",
        "version": 3
      },
      "file_extension": ".py",
      "mimetype": "text/x-python",
      "name": "python",
      "nbconvert_exporter": "python",
      "pygments_lexer": "ipython3",
      "version": "3.10.14"
    },
    "colab": {
      "provenance": [],
      "name": "fakenews project october version_vertex_ai_len.ipynb"
    }
  },
  "nbformat": 4,
  "nbformat_minor": 5
}