{
 "cells": [
  {
   "cell_type": "code",
   "execution_count": 1,
   "id": "da3aecf4-4977-44df-976f-e7878685e620",
   "metadata": {},
   "outputs": [],
   "source": [
    "\n",
    "# Install necessary libraries\n",
    "# !pip install transformers pandas scikit-learn torch\n",
    "# or conda defined environment"
   ]
  },
  {
   "cell_type": "markdown",
   "id": "b78069c6-04c0-470a-b491-4f3948c21114",
   "metadata": {},
   "source": [
    "# Environment setting"
   ]
  },
  {
   "cell_type": "code",
   "execution_count": 2,
   "id": "1345a3e6-cfac-4d3b-9a36-7c7f7cf726d3",
   "metadata": {},
   "outputs": [],
   "source": [
    "# Import libraries\n",
    "import time\n",
    "import pandas as pd\n",
    "import numpy as np\n",
    "import torch\n",
    "import torch.nn as nn\n",
    "import torch.optim as optim\n",
    "from transformers import RobertaTokenizer, RobertaModel\n",
    "from sklearn.model_selection import train_test_split\n",
    "from sklearn.metrics import accuracy_score, classification_report, confusion_matrix\n",
    "from torch.utils.data import DataLoader, Dataset\n",
    "import matplotlib.pyplot as plt\n",
    "import seaborn as sns"
   ]
  },
  {
   "cell_type": "code",
   "execution_count": 3,
   "id": "5e733417-4bf0-4cd3-9e46-a7036b06ce30",
   "metadata": {},
   "outputs": [
    {
     "name": "stdout",
     "output_type": "stream",
     "text": [
      "Cuda not available because the current PyTorch install was not built with Cuda enabled.\n",
      "Is Metal Performance Shader (mps) available? True\n",
      "Is Cuda available? False\n"
     ]
    }
   ],
   "source": [
    "# If Metal Performance Shader (mps) is not available tell me:\n",
    "if not torch.backends.mps.is_available():\n",
    "    if not torch.backends.mps.is_built():\n",
    "        print(\"MPS not available because the current PyTorch install was not \"\n",
    "              \"built with MPS enabled.\")\n",
    "    else:\n",
    "        print(\"MPS not available because the current MacOS version is not 12.3+ \"\n",
    "              \"and/or you do not have an MPS-enabled device on this machine.\")\n",
    "\n",
    "# If mps is available directly put it on the device.\n",
    "else:\n",
    "    device = torch.device(\"mps\")\n",
    ",\n",
    "# If cuda (nvidia gpu) is not available tell me:\n",
    "if not torch.cuda.is_available():\n",
    "    print(\"Cuda not available because the current PyTorch install was not \"\n",
    "              \"built with Cuda enabled.\")\n",
    "   \n",
    "\n",
    "# If cuda is available directly put it on the device.\n",
    "else:\n",
    "    device = torch.device(\"cuda\")\n",
    ",\n",
    "\n",
    "# If neither cuda and mps are available, set device to \"cpu\"\n",
    "if not torch.backends.mps.is_available():\n",
    "    if not torch.cuda.is_available():\n",
    "        print(\"Neither Cuda nor MPS are available\")\n",
    "        device = torch.device(\"cpu\")\n",
    "\n",
    ",\n",
    "# Is mps available?\n",
    "\n",
    "mps_avail = torch.backends.mps.is_available() \n",
    "print(f\"Is Metal Performance Shader (mps) available? {mps_avail}\")\n",
    "\n",
    ",\n",
    "\n",
    "# Is mps available?\n",
    "\n",
    "cuda_avail = torch.cuda.is_available() \n",
    "print(f\"Is Cuda available? {cuda_avail}\")\n"
   ]
  },
  {
   "cell_type": "code",
   "execution_count": 4,
   "id": "49b3e742-f3e9-4080-94a9-8423ec5ade60",
   "metadata": {},
   "outputs": [
    {
     "name": "stdout",
     "output_type": "stream",
     "text": [
      "gpu device:  mps\n"
     ]
    }
   ],
   "source": [
    "print(\"gpu device: \", device)"
   ]
  },
  {
   "cell_type": "code",
   "execution_count": 5,
   "id": "584daca4-1cc6-4be5-a64c-f274174d32c9",
   "metadata": {},
   "outputs": [],
   "source": [
    "# Mount Google Drive\n",
    "# from google.colab import drive\n",
    "# drive.mount('/content/drive')"
   ]
  },
  {
   "cell_type": "code",
   "execution_count": 6,
   "id": "c7f07b50-8f29-4475-8376-728ca909daf6",
   "metadata": {},
   "outputs": [
    {
     "data": {
      "text/plain": [
       "'\\nWe could also use pytorch_lightning package\\ntry:\\n    import pytorch_lightning as pl\\nexcept ModuleNotFoundError: # Google Colab does not have PyTorch Lightning installed by default. Hence, we do it here if necessary\\n    !pip install --quiet pytorch-lightning>=1.5\\n    import pytorch_lightning as pl\\n\\npl.seed_everything(42)\\n'"
      ]
     },
     "execution_count": 6,
     "metadata": {},
     "output_type": "execute_result"
    }
   ],
   "source": [
    "# Setting seed:\n",
    "\n",
    "def set_seed_fun(seed_number: int):\n",
    "    np.random.seed(seed_number)\n",
    "    if torch.backends.mps.is_available():\n",
    "        torch.mps.manual_seed(seed_number)\n",
    "    if torch.cuda.is_available():\n",
    "        torch.manual_seed(seed_number)\n",
    "        torch.cuda.manual_seed(seed_number)\n",
    "        torch.cuda.manual_seed_all(seed_number)\n",
    "        torch.backends.cudnn.deterministic = True\n",
    "        torch.backends.cudnn.benchark = False\n",
    "\n",
    "set_seed_fun(42)\n",
    "\"\"\"\n",
    "We could also use pytorch_lightning package\n",
    "try:\n",
    "    import pytorch_lightning as pl\n",
    "except ModuleNotFoundError: # Google Colab does not have PyTorch Lightning installed by default. Hence, we do it here if necessary\n",
    "    !pip install --quiet pytorch-lightning>=1.5\n",
    "    import pytorch_lightning as pl\n",
    "\n",
    "pl.seed_everything(42)\n",
    "\"\"\""
   ]
  },
  {
   "cell_type": "code",
   "execution_count": null,
   "id": "334cc4a1-b355-4575-a6a3-6447b3a82e66",
   "metadata": {},
   "outputs": [],
   "source": []
  },
  {
   "cell_type": "markdown",
   "id": "6dc6ae47-93f1-40a0-9295-3c75928120c7",
   "metadata": {},
   "source": [
    "# Function definitions\n",
    "\n",
    "## Embedding function"
   ]
  },
  {
   "cell_type": "code",
   "execution_count": 7,
   "id": "61579e8d-dc80-4910-9374-8911c5c95107",
   "metadata": {},
   "outputs": [],
   "source": [
    "# Function to generate embeddings with RoBERTa\n",
    "def generate_embeddings(texts, tokenizer, model):\n",
    "    embeddings = []\n",
    "    for text in texts:\n",
    "        inputs = tokenizer(text, return_tensors='pt', max_length=512, truncation=True, padding='max_length').to(device)\n",
    "        with torch.no_grad():\n",
    "            outputs = model(**inputs)\n",
    "        embedding = outputs.last_hidden_state.mean(dim=1).cpu().numpy()\n",
    "        embeddings.append(embedding)\n",
    "    return np.vstack(embeddings)"
   ]
  },
  {
   "cell_type": "markdown",
   "id": "7acb5108-17ca-499e-8ecd-b4933f1b2b18",
   "metadata": {},
   "source": [
    "## Class functions\n",
    "\n",
    "Definition of functions to:\n",
    "- Transform a data set into the good format\n",
    "- create a simple neural network architecture\n",
    "- create a funtion to transform seconds into a list of (hours, minutes, seconds)"
   ]
  },
  {
   "cell_type": "code",
   "execution_count": 8,
   "id": "423bc231-7992-40a8-aaaa-cc7920a72ceb",
   "metadata": {},
   "outputs": [],
   "source": [
    "# Define a Dataset class for PyTorch\n",
    "class NewsDataset(Dataset):\n",
    "    def __init__(self, X, y):\n",
    "        self.X = X\n",
    "        self.y = y\n",
    "\n",
    "    def __len__(self):\n",
    "        return len(self.y)\n",
    "\n",
    "    def __getitem__(self, idx):\n",
    "        return torch.tensor(self.X[idx], dtype=torch.float32), torch.tensor(self.y[idx], dtype=torch.long)\n",
    "\n"
   ]
  },
  {
   "cell_type": "code",
   "execution_count": 9,
   "id": "8c2b1910-63be-4ca7-ab7d-f441ad81c576",
   "metadata": {},
   "outputs": [],
   "source": [
    "# Define a simple neural network\n",
    "class SimpleNN(nn.Module):\n",
    "    def __init__(self, input_size):\n",
    "        super(SimpleNN, self).__init__()\n",
    "        self.fc1 = nn.Linear(input_size, 256)\n",
    "        self.dropout1 = nn.Dropout(p=0.6)\n",
    "        self.relu1 = nn.ReLU()\n",
    "        self.fc2 = nn.Linear(256, 256)\n",
    "        self.dropout2 = nn.Dropout(p=0.6)\n",
    "        self.relu2 = nn.ReLU()\n",
    "        self.fc3 = nn.Linear(256, 2)\n",
    "\n",
    "    def forward(self, x):\n",
    "        x = self.fc1(x)\n",
    "        x = self.dropout1(x)\n",
    "        x = self.relu1(x)\n",
    "        x = self.fc2(x)\n",
    "        x = self.dropout2(x)\n",
    "        x = self.relu2(x)\n",
    "        x = self.fc3(x)\n",
    "        return x\n"
   ]
  },
  {
   "cell_type": "code",
   "execution_count": 10,
   "id": "ff2fedd9-c85c-4144-8dd5-139af39d891d",
   "metadata": {},
   "outputs": [],
   "source": [
    "def sec2hms(ss):\n",
    "\t(hh, ss)=divmod(ss, 3600)\n",
    "\t(mm, ss)=divmod(ss, 60)\n",
    "\treturn (hh, mm, ss)"
   ]
  },
  {
   "cell_type": "markdown",
   "id": "f5a1eed2-7a53-4921-9d9f-cb35848dedbf",
   "metadata": {},
   "source": [
    "## Training function\n",
    "\n",
    "Definition of the training function."
   ]
  },
  {
   "cell_type": "code",
   "execution_count": 11,
   "id": "3c424347-5b2d-42cd-829a-1a36e6dcf742",
   "metadata": {},
   "outputs": [],
   "source": [
    "# Function to train the model\n",
    "def train_model(X_train, y_train, X_val, y_val, input_size):\n",
    "    train_dataset = NewsDataset(X_train, y_train)\n",
    "    val_dataset = NewsDataset(X_val, y_val)\n",
    "\n",
    "    train_loader = DataLoader(train_dataset, batch_size=64, shuffle=True)\n",
    "    val_loader = DataLoader(val_dataset, batch_size=64, shuffle=False)\n",
    "\n",
    "    model = SimpleNN(input_size).to(device)\n",
    "    criterion = nn.CrossEntropyLoss()\n",
    "    optimizer = optim.Adam(model.parameters(), lr=0.0001, weight_decay=0.01)\n",
    "\n",
    "    num_epochs = 8\n",
    "    best_val_loss = float('inf')\n",
    "    patience = 2\n",
    "    patience_counter = 0\n",
    "\n",
    "    for epoch in range(num_epochs):\n",
    "        model.train()\n",
    "        for X_batch, y_batch in train_loader:\n",
    "            X_batch, y_batch = X_batch.to(device), y_batch.to(device)\n",
    "            optimizer.zero_grad()\n",
    "            outputs = model(X_batch)\n",
    "            loss = criterion(outputs, y_batch)\n",
    "            loss.backward()\n",
    "            optimizer.step()\n",
    "\n",
    "        model.eval()\n",
    "        val_loss = 0.0\n",
    "        with torch.no_grad():\n",
    "            for X_batch, y_batch in val_loader:\n",
    "                X_batch, y_batch = X_batch.to(device), y_batch.to(device)\n",
    "                outputs = model(X_batch)\n",
    "                loss = criterion(outputs, y_batch)\n",
    "                val_loss += loss.item()\n",
    "\n",
    "        val_loss /= len(val_loader)\n",
    "        print(f'Epoch {epoch+1}/{num_epochs}, Validation Loss: {val_loss}')\n",
    "\n",
    "        if val_loss < best_val_loss:\n",
    "            best_val_loss = val_loss\n",
    "            patience_counter = 0\n",
    "        else:\n",
    "            patience_counter += 1\n",
    "\n",
    "        if patience_counter >= patience:\n",
    "            print(\"Early stopping\")\n",
    "            break\n",
    "\n",
    "    return model"
   ]
  },
  {
   "cell_type": "markdown",
   "id": "fc999217-4072-46d1-8e44-b05cd901fa66",
   "metadata": {},
   "source": [
    "# Training part\n",
    "\n",
    "## Loading of the dataset "
   ]
  },
  {
   "cell_type": "code",
   "execution_count": 12,
   "id": "99e07a94-fbf3-4d20-84bc-822e61682eac",
   "metadata": {},
   "outputs": [],
   "source": [
    "# Load data from Google Drive\n",
    "# data_path = '/content/drive/My Drive/final_combined_dataset.csv'\n",
    "# df = pd.read_csv(data_path)\n",
    "df = pd.read_csv(\"final_combined_dataset.csv\")"
   ]
  },
  {
   "cell_type": "code",
   "execution_count": 13,
   "id": "051ea8e3-7436-46fa-9a31-b596466ce2a5",
   "metadata": {},
   "outputs": [],
   "source": [
    "## Just in case of bug: to check where we are in the directories\n",
    "\n",
    "#import os\n",
    "\n",
    "#cwd = os.getcwd()  # Get the current working directory (cwd)\n",
    "#files = os.listdir(cwd)  # Get all the files in that directory\n",
    "#print(\"Files in %r: %s\" % (cwd, files))"
   ]
  },
  {
   "cell_type": "markdown",
   "id": "58ce1736-5492-4a67-9311-4294831030b0",
   "metadata": {},
   "source": [
    "## Model initialization"
   ]
  },
  {
   "cell_type": "code",
   "execution_count": 14,
   "id": "befa178b-cbc7-4d7f-9c96-5cbb828470ee",
   "metadata": {},
   "outputs": [],
   "source": [
    "#####################################\n",
    "# benchmark beginning for embedding #\n",
    "#####################################\n",
    "time_start_embed = time.perf_counter()"
   ]
  },
  {
   "cell_type": "code",
   "execution_count": 15,
   "id": "6d6dfdad-7d9b-45d5-8e23-758a97d87bc4",
   "metadata": {},
   "outputs": [
    {
     "name": "stderr",
     "output_type": "stream",
     "text": [
      "Some weights of RobertaModel were not initialized from the model checkpoint at roberta-base and are newly initialized: ['roberta.pooler.dense.bias', 'roberta.pooler.dense.weight']\n",
      "You should probably TRAIN this model on a down-stream task to be able to use it for predictions and inference.\n"
     ]
    }
   ],
   "source": [
    "# Initialize RoBERTa for embeddings\n",
    "roberta_tokenizer = RobertaTokenizer.from_pretrained('roberta-base')\n",
    "embedding_model = RobertaModel.from_pretrained('roberta-base').to(device)\n"
   ]
  },
  {
   "cell_type": "code",
   "execution_count": 16,
   "id": "46d4ab2b-ee2a-4ce9-9b20-c457b0b0ac2c",
   "metadata": {},
   "outputs": [],
   "source": [
    "# Prepare data\n",
    "X = df['Text'].values.astype(str)\n",
    "y = (df['Label'] == 'fake').astype(int).values\n"
   ]
  },
  {
   "cell_type": "markdown",
   "id": "fe1a4083-cada-4b09-8bc8-abd5a17e6c9c",
   "metadata": {},
   "source": [
    "## Splitting"
   ]
  },
  {
   "cell_type": "code",
   "execution_count": 17,
   "id": "81a7d200-6a4e-4bb1-a166-05da53b3ab10",
   "metadata": {},
   "outputs": [],
   "source": [
    "# Split the data into training, validation, and test sets\n",
    "X_train, X_temp, y_train, y_temp = train_test_split(X, y, test_size=0.3, random_state=42)\n",
    "X_val, X_test, y_val, y_test = train_test_split(X_temp, y_temp, test_size=0.5, random_state=42)\n"
   ]
  },
  {
   "cell_type": "markdown",
   "id": "ebb6a180-8158-4dba-9536-49ddd125244a",
   "metadata": {},
   "source": [
    "## Embedding"
   ]
  },
  {
   "cell_type": "code",
   "execution_count": 18,
   "id": "30767c59-689d-4907-995e-6f96049dd229",
   "metadata": {},
   "outputs": [],
   "source": [
    "# Generate embeddings\n",
    "X_train_embeddings = generate_embeddings(X_train, roberta_tokenizer, embedding_model)\n",
    "X_val_embeddings = generate_embeddings(X_val, roberta_tokenizer, embedding_model)\n",
    "X_test_embeddings = generate_embeddings(X_test, roberta_tokenizer, embedding_model)\n"
   ]
  },
  {
   "cell_type": "code",
   "execution_count": 19,
   "id": "eb68c53d-0a6c-4f2e-99f6-1c85d0d26ef1",
   "metadata": {},
   "outputs": [],
   "source": [
    "#####################################\n",
    "# benchmark ending for embedding    #\n",
    "#####################################\n",
    "time_end_embed = time.perf_counter()"
   ]
  },
  {
   "cell_type": "markdown",
   "id": "c7ebddb4-ac72-4d8e-9bc7-164b69619894",
   "metadata": {},
   "source": [
    "## Training"
   ]
  },
  {
   "cell_type": "code",
   "execution_count": 20,
   "id": "4511da9a-0124-4288-82a6-7a36576ad514",
   "metadata": {},
   "outputs": [],
   "source": [
    "#####################################\n",
    "# benchmark beginning for modeling  #\n",
    "#####################################\n",
    "time_start_model = time.perf_counter()"
   ]
  },
  {
   "cell_type": "code",
   "execution_count": 21,
   "id": "4f5cc52f-0ddb-4024-824f-4365e19650b4",
   "metadata": {},
   "outputs": [],
   "source": [
    "# Define the embedding size\n",
    "input_size = 768  # Embedding size generated by RoBERTa\n"
   ]
  },
  {
   "cell_type": "code",
   "execution_count": 22,
   "id": "40991ebd-b228-4ebe-ae91-f750a75ce5ed",
   "metadata": {},
   "outputs": [
    {
     "name": "stdout",
     "output_type": "stream",
     "text": [
      "Epoch 1/8, Validation Loss: 0.4822855189789173\n",
      "Epoch 2/8, Validation Loss: 0.3517441770365072\n",
      "Epoch 3/8, Validation Loss: 0.31517874709395477\n",
      "Epoch 4/8, Validation Loss: 0.30124656474867534\n",
      "Epoch 5/8, Validation Loss: 0.2962808040685432\n",
      "Epoch 6/8, Validation Loss: 0.28532448410987854\n",
      "Epoch 7/8, Validation Loss: 0.28594058717406073\n",
      "Epoch 8/8, Validation Loss: 0.283038756528566\n"
     ]
    }
   ],
   "source": [
    "# Train the model\n",
    "model = train_model(X_train_embeddings, y_train, X_val_embeddings, y_val, input_size)\n"
   ]
  },
  {
   "cell_type": "code",
   "execution_count": 23,
   "id": "43732b1f-cdf3-450d-a147-0349d3fc86be",
   "metadata": {},
   "outputs": [],
   "source": [
    "#####################################\n",
    "# benchmark ending for modeling     #\n",
    "#####################################\n",
    "time_end_model = time.perf_counter()"
   ]
  },
  {
   "cell_type": "markdown",
   "id": "2076dd75-8f15-44d5-9bdd-4f15e858f39b",
   "metadata": {},
   "source": [
    "## Evaluating"
   ]
  },
  {
   "cell_type": "code",
   "execution_count": 24,
   "id": "5f8d3f95-98e6-445b-8e1e-27c485679b34",
   "metadata": {},
   "outputs": [],
   "source": [
    "# Evaluate the model on the test set\n",
    "model.eval()\n",
    "y_pred = []\n",
    "with torch.no_grad():\n",
    "    for X_batch in torch.tensor(X_test_embeddings, dtype=torch.float32).to(device):\n",
    "        outputs = model(X_batch.unsqueeze(0))\n",
    "        _, predicted = torch.max(outputs, 1)\n",
    "        y_pred.append(predicted.cpu().numpy()[0])\n"
   ]
  },
  {
   "cell_type": "code",
   "execution_count": 25,
   "id": "eec37c8e-621e-46c8-a1d3-9badc7dd37e8",
   "metadata": {},
   "outputs": [
    {
     "name": "stdout",
     "output_type": "stream",
     "text": [
      "Accuracy: 0.880466472303207\n",
      "Classification Report:              precision    recall  f1-score   support\n",
      "\n",
      "        real       0.91      0.85      0.88      1413\n",
      "        fake       0.85      0.91      0.88      1331\n",
      "\n",
      "    accuracy                           0.88      2744\n",
      "   macro avg       0.88      0.88      0.88      2744\n",
      "weighted avg       0.88      0.88      0.88      2744\n",
      "\n",
      "Confusion Matrix:[[1199  214]\n",
      " [ 114 1217]]\n"
     ]
    }
   ],
   "source": [
    "# Evaluate performance\n",
    "acc = accuracy_score(y_test, y_pred)\n",
    "class_report = classification_report(y_test, y_pred, target_names=[\"real\", \"fake\"])\n",
    "conf_matrix = confusion_matrix(y_test, y_pred)\n",
    "\n",
    "print(f\"Accuracy: {acc}\")\n",
    "print(f\"Classification Report:{class_report}\")\n",
    "print(f\"Confusion Matrix:{conf_matrix}\")\n"
   ]
  },
  {
   "cell_type": "code",
   "execution_count": 26,
   "id": "2fd422e1-9c39-43a3-9caa-511491cd9341",
   "metadata": {
    "scrolled": true
   },
   "outputs": [
    {
     "data": {
      "image/png": "[encoded data removed]",
      "text/plain": [
       "<Figure size 800x600 with 2 Axes>"
      ]
     },
     "metadata": {},
     "output_type": "display_data"
    }
   ],
   "source": [
    "# Visualize the confusion matrix\n",
    "plt.figure(figsize=(8, 6))\n",
    "sns.heatmap(conf_matrix, annot=True, fmt='d', cmap='Blues', xticklabels=[\"real\", \"fake\"], yticklabels=[\"real\", \"fake\"])\n",
    "plt.ylabel('True Label')\n",
    "plt.xlabel('Predicted Label')\n",
    "plt.title('Confusion Matrix')\n",
    "plt.show()"
   ]
  },
  {
   "cell_type": "markdown",
   "id": "7ad31460-8f94-4de2-be81-aa55e8196ebb",
   "metadata": {},
   "source": [
    "## Benchmark results"
   ]
  },
  {
   "cell_type": "code",
   "execution_count": 27,
   "id": "4efc1ba3-f5f4-4723-bd6e-bbead42ddd5b",
   "metadata": {},
   "outputs": [
    {
     "name": "stdout",
     "output_type": "stream",
     "text": [
      "Embedding duration : 0:13:29.132\n",
      "Modeling duration : 0:0:8.470\n"
     ]
    }
   ],
   "source": [
    "#####################################\n",
    "#          Benchmark results        #\n",
    "#####################################\n",
    "# calculating the performances\n",
    "embedding_duration = time_end_embed - time_start_embed\n",
    "modeling_duration = time_end_model - time_start_model\n",
    "\n",
    "# formating\n",
    "embedding_duration_hms = sec2hms(embedding_duration)\n",
    "modeling_duration_hms = sec2hms(modeling_duration)\n",
    "\n",
    "# printing the embedding and modeling performances\n",
    "\n",
    "print(f'Embedding duration : {embedding_duration_hms[0]:.0f}:{embedding_duration_hms[1]:.0f}:{embedding_duration_hms[2]:.3f}')\n",
    "print(f'Modeling duration : {modeling_duration_hms[0]:.0f}:{modeling_duration_hms[1]:.0f}:{modeling_duration_hms[2]:.3f}')"
   ]
  },
  {
   "cell_type": "code",
   "execution_count": 28,
   "id": "4fb71ef3-27fb-47bc-8c9b-b1d7dd9aeb17",
   "metadata": {},
   "outputs": [],
   "source": [
    "## we should write a function with an if else condition for when a drive is in and where there's not\n",
    "# Save the trained model to Google Drive\n",
    "# final_model_path = '/content/drive/My Drive/fake_news_model_roberta3.pth'\n",
    "# torch.save(model.state_dict(), final_model_path)\n",
    "# print(f\"Model saved to: {final_model_path}\")\n",
    "torch.save(model.state_dict(), \"model.tar\")\n"
   ]
  },
  {
   "cell_type": "code",
   "execution_count": null,
   "id": "0562ffcd-7920-4a03-adfa-92d93211fa31",
   "metadata": {},
   "outputs": [],
   "source": []
  },
  {
   "cell_type": "code",
   "execution_count": null,
   "id": "e61ccc0f-9bae-4980-a701-6c95367f6731",
   "metadata": {},
   "outputs": [],
   "source": []
  }
 ],
 "metadata": {
  "kernelspec": {
   "display_name": "Python 3 (ipykernel)",
   "language": "python",
   "name": "python3"
  },
  "language_info": {
   "codemirror_mode": {
    "name": "ipython",
    "version": 3
   },
   "file_extension": ".py",
   "mimetype": "text/x-python",
   "name": "python",
   "nbconvert_exporter": "python",
   "pygments_lexer": "ipython3",
   "version": "3.10.14"
  }
 },
 "nbformat": 4,
 "nbformat_minor": 5
}
