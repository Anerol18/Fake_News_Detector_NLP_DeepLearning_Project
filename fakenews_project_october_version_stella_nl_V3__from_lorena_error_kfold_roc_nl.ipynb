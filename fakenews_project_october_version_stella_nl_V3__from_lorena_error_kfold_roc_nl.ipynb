{
  "cells": [
    {
      "cell_type": "markdown",
      "metadata": {
        "id": "view-in-github"
      },
      "source": [
        "<a href=\"https://colab.research.google.com/github/Anerol18/Fake_News_Detector_NLP_DeepLearning_Project/blob/main/fakenews_project_october_version_stella_nl_V3__from_lorena_error.ipynb\" target=\"_parent\"><img src=\"https://colab.research.google.com/assets/colab-badge.svg\" alt=\"Open In Colab\"/></a>"
      ],
      "id": "view-in-github"
    },
    {
      "cell_type": "markdown",
      "id": "b78069c6-04c0-470a-b491-4f3948c21114",
      "metadata": {
        "id": "b78069c6-04c0-470a-b491-4f3948c21114"
      },
      "source": [
        "# Environment setting"
      ]
    },
    {
      "cell_type": "code",
      "execution_count": 90,
      "id": "euiMurqEFA7l",
      "metadata": {
        "id": "euiMurqEFA7l",
        "executionInfo": {
          "status": "ok",
          "timestamp": 1729503841975,
          "user_tz": -120,
          "elapsed": 327,
          "user": {
            "displayName": "",
            "userId": ""
          }
        }
      },
      "outputs": [],
      "source": [
        "# Environment setting for Google Colab\n",
        "#!pip install transformers sentence-transformers tqdm\n",
        "\n",
        "import time\n",
        "import pandas as pd\n",
        "import numpy as np\n",
        "import torch\n",
        "import torch.nn as nn\n",
        "import torch.optim as optim\n",
        "from transformers import AutoModel, AutoTokenizer\n",
        "from sklearn.model_selection import train_test_split\n",
        "from sklearn.metrics import accuracy_score, classification_report, confusion_matrix\n",
        "from torch.utils.data import DataLoader, Dataset\n",
        "import matplotlib.pyplot as plt\n",
        "import seaborn as sns\n",
        "from sklearn.preprocessing import normalize\n",
        "from tqdm import tqdm\n",
        "from sklearn.model_selection import KFold"
      ]
    },
    {
      "cell_type": "code",
      "execution_count": 2,
      "id": "bfONY_eY6GAA",
      "metadata": {
        "colab": {
          "base_uri": "https://localhost:8080/"
        },
        "id": "bfONY_eY6GAA",
        "outputId": "ed4e058d-9b8c-4b5a-c4b8-1a913a16b7cb",
        "executionInfo": {
          "status": "ok",
          "timestamp": 1729496722839,
          "user_tz": -120,
          "elapsed": 21123,
          "user": {
            "displayName": "",
            "userId": ""
          }
        }
      },
      "outputs": [
        {
          "output_type": "stream",
          "name": "stdout",
          "text": [
            "Collecting flash_attn\n",
            "  Downloading flash_attn-2.6.3.tar.gz (2.6 MB)\n",
            "\u001b[?25l     \u001b[90m━━━━━━━━━━━━━━━━━━━━━━━━━━━━━━━━━━━━━━━━\u001b[0m \u001b[32m0.0/2.6 MB\u001b[0m \u001b[31m?\u001b[0m eta \u001b[36m-:--:--\u001b[0m\r\u001b[2K     \u001b[91m━━\u001b[0m\u001b[91m╸\u001b[0m\u001b[90m━━━━━━━━━━━━━━━━━━━━━━━━━━━━━━━━━━━━━\u001b[0m \u001b[32m0.2/2.6 MB\u001b[0m \u001b[31m6.3 MB/s\u001b[0m eta \u001b[36m0:00:01\u001b[0m\r\u001b[2K     \u001b[91m━━━━━━━━━━━━━━━━━━━━━━━━━━━━━━━━\u001b[0m\u001b[91m╸\u001b[0m\u001b[90m━━━━━━━\u001b[0m \u001b[32m2.1/2.6 MB\u001b[0m \u001b[31m30.7 MB/s\u001b[0m eta \u001b[36m0:00:01\u001b[0m\r\u001b[2K     \u001b[90m━━━━━━━━━━━━━━━━━━━━━━━━━━━━━━━━━━━━━━━━\u001b[0m \u001b[32m2.6/2.6 MB\u001b[0m \u001b[31m29.8 MB/s\u001b[0m eta \u001b[36m0:00:00\u001b[0m\n",
            "\u001b[?25h  Preparing metadata (setup.py) ... \u001b[?25l\u001b[?25hdone\n",
            "Requirement already satisfied: torch in /usr/local/lib/python3.10/dist-packages (from flash_attn) (2.4.1+cu121)\n",
            "Requirement already satisfied: einops in /usr/local/lib/python3.10/dist-packages (from flash_attn) (0.8.0)\n",
            "Requirement already satisfied: filelock in /usr/local/lib/python3.10/dist-packages (from torch->flash_attn) (3.16.1)\n",
            "Requirement already satisfied: typing-extensions>=4.8.0 in /usr/local/lib/python3.10/dist-packages (from torch->flash_attn) (4.12.2)\n",
            "Requirement already satisfied: sympy in /usr/local/lib/python3.10/dist-packages (from torch->flash_attn) (1.13.3)\n",
            "Requirement already satisfied: networkx in /usr/local/lib/python3.10/dist-packages (from torch->flash_attn) (3.3)\n",
            "Requirement already satisfied: jinja2 in /usr/local/lib/python3.10/dist-packages (from torch->flash_attn) (3.1.4)\n",
            "Requirement already satisfied: fsspec in /usr/local/lib/python3.10/dist-packages (from torch->flash_attn) (2024.6.1)\n",
            "Requirement already satisfied: MarkupSafe>=2.0 in /usr/local/lib/python3.10/dist-packages (from jinja2->torch->flash_attn) (2.1.5)\n",
            "Requirement already satisfied: mpmath<1.4,>=1.1.0 in /usr/local/lib/python3.10/dist-packages (from sympy->torch->flash_attn) (1.3.0)\n",
            "Building wheels for collected packages: flash_attn\n",
            "  Building wheel for flash_attn (setup.py) ... \u001b[?25l\u001b[?25hdone\n",
            "  Created wheel for flash_attn: filename=flash_attn-2.6.3-cp310-cp310-linux_x86_64.whl size=187309225 sha256=237ef9c6157db394e1ddde4ba609a21ebb98382377a27041edc09318801a6f24\n",
            "  Stored in directory: /root/.cache/pip/wheels/7e/e3/c3/89c7a2f3c4adc07cd1c675f8bb7b9ad4d18f64a72bccdfe826\n",
            "Successfully built flash_attn\n",
            "Installing collected packages: flash_attn\n",
            "Successfully installed flash_attn-2.6.3\n"
          ]
        }
      ],
      "source": [
        "!pip install flash_attn\n"
      ]
    },
    {
      "cell_type": "code",
      "execution_count": 3,
      "id": "U4osI_YG3vUq",
      "metadata": {
        "colab": {
          "base_uri": "https://localhost:8080/"
        },
        "id": "U4osI_YG3vUq",
        "outputId": "785cec2b-b3de-41a1-a4fe-aba2f4c28d79",
        "executionInfo": {
          "status": "ok",
          "timestamp": 1729496728449,
          "user_tz": -120,
          "elapsed": 2,
          "user": {
            "displayName": "",
            "userId": ""
          }
        }
      },
      "outputs": [
        {
          "output_type": "execute_result",
          "data": {
            "text/plain": [
              "device(type='cuda')"
            ]
          },
          "metadata": {},
          "execution_count": 3
        }
      ],
      "source": [
        "torch.device(\"cuda\" if torch.cuda.is_available() else \"mps\" if torch.backends.mps.is_available() else \"cpu\")"
      ]
    },
    {
      "cell_type": "code",
      "execution_count": 4,
      "id": "c7f07b50-8f29-4475-8376-728ca909daf6",
      "metadata": {
        "id": "c7f07b50-8f29-4475-8376-728ca909daf6",
        "executionInfo": {
          "status": "ok",
          "timestamp": 1729496731233,
          "user_tz": -120,
          "elapsed": 2,
          "user": {
            "displayName": "",
            "userId": ""
          }
        }
      },
      "outputs": [],
      "source": [
        "# Setting seed:\n",
        "\n",
        "def set_seed_fun(seed_number: int):\n",
        "    \"\"\"\n",
        "    We could also use pytorch_lightning package\n",
        "    try:\n",
        "        import pytorch_lightning as pl\n",
        "    except ModuleNotFoundError: # Google Colab does not have PyTorch Lightning installed by default. Hence, we do it here if necessary\n",
        "        !pip install --quiet pytorch-lightning>=1.5\n",
        "        import pytorch_lightning as pl\n",
        "\n",
        "    pl.seed_everything(42)\n",
        "    \"\"\"\n",
        "    np.random.seed(seed_number)\n",
        "    if torch.backends.mps.is_available():\n",
        "        torch.mps.manual_seed(seed_number)\n",
        "    if torch.cuda.is_available():\n",
        "        torch.manual_seed(seed_number)\n",
        "        torch.cuda.manual_seed(seed_number)\n",
        "        torch.cuda.manual_seed_all(seed_number)\n",
        "        torch.backends.cudnn.deterministic = True\n",
        "        torch.backends.cudnn.benchark = False\n",
        "\n",
        "set_seed_fun(42)\n"
      ]
    },
    {
      "cell_type": "code",
      "execution_count": 5,
      "id": "nbMVcXmm6xUA",
      "metadata": {
        "id": "nbMVcXmm6xUA",
        "executionInfo": {
          "status": "ok",
          "timestamp": 1729496733653,
          "user_tz": -120,
          "elapsed": 1,
          "user": {
            "displayName": "",
            "userId": ""
          }
        }
      },
      "outputs": [],
      "source": [
        "# Set up the device (cuda, mps, or cpu)\n",
        "device = torch.device(\"cuda\" if torch.cuda.is_available() else \"cpu\")\n"
      ]
    },
    {
      "cell_type": "code",
      "execution_count": 6,
      "id": "tUaf6SRS53AH",
      "metadata": {
        "colab": {
          "base_uri": "https://localhost:8080/",
          "height": 565,
          "referenced_widgets": [
            "88d2681b67ee477c8d04036312416e52",
            "b23eaaa329c34ee4af59ad7b57a96643",
            "84345e385ec54b4f983876bb9c539b88",
            "af0c4e3988f54511b3ffb48c80ef5ae7",
            "f8894eb5a85b4d76946f70dcf8be9228",
            "02bac7a8179c4af2a149425822f0867e",
            "210e1e6754544cc79bb0dfb3fe6691d9",
            "bb943f815ec5469e82a747009e438ea6",
            "2f6d915b5b5d481e980a80719f97e252",
            "46a9e3bc8dda41c9a4f143038733f40c",
            "0b528163a2a64f9495c90a0f433cdc3a",
            "639d387358504b6a93a6cbdf22b56c9b",
            "4267c685de194d0c8e24e4fe741ae64a",
            "426ce2923d9740109fa01d2853425a8f",
            "988f0417d2d8484e8e07b29b8ccf77e6",
            "45aec695537a4b12afcb1087f94883a2",
            "49d9936af2bd40ca9cedb08e944d8387",
            "3aef997f6bdf4346a71c8c56c1528086",
            "d467ae76608f4b52bc4dda550f7396ea",
            "8250faedf7bf4b33a3cceb25ffd634bf",
            "242aea2b6a984effb7a8aa92b6ca4098",
            "8dc338eb4ed04d89904d713fd2147f5d",
            "f49baba9c50a4d35a430eeefab89cadb",
            "ef8101eb582d43e78a68510e114bf34c",
            "60ee41f55af14315a5f77c25564835a9",
            "dc414efd1cda4ae8a5f70fe72f7e3ddd",
            "d40783f2ef974d058bc42b000c4fe4ec",
            "79300d94ec444278a4f7ca37e5105bf3",
            "2d579bcc2390400b9074caa6a59ea1ed",
            "4f44a1031e4746c28080ddf115c66678",
            "e336fac607cd4d7c9d1d9623bd995850",
            "fafb4e9b36e6472f81fb90162b6edd3e",
            "7e6feab258bc47e1b1be76c769047d04",
            "357bc42d048b4a9ea0cc4544a3eea17d",
            "9a6dc066a7c74b4fb43ea70fe64a4e18",
            "a053bb87a10442db94e576a0a0306fb6",
            "2f25c971e3e24302ba35631d278506bb",
            "06a2bf47657247dfaae82fa59c5ec988",
            "241758a1cd844e1a8a1fd04acd184f4f",
            "b83e8b23f93448b3af8f4f38abb73f34",
            "9c0c4d13f3714d70aaa5579c877d1f07",
            "10d72d5787ac4b239d713c978a57300b",
            "1520d5d4484543f195586374c75c4386",
            "0217ae6883f64d5b9e7340d93d1cf1f7",
            "bfd7dae6b4b94911b27d9b6a76538ebd",
            "0909fb7ee85044ada070be51db53ad9d",
            "b314dfd654dc494fa89f759267f14652",
            "2b832e76874946c6ae30f26644f2160b",
            "b71cd44561524766b7988d7cf8bec285",
            "09e8ab86c4ee4a0eabe2043a470fcd13",
            "334af6d4b7fa46c3996193840bda04a2",
            "d93a7a5e2e394a86ade1ef1e4a5ae904",
            "fa30da884c714defa048ae06839bfc53",
            "8f04bc55670f4419b160da542c257822",
            "19960405fe3c44bcb2dc1e540e67977b",
            "c64df92036894eb395fc9600750b7b78",
            "0cc6ffd159e545f9952e86e879de02b7",
            "001c5ec24aa64af483b4371de31d0a76",
            "73372792cbe14c62a530b63af8a5fa60",
            "70140b1ff75747979489999a00ba9fc1",
            "479dae78f75342298ea8f8c1d0f72a24",
            "43d90573fe04428faf4640120ec1600c",
            "e9c08acc596a488794a76e6d834f773d",
            "aa49daba629e41b5a5ffb8958d2855c9",
            "89e09105cf45491a88f546239ee31037",
            "3ae9a539489342d38d3552730b8e8632",
            "66e7f0238c2d4f0b854daadfdb8753a4",
            "75310a24c0ad4c12ab483b353413f6ee",
            "7e67d6685ed04fd0843e3a44d272af6f",
            "5b4b12bdd9804d0399b259688c8a54e3",
            "64dec18800fd486591d2bd6a08b07378",
            "d4385fbbc8d7443cbb4152aa68f5626b",
            "ca044cf1156640059805a4eb26f08ce3",
            "03d0c2cf03204c61b442501c0ac3bc27",
            "dccd1ef3d8e1455597f6f1f30076ded1",
            "5f1641ffc5f34ee187581938f4873095",
            "e38ba14f132043378085df391627e36c",
            "d79e3b8f222446c2a0d6efb063e27b14",
            "e015c13cb7564976a90b6f96e7863771",
            "730371d9967f4e2e8b4979098f9602f9",
            "3faf4e9c49b349e0ac299e9585ec7f7f",
            "576c8ec2cb184642af6d9cc80b09ff3a",
            "e18c2dd3be964f3fa1b8704d7ed569a0",
            "642aa904f2ac41e48c47bc0cc260717c",
            "a0f5e09409e04ae7ac85ad2cc56421a2",
            "7b2a21a700724adc8f92cd4e15e8f1f0",
            "15a8d4fb2efd42a89e238eadbb765c99",
            "d948fb8b5a554fa4bf9381ac7cb14375",
            "884eef7cd03d4f44b0908ad05ee73d2a",
            "40b73c04df3e4820bb41fdb8de0055f7",
            "d7d09bdb4f5d46498f347944f2b64f0c",
            "74019057c4fb4501bfaeb2b849061d19",
            "78e01e8fc44d4dacba4bc9c54aaaf043",
            "6f39b39a66e2418683699f9a4ceef3c0",
            "c2f59cbe1f544c4089ceac7422a6fffe",
            "9877280825ac4f85a2a5320ef174bee5",
            "1a9456b8326c435f80343ab81144ef55",
            "0360aba19ab94f6a92f5dfe50560c6b8",
            "643da53b8af3427bb911d7b9cab71cfc",
            "8a48fd47cfeb46ca83f26c1f6bae399f",
            "f4c9458b44fe4669b8d4e6a69c721df4",
            "a367cb2cdb1c454eb1493550d6b57d8b",
            "a2c0e941ab324a52950af81ef8005bda",
            "8d1acce41a8d41c6aa72a38ed84fe401",
            "8966302cc4fe4632a944411f69073bcf",
            "657bf575fb274627aa6ff1b55e3e1346",
            "58d8b4d666d5449ab3a05be21b6cc3e9",
            "d97729af31eb43b8bd2337f0f07e8e6f",
            "515a9715d5754f919d4d1aac05fc3018",
            "338757f17c2a4dc4883f0575087c021b"
          ]
        },
        "id": "tUaf6SRS53AH",
        "outputId": "6f1853e7-8c04-4cbb-ba0c-bd0a23aad5e2",
        "executionInfo": {
          "status": "ok",
          "timestamp": 1729496780268,
          "user_tz": -120,
          "elapsed": 44419,
          "user": {
            "displayName": "",
            "userId": ""
          }
        }
      },
      "outputs": [
        {
          "output_type": "stream",
          "name": "stderr",
          "text": [
            "/usr/local/lib/python3.10/dist-packages/huggingface_hub/utils/_token.py:89: UserWarning: \n",
            "The secret `HF_TOKEN` does not exist in your Colab secrets.\n",
            "To authenticate with the Hugging Face Hub, create a token in your settings tab (https://huggingface.co/settings/tokens), set it as secret in your Google Colab and restart your session.\n",
            "You will be able to reuse this secret in all of your notebooks.\n",
            "Please note that authentication is recommended but still optional to access public models or datasets.\n",
            "  warnings.warn(\n"
          ]
        },
        {
          "output_type": "display_data",
          "data": {
            "text/plain": [
              "config.json:   0%|          | 0.00/844 [00:00<?, ?B/s]"
            ],
            "application/vnd.jupyter.widget-view+json": {
              "version_major": 2,
              "version_minor": 0,
              "model_id": "88d2681b67ee477c8d04036312416e52"
            }
          },
          "metadata": {}
        },
        {
          "output_type": "display_data",
          "data": {
            "text/plain": [
              "modeling_qwen.py:   0%|          | 0.00/65.2k [00:00<?, ?B/s]"
            ],
            "application/vnd.jupyter.widget-view+json": {
              "version_major": 2,
              "version_minor": 0,
              "model_id": "639d387358504b6a93a6cbdf22b56c9b"
            }
          },
          "metadata": {}
        },
        {
          "output_type": "stream",
          "name": "stderr",
          "text": [
            "A new version of the following files was downloaded from https://huggingface.co/dunzhang/stella_en_1.5B_v5:\n",
            "- modeling_qwen.py\n",
            ". Make sure to double-check they do not contain any added malicious code. To avoid downloading new versions of the code file, you can pin a revision.\n"
          ]
        },
        {
          "output_type": "display_data",
          "data": {
            "text/plain": [
              "model.safetensors:   0%|          | 0.00/6.17G [00:00<?, ?B/s]"
            ],
            "application/vnd.jupyter.widget-view+json": {
              "version_major": 2,
              "version_minor": 0,
              "model_id": "f49baba9c50a4d35a430eeefab89cadb"
            }
          },
          "metadata": {}
        },
        {
          "output_type": "display_data",
          "data": {
            "text/plain": [
              "tokenizer_config.json:   0%|          | 0.00/1.31k [00:00<?, ?B/s]"
            ],
            "application/vnd.jupyter.widget-view+json": {
              "version_major": 2,
              "version_minor": 0,
              "model_id": "357bc42d048b4a9ea0cc4544a3eea17d"
            }
          },
          "metadata": {}
        },
        {
          "output_type": "display_data",
          "data": {
            "text/plain": [
              "tokenization_qwen.py:   0%|          | 0.00/10.8k [00:00<?, ?B/s]"
            ],
            "application/vnd.jupyter.widget-view+json": {
              "version_major": 2,
              "version_minor": 0,
              "model_id": "bfd7dae6b4b94911b27d9b6a76538ebd"
            }
          },
          "metadata": {}
        },
        {
          "output_type": "stream",
          "name": "stderr",
          "text": [
            "A new version of the following files was downloaded from https://huggingface.co/dunzhang/stella_en_1.5B_v5:\n",
            "- tokenization_qwen.py\n",
            ". Make sure to double-check they do not contain any added malicious code. To avoid downloading new versions of the code file, you can pin a revision.\n"
          ]
        },
        {
          "output_type": "display_data",
          "data": {
            "text/plain": [
              "vocab.json:   0%|          | 0.00/2.78M [00:00<?, ?B/s]"
            ],
            "application/vnd.jupyter.widget-view+json": {
              "version_major": 2,
              "version_minor": 0,
              "model_id": "c64df92036894eb395fc9600750b7b78"
            }
          },
          "metadata": {}
        },
        {
          "output_type": "display_data",
          "data": {
            "text/plain": [
              "merges.txt:   0%|          | 0.00/1.67M [00:00<?, ?B/s]"
            ],
            "application/vnd.jupyter.widget-view+json": {
              "version_major": 2,
              "version_minor": 0,
              "model_id": "66e7f0238c2d4f0b854daadfdb8753a4"
            }
          },
          "metadata": {}
        },
        {
          "output_type": "display_data",
          "data": {
            "text/plain": [
              "tokenizer.json:   0%|          | 0.00/7.03M [00:00<?, ?B/s]"
            ],
            "application/vnd.jupyter.widget-view+json": {
              "version_major": 2,
              "version_minor": 0,
              "model_id": "d79e3b8f222446c2a0d6efb063e27b14"
            }
          },
          "metadata": {}
        },
        {
          "output_type": "display_data",
          "data": {
            "text/plain": [
              "added_tokens.json:   0%|          | 0.00/80.0 [00:00<?, ?B/s]"
            ],
            "application/vnd.jupyter.widget-view+json": {
              "version_major": 2,
              "version_minor": 0,
              "model_id": "884eef7cd03d4f44b0908ad05ee73d2a"
            }
          },
          "metadata": {}
        },
        {
          "output_type": "display_data",
          "data": {
            "text/plain": [
              "special_tokens_map.json:   0%|          | 0.00/370 [00:00<?, ?B/s]"
            ],
            "application/vnd.jupyter.widget-view+json": {
              "version_major": 2,
              "version_minor": 0,
              "model_id": "8a48fd47cfeb46ca83f26c1f6bae399f"
            }
          },
          "metadata": {}
        }
      ],
      "source": [
        "# Load the embedding model (dunzhang/stella_en_1.5B_v5)\n",
        "model_name = \"dunzhang/stella_en_1.5B_v5\"\n",
        "model = AutoModel.from_pretrained(model_name, trust_remote_code=True).to(device).eval()\n",
        "tokenizer = AutoTokenizer.from_pretrained(model_name, trust_remote_code=True)\n"
      ]
    },
    {
      "cell_type": "code",
      "execution_count": 7,
      "id": "99e07a94-fbf3-4d20-84bc-822e61682eac",
      "metadata": {
        "id": "99e07a94-fbf3-4d20-84bc-822e61682eac",
        "executionInfo": {
          "status": "ok",
          "timestamp": 1729496784257,
          "user_tz": -120,
          "elapsed": 276,
          "user": {
            "displayName": "",
            "userId": ""
          }
        }
      },
      "outputs": [],
      "source": [
        "# Import dataset from github\n",
        "# Raw URL of the CSV file\n",
        "url = 'https://raw.githubusercontent.com/Anerol18/Fake_News_Detector_NLP_DeepLearning_Project/main/final_combined_dataset.csv'\n",
        "df = pd.read_csv(url)"
      ]
    },
    {
      "cell_type": "code",
      "execution_count": 8,
      "id": "46d4ab2b-ee2a-4ce9-9b20-c457b0b0ac2c",
      "metadata": {
        "id": "46d4ab2b-ee2a-4ce9-9b20-c457b0b0ac2c",
        "executionInfo": {
          "status": "ok",
          "timestamp": 1729496785671,
          "user_tz": -120,
          "elapsed": 299,
          "user": {
            "displayName": "",
            "userId": ""
          }
        }
      },
      "outputs": [],
      "source": [
        "# Prepare data\n",
        "X = df['Text'].values.astype(str)\n",
        "y = (df['Label'] == 'fake').astype(int).values\n"
      ]
    },
    {
      "cell_type": "code",
      "execution_count": 9,
      "id": "81a7d200-6a4e-4bb1-a166-05da53b3ab10",
      "metadata": {
        "id": "81a7d200-6a4e-4bb1-a166-05da53b3ab10",
        "executionInfo": {
          "status": "ok",
          "timestamp": 1729496787590,
          "user_tz": -120,
          "elapsed": 252,
          "user": {
            "displayName": "",
            "userId": ""
          }
        }
      },
      "outputs": [],
      "source": [
        "# Split the data into training, validation, and test sets\n",
        "X_train, X_temp, y_train, y_temp = train_test_split(X, y, test_size=0.3, random_state=42)\n",
        "X_val, X_test, y_val, y_test = train_test_split(X_temp, y_temp, test_size=0.5, random_state=42)\n"
      ]
    },
    {
      "cell_type": "markdown",
      "id": "6dc6ae47-93f1-40a0-9295-3c75928120c7",
      "metadata": {
        "id": "6dc6ae47-93f1-40a0-9295-3c75928120c7"
      },
      "source": [
        "# Embedding"
      ]
    },
    {
      "cell_type": "code",
      "execution_count": 10,
      "id": "b7Nubkly8ocs",
      "metadata": {
        "id": "b7Nubkly8ocs",
        "executionInfo": {
          "status": "ok",
          "timestamp": 1729496790049,
          "user_tz": -120,
          "elapsed": 1,
          "user": {
            "displayName": "",
            "userId": ""
          }
        }
      },
      "outputs": [],
      "source": [
        "# Modified function without dimension reduction\n",
        "def generate_stella_embeddings(texts, tokenizer, model, batch_size=32):\n",
        "    embeddings = []\n",
        "\n",
        "    for i in tqdm(range(0, len(texts), batch_size), desc=\"Generating Embeddings\"):\n",
        "        batch_texts = texts[i:i + batch_size]\n",
        "\n",
        "        with torch.no_grad():\n",
        "            inputs = tokenizer(batch_texts, padding=\"longest\", truncation=True, max_length=512, return_tensors=\"pt\").to(device)\n",
        "            attention_mask = inputs[\"attention_mask\"]\n",
        "            outputs = model(**inputs)[0]\n",
        "            last_hidden = outputs.masked_fill(~attention_mask[..., None].bool(), 0.0)\n",
        "            embeddings_batch = last_hidden.sum(dim=1) / attention_mask.sum(dim=1)[..., None]\n",
        "            embeddings_batch = normalize(embeddings_batch.cpu().numpy())\n",
        "\n",
        "            embeddings.append(embeddings_batch)\n",
        "\n",
        "    return np.vstack(embeddings)"
      ]
    },
    {
      "cell_type": "code",
      "execution_count": 11,
      "id": "befa178b-cbc7-4d7f-9c96-5cbb828470ee",
      "metadata": {
        "id": "befa178b-cbc7-4d7f-9c96-5cbb828470ee",
        "executionInfo": {
          "status": "ok",
          "timestamp": 1729496792766,
          "user_tz": -120,
          "elapsed": 2,
          "user": {
            "displayName": "",
            "userId": ""
          }
        }
      },
      "outputs": [],
      "source": [
        "#####################################\n",
        "# benchmark beginning for embedding #\n",
        "#####################################\n",
        "time_start_embed = time.perf_counter()"
      ]
    },
    {
      "cell_type": "code",
      "execution_count": null,
      "id": "a1Z8m1kVFnTQ",
      "metadata": {
        "id": "a1Z8m1kVFnTQ"
      },
      "outputs": [],
      "source": [
        "# Initialize the Vertex AI TextEmbeddingModel\n",
        "# embedding_model = TextEmbeddingModel.from_pretrained(\"text-embedding-004\")"
      ]
    },
    {
      "cell_type": "code",
      "execution_count": 12,
      "id": "UF22BrrY79RS",
      "metadata": {
        "id": "UF22BrrY79RS",
        "executionInfo": {
          "status": "ok",
          "timestamp": 1729496796483,
          "user_tz": -120,
          "elapsed": 286,
          "user": {
            "displayName": "",
            "userId": ""
          }
        }
      },
      "outputs": [],
      "source": [
        "# Ensure data is in the correct format\n",
        "X_train = X_train.tolist() if isinstance(X_train, np.ndarray) else X_train\n",
        "X_val = X_val.tolist() if isinstance(X_val, np.ndarray) else X_val\n",
        "X_test = X_test.tolist() if isinstance(X_test, np.ndarray) else X_test\n"
      ]
    },
    {
      "cell_type": "code",
      "execution_count": 13,
      "id": "kUiUJO8c9Udz",
      "metadata": {
        "colab": {
          "base_uri": "https://localhost:8080/"
        },
        "id": "kUiUJO8c9Udz",
        "outputId": "a897f6bf-bedb-49de-c63a-d9ca7157f7c8",
        "executionInfo": {
          "status": "ok",
          "timestamp": 1729497318432,
          "user_tz": -120,
          "elapsed": 518938,
          "user": {
            "displayName": "",
            "userId": ""
          }
        }
      },
      "outputs": [
        {
          "output_type": "stream",
          "name": "stderr",
          "text": [
            "Generating Embeddings: 100%|██████████| 401/401 [06:05<00:00,  1.10it/s]\n",
            "Generating Embeddings: 100%|██████████| 86/86 [01:14<00:00,  1.15it/s]\n",
            "Generating Embeddings: 100%|██████████| 86/86 [01:18<00:00,  1.10it/s]\n"
          ]
        }
      ],
      "source": [
        "# Generate embeddings for the train, validation, and test sets\n",
        "X_train_embeddings = generate_stella_embeddings(X_train, tokenizer, model)\n",
        "X_val_embeddings = generate_stella_embeddings(X_val, tokenizer, model)\n",
        "X_test_embeddings = generate_stella_embeddings(X_test, tokenizer, model)\n"
      ]
    },
    {
      "cell_type": "code",
      "execution_count": null,
      "id": "eb68c53d-0a6c-4f2e-99f6-1c85d0d26ef1",
      "metadata": {
        "id": "eb68c53d-0a6c-4f2e-99f6-1c85d0d26ef1"
      },
      "outputs": [],
      "source": [
        "#####################################\n",
        "# benchmark ending for embedding    #\n",
        "#####################################\n",
        "time_end_embed = time.perf_counter()"
      ]
    },
    {
      "cell_type": "markdown",
      "id": "fc999217-4072-46d1-8e44-b05cd901fa66",
      "metadata": {
        "id": "fc999217-4072-46d1-8e44-b05cd901fa66"
      },
      "source": [
        "# Training part"
      ]
    },
    {
      "cell_type": "markdown",
      "id": "7acb5108-17ca-499e-8ecd-b4933f1b2b18",
      "metadata": {
        "id": "7acb5108-17ca-499e-8ecd-b4933f1b2b18"
      },
      "source": [
        "## Class functions\n",
        "\n",
        "Definition of functions to:\n",
        "- Transform a data set into the good format\n",
        "- create a simple neural network architecture\n",
        "- create a funtion to transform seconds into a list of (hours, minutes, seconds)"
      ]
    },
    {
      "cell_type": "code",
      "execution_count": 14,
      "id": "423bc231-7992-40a8-aaaa-cc7920a72ceb",
      "metadata": {
        "id": "423bc231-7992-40a8-aaaa-cc7920a72ceb",
        "executionInfo": {
          "status": "ok",
          "timestamp": 1729497322892,
          "user_tz": -120,
          "elapsed": 287,
          "user": {
            "displayName": "",
            "userId": ""
          }
        }
      },
      "outputs": [],
      "source": [
        "# Define a Dataset class for PyTorch\n",
        "class NewsDataset(Dataset):\n",
        "    def __init__(self, X, y):\n",
        "        self.X = X\n",
        "        self.y = y\n",
        "\n",
        "    def __len__(self):\n",
        "        return len(self.y)\n",
        "\n",
        "    def __getitem__(self, idx):\n",
        "         # Ensure X is a numeric tensor\n",
        "        text_tensor = torch.tensor(self.X[idx], dtype=torch.float32)  # Make sure this is float\n",
        "        label_tensor = torch.tensor(self.y[idx], dtype=torch.long)  # Labels should be long for classification\n",
        "        return text_tensor, label_tensor"
      ]
    },
    {
      "cell_type": "code",
      "execution_count": null,
      "id": "bpqcOYYqZ1fv",
      "metadata": {
        "id": "bpqcOYYqZ1fv"
      },
      "outputs": [],
      "source": [
        "# input_size = 1536 / 768 / 384 / 192"
      ]
    },
    {
      "cell_type": "code",
      "execution_count": 72,
      "id": "8c2b1910-63be-4ca7-ab7d-f441ad81c576",
      "metadata": {
        "id": "8c2b1910-63be-4ca7-ab7d-f441ad81c576",
        "executionInfo": {
          "status": "ok",
          "timestamp": 1729500720092,
          "user_tz": -120,
          "elapsed": 310,
          "user": {
            "displayName": "",
            "userId": ""
          }
        }
      },
      "outputs": [],
      "source": [
        "# Define a simple neural network\n",
        "class SimpleNN(nn.Module):\n",
        "    def __init__(self, input_size):\n",
        "        super(SimpleNN, self).__init__()\n",
        "        self.fc0 = nn.Linear(input_size, 3072)\n",
        "        self.dropout0 = nn.Dropout(p=0.6)\n",
        "        self.relu0 = nn.ReLU()\n",
        "        self.fc01 = nn.Linear(3072, 3072)\n",
        "        self.dropout01 = nn.Dropout(p=0.6)\n",
        "        self.relu01 = nn.ReLU()\n",
        "        self.fc1 = nn.Linear(3072, 768)\n",
        "        self.dropout1 = nn.Dropout(p=0.6)\n",
        "        self.relu1 = nn.ReLU()\n",
        "        #self.fc11 = nn.Linear(768, 768)\n",
        "        #self.dropout11 = nn.Dropout(p=0.6)\n",
        "        #self.relu11 = nn.ReLU()\n",
        "        #self.fc2 = nn.Linear(768, 384)\n",
        "        #self.dropout2 = nn.Dropout(p=0.6)\n",
        "        #self.relu2 = nn.ReLU()\n",
        "        #self.fc21 = nn.Linear(384, 384)\n",
        "        #self.dropout21 = nn.Dropout(p=0.6)\n",
        "        #self.relu21 = nn.ReLU()\n",
        "        self.fc3 = nn.Linear(768, 2)\n",
        "\n",
        "    def forward(self, x):\n",
        "        x = self.fc0(x)\n",
        "        x = self.dropout0(x)\n",
        "        x = self.relu0(x)\n",
        "        x = self.fc01(x)\n",
        "        x = self.dropout01(x)\n",
        "        x = self.relu01(x)\n",
        "        x = self.fc1(x)\n",
        "        x = self.dropout1(x)\n",
        "        x = self.relu1(x)\n",
        "        #x = self.fc11(x)\n",
        "        #x = self.dropout1(x)\n",
        "        #x = self.relu1(x)\n",
        "        #x = self.fc2(x)\n",
        "        #x = self.dropout2(x)\n",
        "        #x = self.relu2(x)\n",
        "        #x = self.fc21(x)\n",
        "        #x = self.dropout21(x)\n",
        "        #x = self.relu21(x)\n",
        "        x = self.fc3(x)\n",
        "        return x\n"
      ]
    },
    {
      "cell_type": "code",
      "execution_count": 73,
      "id": "ff2fedd9-c85c-4144-8dd5-139af39d891d",
      "metadata": {
        "id": "ff2fedd9-c85c-4144-8dd5-139af39d891d",
        "executionInfo": {
          "status": "ok",
          "timestamp": 1729500723238,
          "user_tz": -120,
          "elapsed": 289,
          "user": {
            "displayName": "",
            "userId": ""
          }
        }
      },
      "outputs": [],
      "source": [
        "def sec2hms(ss):\n",
        "\t(hh, ss)=divmod(ss, 3600)\n",
        "\t(mm, ss)=divmod(ss, 60)\n",
        "\treturn (hh, mm, ss)"
      ]
    },
    {
      "cell_type": "markdown",
      "id": "f5a1eed2-7a53-4921-9d9f-cb35848dedbf",
      "metadata": {
        "id": "f5a1eed2-7a53-4921-9d9f-cb35848dedbf"
      },
      "source": [
        "## Training function\n",
        "\n",
        "Definition of the training function."
      ]
    },
    {
      "cell_type": "code",
      "execution_count": 91,
      "id": "3c424347-5b2d-42cd-829a-1a36e6dcf742",
      "metadata": {
        "id": "3c424347-5b2d-42cd-829a-1a36e6dcf742",
        "executionInfo": {
          "status": "ok",
          "timestamp": 1729503855235,
          "user_tz": -120,
          "elapsed": 288,
          "user": {
            "displayName": "",
            "userId": ""
          }
        }
      },
      "outputs": [],
      "source": [
        "# Function to train the model\n",
        "def train_model(X_train, y_train, X_val, y_val, input_size, n_splits=5):\n",
        "    train_dataset = NewsDataset(X_train, y_train)\n",
        "    val_dataset = NewsDataset(X_val, y_val)\n",
        "\n",
        "    train_loader = DataLoader(train_dataset, batch_size=64, shuffle=True)\n",
        "    val_loader = DataLoader(val_dataset, batch_size=64, shuffle=False)\n",
        "\n",
        "    kf = KFold(n_splits=n_splits, shuffle=True, random_state=42)\n",
        "    weight_decay_values = [0.0, 0.0001, 0.001, 0.01, 0.1]  # Added: Range of weight decay values to experiment with\n",
        "    results = {}  # Added: Store results for each weight decay value\n",
        "\n",
        "    for weight_decay in weight_decay_values:  # Added: Loop through each weight decay value\n",
        "        fold_results = []\n",
        "        for fold, (train_idx, val_idx) in enumerate(kf.split(X)):\n",
        "            print(f\"Training on fold {fold + 1}/{n_splits} with weight decay {weight_decay}\")\n",
        "            model = SimpleNN(input_size).to(device)\n",
        "            criterion = nn.CrossEntropyLoss()\n",
        "            optimizer = optim.AdamW(model.parameters(), lr=2e-5, weight_decay=weight_decay)\n",
        "\n",
        "            num_epochs = 40\n",
        "            best_val_loss = float('inf')\n",
        "            patience = 2\n",
        "            patience_counter = 0\n",
        "\n",
        "            # Initialize lists to store losses and accuracies\n",
        "            train_losses = []\n",
        "            val_losses = []\n",
        "            train_accuracies = []\n",
        "            val_accuracies = []\n",
        "\n",
        "            for epoch in range(num_epochs):\n",
        "                model.train()\n",
        "                running_loss = 0.0\n",
        "                correct = 0\n",
        "                total = 0\n",
        "\n",
        "                for X_batch, y_batch in train_loader:\n",
        "                    X_batch, y_batch = X_batch.to(device), y_batch.to(device)\n",
        "                    optimizer.zero_grad()\n",
        "                    outputs = model(X_batch)\n",
        "                    loss = criterion(outputs, y_batch)\n",
        "                    loss.backward()\n",
        "                    optimizer.step()\n",
        "\n",
        "                    running_loss += loss.item()  # Accumulate training loss\n",
        "\n",
        "                    _, predicted = torch.max(outputs, 1)\n",
        "                    total += y_batch.size(0)\n",
        "                    correct += (predicted == y_batch).sum().item()  # Track correct predictions\n",
        "\n",
        "\n",
        "                avg_train_loss = running_loss / len(train_loader)  # Calculate average training loss\n",
        "                train_accuracy = correct / total  # Calculate training accuracy\n",
        "\n",
        "                train_losses.append(avg_train_loss)\n",
        "                train_accuracies.append(train_accuracy)\n",
        "\n",
        "\n",
        "                model.eval()\n",
        "                val_loss = 0\n",
        "                correct = 0\n",
        "                total = 0\n",
        "                with torch.no_grad():\n",
        "                    for X_batch, y_batch in val_loader:\n",
        "                        X_batch, y_batch = X_batch.to(device), y_batch.to(device)\n",
        "                        outputs = model(X_batch)\n",
        "                        loss = criterion(outputs, y_batch)\n",
        "                        val_loss += loss.item()\n",
        "\n",
        "                        _, predicted = torch.max(outputs, 1)\n",
        "                        total += y_batch.size(0)\n",
        "                        correct += (predicted == y_batch).sum().item()\n",
        "\n",
        "                avg_val_loss = val_loss / len(val_loader)\n",
        "                val_accuracy = correct / total\n",
        "\n",
        "                val_losses.append(avg_val_loss)\n",
        "                val_accuracies.append(val_accuracy)\n",
        "                print(f'Epoch {epoch+1}/{num_epochs}, Training Loss: {avg_train_loss}, Training Accuracy: {train_accuracy}, Validation Loss: {avg_val_loss}')\n",
        "\n",
        "                if val_loss < best_val_loss:\n",
        "                    best_val_loss = val_loss\n",
        "                    patience_counter = 0\n",
        "                else:\n",
        "                    patience_counter += 1\n",
        "\n",
        "                if patience_counter >= patience:\n",
        "                    print(\"Early stopping\")\n",
        "                    break\n",
        "\n",
        "            fold_results.append({\n",
        "                'train_losses': train_losses,\n",
        "                'val_losses': val_losses,\n",
        "                'train_accuracies': train_accuracies,\n",
        "                'val_accuracies': val_accuracies\n",
        "            })\n",
        "\n",
        "      # Store results for the current weight decay value\n",
        "        results[weight_decay] = fold_results\n",
        "    return results"
      ]
    },
    {
      "cell_type": "markdown",
      "id": "58ce1736-5492-4a67-9311-4294831030b0",
      "metadata": {
        "id": "58ce1736-5492-4a67-9311-4294831030b0"
      },
      "source": [
        "## Model initialization"
      ]
    },
    {
      "cell_type": "markdown",
      "id": "c7ebddb4-ac72-4d8e-9bc7-164b69619894",
      "metadata": {
        "id": "c7ebddb4-ac72-4d8e-9bc7-164b69619894"
      },
      "source": [
        "## Training"
      ]
    },
    {
      "cell_type": "code",
      "execution_count": 92,
      "id": "4511da9a-0124-4288-82a6-7a36576ad514",
      "metadata": {
        "id": "4511da9a-0124-4288-82a6-7a36576ad514",
        "executionInfo": {
          "status": "ok",
          "timestamp": 1729503859001,
          "user_tz": -120,
          "elapsed": 1,
          "user": {
            "displayName": "",
            "userId": ""
          }
        }
      },
      "outputs": [],
      "source": [
        "#####################################\n",
        "# benchmark beginning for modeling  #\n",
        "#####################################\n",
        "time_start_model = time.perf_counter()"
      ]
    },
    {
      "cell_type": "code",
      "execution_count": 95,
      "id": "toO_23frOXAC",
      "metadata": {
        "id": "toO_23frOXAC",
        "executionInfo": {
          "status": "ok",
          "timestamp": 1729503878571,
          "user_tz": -120,
          "elapsed": 332,
          "user": {
            "displayName": "",
            "userId": ""
          }
        }
      },
      "outputs": [],
      "source": [
        "input_size = 1536"
      ]
    },
    {
      "cell_type": "code",
      "execution_count": 96,
      "id": "gjUGzK27PlT0",
      "metadata": {
        "id": "gjUGzK27PlT0",
        "executionInfo": {
          "status": "ok",
          "timestamp": 1729503879649,
          "user_tz": -120,
          "elapsed": 1,
          "user": {
            "displayName": "",
            "userId": ""
          }
        }
      },
      "outputs": [],
      "source": [
        "# Set up the device (cuda, mps, or cpu)\n",
        "device = torch.device(\"cuda\" if torch.cuda.is_available() else \"mps\" if torch.backends.mps.is_available() else \"cpu\")"
      ]
    },
    {
      "cell_type": "code",
      "execution_count": null,
      "id": "40991ebd-b228-4ebe-ae91-f750a75ce5ed",
      "metadata": {
        "colab": {
          "base_uri": "https://localhost:8080/"
        },
        "id": "40991ebd-b228-4ebe-ae91-f750a75ce5ed",
        "outputId": "732e6667-3e1b-48f5-9203-50c8d008ba0a",
        "collapsed": true
      },
      "outputs": [
        {
          "output_type": "stream",
          "name": "stdout",
          "text": [
            "Training on fold 1/5 with weight decay 0.0\n",
            "Epoch 1/40, Training Loss: 0.6079514683849776, Training Accuracy: 0.7435356612764628, Validation Loss: 0.2875026322381441\n",
            "Epoch 2/40, Training Loss: 0.22989776742584372, Training Accuracy: 0.9138348566518241, Validation Loss: 0.1965036156565644\n",
            "Epoch 3/40, Training Loss: 0.19420788349555945, Training Accuracy: 0.9264119990625732, Validation Loss: 0.1798497771107873\n",
            "Epoch 4/40, Training Loss: 0.17581373720026727, Training Accuracy: 0.9346144832434966, Validation Loss: 0.17082881719567056\n",
            "Epoch 5/40, Training Loss: 0.16562756304791318, Training Accuracy: 0.9398484493398953, Validation Loss: 0.16985828637383704\n",
            "Epoch 6/40, Training Loss: 0.15172267417928473, Training Accuracy: 0.9443793453636434, Validation Loss: 0.16787876795197643\n",
            "Epoch 7/40, Training Loss: 0.14066510743910993, Training Accuracy: 0.9487540035934693, Validation Loss: 0.1539233639663042\n",
            "Epoch 8/40, Training Loss: 0.13049469470041827, Training Accuracy: 0.9510194516053433, Validation Loss: 0.1543699912726879\n",
            "Epoch 9/40, Training Loss: 0.1231991291528021, Training Accuracy: 0.9564877743926256, Validation Loss: 0.1461040362022644\n",
            "Epoch 10/40, Training Loss: 0.1162593766273143, Training Accuracy: 0.9570346066713538, Validation Loss: 0.14433310873979746\n",
            "Epoch 11/40, Training Loss: 0.10891591552911391, Training Accuracy: 0.9607843137254902, Validation Loss: 0.14146894632383836\n",
            "Epoch 12/40, Training Loss: 0.10165387406002323, Training Accuracy: 0.9625810483555972, Validation Loss: 0.13776703100911405\n",
            "Epoch 13/40, Training Loss: 0.0965468963580345, Training Accuracy: 0.9650808530583548, Validation Loss: 0.13616301509183507\n",
            "Epoch 14/40, Training Loss: 0.08718396543261053, Training Accuracy: 0.97008046246387, Validation Loss: 0.14720474270194076\n",
            "Epoch 15/40, Training Loss: 0.07991211913266585, Training Accuracy: 0.9717990781970158, Validation Loss: 0.14364250212214713\n",
            "Early stopping\n",
            "Training on fold 2/5 with weight decay 0.0\n",
            "Epoch 1/40, Training Loss: 0.6109053783155792, Training Accuracy: 0.6991641278025155, Validation Loss: 0.2906955726617991\n",
            "Epoch 2/40, Training Loss: 0.23345152353543547, Training Accuracy: 0.9109444574642606, Validation Loss: 0.19863016383592472\n",
            "Epoch 3/40, Training Loss: 0.20758636831421756, Training Accuracy: 0.9248496211233498, Validation Loss: 0.1825448255552802\n",
            "Epoch 4/40, Training Loss: 0.1794975712265245, Training Accuracy: 0.9318022029528943, Validation Loss: 0.17776186625624812\n",
            "Epoch 5/40, Training Loss: 0.16523737501149155, Training Accuracy: 0.9392234981642059, Validation Loss: 0.17231254782094513\n",
            "Epoch 6/40, Training Loss: 0.15458090131753704, Training Accuracy: 0.9442231075697212, Validation Loss: 0.16141662105571392\n",
            "Epoch 7/40, Training Loss: 0.146753056836662, Training Accuracy: 0.9456292477150222, Validation Loss: 0.15749024036665296\n",
            "Epoch 8/40, Training Loss: 0.1366641877117145, Training Accuracy: 0.9500820248418093, Validation Loss: 0.154664215826711\n",
            "Epoch 9/40, Training Loss: 0.12656170593265362, Training Accuracy: 0.955315990938208, Validation Loss: 0.1473567779500817\n",
            "Epoch 10/40, Training Loss: 0.12656318741058237, Training Accuracy: 0.9555503476290915, Validation Loss: 0.14421538402174794\n",
            "Epoch 11/40, Training Loss: 0.1135522776389893, Training Accuracy: 0.9564877743926256, Validation Loss: 0.1440599016671957\n",
            "Epoch 12/40, Training Loss: 0.10549123827090014, Training Accuracy: 0.9624248105616748, Validation Loss: 0.13960962473999622\n",
            "Epoch 13/40, Training Loss: 0.10035935637369678, Training Accuracy: 0.9641434262948207, Validation Loss: 0.13668254797541818\n",
            "Epoch 14/40, Training Loss: 0.09261468647335151, Training Accuracy: 0.9671900632763065, Validation Loss: 0.13615685458793197\n",
            "Epoch 15/40, Training Loss: 0.08575301572975276, Training Accuracy: 0.9698461057729865, Validation Loss: 0.1438129152669463\n",
            "Epoch 16/40, Training Loss: 0.07947713139916386, Training Accuracy: 0.9719553159909382, Validation Loss: 0.13379393959807795\n",
            "Epoch 17/40, Training Loss: 0.07485045025597757, Training Accuracy: 0.9738301695180064, Validation Loss: 0.13382349310572758\n",
            "Epoch 18/40, Training Loss: 0.06639169341085574, Training Accuracy: 0.9776579954691039, Validation Loss: 0.1338294627967962\n",
            "Early stopping\n",
            "Training on fold 3/5 with weight decay 0.0\n",
            "Epoch 1/40, Training Loss: 0.6026069968938828, Training Accuracy: 0.6809624248105617, Validation Loss: 0.29093537912812345\n",
            "Epoch 2/40, Training Loss: 0.236932224005609, Training Accuracy: 0.9113350519490665, Validation Loss: 0.2016420229229816\n",
            "Epoch 3/40, Training Loss: 0.19293367504072723, Training Accuracy: 0.927193188032185, Validation Loss: 0.18356054466824198\n",
            "Epoch 4/40, Training Loss: 0.17720028948946973, Training Accuracy: 0.9335989375830013, Validation Loss: 0.17357486971589023\n",
            "Epoch 5/40, Training Loss: 0.1658265424049019, Training Accuracy: 0.9387547847824389, Validation Loss: 0.16694903841545417\n",
            "Epoch 6/40, Training Loss: 0.15404139232557656, Training Accuracy: 0.943285680806187, Validation Loss: 0.16151989961779395\n",
            "Epoch 7/40, Training Loss: 0.1444521658863891, Training Accuracy: 0.9482071713147411, Validation Loss: 0.15627997983680214\n",
            "Epoch 8/40, Training Loss: 0.13680833731940137, Training Accuracy: 0.9496914303570033, Validation Loss: 0.154824961496647\n",
            "Epoch 9/40, Training Loss: 0.12785982097781712, Training Accuracy: 0.9550035153503632, Validation Loss: 0.14708398750355078\n",
            "Epoch 10/40, Training Loss: 0.11879660275797198, Training Accuracy: 0.9563315365987032, Validation Loss: 0.141974312534859\n",
            "Epoch 11/40, Training Loss: 0.10820684936337766, Training Accuracy: 0.9610967893133349, Validation Loss: 0.142444122842578\n",
            "Epoch 12/40, Training Loss: 0.10313313338090087, Training Accuracy: 0.9640653073978596, Validation Loss: 0.13973300037688988\n",
            "Epoch 13/40, Training Loss: 0.0939863015496779, Training Accuracy: 0.9674244199671901, Validation Loss: 0.1365752422012562\n",
            "Epoch 14/40, Training Loss: 0.0885601008243729, Training Accuracy: 0.9685962034216077, Validation Loss: 0.13603653906043187\n",
            "Epoch 15/40, Training Loss: 0.08804293406839987, Training Accuracy: 0.9721896726818218, Validation Loss: 0.13396779859308586\n",
            "Epoch 16/40, Training Loss: 0.08233018497941061, Training Accuracy: 0.9719553159909382, Validation Loss: 0.13546965201926786\n",
            "Epoch 17/40, Training Loss: 0.0743074832952973, Training Accuracy: 0.9742988828997735, Validation Loss: 0.13849756268914357\n",
            "Early stopping\n",
            "Training on fold 4/5 with weight decay 0.0\n",
            "Epoch 1/40, Training Loss: 0.6088889838006366, Training Accuracy: 0.7129130536676822, Validation Loss: 0.2879832778559175\n",
            "Epoch 2/40, Training Loss: 0.23344824333624237, Training Accuracy: 0.9116475275369111, Validation Loss: 0.19956380007571953\n",
            "Epoch 3/40, Training Loss: 0.1935822733617689, Training Accuracy: 0.9265682368564956, Validation Loss: 0.17974049875209497\n",
            "Epoch 4/40, Training Loss: 0.180589899865549, Training Accuracy: 0.9341457698617296, Validation Loss: 0.17075994697421096\n",
            "Epoch 5/40, Training Loss: 0.16412144137629822, Training Accuracy: 0.9386766658854777, Validation Loss: 0.16354296737632087\n",
            "Epoch 6/40, Training Loss: 0.15324978986338003, Training Accuracy: 0.943285680806187, Validation Loss: 0.15943716431772986\n",
            "Epoch 7/40, Training Loss: 0.14286492560614847, Training Accuracy: 0.9482071713147411, Validation Loss: 0.15778207571007485\n",
            "Epoch 8/40, Training Loss: 0.13507291920302408, Training Accuracy: 0.9501601437387704, Validation Loss: 0.15144966048903244\n",
            "Epoch 9/40, Training Loss: 0.12505816522376398, Training Accuracy: 0.9550035153503632, Validation Loss: 0.14934943434457446\n",
            "Epoch 10/40, Training Loss: 0.11896709908745182, Training Accuracy: 0.9575033200531209, Validation Loss: 0.1434096588298332\n",
            "Epoch 11/40, Training Loss: 0.11048281927180675, Training Accuracy: 0.9590656979923443, Validation Loss: 0.1462510549571625\n",
            "Epoch 12/40, Training Loss: 0.10597207698396485, Training Accuracy: 0.961174908210296, Validation Loss: 0.14462556326112083\n",
            "Early stopping\n",
            "Training on fold 5/5 with weight decay 0.0\n",
            "Epoch 1/40, Training Loss: 0.6101913873977329, Training Accuracy: 0.7107257245527693, Validation Loss: 0.29262977630593057\n",
            "Epoch 2/40, Training Loss: 0.23485306767162992, Training Accuracy: 0.9125068354034841, Validation Loss: 0.19914901447157526\n",
            "Epoch 3/40, Training Loss: 0.19398881773005672, Training Accuracy: 0.9273494258261074, Validation Loss: 0.18166383927644686\n",
            "Epoch 4/40, Training Loss: 0.17775715346360088, Training Accuracy: 0.9328177486133896, Validation Loss: 0.17175743746203045\n",
            "Epoch 5/40, Training Loss: 0.1649607475151989, Training Accuracy: 0.9385985469885165, Validation Loss: 0.1659903299323348\n",
            "Epoch 6/40, Training Loss: 0.1528358665614653, Training Accuracy: 0.943285680806187, Validation Loss: 0.16226781930687817\n",
            "Epoch 7/40, Training Loss: 0.14180852229062893, Training Accuracy: 0.9484415280056245, Validation Loss: 0.15691496310539024\n",
            "Epoch 8/40, Training Loss: 0.13324987551948028, Training Accuracy: 0.9504726193266151, Validation Loss: 0.1506570902501428\n",
            "Epoch 9/40, Training Loss: 0.12764757074675157, Training Accuracy: 0.953987969689868, Validation Loss: 0.1560957555680774\n",
            "Epoch 10/40, Training Loss: 0.1185099330281292, Training Accuracy: 0.9575033200531209, Validation Loss: 0.14376607961779417\n",
            "Epoch 11/40, Training Loss: 0.10925819499033564, Training Accuracy: 0.9603937192406843, Validation Loss: 0.14701865024344865\n",
            "Epoch 12/40, Training Loss: 0.10463127568456812, Training Accuracy: 0.961174908210296, Validation Loss: 0.14532757091314294\n",
            "Early stopping\n",
            "Training on fold 1/5 with weight decay 0.0001\n",
            "Epoch 1/40, Training Loss: 0.605611865496754, Training Accuracy: 0.711506913522381, Validation Loss: 0.2964596232009489\n",
            "Epoch 2/40, Training Loss: 0.23597334710816245, Training Accuracy: 0.9093820795250371, Validation Loss: 0.20265370122222012\n",
            "Epoch 3/40, Training Loss: 0.195510639257692, Training Accuracy: 0.9260214045777674, Validation Loss: 0.18152985756480416\n",
            "Epoch 4/40, Training Loss: 0.1931053198762794, Training Accuracy: 0.9319584407468167, Validation Loss: 0.17503277870804765\n",
            "Epoch 5/40, Training Loss: 0.16415954667574434, Training Accuracy: 0.9389891414733224, Validation Loss: 0.1669871488282847\n",
            "Epoch 6/40, Training Loss: 0.15531823267947084, Training Accuracy: 0.9418795406608859, Validation Loss: 0.1600190896627515\n",
            "Epoch 7/40, Training Loss: 0.14367378024796756, Training Accuracy: 0.9474259823451293, Validation Loss: 0.15777208084283872\n",
            "Epoch 8/40, Training Loss: 0.13690306664680812, Training Accuracy: 0.9494570736661199, Validation Loss: 0.15242132171988487\n",
            "Epoch 9/40, Training Loss: 0.12992940358678573, Training Accuracy: 0.9525037106476056, Validation Loss: 0.15315786237980045\n",
            "Epoch 10/40, Training Loss: 0.12011243440315071, Training Accuracy: 0.9560190610108585, Validation Loss: 0.14345521003354428\n",
            "Epoch 11/40, Training Loss: 0.112619593727202, Training Accuracy: 0.9595344113741114, Validation Loss: 0.14050784187261448\n",
            "Epoch 12/40, Training Loss: 0.10428607938301504, Training Accuracy: 0.9628154050464808, Validation Loss: 0.13899733178144277\n",
            "Epoch 13/40, Training Loss: 0.0974048830918326, Training Accuracy: 0.9648464963674713, Validation Loss: 0.13723658804976663\n",
            "Epoch 14/40, Training Loss: 0.09159002979795694, Training Accuracy: 0.9681274900398407, Validation Loss: 0.13425944892819539\n",
            "Epoch 15/40, Training Loss: 0.08345580181171794, Training Accuracy: 0.9716428404030935, Validation Loss: 0.13264534527132676\n",
            "Epoch 16/40, Training Loss: 0.07721557051397453, Training Accuracy: 0.973205218342317, Validation Loss: 0.1311189876219561\n",
            "Epoch 17/40, Training Loss: 0.06885489726332548, Training Accuracy: 0.9760956175298805, Validation Loss: 0.13299529691941517\n",
            "Epoch 18/40, Training Loss: 0.06578346245422026, Training Accuracy: 0.976329974220764, Validation Loss: 0.13135601298580335\n",
            "Early stopping\n",
            "Training on fold 2/5 with weight decay 0.0001\n",
            "Epoch 1/40, Training Loss: 0.5983504991033184, Training Accuracy: 0.7137723615342552, Validation Loss: 0.27795148069082304\n",
            "Epoch 2/40, Training Loss: 0.23166540948053202, Training Accuracy: 0.9122724787126005, Validation Loss: 0.19743354375972305\n",
            "Epoch 3/40, Training Loss: 0.1934315264410344, Training Accuracy: 0.9255526911960004, Validation Loss: 0.1822210609219795\n",
            "Epoch 4/40, Training Loss: 0.1749655797855178, Training Accuracy: 0.9338332942738848, Validation Loss: 0.17161498444024906\n",
            "Epoch 5/40, Training Loss: 0.16668245806103915, Training Accuracy: 0.9399265682368565, Validation Loss: 0.16465806371943895\n",
            "Epoch 6/40, Training Loss: 0.15346325048655549, Training Accuracy: 0.943285680806187, Validation Loss: 0.16591923380660456\n",
            "Epoch 7/40, Training Loss: 0.14378479256790447, Training Accuracy: 0.9502382626357316, Validation Loss: 0.1548326497161111\n",
            "Epoch 8/40, Training Loss: 0.1360112837335067, Training Accuracy: 0.9506288571205375, Validation Loss: 0.15188352616373882\n",
            "Epoch 9/40, Training Loss: 0.12695607136406784, Training Accuracy: 0.9529724240293727, Validation Loss: 0.1467082749965579\n",
            "Epoch 10/40, Training Loss: 0.11771924527412957, Training Accuracy: 0.9570346066713538, Validation Loss: 0.14476483999643214\n",
            "Epoch 11/40, Training Loss: 0.11215462913245555, Training Accuracy: 0.9582845090227325, Validation Loss: 0.14221776978567588\n",
            "Epoch 12/40, Training Loss: 0.10513127799463268, Training Accuracy: 0.9626591672525584, Validation Loss: 0.14038873689119205\n",
            "Epoch 13/40, Training Loss: 0.09699909159200108, Training Accuracy: 0.9642215451917819, Validation Loss: 0.13788108709593153\n",
            "Epoch 14/40, Training Loss: 0.08811636912330652, Training Accuracy: 0.9698461057729865, Validation Loss: 0.13724688743782598\n",
            "Epoch 15/40, Training Loss: 0.07991003673651084, Training Accuracy: 0.9728927427544724, Validation Loss: 0.13535248228283817\n",
            "Epoch 16/40, Training Loss: 0.07362489927553141, Training Accuracy: 0.9760956175298805, Validation Loss: 0.13809081751766594\n",
            "Epoch 17/40, Training Loss: 0.0692123771587283, Training Accuracy: 0.9771111631903757, Validation Loss: 0.1341229569340168\n",
            "Epoch 18/40, Training Loss: 0.06187943334182126, Training Accuracy: 0.9803140379657839, Validation Loss: 0.133203164912587\n",
            "Epoch 19/40, Training Loss: 0.056901614384700205, Training Accuracy: 0.9815639403171628, Validation Loss: 0.13717189665104068\n",
            "Epoch 20/40, Training Loss: 0.04925134392056744, Training Accuracy: 0.9827357237715804, Validation Loss: 0.13560641864531262\n",
            "Early stopping\n",
            "Training on fold 3/5 with weight decay 0.0001\n",
            "Epoch 1/40, Training Loss: 0.6131811439990997, Training Accuracy: 0.684712131864698, Validation Loss: 0.29166563548320945\n",
            "Epoch 2/40, Training Loss: 0.23712047541615974, Training Accuracy: 0.9100851495976877, Validation Loss: 0.1992291125447251\n",
            "Epoch 3/40, Training Loss: 0.19533618037537925, Training Accuracy: 0.926333880165612, Validation Loss: 0.18220528492400812\n",
            "Epoch 4/40, Training Loss: 0.1816628606461767, Training Accuracy: 0.9332083430981954, Validation Loss: 0.17711116928000784\n",
            "Epoch 5/40, Training Loss: 0.1656391107273376, Training Accuracy: 0.9385204280915553, Validation Loss: 0.16585728578096212\n",
            "Epoch 6/40, Training Loss: 0.15835201864441237, Training Accuracy: 0.9446918209514882, Validation Loss: 0.1621824958643248\n",
            "Epoch 7/40, Training Loss: 0.14485745673126943, Training Accuracy: 0.9457073666119834, Validation Loss: 0.1555997970145802\n",
            "Epoch 8/40, Training Loss: 0.13522366638207317, Training Accuracy: 0.952191235059761, Validation Loss: 0.15159036383725877\n",
            "Epoch 9/40, Training Loss: 0.12809853323375336, Training Accuracy: 0.954456683071635, Validation Loss: 0.14940150662563567\n",
            "Epoch 10/40, Training Loss: 0.11957013701547438, Training Accuracy: 0.9565658932895867, Validation Loss: 0.14437621684615\n",
            "Epoch 11/40, Training Loss: 0.11213447339832783, Training Accuracy: 0.9585188657136161, Validation Loss: 0.14103796861545984\n",
            "Epoch 12/40, Training Loss: 0.10499311791760708, Training Accuracy: 0.962893523943442, Validation Loss: 0.1425918176077133\n",
            "Epoch 13/40, Training Loss: 0.09693656214953061, Training Accuracy: 0.9660182798218889, Validation Loss: 0.13590868215921315\n",
            "Epoch 14/40, Training Loss: 0.08955908096452989, Training Accuracy: 0.9675025388641513, Validation Loss: 0.13657969123748845\n",
            "Epoch 15/40, Training Loss: 0.08406006347400193, Training Accuracy: 0.9712522459182876, Validation Loss: 0.14710876501576844\n",
            "Early stopping\n",
            "Training on fold 4/5 with weight decay 0.0001\n",
            "Epoch 1/40, Training Loss: 0.6078609756346959, Training Accuracy: 0.7384579329739864, Validation Loss: 0.2909693350625593\n",
            "Epoch 2/40, Training Loss: 0.2370121043861209, Training Accuracy: 0.9096164362159206, Validation Loss: 0.20172276833029681\n",
            "Epoch 3/40, Training Loss: 0.19582405983034837, Training Accuracy: 0.9259432856808062, Validation Loss: 0.18121933417264804\n",
            "Epoch 4/40, Training Loss: 0.17660293342147151, Training Accuracy: 0.9364893367705648, Validation Loss: 0.17257058741741402\n",
            "Epoch 5/40, Training Loss: 0.1632577391637869, Training Accuracy: 0.9400828060307789, Validation Loss: 0.1661372474113176\n",
            "Epoch 6/40, Training Loss: 0.15149238435621026, Training Accuracy: 0.9456292477150222, Validation Loss: 0.1668273181069729\n",
            "Epoch 7/40, Training Loss: 0.14237133066971502, Training Accuracy: 0.9482071713147411, Validation Loss: 0.15493547604527586\n",
            "Epoch 8/40, Training Loss: 0.13232995512714582, Training Accuracy: 0.9514100460901492, Validation Loss: 0.15146610149463943\n",
            "Epoch 9/40, Training Loss: 0.12398942966947786, Training Accuracy: 0.9556284665260526, Validation Loss: 0.1473320670599161\n",
            "Epoch 10/40, Training Loss: 0.1166368748144761, Training Accuracy: 0.9573470822591985, Validation Loss: 0.14324538340402204\n",
            "Epoch 11/40, Training Loss: 0.1080298581026235, Training Accuracy: 0.9597687680649949, Validation Loss: 0.13930187625593918\n",
            "Epoch 12/40, Training Loss: 0.10113123554689463, Training Accuracy: 0.9642215451917819, Validation Loss: 0.15766775486774223\n",
            "Epoch 13/40, Training Loss: 0.09375848812491294, Training Accuracy: 0.9664088743066948, Validation Loss: 0.13695316059991372\n",
            "Epoch 14/40, Training Loss: 0.08624561779682909, Training Accuracy: 0.9690649168033747, Validation Loss: 0.13432681309275848\n",
            "Epoch 15/40, Training Loss: 0.07735776467207096, Training Accuracy: 0.9721896726818218, Validation Loss: 0.13441220558313435\n",
            "Epoch 16/40, Training Loss: 0.07351009749496977, Training Accuracy: 0.9743770017967346, Validation Loss: 0.14659295439027076\n",
            "Early stopping\n",
            "Training on fold 5/5 with weight decay 0.0001\n",
            "Epoch 1/40, Training Loss: 0.6028983961809334, Training Accuracy: 0.7070541363955941, Validation Loss: 0.2798831861379535\n",
            "Epoch 2/40, Training Loss: 0.23410209600086235, Training Accuracy: 0.9111006952581829, Validation Loss: 0.1994514227953068\n",
            "Epoch 3/40, Training Loss: 0.19327524600003787, Training Accuracy: 0.928521209280525, Validation Loss: 0.18055560630421305\n",
            "Epoch 4/40, Training Loss: 0.1754393111080376, Training Accuracy: 0.9340676509647684, Validation Loss: 0.1725143391725629\n",
            "Epoch 5/40, Training Loss: 0.16692405746350833, Training Accuracy: 0.9405515194125459, Validation Loss: 0.16870126786620118\n",
            "Epoch 6/40, Training Loss: 0.15354402989742175, Training Accuracy: 0.9425826107335364, Validation Loss: 0.1636406548841055\n",
            "Epoch 7/40, Training Loss: 0.14403382395926992, Training Accuracy: 0.9467229122724787, Validation Loss: 0.15608937371262285\n",
            "Epoch 8/40, Training Loss: 0.13544185127743255, Training Accuracy: 0.9509413327083821, Validation Loss: 0.15164184682937557\n",
            "Epoch 9/40, Training Loss: 0.12565010189732065, Training Accuracy: 0.9519568783688774, Validation Loss: 0.1464112251996994\n",
            "Epoch 10/40, Training Loss: 0.11742238826430443, Training Accuracy: 0.9579720334348879, Validation Loss: 0.14936571862808493\n",
            "Epoch 11/40, Training Loss: 0.11048556739169454, Training Accuracy: 0.9603156003437231, Validation Loss: 0.1454142210788505\n",
            "Epoch 12/40, Training Loss: 0.10234566102851535, Training Accuracy: 0.9631278806343254, Validation Loss: 0.1423267628564391\n",
            "Epoch 13/40, Training Loss: 0.09720293167441045, Training Accuracy: 0.9657058042340442, Validation Loss: 0.13706755187622335\n",
            "Epoch 14/40, Training Loss: 0.08929313464085595, Training Accuracy: 0.9686743223185689, Validation Loss: 0.13458623641798662\n",
            "Epoch 15/40, Training Loss: 0.0837083561461771, Training Accuracy: 0.9706272947425982, Validation Loss: 0.13538388786620872\n",
            "Epoch 16/40, Training Loss: 0.07518660710818732, Training Accuracy: 0.973205218342317, Validation Loss: 0.13501991938019908\n",
            "Early stopping\n",
            "Training on fold 1/5 with weight decay 0.001\n",
            "Epoch 1/40, Training Loss: 0.60835125174985, Training Accuracy: 0.7112725568314976, Validation Loss: 0.2867573572452678\n",
            "Epoch 2/40, Training Loss: 0.23520012366682735, Training Accuracy: 0.9110225763612217, Validation Loss: 0.1982284138022467\n",
            "Epoch 3/40, Training Loss: 0.19669886854528196, Training Accuracy: 0.9275837825169908, Validation Loss: 0.18293300530938214\n",
            "Epoch 4/40, Training Loss: 0.1885052680302022, Training Accuracy: 0.934770721037419, Validation Loss: 0.17237425058387046\n",
            "Epoch 5/40, Training Loss: 0.16434030216279907, Training Accuracy: 0.9403171627216623, Validation Loss: 0.1657466585206431\n"
          ]
        }
      ],
      "source": [
        "# Train the model\n",
        "results = train_model(X_train_embeddings, y_train, X_val_embeddings, y_val, input_size)\n",
        "\n"
      ]
    },
    {
      "cell_type": "code",
      "execution_count": 79,
      "id": "43732b1f-cdf3-450d-a147-0349d3fc86be",
      "metadata": {
        "id": "43732b1f-cdf3-450d-a147-0349d3fc86be",
        "executionInfo": {
          "status": "ok",
          "timestamp": 1729500978985,
          "user_tz": -120,
          "elapsed": 339,
          "user": {
            "displayName": "",
            "userId": ""
          }
        }
      },
      "outputs": [],
      "source": [
        "#####################################\n",
        "# benchmark ending for modeling     #\n",
        "#####################################\n",
        "time_end_model = time.perf_counter()"
      ]
    },
    {
      "cell_type": "code",
      "source": [
        "# Find the best weight decay value\n",
        "best_weight_decay = None\n",
        "best_val_loss = float('inf')\n",
        "\n",
        "for wd, metrics in results.items():\n",
        "    final_val_loss = metrics['val_losses'][-1]  # Get the last validation loss for this weight decay\n",
        "    if final_val_loss < best_val_loss:\n",
        "        best_val_loss = final_val_loss\n",
        "        best_weight_decay = wd\n",
        "\n",
        "print(f\"Best Weight Decay: {best_weight_decay}, Best Validation Loss: {best_val_loss}\")"
      ],
      "metadata": {
        "colab": {
          "base_uri": "https://localhost:8080/"
        },
        "id": "aU4o_ZFfz1xb",
        "outputId": "89b255ab-44d5-4b93-bb4f-82d904c046ef",
        "executionInfo": {
          "status": "ok",
          "timestamp": 1729500981192,
          "user_tz": -120,
          "elapsed": 306,
          "user": {
            "displayName": "",
            "userId": ""
          }
        }
      },
      "id": "aU4o_ZFfz1xb",
      "execution_count": 80,
      "outputs": [
        {
          "output_type": "stream",
          "name": "stdout",
          "text": [
            "Best Weight Decay: 0.001, Best Validation Loss: 0.13442384503608526\n"
          ]
        }
      ]
    },
    {
      "cell_type": "code",
      "source": [
        "# Visualize the results\n",
        "plt.figure(figsize=(12, 6))\n",
        "for wd, metrics in results.items():\n",
        "    plt.plot(metrics['val_losses'], label=f'Weight Decay: {wd}')\n",
        "plt.title('Validation Loss vs. Epochs for Different Weight Decay Values')\n",
        "plt.xlabel('Epochs')\n",
        "plt.ylabel('Validation Loss')\n",
        "plt.legend()\n",
        "plt.show()"
      ],
      "metadata": {
        "colab": {
          "base_uri": "https://localhost:8080/",
          "height": 564
        },
        "id": "emqM1rZq06O1",
        "outputId": "32c8da8d-f80f-41a9-8a31-91250247628a",
        "executionInfo": {
          "status": "ok",
          "timestamp": 1729500984419,
          "user_tz": -120,
          "elapsed": 727,
          "user": {
            "displayName": "",
            "userId": ""
          }
        }
      },
      "id": "emqM1rZq06O1",
      "execution_count": 81,
      "outputs": [
        {
          "output_type": "display_data",
          "data": {
            "text/plain": [
              "<Figure size 1200x600 with 1 Axes>"
            ],
            "image/png": "[encoded data removed]"
          },
          "metadata": {}
        }
      ]
    },
    {
      "cell_type": "markdown",
      "source": [
        "##Retrain the model using the best AdamW decay"
      ],
      "metadata": {
        "id": "2k0cyEC-1Dhz"
      },
      "id": "2k0cyEC-1Dhz"
    },
    {
      "cell_type": "code",
      "source": [
        "# Function to train the model\n",
        "def retrain_with_best_decay(X_train, y_train, X_val, y_val, input_size, best_weight_decay):\n",
        "    train_dataset = NewsDataset(X_train, y_train)\n",
        "    val_dataset = NewsDataset(X_val, y_val)\n",
        "\n",
        "    train_loader = DataLoader(train_dataset, batch_size=64, shuffle=True)\n",
        "    val_loader = DataLoader(val_dataset, batch_size=64, shuffle=False)\n",
        "\n",
        "    model = SimpleNN(input_size).to(device)\n",
        "    criterion = nn.CrossEntropyLoss()\n",
        "    optimizer = optim.AdamW(model.parameters(), lr=2e-5, weight_decay=best_weight_decay)\n",
        "\n",
        "    num_epochs = 40\n",
        "    best_val_loss = float('inf')\n",
        "    patience = 2\n",
        "    patience_counter = 0\n",
        "\n",
        "    # Initialize lists to store losses and accuracies\n",
        "    train_losses = []\n",
        "    val_losses = []\n",
        "    train_accuracies = []\n",
        "    val_accuracies = []\n",
        "\n",
        "    for epoch in range(num_epochs):\n",
        "        model.train()\n",
        "        running_loss = 0.0\n",
        "        correct = 0\n",
        "        total = 0\n",
        "\n",
        "        for X_batch, y_batch in train_loader:\n",
        "            X_batch, y_batch = X_batch.to(device), y_batch.to(device)\n",
        "            optimizer.zero_grad()\n",
        "            outputs = model(X_batch)\n",
        "            loss = criterion(outputs, y_batch)\n",
        "            loss.backward()\n",
        "            optimizer.step()\n",
        "\n",
        "            running_loss += loss.item()  # Accumulate training loss\n",
        "\n",
        "            _, predicted = torch.max(outputs, 1)\n",
        "            total += y_batch.size(0)\n",
        "            correct += (predicted == y_batch).sum().item()  # Track correct predictions\n",
        "\n",
        "\n",
        "        avg_train_loss = running_loss / len(train_loader)  # Calculate average training loss\n",
        "        train_accuracy = correct / total  # Calculate training accuracy\n",
        "\n",
        "        train_losses.append(avg_train_loss)\n",
        "        train_accuracies.append(train_accuracy)\n",
        "\n",
        "\n",
        "        model.eval()\n",
        "        val_loss = 0\n",
        "        correct = 0\n",
        "        total = 0\n",
        "        with torch.no_grad():\n",
        "            for X_batch, y_batch in val_loader:\n",
        "                X_batch, y_batch = X_batch.to(device), y_batch.to(device)\n",
        "                outputs = model(X_batch)\n",
        "                loss = criterion(outputs, y_batch)\n",
        "                val_loss += loss.item()\n",
        "\n",
        "                _, predicted = torch.max(outputs, 1)\n",
        "                total += y_batch.size(0)\n",
        "                correct += (predicted == y_batch).sum().item()\n",
        "\n",
        "        avg_val_loss = val_loss / len(val_loader)\n",
        "        val_accuracy = correct / total\n",
        "\n",
        "        val_losses.append(avg_val_loss)\n",
        "        val_accuracies.append(val_accuracy)\n",
        "        print(f'Epoch {epoch+1}/{num_epochs}, Training Loss: {avg_train_loss}, Training Accuracy: {train_accuracy}')\n",
        "        print(f'Epoch {epoch+1}/{num_epochs}, Validation Loss: {avg_val_loss}')\n",
        "\n",
        "        if val_loss < best_val_loss:\n",
        "            best_val_loss = val_loss\n",
        "            patience_counter = 0\n",
        "        else:\n",
        "            patience_counter += 1\n",
        "\n",
        "        if patience_counter >= patience:\n",
        "            print(\"Early stopping\")\n",
        "            break\n",
        "\n",
        "    return model, train_losses, val_losses, train_accuracies, val_accuracies\n"
      ],
      "metadata": {
        "id": "YT-I6Ovw1DKS",
        "executionInfo": {
          "status": "ok",
          "timestamp": 1729500988295,
          "user_tz": -120,
          "elapsed": 290,
          "user": {
            "displayName": "",
            "userId": ""
          }
        }
      },
      "id": "YT-I6Ovw1DKS",
      "execution_count": 82,
      "outputs": []
    },
    {
      "cell_type": "code",
      "source": [
        "#####################################\n",
        "# benchmark beginning for modeling  #\n",
        "#####################################\n",
        "time_start_model = time.perf_counter()"
      ],
      "metadata": {
        "id": "_ok46oQSA0S8",
        "executionInfo": {
          "status": "ok",
          "timestamp": 1729500991944,
          "user_tz": -120,
          "elapsed": 302,
          "user": {
            "displayName": "",
            "userId": ""
          }
        }
      },
      "id": "_ok46oQSA0S8",
      "execution_count": 83,
      "outputs": []
    },
    {
      "cell_type": "code",
      "source": [
        "input_size = 1536"
      ],
      "metadata": {
        "id": "5uAsMQenA9jc",
        "executionInfo": {
          "status": "ok",
          "timestamp": 1729500993181,
          "user_tz": -120,
          "elapsed": 3,
          "user": {
            "displayName": "",
            "userId": ""
          }
        }
      },
      "id": "5uAsMQenA9jc",
      "execution_count": 84,
      "outputs": []
    },
    {
      "cell_type": "code",
      "source": [
        "# Set up the device (cuda, mps, or cpu)\n",
        "device = torch.device(\"cuda\" if torch.cuda.is_available() else \"mps\" if torch.backends.mps.is_available() else \"cpu\")"
      ],
      "metadata": {
        "id": "v7fswXOzBIzT",
        "executionInfo": {
          "status": "ok",
          "timestamp": 1729500995248,
          "user_tz": -120,
          "elapsed": 307,
          "user": {
            "displayName": "",
            "userId": ""
          }
        }
      },
      "id": "v7fswXOzBIzT",
      "execution_count": 85,
      "outputs": []
    },
    {
      "cell_type": "code",
      "source": [
        "#Coverting into int\n",
        "label_mapping = {'real': 0, 'fake': 1}\n",
        "\n",
        "# Convert y_train and y_val only if they are strings\n",
        "y_train = [label_mapping.get(label, label) if isinstance(label, str) else label for label in y_train]\n",
        "y_val = [label_mapping.get(label, label) if isinstance(label, str) else label for label in y_val]\n",
        "\n",
        "# Ensure all elements are integers before creating tensors\n",
        "y_train = [int(label) for label in y_train]  # Convert all elements to integers\n",
        "y_val = [int(label) for label in y_val]  # Convert all elements to integers\n"
      ],
      "metadata": {
        "id": "Rx7m_Eut-jnW",
        "executionInfo": {
          "status": "ok",
          "timestamp": 1729500996926,
          "user_tz": -120,
          "elapsed": 272,
          "user": {
            "displayName": "",
            "userId": ""
          }
        }
      },
      "id": "Rx7m_Eut-jnW",
      "execution_count": 86,
      "outputs": []
    },
    {
      "cell_type": "code",
      "source": [
        "# Train the model with the best weight decay\n",
        "model, train_losses, val_losses, train_accuracies, val_accuracies = retrain_with_best_decay(X_train_embeddings, y_train, X_val_embeddings, y_val, input_size, best_weight_decay)\n"
      ],
      "metadata": {
        "colab": {
          "base_uri": "https://localhost:8080/"
        },
        "id": "87rFZ-7v-nlk",
        "outputId": "8e0e6d29-814e-4b1e-8391-9edabc1db97e",
        "executionInfo": {
          "status": "ok",
          "timestamp": 1729501031361,
          "user_tz": -120,
          "elapsed": 32474,
          "user": {
            "displayName": "",
            "userId": ""
          }
        }
      },
      "id": "87rFZ-7v-nlk",
      "execution_count": 87,
      "outputs": [
        {
          "output_type": "stream",
          "name": "stdout",
          "text": [
            "Epoch 1/40, Training Loss: 0.6051881033093182, Training Accuracy: 0.7197093977033044\n",
            "Epoch 1/40, Validation Loss: 0.2816766278688298\n",
            "Epoch 2/40, Training Loss: 0.23441604383994097, Training Accuracy: 0.9125849543004453\n",
            "Epoch 2/40, Validation Loss: 0.19899814402641253\n",
            "Epoch 3/40, Training Loss: 0.1957314194768519, Training Accuracy: 0.9259432856808062\n",
            "Epoch 3/40, Validation Loss: 0.18193160638559697\n",
            "Epoch 4/40, Training Loss: 0.17918299768694598, Training Accuracy: 0.9348488399343802\n",
            "Epoch 4/40, Validation Loss: 0.17307028867477595\n",
            "Epoch 5/40, Training Loss: 0.1638386586023059, Training Accuracy: 0.9397703304429341\n",
            "Epoch 5/40, Validation Loss: 0.16853961140610452\n",
            "Epoch 6/40, Training Loss: 0.15407766158511835, Training Accuracy: 0.9435200374970706\n",
            "Epoch 6/40, Validation Loss: 0.16535524712052457\n",
            "Epoch 7/40, Training Loss: 0.14289295873535213, Training Accuracy: 0.946410436684634\n",
            "Epoch 7/40, Validation Loss: 0.1554177838355996\n",
            "Epoch 8/40, Training Loss: 0.13393102989842495, Training Accuracy: 0.9516444027810327\n",
            "Epoch 8/40, Validation Loss: 0.1488317065807276\n",
            "Epoch 9/40, Training Loss: 0.12683071601969093, Training Accuracy: 0.9543785641746738\n",
            "Epoch 9/40, Validation Loss: 0.14632515236735344\n",
            "Epoch 10/40, Training Loss: 0.11694076246771942, Training Accuracy: 0.9577376767440043\n",
            "Epoch 10/40, Validation Loss: 0.1428069691498612\n",
            "Epoch 11/40, Training Loss: 0.11094400399730574, Training Accuracy: 0.9601593625498008\n",
            "Epoch 11/40, Validation Loss: 0.13980508751647416\n",
            "Epoch 12/40, Training Loss: 0.10083115545323869, Training Accuracy: 0.9648464963674713\n",
            "Epoch 12/40, Validation Loss: 0.13873531366156977\n",
            "Epoch 13/40, Training Loss: 0.09584914663440515, Training Accuracy: 0.9650808530583548\n",
            "Epoch 13/40, Validation Loss: 0.1377488841237717\n",
            "Epoch 14/40, Training Loss: 0.09365636850730401, Training Accuracy: 0.9698461057729865\n",
            "Epoch 14/40, Validation Loss: 0.13579423586989559\n",
            "Epoch 15/40, Training Loss: 0.08260205293199353, Training Accuracy: 0.9700023435669088\n",
            "Epoch 15/40, Validation Loss: 0.13365848977551903\n",
            "Epoch 16/40, Training Loss: 0.07481171688356261, Training Accuracy: 0.9739082884149676\n",
            "Epoch 16/40, Validation Loss: 0.13609256331137445\n",
            "Epoch 17/40, Training Loss: 0.0675366510549069, Training Accuracy: 0.9773455198812593\n",
            "Epoch 17/40, Validation Loss: 0.1344616502350153\n",
            "Early stopping\n"
          ]
        }
      ]
    },
    {
      "cell_type": "markdown",
      "source": [
        "##Evaluating\n"
      ],
      "metadata": {
        "id": "97kVEkEgDbsM"
      },
      "id": "97kVEkEgDbsM"
    },
    {
      "cell_type": "code",
      "source": [
        "# Evaluate the model on the test set\n",
        "model.eval()\n",
        "y_pred = []\n",
        "with torch.no_grad():\n",
        "    for X_batch in torch.tensor(X_test_embeddings, dtype=torch.float32).to(device):\n",
        "        outputs = model(X_batch.unsqueeze(0))\n",
        "        _, predicted = torch.max(outputs, 1)\n",
        "        y_pred.append(predicted.cpu().numpy()[0])"
      ],
      "metadata": {
        "id": "RghZfzDH2W-K",
        "executionInfo": {
          "status": "ok",
          "timestamp": 1729501036991,
          "user_tz": -120,
          "elapsed": 988,
          "user": {
            "displayName": "",
            "userId": ""
          }
        }
      },
      "id": "RghZfzDH2W-K",
      "execution_count": 88,
      "outputs": []
    },
    {
      "cell_type": "code",
      "execution_count": 89,
      "id": "eec37c8e-621e-46c8-a1d3-9badc7dd37e8",
      "metadata": {
        "colab": {
          "base_uri": "https://localhost:8080/"
        },
        "id": "eec37c8e-621e-46c8-a1d3-9badc7dd37e8",
        "outputId": "628da60e-9221-4301-b50a-4c823c2a1173",
        "executionInfo": {
          "status": "ok",
          "timestamp": 1729501039093,
          "user_tz": -120,
          "elapsed": 308,
          "user": {
            "displayName": "",
            "userId": ""
          }
        }
      },
      "outputs": [
        {
          "output_type": "stream",
          "name": "stdout",
          "text": [
            "Accuracy: 0.9544460641399417\n",
            "Classification Report:              precision    recall  f1-score   support\n",
            "\n",
            "        real       0.96      0.95      0.96      1413\n",
            "        fake       0.95      0.95      0.95      1331\n",
            "\n",
            "    accuracy                           0.95      2744\n",
            "   macro avg       0.95      0.95      0.95      2744\n",
            "weighted avg       0.95      0.95      0.95      2744\n",
            "\n",
            "Confusion Matrix:[[1349   64]\n",
            " [  61 1270]]\n"
          ]
        }
      ],
      "source": [
        "# Evaluate performance\n",
        "acc = accuracy_score(y_test, y_pred)\n",
        "class_report = classification_report(y_test, y_pred, target_names=[\"real\", \"fake\"])\n",
        "conf_matrix = confusion_matrix(y_test, y_pred)\n",
        "\n",
        "print(f\"Accuracy: {acc}\")\n",
        "print(f\"Classification Report:{class_report}\")\n",
        "print(f\"Confusion Matrix:{conf_matrix}\")\n"
      ]
    },
    {
      "cell_type": "code",
      "execution_count": 68,
      "id": "2fd422e1-9c39-43a3-9caa-511491cd9341",
      "metadata": {
        "colab": {
          "base_uri": "https://localhost:8080/",
          "height": 564
        },
        "id": "2fd422e1-9c39-43a3-9caa-511491cd9341",
        "outputId": "744d0b44-b332-44b7-89a2-c35fde3a2fd9",
        "scrolled": true,
        "executionInfo": {
          "status": "ok",
          "timestamp": 1729500375409,
          "user_tz": -120,
          "elapsed": 308,
          "user": {
            "displayName": "",
            "userId": ""
          }
        }
      },
      "outputs": [
        {
          "output_type": "display_data",
          "data": {
            "text/plain": [
              "<Figure size 800x600 with 2 Axes>"
            ],
            "image/png": "[encoded data removed]"
          },
          "metadata": {}
        }
      ],
      "source": [
        "# Visualize the confusion matrix\n",
        "plt.figure(figsize=(8, 6))\n",
        "sns.heatmap(conf_matrix, annot=True, fmt='d', cmap='Blues', xticklabels=[\"real\", \"fake\"], yticklabels=[\"real\", \"fake\"])\n",
        "plt.ylabel('True Label')\n",
        "plt.xlabel('Predicted Label')\n",
        "plt.title('Confusion Matrix')\n",
        "plt.show()"
      ]
    },
    {
      "cell_type": "code",
      "execution_count": 69,
      "id": "kWxAjJVkP_Lg",
      "metadata": {
        "colab": {
          "base_uri": "https://localhost:8080/",
          "height": 453
        },
        "id": "kWxAjJVkP_Lg",
        "outputId": "165a407f-df9c-43f4-ccaa-a3e8489182fe",
        "executionInfo": {
          "status": "ok",
          "timestamp": 1729500382855,
          "user_tz": -120,
          "elapsed": 946,
          "user": {
            "displayName": "",
            "userId": ""
          }
        }
      },
      "outputs": [
        {
          "output_type": "display_data",
          "data": {
            "text/plain": [
              "<Figure size 1200x500 with 2 Axes>"
            ],
            "image/png": "[encoded data removed]"
          },
          "metadata": {}
        }
      ],
      "source": [
        "# Plot the loss curves\n",
        "plt.figure(figsize=(12, 5))\n",
        "plt.subplot(1, 2, 1)\n",
        "plt.plot(range(1, len(train_losses) + 1), train_losses, label='Train Loss')\n",
        "plt.plot(range(1, len(val_losses) + 1), val_losses, label='Validation Loss')\n",
        "plt.xlabel('Epochs')\n",
        "plt.ylabel('Loss')\n",
        "plt.title('Training and Validation Loss')\n",
        "plt.legend()\n",
        "\n",
        "# Plot the accuracy curves\n",
        "plt.subplot(1, 2, 2)\n",
        "plt.plot(range(1, len(train_accuracies) + 1), train_accuracies, label='Train Accuracy')\n",
        "plt.plot(range(1, len(val_accuracies) + 1), val_accuracies, label='Validation Accuracy')\n",
        "plt.xlabel('Epochs')\n",
        "plt.ylabel('Accuracy')\n",
        "plt.title('Training and Validation Accuracy')\n",
        "plt.legend()\n",
        "plt.tight_layout()\n",
        "plt.show()"
      ]
    },
    {
      "cell_type": "code",
      "execution_count": 70,
      "id": "akMaGh1QXXk4",
      "metadata": {
        "colab": {
          "base_uri": "https://localhost:8080/"
        },
        "id": "akMaGh1QXXk4",
        "outputId": "c69914f1-32be-423b-91e0-78d8cb3a4fc5",
        "executionInfo": {
          "status": "ok",
          "timestamp": 1729500388401,
          "user_tz": -120,
          "elapsed": 393,
          "user": {
            "displayName": "",
            "userId": ""
          }
        }
      },
      "outputs": [
        {
          "output_type": "stream",
          "name": "stdout",
          "text": [
            "Train Losses: [0.6180740649723888, 0.22510474919346138, 0.1879841143737978, 0.16744267132216648, 0.15550757231959952, 0.14264916843591044, 0.12827415732534797, 0.11816906474272382, 0.10864931361666366, 0.09697714094153666, 0.08746436851988755, 0.07616312340346736, 0.06699500607780705]\n",
            "Validation Losses: [0.2617366109476533, 0.19276775298423546, 0.17663872363262398, 0.16964992984782817, 0.16516748261313105, 0.1604459947624872, 0.14521573743847913, 0.14099915468588817, 0.1431420660729325, 0.13994939313378446, 0.1377889429933803, 0.13974154320393883, 0.15460431307207706]\n",
            "Train Accuracies: [0.6071400671822514, 0.9129755487852511, 0.9314116084680885, 0.9389891414733224, 0.9425044918365753, 0.9481290524177799, 0.953128661823295, 0.9569564877743926, 0.9617998593859854, 0.9650027341613936, 0.9685180845246465, 0.973205218342317, 0.9769549253964535]\n",
            "Validation Accuracies: [0.9030258840685381, 0.9270871308786001, 0.932191031717098, 0.933649289099526, 0.9369303682099891, 0.9383886255924171, 0.946773605541378, 0.9464090411957711, 0.947502734232592, 0.951148377688662, 0.9522420707254831, 0.9522420707254831, 0.948231862923806]\n"
          ]
        }
      ],
      "source": [
        "print(\"Train Losses:\", train_losses)\n",
        "print(\"Validation Losses:\", val_losses)\n",
        "print(\"Train Accuracies:\", train_accuracies)\n",
        "print(\"Validation Accuracies:\", val_accuracies)"
      ]
    },
    {
      "cell_type": "markdown",
      "id": "7ad31460-8f94-4de2-be81-aa55e8196ebb",
      "metadata": {
        "id": "7ad31460-8f94-4de2-be81-aa55e8196ebb"
      },
      "source": [
        "## Benchmark results"
      ]
    },
    {
      "cell_type": "code",
      "execution_count": 71,
      "id": "4efc1ba3-f5f4-4723-bd6e-bbead42ddd5b",
      "metadata": {
        "colab": {
          "base_uri": "https://localhost:8080/",
          "height": 245
        },
        "id": "4efc1ba3-f5f4-4723-bd6e-bbead42ddd5b",
        "outputId": "c692dcca-e235-44f3-f58d-bcb360e95dcf",
        "executionInfo": {
          "status": "error",
          "timestamp": 1729500392835,
          "user_tz": -120,
          "elapsed": 391,
          "user": {
            "displayName": "",
            "userId": ""
          }
        }
      },
      "outputs": [
        {
          "output_type": "error",
          "ename": "NameError",
          "evalue": "name 'time_end_embed' is not defined",
          "traceback": [
            "\u001b[0;31m---------------------------------------------------------------------------\u001b[0m",
            "\u001b[0;31mNameError\u001b[0m                                 Traceback (most recent call last)",
            "\u001b[0;32m<ipython-input-71-dcf7f9305e97>\u001b[0m in \u001b[0;36m<cell line: 5>\u001b[0;34m()\u001b[0m\n\u001b[1;32m      3\u001b[0m \u001b[0;31m#####################################\u001b[0m\u001b[0;34m\u001b[0m\u001b[0;34m\u001b[0m\u001b[0m\n\u001b[1;32m      4\u001b[0m \u001b[0;31m# calculating the performances\u001b[0m\u001b[0;34m\u001b[0m\u001b[0;34m\u001b[0m\u001b[0m\n\u001b[0;32m----> 5\u001b[0;31m \u001b[0membedding_duration\u001b[0m \u001b[0;34m=\u001b[0m \u001b[0mtime_end_embed\u001b[0m \u001b[0;34m-\u001b[0m \u001b[0mtime_start_embed\u001b[0m\u001b[0;34m\u001b[0m\u001b[0;34m\u001b[0m\u001b[0m\n\u001b[0m\u001b[1;32m      6\u001b[0m \u001b[0mmodeling_duration\u001b[0m \u001b[0;34m=\u001b[0m \u001b[0mtime_end_model\u001b[0m \u001b[0;34m-\u001b[0m \u001b[0mtime_start_model\u001b[0m\u001b[0;34m\u001b[0m\u001b[0;34m\u001b[0m\u001b[0m\n\u001b[1;32m      7\u001b[0m \u001b[0;34m\u001b[0m\u001b[0m\n",
            "\u001b[0;31mNameError\u001b[0m: name 'time_end_embed' is not defined"
          ]
        }
      ],
      "source": [
        "#####################################\n",
        "#          Benchmark results        #\n",
        "#####################################\n",
        "# calculating the performances\n",
        "embedding_duration = time_end_embed - time_start_embed\n",
        "modeling_duration = time_end_model - time_start_model\n",
        "\n",
        "# formating\n",
        "embedding_duration_hms = sec2hms(embedding_duration)\n",
        "modeling_duration_hms = sec2hms(modeling_duration)\n",
        "\n",
        "# printing the embedding and modeling performances\n",
        "\n",
        "print(f'Embedding duration : {embedding_duration_hms[0]:.0f}:{embedding_duration_hms[1]:.0f}:{embedding_duration_hms[2]:.3f}')\n",
        "print(f'Modeling duration : {modeling_duration_hms[0]:.0f}:{modeling_duration_hms[1]:.0f}:{modeling_duration_hms[2]:.3f}')"
      ]
    },
    {
      "cell_type": "code",
      "execution_count": null,
      "id": "4fb71ef3-27fb-47bc-8c9b-b1d7dd9aeb17",
      "metadata": {
        "id": "4fb71ef3-27fb-47bc-8c9b-b1d7dd9aeb17"
      },
      "outputs": [],
      "source": [
        "## we should write a function with an if else condition for when a drive is in and where there's not\n",
        "# Save the trained model to Google Drive\n",
        "# final_model_path = '/content/drive/My Drive/fake_news_model_roberta3.pth'\n",
        "# torch.save(model.state_dict(), final_model_path)\n",
        "# print(f\"Model saved to: {final_model_path}\")\n",
        "torch.save(model.state_dict(), \"stella_model.tar\")\n"
      ]
    }
  ],
  "metadata": {
    "accelerator": "GPU",
    "colab": {
      "gpuType": "T4",
      "provenance": [],
      "name": "fakenews_project_october_version_stella_nl_V3__from_lorena_error.ipynb"
    },
    "kernelspec": {
      "display_name": "Python 3 (ipykernel)",
      "language": "python",
      "name": "python3"
    },
    "language_info": {
      "codemirror_mode": {
        "name": "ipython",
        "version": 3
      },
      "file_extension": ".py",
      "mimetype": "text/x-python",
      "name": "python",
      "nbconvert_exporter": "python",
      "pygments_lexer": "ipython3",
      "version": "3.10.14"
    },
    "widgets": {
      "application/vnd.jupyter.widget-state+json": {
        "88d2681b67ee477c8d04036312416e52": {
          "model_module": "@jupyter-widgets/controls",
          "model_name": "HBoxModel",
          "model_module_version": "1.5.0",
          "state": {
            "_dom_classes": [],
            "_model_module": "@jupyter-widgets/controls",
            "_model_module_version": "1.5.0",
            "_model_name": "HBoxModel",
            "_view_count": null,
            "_view_module": "@jupyter-widgets/controls",
            "_view_module_version": "1.5.0",
            "_view_name": "HBoxView",
            "box_style": "",
            "children": [
              "IPY_MODEL_b23eaaa329c34ee4af59ad7b57a96643",
              "IPY_MODEL_84345e385ec54b4f983876bb9c539b88",
              "IPY_MODEL_af0c4e3988f54511b3ffb48c80ef5ae7"
            ],
            "layout": "IPY_MODEL_f8894eb5a85b4d76946f70dcf8be9228"
          }
        },
        "b23eaaa329c34ee4af59ad7b57a96643": {
          "model_module": "@jupyter-widgets/controls",
          "model_name": "HTMLModel",
          "model_module_version": "1.5.0",
          "state": {
            "_dom_classes": [],
            "_model_module": "@jupyter-widgets/controls",
            "_model_module_version": "1.5.0",
            "_model_name": "HTMLModel",
            "_view_count": null,
            "_view_module": "@jupyter-widgets/controls",
            "_view_module_version": "1.5.0",
            "_view_name": "HTMLView",
            "description": "",
            "description_tooltip": null,
            "layout": "IPY_MODEL_02bac7a8179c4af2a149425822f0867e",
            "placeholder": "​",
            "style": "IPY_MODEL_210e1e6754544cc79bb0dfb3fe6691d9",
            "value": "config.json: 100%"
          }
        },
        "84345e385ec54b4f983876bb9c539b88": {
          "model_module": "@jupyter-widgets/controls",
          "model_name": "FloatProgressModel",
          "model_module_version": "1.5.0",
          "state": {
            "_dom_classes": [],
            "_model_module": "@jupyter-widgets/controls",
            "_model_module_version": "1.5.0",
            "_model_name": "FloatProgressModel",
            "_view_count": null,
            "_view_module": "@jupyter-widgets/controls",
            "_view_module_version": "1.5.0",
            "_view_name": "ProgressView",
            "bar_style": "success",
            "description": "",
            "description_tooltip": null,
            "layout": "IPY_MODEL_bb943f815ec5469e82a747009e438ea6",
            "max": 844,
            "min": 0,
            "orientation": "horizontal",
            "style": "IPY_MODEL_2f6d915b5b5d481e980a80719f97e252",
            "value": 844
          }
        },
        "af0c4e3988f54511b3ffb48c80ef5ae7": {
          "model_module": "@jupyter-widgets/controls",
          "model_name": "HTMLModel",
          "model_module_version": "1.5.0",
          "state": {
            "_dom_classes": [],
            "_model_module": "@jupyter-widgets/controls",
            "_model_module_version": "1.5.0",
            "_model_name": "HTMLModel",
            "_view_count": null,
            "_view_module": "@jupyter-widgets/controls",
            "_view_module_version": "1.5.0",
            "_view_name": "HTMLView",
            "description": "",
            "description_tooltip": null,
            "layout": "IPY_MODEL_46a9e3bc8dda41c9a4f143038733f40c",
            "placeholder": "​",
            "style": "IPY_MODEL_0b528163a2a64f9495c90a0f433cdc3a",
            "value": " 844/844 [00:00&lt;00:00, 34.0kB/s]"
          }
        },
        "f8894eb5a85b4d76946f70dcf8be9228": {
          "model_module": "@jupyter-widgets/base",
          "model_name": "LayoutModel",
          "model_module_version": "1.2.0",
          "state": {
            "_model_module": "@jupyter-widgets/base",
            "_model_module_version": "1.2.0",
            "_model_name": "LayoutModel",
            "_view_count": null,
            "_view_module": "@jupyter-widgets/base",
            "_view_module_version": "1.2.0",
            "_view_name": "LayoutView",
            "align_content": null,
            "align_items": null,
            "align_self": null,
            "border": null,
            "bottom": null,
            "display": null,
            "flex": null,
            "flex_flow": null,
            "grid_area": null,
            "grid_auto_columns": null,
            "grid_auto_flow": null,
            "grid_auto_rows": null,
            "grid_column": null,
            "grid_gap": null,
            "grid_row": null,
            "grid_template_areas": null,
            "grid_template_columns": null,
            "grid_template_rows": null,
            "height": null,
            "justify_content": null,
            "justify_items": null,
            "left": null,
            "margin": null,
            "max_height": null,
            "max_width": null,
            "min_height": null,
            "min_width": null,
            "object_fit": null,
            "object_position": null,
            "order": null,
            "overflow": null,
            "overflow_x": null,
            "overflow_y": null,
            "padding": null,
            "right": null,
            "top": null,
            "visibility": null,
            "width": null
          }
        },
        "02bac7a8179c4af2a149425822f0867e": {
          "model_module": "@jupyter-widgets/base",
          "model_name": "LayoutModel",
          "model_module_version": "1.2.0",
          "state": {
            "_model_module": "@jupyter-widgets/base",
            "_model_module_version": "1.2.0",
            "_model_name": "LayoutModel",
            "_view_count": null,
            "_view_module": "@jupyter-widgets/base",
            "_view_module_version": "1.2.0",
            "_view_name": "LayoutView",
            "align_content": null,
            "align_items": null,
            "align_self": null,
            "border": null,
            "bottom": null,
            "display": null,
            "flex": null,
            "flex_flow": null,
            "grid_area": null,
            "grid_auto_columns": null,
            "grid_auto_flow": null,
            "grid_auto_rows": null,
            "grid_column": null,
            "grid_gap": null,
            "grid_row": null,
            "grid_template_areas": null,
            "grid_template_columns": null,
            "grid_template_rows": null,
            "height": null,
            "justify_content": null,
            "justify_items": null,
            "left": null,
            "margin": null,
            "max_height": null,
            "max_width": null,
            "min_height": null,
            "min_width": null,
            "object_fit": null,
            "object_position": null,
            "order": null,
            "overflow": null,
            "overflow_x": null,
            "overflow_y": null,
            "padding": null,
            "right": null,
            "top": null,
            "visibility": null,
            "width": null
          }
        },
        "210e1e6754544cc79bb0dfb3fe6691d9": {
          "model_module": "@jupyter-widgets/controls",
          "model_name": "DescriptionStyleModel",
          "model_module_version": "1.5.0",
          "state": {
            "_model_module": "@jupyter-widgets/controls",
            "_model_module_version": "1.5.0",
            "_model_name": "DescriptionStyleModel",
            "_view_count": null,
            "_view_module": "@jupyter-widgets/base",
            "_view_module_version": "1.2.0",
            "_view_name": "StyleView",
            "description_width": ""
          }
        },
        "bb943f815ec5469e82a747009e438ea6": {
          "model_module": "@jupyter-widgets/base",
          "model_name": "LayoutModel",
          "model_module_version": "1.2.0",
          "state": {
            "_model_module": "@jupyter-widgets/base",
            "_model_module_version": "1.2.0",
            "_model_name": "LayoutModel",
            "_view_count": null,
            "_view_module": "@jupyter-widgets/base",
            "_view_module_version": "1.2.0",
            "_view_name": "LayoutView",
            "align_content": null,
            "align_items": null,
            "align_self": null,
            "border": null,
            "bottom": null,
            "display": null,
            "flex": null,
            "flex_flow": null,
            "grid_area": null,
            "grid_auto_columns": null,
            "grid_auto_flow": null,
            "grid_auto_rows": null,
            "grid_column": null,
            "grid_gap": null,
            "grid_row": null,
            "grid_template_areas": null,
            "grid_template_columns": null,
            "grid_template_rows": null,
            "height": null,
            "justify_content": null,
            "justify_items": null,
            "left": null,
            "margin": null,
            "max_height": null,
            "max_width": null,
            "min_height": null,
            "min_width": null,
            "object_fit": null,
            "object_position": null,
            "order": null,
            "overflow": null,
            "overflow_x": null,
            "overflow_y": null,
            "padding": null,
            "right": null,
            "top": null,
            "visibility": null,
            "width": null
          }
        },
        "2f6d915b5b5d481e980a80719f97e252": {
          "model_module": "@jupyter-widgets/controls",
          "model_name": "ProgressStyleModel",
          "model_module_version": "1.5.0",
          "state": {
            "_model_module": "@jupyter-widgets/controls",
            "_model_module_version": "1.5.0",
            "_model_name": "ProgressStyleModel",
            "_view_count": null,
            "_view_module": "@jupyter-widgets/base",
            "_view_module_version": "1.2.0",
            "_view_name": "StyleView",
            "bar_color": null,
            "description_width": ""
          }
        },
        "46a9e3bc8dda41c9a4f143038733f40c": {
          "model_module": "@jupyter-widgets/base",
          "model_name": "LayoutModel",
          "model_module_version": "1.2.0",
          "state": {
            "_model_module": "@jupyter-widgets/base",
            "_model_module_version": "1.2.0",
            "_model_name": "LayoutModel",
            "_view_count": null,
            "_view_module": "@jupyter-widgets/base",
            "_view_module_version": "1.2.0",
            "_view_name": "LayoutView",
            "align_content": null,
            "align_items": null,
            "align_self": null,
            "border": null,
            "bottom": null,
            "display": null,
            "flex": null,
            "flex_flow": null,
            "grid_area": null,
            "grid_auto_columns": null,
            "grid_auto_flow": null,
            "grid_auto_rows": null,
            "grid_column": null,
            "grid_gap": null,
            "grid_row": null,
            "grid_template_areas": null,
            "grid_template_columns": null,
            "grid_template_rows": null,
            "height": null,
            "justify_content": null,
            "justify_items": null,
            "left": null,
            "margin": null,
            "max_height": null,
            "max_width": null,
            "min_height": null,
            "min_width": null,
            "object_fit": null,
            "object_position": null,
            "order": null,
            "overflow": null,
            "overflow_x": null,
            "overflow_y": null,
            "padding": null,
            "right": null,
            "top": null,
            "visibility": null,
            "width": null
          }
        },
        "0b528163a2a64f9495c90a0f433cdc3a": {
          "model_module": "@jupyter-widgets/controls",
          "model_name": "DescriptionStyleModel",
          "model_module_version": "1.5.0",
          "state": {
            "_model_module": "@jupyter-widgets/controls",
            "_model_module_version": "1.5.0",
            "_model_name": "DescriptionStyleModel",
            "_view_count": null,
            "_view_module": "@jupyter-widgets/base",
            "_view_module_version": "1.2.0",
            "_view_name": "StyleView",
            "description_width": ""
          }
        },
        "639d387358504b6a93a6cbdf22b56c9b": {
          "model_module": "@jupyter-widgets/controls",
          "model_name": "HBoxModel",
          "model_module_version": "1.5.0",
          "state": {
            "_dom_classes": [],
            "_model_module": "@jupyter-widgets/controls",
            "_model_module_version": "1.5.0",
            "_model_name": "HBoxModel",
            "_view_count": null,
            "_view_module": "@jupyter-widgets/controls",
            "_view_module_version": "1.5.0",
            "_view_name": "HBoxView",
            "box_style": "",
            "children": [
              "IPY_MODEL_4267c685de194d0c8e24e4fe741ae64a",
              "IPY_MODEL_426ce2923d9740109fa01d2853425a8f",
              "IPY_MODEL_988f0417d2d8484e8e07b29b8ccf77e6"
            ],
            "layout": "IPY_MODEL_45aec695537a4b12afcb1087f94883a2"
          }
        },
        "4267c685de194d0c8e24e4fe741ae64a": {
          "model_module": "@jupyter-widgets/controls",
          "model_name": "HTMLModel",
          "model_module_version": "1.5.0",
          "state": {
            "_dom_classes": [],
            "_model_module": "@jupyter-widgets/controls",
            "_model_module_version": "1.5.0",
            "_model_name": "HTMLModel",
            "_view_count": null,
            "_view_module": "@jupyter-widgets/controls",
            "_view_module_version": "1.5.0",
            "_view_name": "HTMLView",
            "description": "",
            "description_tooltip": null,
            "layout": "IPY_MODEL_49d9936af2bd40ca9cedb08e944d8387",
            "placeholder": "​",
            "style": "IPY_MODEL_3aef997f6bdf4346a71c8c56c1528086",
            "value": "modeling_qwen.py: 100%"
          }
        },
        "426ce2923d9740109fa01d2853425a8f": {
          "model_module": "@jupyter-widgets/controls",
          "model_name": "FloatProgressModel",
          "model_module_version": "1.5.0",
          "state": {
            "_dom_classes": [],
            "_model_module": "@jupyter-widgets/controls",
            "_model_module_version": "1.5.0",
            "_model_name": "FloatProgressModel",
            "_view_count": null,
            "_view_module": "@jupyter-widgets/controls",
            "_view_module_version": "1.5.0",
            "_view_name": "ProgressView",
            "bar_style": "success",
            "description": "",
            "description_tooltip": null,
            "layout": "IPY_MODEL_d467ae76608f4b52bc4dda550f7396ea",
            "max": 65203,
            "min": 0,
            "orientation": "horizontal",
            "style": "IPY_MODEL_8250faedf7bf4b33a3cceb25ffd634bf",
            "value": 65203
          }
        },
        "988f0417d2d8484e8e07b29b8ccf77e6": {
          "model_module": "@jupyter-widgets/controls",
          "model_name": "HTMLModel",
          "model_module_version": "1.5.0",
          "state": {
            "_dom_classes": [],
            "_model_module": "@jupyter-widgets/controls",
            "_model_module_version": "1.5.0",
            "_model_name": "HTMLModel",
            "_view_count": null,
            "_view_module": "@jupyter-widgets/controls",
            "_view_module_version": "1.5.0",
            "_view_name": "HTMLView",
            "description": "",
            "description_tooltip": null,
            "layout": "IPY_MODEL_242aea2b6a984effb7a8aa92b6ca4098",
            "placeholder": "​",
            "style": "IPY_MODEL_8dc338eb4ed04d89904d713fd2147f5d",
            "value": " 65.2k/65.2k [00:00&lt;00:00, 2.09MB/s]"
          }
        },
        "45aec695537a4b12afcb1087f94883a2": {
          "model_module": "@jupyter-widgets/base",
          "model_name": "LayoutModel",
          "model_module_version": "1.2.0",
          "state": {
            "_model_module": "@jupyter-widgets/base",
            "_model_module_version": "1.2.0",
            "_model_name": "LayoutModel",
            "_view_count": null,
            "_view_module": "@jupyter-widgets/base",
            "_view_module_version": "1.2.0",
            "_view_name": "LayoutView",
            "align_content": null,
            "align_items": null,
            "align_self": null,
            "border": null,
            "bottom": null,
            "display": null,
            "flex": null,
            "flex_flow": null,
            "grid_area": null,
            "grid_auto_columns": null,
            "grid_auto_flow": null,
            "grid_auto_rows": null,
            "grid_column": null,
            "grid_gap": null,
            "grid_row": null,
            "grid_template_areas": null,
            "grid_template_columns": null,
            "grid_template_rows": null,
            "height": null,
            "justify_content": null,
            "justify_items": null,
            "left": null,
            "margin": null,
            "max_height": null,
            "max_width": null,
            "min_height": null,
            "min_width": null,
            "object_fit": null,
            "object_position": null,
            "order": null,
            "overflow": null,
            "overflow_x": null,
            "overflow_y": null,
            "padding": null,
            "right": null,
            "top": null,
            "visibility": null,
            "width": null
          }
        },
        "49d9936af2bd40ca9cedb08e944d8387": {
          "model_module": "@jupyter-widgets/base",
          "model_name": "LayoutModel",
          "model_module_version": "1.2.0",
          "state": {
            "_model_module": "@jupyter-widgets/base",
            "_model_module_version": "1.2.0",
            "_model_name": "LayoutModel",
            "_view_count": null,
            "_view_module": "@jupyter-widgets/base",
            "_view_module_version": "1.2.0",
            "_view_name": "LayoutView",
            "align_content": null,
            "align_items": null,
            "align_self": null,
            "border": null,
            "bottom": null,
            "display": null,
            "flex": null,
            "flex_flow": null,
            "grid_area": null,
            "grid_auto_columns": null,
            "grid_auto_flow": null,
            "grid_auto_rows": null,
            "grid_column": null,
            "grid_gap": null,
            "grid_row": null,
            "grid_template_areas": null,
            "grid_template_columns": null,
            "grid_template_rows": null,
            "height": null,
            "justify_content": null,
            "justify_items": null,
            "left": null,
            "margin": null,
            "max_height": null,
            "max_width": null,
            "min_height": null,
            "min_width": null,
            "object_fit": null,
            "object_position": null,
            "order": null,
            "overflow": null,
            "overflow_x": null,
            "overflow_y": null,
            "padding": null,
            "right": null,
            "top": null,
            "visibility": null,
            "width": null
          }
        },
        "3aef997f6bdf4346a71c8c56c1528086": {
          "model_module": "@jupyter-widgets/controls",
          "model_name": "DescriptionStyleModel",
          "model_module_version": "1.5.0",
          "state": {
            "_model_module": "@jupyter-widgets/controls",
            "_model_module_version": "1.5.0",
            "_model_name": "DescriptionStyleModel",
            "_view_count": null,
            "_view_module": "@jupyter-widgets/base",
            "_view_module_version": "1.2.0",
            "_view_name": "StyleView",
            "description_width": ""
          }
        },
        "d467ae76608f4b52bc4dda550f7396ea": {
          "model_module": "@jupyter-widgets/base",
          "model_name": "LayoutModel",
          "model_module_version": "1.2.0",
          "state": {
            "_model_module": "@jupyter-widgets/base",
            "_model_module_version": "1.2.0",
            "_model_name": "LayoutModel",
            "_view_count": null,
            "_view_module": "@jupyter-widgets/base",
            "_view_module_version": "1.2.0",
            "_view_name": "LayoutView",
            "align_content": null,
            "align_items": null,
            "align_self": null,
            "border": null,
            "bottom": null,
            "display": null,
            "flex": null,
            "flex_flow": null,
            "grid_area": null,
            "grid_auto_columns": null,
            "grid_auto_flow": null,
            "grid_auto_rows": null,
            "grid_column": null,
            "grid_gap": null,
            "grid_row": null,
            "grid_template_areas": null,
            "grid_template_columns": null,
            "grid_template_rows": null,
            "height": null,
            "justify_content": null,
            "justify_items": null,
            "left": null,
            "margin": null,
            "max_height": null,
            "max_width": null,
            "min_height": null,
            "min_width": null,
            "object_fit": null,
            "object_position": null,
            "order": null,
            "overflow": null,
            "overflow_x": null,
            "overflow_y": null,
            "padding": null,
            "right": null,
            "top": null,
            "visibility": null,
            "width": null
          }
        },
        "8250faedf7bf4b33a3cceb25ffd634bf": {
          "model_module": "@jupyter-widgets/controls",
          "model_name": "ProgressStyleModel",
          "model_module_version": "1.5.0",
          "state": {
            "_model_module": "@jupyter-widgets/controls",
            "_model_module_version": "1.5.0",
            "_model_name": "ProgressStyleModel",
            "_view_count": null,
            "_view_module": "@jupyter-widgets/base",
            "_view_module_version": "1.2.0",
            "_view_name": "StyleView",
            "bar_color": null,
            "description_width": ""
          }
        },
        "242aea2b6a984effb7a8aa92b6ca4098": {
          "model_module": "@jupyter-widgets/base",
          "model_name": "LayoutModel",
          "model_module_version": "1.2.0",
          "state": {
            "_model_module": "@jupyter-widgets/base",
            "_model_module_version": "1.2.0",
            "_model_name": "LayoutModel",
            "_view_count": null,
            "_view_module": "@jupyter-widgets/base",
            "_view_module_version": "1.2.0",
            "_view_name": "LayoutView",
            "align_content": null,
            "align_items": null,
            "align_self": null,
            "border": null,
            "bottom": null,
            "display": null,
            "flex": null,
            "flex_flow": null,
            "grid_area": null,
            "grid_auto_columns": null,
            "grid_auto_flow": null,
            "grid_auto_rows": null,
            "grid_column": null,
            "grid_gap": null,
            "grid_row": null,
            "grid_template_areas": null,
            "grid_template_columns": null,
            "grid_template_rows": null,
            "height": null,
            "justify_content": null,
            "justify_items": null,
            "left": null,
            "margin": null,
            "max_height": null,
            "max_width": null,
            "min_height": null,
            "min_width": null,
            "object_fit": null,
            "object_position": null,
            "order": null,
            "overflow": null,
            "overflow_x": null,
            "overflow_y": null,
            "padding": null,
            "right": null,
            "top": null,
            "visibility": null,
            "width": null
          }
        },
        "8dc338eb4ed04d89904d713fd2147f5d": {
          "model_module": "@jupyter-widgets/controls",
          "model_name": "DescriptionStyleModel",
          "model_module_version": "1.5.0",
          "state": {
            "_model_module": "@jupyter-widgets/controls",
            "_model_module_version": "1.5.0",
            "_model_name": "DescriptionStyleModel",
            "_view_count": null,
            "_view_module": "@jupyter-widgets/base",
            "_view_module_version": "1.2.0",
            "_view_name": "StyleView",
            "description_width": ""
          }
        },
        "f49baba9c50a4d35a430eeefab89cadb": {
          "model_module": "@jupyter-widgets/controls",
          "model_name": "HBoxModel",
          "model_module_version": "1.5.0",
          "state": {
            "_dom_classes": [],
            "_model_module": "@jupyter-widgets/controls",
            "_model_module_version": "1.5.0",
            "_model_name": "HBoxModel",
            "_view_count": null,
            "_view_module": "@jupyter-widgets/controls",
            "_view_module_version": "1.5.0",
            "_view_name": "HBoxView",
            "box_style": "",
            "children": [
              "IPY_MODEL_ef8101eb582d43e78a68510e114bf34c",
              "IPY_MODEL_60ee41f55af14315a5f77c25564835a9",
              "IPY_MODEL_dc414efd1cda4ae8a5f70fe72f7e3ddd"
            ],
            "layout": "IPY_MODEL_d40783f2ef974d058bc42b000c4fe4ec"
          }
        },
        "ef8101eb582d43e78a68510e114bf34c": {
          "model_module": "@jupyter-widgets/controls",
          "model_name": "HTMLModel",
          "model_module_version": "1.5.0",
          "state": {
            "_dom_classes": [],
            "_model_module": "@jupyter-widgets/controls",
            "_model_module_version": "1.5.0",
            "_model_name": "HTMLModel",
            "_view_count": null,
            "_view_module": "@jupyter-widgets/controls",
            "_view_module_version": "1.5.0",
            "_view_name": "HTMLView",
            "description": "",
            "description_tooltip": null,
            "layout": "IPY_MODEL_79300d94ec444278a4f7ca37e5105bf3",
            "placeholder": "​",
            "style": "IPY_MODEL_2d579bcc2390400b9074caa6a59ea1ed",
            "value": "model.safetensors: 100%"
          }
        },
        "60ee41f55af14315a5f77c25564835a9": {
          "model_module": "@jupyter-widgets/controls",
          "model_name": "FloatProgressModel",
          "model_module_version": "1.5.0",
          "state": {
            "_dom_classes": [],
            "_model_module": "@jupyter-widgets/controls",
            "_model_module_version": "1.5.0",
            "_model_name": "FloatProgressModel",
            "_view_count": null,
            "_view_module": "@jupyter-widgets/controls",
            "_view_module_version": "1.5.0",
            "_view_name": "ProgressView",
            "bar_style": "success",
            "description": "",
            "description_tooltip": null,
            "layout": "IPY_MODEL_4f44a1031e4746c28080ddf115c66678",
            "max": 6173113776,
            "min": 0,
            "orientation": "horizontal",
            "style": "IPY_MODEL_e336fac607cd4d7c9d1d9623bd995850",
            "value": 6173113776
          }
        },
        "dc414efd1cda4ae8a5f70fe72f7e3ddd": {
          "model_module": "@jupyter-widgets/controls",
          "model_name": "HTMLModel",
          "model_module_version": "1.5.0",
          "state": {
            "_dom_classes": [],
            "_model_module": "@jupyter-widgets/controls",
            "_model_module_version": "1.5.0",
            "_model_name": "HTMLModel",
            "_view_count": null,
            "_view_module": "@jupyter-widgets/controls",
            "_view_module_version": "1.5.0",
            "_view_name": "HTMLView",
            "description": "",
            "description_tooltip": null,
            "layout": "IPY_MODEL_fafb4e9b36e6472f81fb90162b6edd3e",
            "placeholder": "​",
            "style": "IPY_MODEL_7e6feab258bc47e1b1be76c769047d04",
            "value": " 6.17G/6.17G [00:30&lt;00:00, 246MB/s]"
          }
        },
        "d40783f2ef974d058bc42b000c4fe4ec": {
          "model_module": "@jupyter-widgets/base",
          "model_name": "LayoutModel",
          "model_module_version": "1.2.0",
          "state": {
            "_model_module": "@jupyter-widgets/base",
            "_model_module_version": "1.2.0",
            "_model_name": "LayoutModel",
            "_view_count": null,
            "_view_module": "@jupyter-widgets/base",
            "_view_module_version": "1.2.0",
            "_view_name": "LayoutView",
            "align_content": null,
            "align_items": null,
            "align_self": null,
            "border": null,
            "bottom": null,
            "display": null,
            "flex": null,
            "flex_flow": null,
            "grid_area": null,
            "grid_auto_columns": null,
            "grid_auto_flow": null,
            "grid_auto_rows": null,
            "grid_column": null,
            "grid_gap": null,
            "grid_row": null,
            "grid_template_areas": null,
            "grid_template_columns": null,
            "grid_template_rows": null,
            "height": null,
            "justify_content": null,
            "justify_items": null,
            "left": null,
            "margin": null,
            "max_height": null,
            "max_width": null,
            "min_height": null,
            "min_width": null,
            "object_fit": null,
            "object_position": null,
            "order": null,
            "overflow": null,
            "overflow_x": null,
            "overflow_y": null,
            "padding": null,
            "right": null,
            "top": null,
            "visibility": null,
            "width": null
          }
        },
        "79300d94ec444278a4f7ca37e5105bf3": {
          "model_module": "@jupyter-widgets/base",
          "model_name": "LayoutModel",
          "model_module_version": "1.2.0",
          "state": {
            "_model_module": "@jupyter-widgets/base",
            "_model_module_version": "1.2.0",
            "_model_name": "LayoutModel",
            "_view_count": null,
            "_view_module": "@jupyter-widgets/base",
            "_view_module_version": "1.2.0",
            "_view_name": "LayoutView",
            "align_content": null,
            "align_items": null,
            "align_self": null,
            "border": null,
            "bottom": null,
            "display": null,
            "flex": null,
            "flex_flow": null,
            "grid_area": null,
            "grid_auto_columns": null,
            "grid_auto_flow": null,
            "grid_auto_rows": null,
            "grid_column": null,
            "grid_gap": null,
            "grid_row": null,
            "grid_template_areas": null,
            "grid_template_columns": null,
            "grid_template_rows": null,
            "height": null,
            "justify_content": null,
            "justify_items": null,
            "left": null,
            "margin": null,
            "max_height": null,
            "max_width": null,
            "min_height": null,
            "min_width": null,
            "object_fit": null,
            "object_position": null,
            "order": null,
            "overflow": null,
            "overflow_x": null,
            "overflow_y": null,
            "padding": null,
            "right": null,
            "top": null,
            "visibility": null,
            "width": null
          }
        },
        "2d579bcc2390400b9074caa6a59ea1ed": {
          "model_module": "@jupyter-widgets/controls",
          "model_name": "DescriptionStyleModel",
          "model_module_version": "1.5.0",
          "state": {
            "_model_module": "@jupyter-widgets/controls",
            "_model_module_version": "1.5.0",
            "_model_name": "DescriptionStyleModel",
            "_view_count": null,
            "_view_module": "@jupyter-widgets/base",
            "_view_module_version": "1.2.0",
            "_view_name": "StyleView",
            "description_width": ""
          }
        },
        "4f44a1031e4746c28080ddf115c66678": {
          "model_module": "@jupyter-widgets/base",
          "model_name": "LayoutModel",
          "model_module_version": "1.2.0",
          "state": {
            "_model_module": "@jupyter-widgets/base",
            "_model_module_version": "1.2.0",
            "_model_name": "LayoutModel",
            "_view_count": null,
            "_view_module": "@jupyter-widgets/base",
            "_view_module_version": "1.2.0",
            "_view_name": "LayoutView",
            "align_content": null,
            "align_items": null,
            "align_self": null,
            "border": null,
            "bottom": null,
            "display": null,
            "flex": null,
            "flex_flow": null,
            "grid_area": null,
            "grid_auto_columns": null,
            "grid_auto_flow": null,
            "grid_auto_rows": null,
            "grid_column": null,
            "grid_gap": null,
            "grid_row": null,
            "grid_template_areas": null,
            "grid_template_columns": null,
            "grid_template_rows": null,
            "height": null,
            "justify_content": null,
            "justify_items": null,
            "left": null,
            "margin": null,
            "max_height": null,
            "max_width": null,
            "min_height": null,
            "min_width": null,
            "object_fit": null,
            "object_position": null,
            "order": null,
            "overflow": null,
            "overflow_x": null,
            "overflow_y": null,
            "padding": null,
            "right": null,
            "top": null,
            "visibility": null,
            "width": null
          }
        },
        "e336fac607cd4d7c9d1d9623bd995850": {
          "model_module": "@jupyter-widgets/controls",
          "model_name": "ProgressStyleModel",
          "model_module_version": "1.5.0",
          "state": {
            "_model_module": "@jupyter-widgets/controls",
            "_model_module_version": "1.5.0",
            "_model_name": "ProgressStyleModel",
            "_view_count": null,
            "_view_module": "@jupyter-widgets/base",
            "_view_module_version": "1.2.0",
            "_view_name": "StyleView",
            "bar_color": null,
            "description_width": ""
          }
        },
        "fafb4e9b36e6472f81fb90162b6edd3e": {
          "model_module": "@jupyter-widgets/base",
          "model_name": "LayoutModel",
          "model_module_version": "1.2.0",
          "state": {
            "_model_module": "@jupyter-widgets/base",
            "_model_module_version": "1.2.0",
            "_model_name": "LayoutModel",
            "_view_count": null,
            "_view_module": "@jupyter-widgets/base",
            "_view_module_version": "1.2.0",
            "_view_name": "LayoutView",
            "align_content": null,
            "align_items": null,
            "align_self": null,
            "border": null,
            "bottom": null,
            "display": null,
            "flex": null,
            "flex_flow": null,
            "grid_area": null,
            "grid_auto_columns": null,
            "grid_auto_flow": null,
            "grid_auto_rows": null,
            "grid_column": null,
            "grid_gap": null,
            "grid_row": null,
            "grid_template_areas": null,
            "grid_template_columns": null,
            "grid_template_rows": null,
            "height": null,
            "justify_content": null,
            "justify_items": null,
            "left": null,
            "margin": null,
            "max_height": null,
            "max_width": null,
            "min_height": null,
            "min_width": null,
            "object_fit": null,
            "object_position": null,
            "order": null,
            "overflow": null,
            "overflow_x": null,
            "overflow_y": null,
            "padding": null,
            "right": null,
            "top": null,
            "visibility": null,
            "width": null
          }
        },
        "7e6feab258bc47e1b1be76c769047d04": {
          "model_module": "@jupyter-widgets/controls",
          "model_name": "DescriptionStyleModel",
          "model_module_version": "1.5.0",
          "state": {
            "_model_module": "@jupyter-widgets/controls",
            "_model_module_version": "1.5.0",
            "_model_name": "DescriptionStyleModel",
            "_view_count": null,
            "_view_module": "@jupyter-widgets/base",
            "_view_module_version": "1.2.0",
            "_view_name": "StyleView",
            "description_width": ""
          }
        },
        "357bc42d048b4a9ea0cc4544a3eea17d": {
          "model_module": "@jupyter-widgets/controls",
          "model_name": "HBoxModel",
          "model_module_version": "1.5.0",
          "state": {
            "_dom_classes": [],
            "_model_module": "@jupyter-widgets/controls",
            "_model_module_version": "1.5.0",
            "_model_name": "HBoxModel",
            "_view_count": null,
            "_view_module": "@jupyter-widgets/controls",
            "_view_module_version": "1.5.0",
            "_view_name": "HBoxView",
            "box_style": "",
            "children": [
              "IPY_MODEL_9a6dc066a7c74b4fb43ea70fe64a4e18",
              "IPY_MODEL_a053bb87a10442db94e576a0a0306fb6",
              "IPY_MODEL_2f25c971e3e24302ba35631d278506bb"
            ],
            "layout": "IPY_MODEL_06a2bf47657247dfaae82fa59c5ec988"
          }
        },
        "9a6dc066a7c74b4fb43ea70fe64a4e18": {
          "model_module": "@jupyter-widgets/controls",
          "model_name": "HTMLModel",
          "model_module_version": "1.5.0",
          "state": {
            "_dom_classes": [],
            "_model_module": "@jupyter-widgets/controls",
            "_model_module_version": "1.5.0",
            "_model_name": "HTMLModel",
            "_view_count": null,
            "_view_module": "@jupyter-widgets/controls",
            "_view_module_version": "1.5.0",
            "_view_name": "HTMLView",
            "description": "",
            "description_tooltip": null,
            "layout": "IPY_MODEL_241758a1cd844e1a8a1fd04acd184f4f",
            "placeholder": "​",
            "style": "IPY_MODEL_b83e8b23f93448b3af8f4f38abb73f34",
            "value": "tokenizer_config.json: 100%"
          }
        },
        "a053bb87a10442db94e576a0a0306fb6": {
          "model_module": "@jupyter-widgets/controls",
          "model_name": "FloatProgressModel",
          "model_module_version": "1.5.0",
          "state": {
            "_dom_classes": [],
            "_model_module": "@jupyter-widgets/controls",
            "_model_module_version": "1.5.0",
            "_model_name": "FloatProgressModel",
            "_view_count": null,
            "_view_module": "@jupyter-widgets/controls",
            "_view_module_version": "1.5.0",
            "_view_name": "ProgressView",
            "bar_style": "success",
            "description": "",
            "description_tooltip": null,
            "layout": "IPY_MODEL_9c0c4d13f3714d70aaa5579c877d1f07",
            "max": 1312,
            "min": 0,
            "orientation": "horizontal",
            "style": "IPY_MODEL_10d72d5787ac4b239d713c978a57300b",
            "value": 1312
          }
        },
        "2f25c971e3e24302ba35631d278506bb": {
          "model_module": "@jupyter-widgets/controls",
          "model_name": "HTMLModel",
          "model_module_version": "1.5.0",
          "state": {
            "_dom_classes": [],
            "_model_module": "@jupyter-widgets/controls",
            "_model_module_version": "1.5.0",
            "_model_name": "HTMLModel",
            "_view_count": null,
            "_view_module": "@jupyter-widgets/controls",
            "_view_module_version": "1.5.0",
            "_view_name": "HTMLView",
            "description": "",
            "description_tooltip": null,
            "layout": "IPY_MODEL_1520d5d4484543f195586374c75c4386",
            "placeholder": "​",
            "style": "IPY_MODEL_0217ae6883f64d5b9e7340d93d1cf1f7",
            "value": " 1.31k/1.31k [00:00&lt;00:00, 89.0kB/s]"
          }
        },
        "06a2bf47657247dfaae82fa59c5ec988": {
          "model_module": "@jupyter-widgets/base",
          "model_name": "LayoutModel",
          "model_module_version": "1.2.0",
          "state": {
            "_model_module": "@jupyter-widgets/base",
            "_model_module_version": "1.2.0",
            "_model_name": "LayoutModel",
            "_view_count": null,
            "_view_module": "@jupyter-widgets/base",
            "_view_module_version": "1.2.0",
            "_view_name": "LayoutView",
            "align_content": null,
            "align_items": null,
            "align_self": null,
            "border": null,
            "bottom": null,
            "display": null,
            "flex": null,
            "flex_flow": null,
            "grid_area": null,
            "grid_auto_columns": null,
            "grid_auto_flow": null,
            "grid_auto_rows": null,
            "grid_column": null,
            "grid_gap": null,
            "grid_row": null,
            "grid_template_areas": null,
            "grid_template_columns": null,
            "grid_template_rows": null,
            "height": null,
            "justify_content": null,
            "justify_items": null,
            "left": null,
            "margin": null,
            "max_height": null,
            "max_width": null,
            "min_height": null,
            "min_width": null,
            "object_fit": null,
            "object_position": null,
            "order": null,
            "overflow": null,
            "overflow_x": null,
            "overflow_y": null,
            "padding": null,
            "right": null,
            "top": null,
            "visibility": null,
            "width": null
          }
        },
        "241758a1cd844e1a8a1fd04acd184f4f": {
          "model_module": "@jupyter-widgets/base",
          "model_name": "LayoutModel",
          "model_module_version": "1.2.0",
          "state": {
            "_model_module": "@jupyter-widgets/base",
            "_model_module_version": "1.2.0",
            "_model_name": "LayoutModel",
            "_view_count": null,
            "_view_module": "@jupyter-widgets/base",
            "_view_module_version": "1.2.0",
            "_view_name": "LayoutView",
            "align_content": null,
            "align_items": null,
            "align_self": null,
            "border": null,
            "bottom": null,
            "display": null,
            "flex": null,
            "flex_flow": null,
            "grid_area": null,
            "grid_auto_columns": null,
            "grid_auto_flow": null,
            "grid_auto_rows": null,
            "grid_column": null,
            "grid_gap": null,
            "grid_row": null,
            "grid_template_areas": null,
            "grid_template_columns": null,
            "grid_template_rows": null,
            "height": null,
            "justify_content": null,
            "justify_items": null,
            "left": null,
            "margin": null,
            "max_height": null,
            "max_width": null,
            "min_height": null,
            "min_width": null,
            "object_fit": null,
            "object_position": null,
            "order": null,
            "overflow": null,
            "overflow_x": null,
            "overflow_y": null,
            "padding": null,
            "right": null,
            "top": null,
            "visibility": null,
            "width": null
          }
        },
        "b83e8b23f93448b3af8f4f38abb73f34": {
          "model_module": "@jupyter-widgets/controls",
          "model_name": "DescriptionStyleModel",
          "model_module_version": "1.5.0",
          "state": {
            "_model_module": "@jupyter-widgets/controls",
            "_model_module_version": "1.5.0",
            "_model_name": "DescriptionStyleModel",
            "_view_count": null,
            "_view_module": "@jupyter-widgets/base",
            "_view_module_version": "1.2.0",
            "_view_name": "StyleView",
            "description_width": ""
          }
        },
        "9c0c4d13f3714d70aaa5579c877d1f07": {
          "model_module": "@jupyter-widgets/base",
          "model_name": "LayoutModel",
          "model_module_version": "1.2.0",
          "state": {
            "_model_module": "@jupyter-widgets/base",
            "_model_module_version": "1.2.0",
            "_model_name": "LayoutModel",
            "_view_count": null,
            "_view_module": "@jupyter-widgets/base",
            "_view_module_version": "1.2.0",
            "_view_name": "LayoutView",
            "align_content": null,
            "align_items": null,
            "align_self": null,
            "border": null,
            "bottom": null,
            "display": null,
            "flex": null,
            "flex_flow": null,
            "grid_area": null,
            "grid_auto_columns": null,
            "grid_auto_flow": null,
            "grid_auto_rows": null,
            "grid_column": null,
            "grid_gap": null,
            "grid_row": null,
            "grid_template_areas": null,
            "grid_template_columns": null,
            "grid_template_rows": null,
            "height": null,
            "justify_content": null,
            "justify_items": null,
            "left": null,
            "margin": null,
            "max_height": null,
            "max_width": null,
            "min_height": null,
            "min_width": null,
            "object_fit": null,
            "object_position": null,
            "order": null,
            "overflow": null,
            "overflow_x": null,
            "overflow_y": null,
            "padding": null,
            "right": null,
            "top": null,
            "visibility": null,
            "width": null
          }
        },
        "10d72d5787ac4b239d713c978a57300b": {
          "model_module": "@jupyter-widgets/controls",
          "model_name": "ProgressStyleModel",
          "model_module_version": "1.5.0",
          "state": {
            "_model_module": "@jupyter-widgets/controls",
            "_model_module_version": "1.5.0",
            "_model_name": "ProgressStyleModel",
            "_view_count": null,
            "_view_module": "@jupyter-widgets/base",
            "_view_module_version": "1.2.0",
            "_view_name": "StyleView",
            "bar_color": null,
            "description_width": ""
          }
        },
        "1520d5d4484543f195586374c75c4386": {
          "model_module": "@jupyter-widgets/base",
          "model_name": "LayoutModel",
          "model_module_version": "1.2.0",
          "state": {
            "_model_module": "@jupyter-widgets/base",
            "_model_module_version": "1.2.0",
            "_model_name": "LayoutModel",
            "_view_count": null,
            "_view_module": "@jupyter-widgets/base",
            "_view_module_version": "1.2.0",
            "_view_name": "LayoutView",
            "align_content": null,
            "align_items": null,
            "align_self": null,
            "border": null,
            "bottom": null,
            "display": null,
            "flex": null,
            "flex_flow": null,
            "grid_area": null,
            "grid_auto_columns": null,
            "grid_auto_flow": null,
            "grid_auto_rows": null,
            "grid_column": null,
            "grid_gap": null,
            "grid_row": null,
            "grid_template_areas": null,
            "grid_template_columns": null,
            "grid_template_rows": null,
            "height": null,
            "justify_content": null,
            "justify_items": null,
            "left": null,
            "margin": null,
            "max_height": null,
            "max_width": null,
            "min_height": null,
            "min_width": null,
            "object_fit": null,
            "object_position": null,
            "order": null,
            "overflow": null,
            "overflow_x": null,
            "overflow_y": null,
            "padding": null,
            "right": null,
            "top": null,
            "visibility": null,
            "width": null
          }
        },
        "0217ae6883f64d5b9e7340d93d1cf1f7": {
          "model_module": "@jupyter-widgets/controls",
          "model_name": "DescriptionStyleModel",
          "model_module_version": "1.5.0",
          "state": {
            "_model_module": "@jupyter-widgets/controls",
            "_model_module_version": "1.5.0",
            "_model_name": "DescriptionStyleModel",
            "_view_count": null,
            "_view_module": "@jupyter-widgets/base",
            "_view_module_version": "1.2.0",
            "_view_name": "StyleView",
            "description_width": ""
          }
        },
        "bfd7dae6b4b94911b27d9b6a76538ebd": {
          "model_module": "@jupyter-widgets/controls",
          "model_name": "HBoxModel",
          "model_module_version": "1.5.0",
          "state": {
            "_dom_classes": [],
            "_model_module": "@jupyter-widgets/controls",
            "_model_module_version": "1.5.0",
            "_model_name": "HBoxModel",
            "_view_count": null,
            "_view_module": "@jupyter-widgets/controls",
            "_view_module_version": "1.5.0",
            "_view_name": "HBoxView",
            "box_style": "",
            "children": [
              "IPY_MODEL_0909fb7ee85044ada070be51db53ad9d",
              "IPY_MODEL_b314dfd654dc494fa89f759267f14652",
              "IPY_MODEL_2b832e76874946c6ae30f26644f2160b"
            ],
            "layout": "IPY_MODEL_b71cd44561524766b7988d7cf8bec285"
          }
        },
        "0909fb7ee85044ada070be51db53ad9d": {
          "model_module": "@jupyter-widgets/controls",
          "model_name": "HTMLModel",
          "model_module_version": "1.5.0",
          "state": {
            "_dom_classes": [],
            "_model_module": "@jupyter-widgets/controls",
            "_model_module_version": "1.5.0",
            "_model_name": "HTMLModel",
            "_view_count": null,
            "_view_module": "@jupyter-widgets/controls",
            "_view_module_version": "1.5.0",
            "_view_name": "HTMLView",
            "description": "",
            "description_tooltip": null,
            "layout": "IPY_MODEL_09e8ab86c4ee4a0eabe2043a470fcd13",
            "placeholder": "​",
            "style": "IPY_MODEL_334af6d4b7fa46c3996193840bda04a2",
            "value": "tokenization_qwen.py: 100%"
          }
        },
        "b314dfd654dc494fa89f759267f14652": {
          "model_module": "@jupyter-widgets/controls",
          "model_name": "FloatProgressModel",
          "model_module_version": "1.5.0",
          "state": {
            "_dom_classes": [],
            "_model_module": "@jupyter-widgets/controls",
            "_model_module_version": "1.5.0",
            "_model_name": "FloatProgressModel",
            "_view_count": null,
            "_view_module": "@jupyter-widgets/controls",
            "_view_module_version": "1.5.0",
            "_view_name": "ProgressView",
            "bar_style": "success",
            "description": "",
            "description_tooltip": null,
            "layout": "IPY_MODEL_d93a7a5e2e394a86ade1ef1e4a5ae904",
            "max": 10811,
            "min": 0,
            "orientation": "horizontal",
            "style": "IPY_MODEL_fa30da884c714defa048ae06839bfc53",
            "value": 10811
          }
        },
        "2b832e76874946c6ae30f26644f2160b": {
          "model_module": "@jupyter-widgets/controls",
          "model_name": "HTMLModel",
          "model_module_version": "1.5.0",
          "state": {
            "_dom_classes": [],
            "_model_module": "@jupyter-widgets/controls",
            "_model_module_version": "1.5.0",
            "_model_name": "HTMLModel",
            "_view_count": null,
            "_view_module": "@jupyter-widgets/controls",
            "_view_module_version": "1.5.0",
            "_view_name": "HTMLView",
            "description": "",
            "description_tooltip": null,
            "layout": "IPY_MODEL_8f04bc55670f4419b160da542c257822",
            "placeholder": "​",
            "style": "IPY_MODEL_19960405fe3c44bcb2dc1e540e67977b",
            "value": " 10.8k/10.8k [00:00&lt;00:00, 691kB/s]"
          }
        },
        "b71cd44561524766b7988d7cf8bec285": {
          "model_module": "@jupyter-widgets/base",
          "model_name": "LayoutModel",
          "model_module_version": "1.2.0",
          "state": {
            "_model_module": "@jupyter-widgets/base",
            "_model_module_version": "1.2.0",
            "_model_name": "LayoutModel",
            "_view_count": null,
            "_view_module": "@jupyter-widgets/base",
            "_view_module_version": "1.2.0",
            "_view_name": "LayoutView",
            "align_content": null,
            "align_items": null,
            "align_self": null,
            "border": null,
            "bottom": null,
            "display": null,
            "flex": null,
            "flex_flow": null,
            "grid_area": null,
            "grid_auto_columns": null,
            "grid_auto_flow": null,
            "grid_auto_rows": null,
            "grid_column": null,
            "grid_gap": null,
            "grid_row": null,
            "grid_template_areas": null,
            "grid_template_columns": null,
            "grid_template_rows": null,
            "height": null,
            "justify_content": null,
            "justify_items": null,
            "left": null,
            "margin": null,
            "max_height": null,
            "max_width": null,
            "min_height": null,
            "min_width": null,
            "object_fit": null,
            "object_position": null,
            "order": null,
            "overflow": null,
            "overflow_x": null,
            "overflow_y": null,
            "padding": null,
            "right": null,
            "top": null,
            "visibility": null,
            "width": null
          }
        },
        "09e8ab86c4ee4a0eabe2043a470fcd13": {
          "model_module": "@jupyter-widgets/base",
          "model_name": "LayoutModel",
          "model_module_version": "1.2.0",
          "state": {
            "_model_module": "@jupyter-widgets/base",
            "_model_module_version": "1.2.0",
            "_model_name": "LayoutModel",
            "_view_count": null,
            "_view_module": "@jupyter-widgets/base",
            "_view_module_version": "1.2.0",
            "_view_name": "LayoutView",
            "align_content": null,
            "align_items": null,
            "align_self": null,
            "border": null,
            "bottom": null,
            "display": null,
            "flex": null,
            "flex_flow": null,
            "grid_area": null,
            "grid_auto_columns": null,
            "grid_auto_flow": null,
            "grid_auto_rows": null,
            "grid_column": null,
            "grid_gap": null,
            "grid_row": null,
            "grid_template_areas": null,
            "grid_template_columns": null,
            "grid_template_rows": null,
            "height": null,
            "justify_content": null,
            "justify_items": null,
            "left": null,
            "margin": null,
            "max_height": null,
            "max_width": null,
            "min_height": null,
            "min_width": null,
            "object_fit": null,
            "object_position": null,
            "order": null,
            "overflow": null,
            "overflow_x": null,
            "overflow_y": null,
            "padding": null,
            "right": null,
            "top": null,
            "visibility": null,
            "width": null
          }
        },
        "334af6d4b7fa46c3996193840bda04a2": {
          "model_module": "@jupyter-widgets/controls",
          "model_name": "DescriptionStyleModel",
          "model_module_version": "1.5.0",
          "state": {
            "_model_module": "@jupyter-widgets/controls",
            "_model_module_version": "1.5.0",
            "_model_name": "DescriptionStyleModel",
            "_view_count": null,
            "_view_module": "@jupyter-widgets/base",
            "_view_module_version": "1.2.0",
            "_view_name": "StyleView",
            "description_width": ""
          }
        },
        "d93a7a5e2e394a86ade1ef1e4a5ae904": {
          "model_module": "@jupyter-widgets/base",
          "model_name": "LayoutModel",
          "model_module_version": "1.2.0",
          "state": {
            "_model_module": "@jupyter-widgets/base",
            "_model_module_version": "1.2.0",
            "_model_name": "LayoutModel",
            "_view_count": null,
            "_view_module": "@jupyter-widgets/base",
            "_view_module_version": "1.2.0",
            "_view_name": "LayoutView",
            "align_content": null,
            "align_items": null,
            "align_self": null,
            "border": null,
            "bottom": null,
            "display": null,
            "flex": null,
            "flex_flow": null,
            "grid_area": null,
            "grid_auto_columns": null,
            "grid_auto_flow": null,
            "grid_auto_rows": null,
            "grid_column": null,
            "grid_gap": null,
            "grid_row": null,
            "grid_template_areas": null,
            "grid_template_columns": null,
            "grid_template_rows": null,
            "height": null,
            "justify_content": null,
            "justify_items": null,
            "left": null,
            "margin": null,
            "max_height": null,
            "max_width": null,
            "min_height": null,
            "min_width": null,
            "object_fit": null,
            "object_position": null,
            "order": null,
            "overflow": null,
            "overflow_x": null,
            "overflow_y": null,
            "padding": null,
            "right": null,
            "top": null,
            "visibility": null,
            "width": null
          }
        },
        "fa30da884c714defa048ae06839bfc53": {
          "model_module": "@jupyter-widgets/controls",
          "model_name": "ProgressStyleModel",
          "model_module_version": "1.5.0",
          "state": {
            "_model_module": "@jupyter-widgets/controls",
            "_model_module_version": "1.5.0",
            "_model_name": "ProgressStyleModel",
            "_view_count": null,
            "_view_module": "@jupyter-widgets/base",
            "_view_module_version": "1.2.0",
            "_view_name": "StyleView",
            "bar_color": null,
            "description_width": ""
          }
        },
        "8f04bc55670f4419b160da542c257822": {
          "model_module": "@jupyter-widgets/base",
          "model_name": "LayoutModel",
          "model_module_version": "1.2.0",
          "state": {
            "_model_module": "@jupyter-widgets/base",
            "_model_module_version": "1.2.0",
            "_model_name": "LayoutModel",
            "_view_count": null,
            "_view_module": "@jupyter-widgets/base",
            "_view_module_version": "1.2.0",
            "_view_name": "LayoutView",
            "align_content": null,
            "align_items": null,
            "align_self": null,
            "border": null,
            "bottom": null,
            "display": null,
            "flex": null,
            "flex_flow": null,
            "grid_area": null,
            "grid_auto_columns": null,
            "grid_auto_flow": null,
            "grid_auto_rows": null,
            "grid_column": null,
            "grid_gap": null,
            "grid_row": null,
            "grid_template_areas": null,
            "grid_template_columns": null,
            "grid_template_rows": null,
            "height": null,
            "justify_content": null,
            "justify_items": null,
            "left": null,
            "margin": null,
            "max_height": null,
            "max_width": null,
            "min_height": null,
            "min_width": null,
            "object_fit": null,
            "object_position": null,
            "order": null,
            "overflow": null,
            "overflow_x": null,
            "overflow_y": null,
            "padding": null,
            "right": null,
            "top": null,
            "visibility": null,
            "width": null
          }
        },
        "19960405fe3c44bcb2dc1e540e67977b": {
          "model_module": "@jupyter-widgets/controls",
          "model_name": "DescriptionStyleModel",
          "model_module_version": "1.5.0",
          "state": {
            "_model_module": "@jupyter-widgets/controls",
            "_model_module_version": "1.5.0",
            "_model_name": "DescriptionStyleModel",
            "_view_count": null,
            "_view_module": "@jupyter-widgets/base",
            "_view_module_version": "1.2.0",
            "_view_name": "StyleView",
            "description_width": ""
          }
        },
        "c64df92036894eb395fc9600750b7b78": {
          "model_module": "@jupyter-widgets/controls",
          "model_name": "HBoxModel",
          "model_module_version": "1.5.0",
          "state": {
            "_dom_classes": [],
            "_model_module": "@jupyter-widgets/controls",
            "_model_module_version": "1.5.0",
            "_model_name": "HBoxModel",
            "_view_count": null,
            "_view_module": "@jupyter-widgets/controls",
            "_view_module_version": "1.5.0",
            "_view_name": "HBoxView",
            "box_style": "",
            "children": [
              "IPY_MODEL_0cc6ffd159e545f9952e86e879de02b7",
              "IPY_MODEL_001c5ec24aa64af483b4371de31d0a76",
              "IPY_MODEL_73372792cbe14c62a530b63af8a5fa60"
            ],
            "layout": "IPY_MODEL_70140b1ff75747979489999a00ba9fc1"
          }
        },
        "0cc6ffd159e545f9952e86e879de02b7": {
          "model_module": "@jupyter-widgets/controls",
          "model_name": "HTMLModel",
          "model_module_version": "1.5.0",
          "state": {
            "_dom_classes": [],
            "_model_module": "@jupyter-widgets/controls",
            "_model_module_version": "1.5.0",
            "_model_name": "HTMLModel",
            "_view_count": null,
            "_view_module": "@jupyter-widgets/controls",
            "_view_module_version": "1.5.0",
            "_view_name": "HTMLView",
            "description": "",
            "description_tooltip": null,
            "layout": "IPY_MODEL_479dae78f75342298ea8f8c1d0f72a24",
            "placeholder": "​",
            "style": "IPY_MODEL_43d90573fe04428faf4640120ec1600c",
            "value": "vocab.json: 100%"
          }
        },
        "001c5ec24aa64af483b4371de31d0a76": {
          "model_module": "@jupyter-widgets/controls",
          "model_name": "FloatProgressModel",
          "model_module_version": "1.5.0",
          "state": {
            "_dom_classes": [],
            "_model_module": "@jupyter-widgets/controls",
            "_model_module_version": "1.5.0",
            "_model_name": "FloatProgressModel",
            "_view_count": null,
            "_view_module": "@jupyter-widgets/controls",
            "_view_module_version": "1.5.0",
            "_view_name": "ProgressView",
            "bar_style": "success",
            "description": "",
            "description_tooltip": null,
            "layout": "IPY_MODEL_e9c08acc596a488794a76e6d834f773d",
            "max": 2776833,
            "min": 0,
            "orientation": "horizontal",
            "style": "IPY_MODEL_aa49daba629e41b5a5ffb8958d2855c9",
            "value": 2776833
          }
        },
        "73372792cbe14c62a530b63af8a5fa60": {
          "model_module": "@jupyter-widgets/controls",
          "model_name": "HTMLModel",
          "model_module_version": "1.5.0",
          "state": {
            "_dom_classes": [],
            "_model_module": "@jupyter-widgets/controls",
            "_model_module_version": "1.5.0",
            "_model_name": "HTMLModel",
            "_view_count": null,
            "_view_module": "@jupyter-widgets/controls",
            "_view_module_version": "1.5.0",
            "_view_name": "HTMLView",
            "description": "",
            "description_tooltip": null,
            "layout": "IPY_MODEL_89e09105cf45491a88f546239ee31037",
            "placeholder": "​",
            "style": "IPY_MODEL_3ae9a539489342d38d3552730b8e8632",
            "value": " 2.78M/2.78M [00:00&lt;00:00, 7.16MB/s]"
          }
        },
        "70140b1ff75747979489999a00ba9fc1": {
          "model_module": "@jupyter-widgets/base",
          "model_name": "LayoutModel",
          "model_module_version": "1.2.0",
          "state": {
            "_model_module": "@jupyter-widgets/base",
            "_model_module_version": "1.2.0",
            "_model_name": "LayoutModel",
            "_view_count": null,
            "_view_module": "@jupyter-widgets/base",
            "_view_module_version": "1.2.0",
            "_view_name": "LayoutView",
            "align_content": null,
            "align_items": null,
            "align_self": null,
            "border": null,
            "bottom": null,
            "display": null,
            "flex": null,
            "flex_flow": null,
            "grid_area": null,
            "grid_auto_columns": null,
            "grid_auto_flow": null,
            "grid_auto_rows": null,
            "grid_column": null,
            "grid_gap": null,
            "grid_row": null,
            "grid_template_areas": null,
            "grid_template_columns": null,
            "grid_template_rows": null,
            "height": null,
            "justify_content": null,
            "justify_items": null,
            "left": null,
            "margin": null,
            "max_height": null,
            "max_width": null,
            "min_height": null,
            "min_width": null,
            "object_fit": null,
            "object_position": null,
            "order": null,
            "overflow": null,
            "overflow_x": null,
            "overflow_y": null,
            "padding": null,
            "right": null,
            "top": null,
            "visibility": null,
            "width": null
          }
        },
        "479dae78f75342298ea8f8c1d0f72a24": {
          "model_module": "@jupyter-widgets/base",
          "model_name": "LayoutModel",
          "model_module_version": "1.2.0",
          "state": {
            "_model_module": "@jupyter-widgets/base",
            "_model_module_version": "1.2.0",
            "_model_name": "LayoutModel",
            "_view_count": null,
            "_view_module": "@jupyter-widgets/base",
            "_view_module_version": "1.2.0",
            "_view_name": "LayoutView",
            "align_content": null,
            "align_items": null,
            "align_self": null,
            "border": null,
            "bottom": null,
            "display": null,
            "flex": null,
            "flex_flow": null,
            "grid_area": null,
            "grid_auto_columns": null,
            "grid_auto_flow": null,
            "grid_auto_rows": null,
            "grid_column": null,
            "grid_gap": null,
            "grid_row": null,
            "grid_template_areas": null,
            "grid_template_columns": null,
            "grid_template_rows": null,
            "height": null,
            "justify_content": null,
            "justify_items": null,
            "left": null,
            "margin": null,
            "max_height": null,
            "max_width": null,
            "min_height": null,
            "min_width": null,
            "object_fit": null,
            "object_position": null,
            "order": null,
            "overflow": null,
            "overflow_x": null,
            "overflow_y": null,
            "padding": null,
            "right": null,
            "top": null,
            "visibility": null,
            "width": null
          }
        },
        "43d90573fe04428faf4640120ec1600c": {
          "model_module": "@jupyter-widgets/controls",
          "model_name": "DescriptionStyleModel",
          "model_module_version": "1.5.0",
          "state": {
            "_model_module": "@jupyter-widgets/controls",
            "_model_module_version": "1.5.0",
            "_model_name": "DescriptionStyleModel",
            "_view_count": null,
            "_view_module": "@jupyter-widgets/base",
            "_view_module_version": "1.2.0",
            "_view_name": "StyleView",
            "description_width": ""
          }
        },
        "e9c08acc596a488794a76e6d834f773d": {
          "model_module": "@jupyter-widgets/base",
          "model_name": "LayoutModel",
          "model_module_version": "1.2.0",
          "state": {
            "_model_module": "@jupyter-widgets/base",
            "_model_module_version": "1.2.0",
            "_model_name": "LayoutModel",
            "_view_count": null,
            "_view_module": "@jupyter-widgets/base",
            "_view_module_version": "1.2.0",
            "_view_name": "LayoutView",
            "align_content": null,
            "align_items": null,
            "align_self": null,
            "border": null,
            "bottom": null,
            "display": null,
            "flex": null,
            "flex_flow": null,
            "grid_area": null,
            "grid_auto_columns": null,
            "grid_auto_flow": null,
            "grid_auto_rows": null,
            "grid_column": null,
            "grid_gap": null,
            "grid_row": null,
            "grid_template_areas": null,
            "grid_template_columns": null,
            "grid_template_rows": null,
            "height": null,
            "justify_content": null,
            "justify_items": null,
            "left": null,
            "margin": null,
            "max_height": null,
            "max_width": null,
            "min_height": null,
            "min_width": null,
            "object_fit": null,
            "object_position": null,
            "order": null,
            "overflow": null,
            "overflow_x": null,
            "overflow_y": null,
            "padding": null,
            "right": null,
            "top": null,
            "visibility": null,
            "width": null
          }
        },
        "aa49daba629e41b5a5ffb8958d2855c9": {
          "model_module": "@jupyter-widgets/controls",
          "model_name": "ProgressStyleModel",
          "model_module_version": "1.5.0",
          "state": {
            "_model_module": "@jupyter-widgets/controls",
            "_model_module_version": "1.5.0",
            "_model_name": "ProgressStyleModel",
            "_view_count": null,
            "_view_module": "@jupyter-widgets/base",
            "_view_module_version": "1.2.0",
            "_view_name": "StyleView",
            "bar_color": null,
            "description_width": ""
          }
        },
        "89e09105cf45491a88f546239ee31037": {
          "model_module": "@jupyter-widgets/base",
          "model_name": "LayoutModel",
          "model_module_version": "1.2.0",
          "state": {
            "_model_module": "@jupyter-widgets/base",
            "_model_module_version": "1.2.0",
            "_model_name": "LayoutModel",
            "_view_count": null,
            "_view_module": "@jupyter-widgets/base",
            "_view_module_version": "1.2.0",
            "_view_name": "LayoutView",
            "align_content": null,
            "align_items": null,
            "align_self": null,
            "border": null,
            "bottom": null,
            "display": null,
            "flex": null,
            "flex_flow": null,
            "grid_area": null,
            "grid_auto_columns": null,
            "grid_auto_flow": null,
            "grid_auto_rows": null,
            "grid_column": null,
            "grid_gap": null,
            "grid_row": null,
            "grid_template_areas": null,
            "grid_template_columns": null,
            "grid_template_rows": null,
            "height": null,
            "justify_content": null,
            "justify_items": null,
            "left": null,
            "margin": null,
            "max_height": null,
            "max_width": null,
            "min_height": null,
            "min_width": null,
            "object_fit": null,
            "object_position": null,
            "order": null,
            "overflow": null,
            "overflow_x": null,
            "overflow_y": null,
            "padding": null,
            "right": null,
            "top": null,
            "visibility": null,
            "width": null
          }
        },
        "3ae9a539489342d38d3552730b8e8632": {
          "model_module": "@jupyter-widgets/controls",
          "model_name": "DescriptionStyleModel",
          "model_module_version": "1.5.0",
          "state": {
            "_model_module": "@jupyter-widgets/controls",
            "_model_module_version": "1.5.0",
            "_model_name": "DescriptionStyleModel",
            "_view_count": null,
            "_view_module": "@jupyter-widgets/base",
            "_view_module_version": "1.2.0",
            "_view_name": "StyleView",
            "description_width": ""
          }
        },
        "66e7f0238c2d4f0b854daadfdb8753a4": {
          "model_module": "@jupyter-widgets/controls",
          "model_name": "HBoxModel",
          "model_module_version": "1.5.0",
          "state": {
            "_dom_classes": [],
            "_model_module": "@jupyter-widgets/controls",
            "_model_module_version": "1.5.0",
            "_model_name": "HBoxModel",
            "_view_count": null,
            "_view_module": "@jupyter-widgets/controls",
            "_view_module_version": "1.5.0",
            "_view_name": "HBoxView",
            "box_style": "",
            "children": [
              "IPY_MODEL_75310a24c0ad4c12ab483b353413f6ee",
              "IPY_MODEL_7e67d6685ed04fd0843e3a44d272af6f",
              "IPY_MODEL_5b4b12bdd9804d0399b259688c8a54e3"
            ],
            "layout": "IPY_MODEL_64dec18800fd486591d2bd6a08b07378"
          }
        },
        "75310a24c0ad4c12ab483b353413f6ee": {
          "model_module": "@jupyter-widgets/controls",
          "model_name": "HTMLModel",
          "model_module_version": "1.5.0",
          "state": {
            "_dom_classes": [],
            "_model_module": "@jupyter-widgets/controls",
            "_model_module_version": "1.5.0",
            "_model_name": "HTMLModel",
            "_view_count": null,
            "_view_module": "@jupyter-widgets/controls",
            "_view_module_version": "1.5.0",
            "_view_name": "HTMLView",
            "description": "",
            "description_tooltip": null,
            "layout": "IPY_MODEL_d4385fbbc8d7443cbb4152aa68f5626b",
            "placeholder": "​",
            "style": "IPY_MODEL_ca044cf1156640059805a4eb26f08ce3",
            "value": "merges.txt: 100%"
          }
        },
        "7e67d6685ed04fd0843e3a44d272af6f": {
          "model_module": "@jupyter-widgets/controls",
          "model_name": "FloatProgressModel",
          "model_module_version": "1.5.0",
          "state": {
            "_dom_classes": [],
            "_model_module": "@jupyter-widgets/controls",
            "_model_module_version": "1.5.0",
            "_model_name": "FloatProgressModel",
            "_view_count": null,
            "_view_module": "@jupyter-widgets/controls",
            "_view_module_version": "1.5.0",
            "_view_name": "ProgressView",
            "bar_style": "success",
            "description": "",
            "description_tooltip": null,
            "layout": "IPY_MODEL_03d0c2cf03204c61b442501c0ac3bc27",
            "max": 1671853,
            "min": 0,
            "orientation": "horizontal",
            "style": "IPY_MODEL_dccd1ef3d8e1455597f6f1f30076ded1",
            "value": 1671853
          }
        },
        "5b4b12bdd9804d0399b259688c8a54e3": {
          "model_module": "@jupyter-widgets/controls",
          "model_name": "HTMLModel",
          "model_module_version": "1.5.0",
          "state": {
            "_dom_classes": [],
            "_model_module": "@jupyter-widgets/controls",
            "_model_module_version": "1.5.0",
            "_model_name": "HTMLModel",
            "_view_count": null,
            "_view_module": "@jupyter-widgets/controls",
            "_view_module_version": "1.5.0",
            "_view_name": "HTMLView",
            "description": "",
            "description_tooltip": null,
            "layout": "IPY_MODEL_5f1641ffc5f34ee187581938f4873095",
            "placeholder": "​",
            "style": "IPY_MODEL_e38ba14f132043378085df391627e36c",
            "value": " 1.67M/1.67M [00:00&lt;00:00, 19.1MB/s]"
          }
        },
        "64dec18800fd486591d2bd6a08b07378": {
          "model_module": "@jupyter-widgets/base",
          "model_name": "LayoutModel",
          "model_module_version": "1.2.0",
          "state": {
            "_model_module": "@jupyter-widgets/base",
            "_model_module_version": "1.2.0",
            "_model_name": "LayoutModel",
            "_view_count": null,
            "_view_module": "@jupyter-widgets/base",
            "_view_module_version": "1.2.0",
            "_view_name": "LayoutView",
            "align_content": null,
            "align_items": null,
            "align_self": null,
            "border": null,
            "bottom": null,
            "display": null,
            "flex": null,
            "flex_flow": null,
            "grid_area": null,
            "grid_auto_columns": null,
            "grid_auto_flow": null,
            "grid_auto_rows": null,
            "grid_column": null,
            "grid_gap": null,
            "grid_row": null,
            "grid_template_areas": null,
            "grid_template_columns": null,
            "grid_template_rows": null,
            "height": null,
            "justify_content": null,
            "justify_items": null,
            "left": null,
            "margin": null,
            "max_height": null,
            "max_width": null,
            "min_height": null,
            "min_width": null,
            "object_fit": null,
            "object_position": null,
            "order": null,
            "overflow": null,
            "overflow_x": null,
            "overflow_y": null,
            "padding": null,
            "right": null,
            "top": null,
            "visibility": null,
            "width": null
          }
        },
        "d4385fbbc8d7443cbb4152aa68f5626b": {
          "model_module": "@jupyter-widgets/base",
          "model_name": "LayoutModel",
          "model_module_version": "1.2.0",
          "state": {
            "_model_module": "@jupyter-widgets/base",
            "_model_module_version": "1.2.0",
            "_model_name": "LayoutModel",
            "_view_count": null,
            "_view_module": "@jupyter-widgets/base",
            "_view_module_version": "1.2.0",
            "_view_name": "LayoutView",
            "align_content": null,
            "align_items": null,
            "align_self": null,
            "border": null,
            "bottom": null,
            "display": null,
            "flex": null,
            "flex_flow": null,
            "grid_area": null,
            "grid_auto_columns": null,
            "grid_auto_flow": null,
            "grid_auto_rows": null,
            "grid_column": null,
            "grid_gap": null,
            "grid_row": null,
            "grid_template_areas": null,
            "grid_template_columns": null,
            "grid_template_rows": null,
            "height": null,
            "justify_content": null,
            "justify_items": null,
            "left": null,
            "margin": null,
            "max_height": null,
            "max_width": null,
            "min_height": null,
            "min_width": null,
            "object_fit": null,
            "object_position": null,
            "order": null,
            "overflow": null,
            "overflow_x": null,
            "overflow_y": null,
            "padding": null,
            "right": null,
            "top": null,
            "visibility": null,
            "width": null
          }
        },
        "ca044cf1156640059805a4eb26f08ce3": {
          "model_module": "@jupyter-widgets/controls",
          "model_name": "DescriptionStyleModel",
          "model_module_version": "1.5.0",
          "state": {
            "_model_module": "@jupyter-widgets/controls",
            "_model_module_version": "1.5.0",
            "_model_name": "DescriptionStyleModel",
            "_view_count": null,
            "_view_module": "@jupyter-widgets/base",
            "_view_module_version": "1.2.0",
            "_view_name": "StyleView",
            "description_width": ""
          }
        },
        "03d0c2cf03204c61b442501c0ac3bc27": {
          "model_module": "@jupyter-widgets/base",
          "model_name": "LayoutModel",
          "model_module_version": "1.2.0",
          "state": {
            "_model_module": "@jupyter-widgets/base",
            "_model_module_version": "1.2.0",
            "_model_name": "LayoutModel",
            "_view_count": null,
            "_view_module": "@jupyter-widgets/base",
            "_view_module_version": "1.2.0",
            "_view_name": "LayoutView",
            "align_content": null,
            "align_items": null,
            "align_self": null,
            "border": null,
            "bottom": null,
            "display": null,
            "flex": null,
            "flex_flow": null,
            "grid_area": null,
            "grid_auto_columns": null,
            "grid_auto_flow": null,
            "grid_auto_rows": null,
            "grid_column": null,
            "grid_gap": null,
            "grid_row": null,
            "grid_template_areas": null,
            "grid_template_columns": null,
            "grid_template_rows": null,
            "height": null,
            "justify_content": null,
            "justify_items": null,
            "left": null,
            "margin": null,
            "max_height": null,
            "max_width": null,
            "min_height": null,
            "min_width": null,
            "object_fit": null,
            "object_position": null,
            "order": null,
            "overflow": null,
            "overflow_x": null,
            "overflow_y": null,
            "padding": null,
            "right": null,
            "top": null,
            "visibility": null,
            "width": null
          }
        },
        "dccd1ef3d8e1455597f6f1f30076ded1": {
          "model_module": "@jupyter-widgets/controls",
          "model_name": "ProgressStyleModel",
          "model_module_version": "1.5.0",
          "state": {
            "_model_module": "@jupyter-widgets/controls",
            "_model_module_version": "1.5.0",
            "_model_name": "ProgressStyleModel",
            "_view_count": null,
            "_view_module": "@jupyter-widgets/base",
            "_view_module_version": "1.2.0",
            "_view_name": "StyleView",
            "bar_color": null,
            "description_width": ""
          }
        },
        "5f1641ffc5f34ee187581938f4873095": {
          "model_module": "@jupyter-widgets/base",
          "model_name": "LayoutModel",
          "model_module_version": "1.2.0",
          "state": {
            "_model_module": "@jupyter-widgets/base",
            "_model_module_version": "1.2.0",
            "_model_name": "LayoutModel",
            "_view_count": null,
            "_view_module": "@jupyter-widgets/base",
            "_view_module_version": "1.2.0",
            "_view_name": "LayoutView",
            "align_content": null,
            "align_items": null,
            "align_self": null,
            "border": null,
            "bottom": null,
            "display": null,
            "flex": null,
            "flex_flow": null,
            "grid_area": null,
            "grid_auto_columns": null,
            "grid_auto_flow": null,
            "grid_auto_rows": null,
            "grid_column": null,
            "grid_gap": null,
            "grid_row": null,
            "grid_template_areas": null,
            "grid_template_columns": null,
            "grid_template_rows": null,
            "height": null,
            "justify_content": null,
            "justify_items": null,
            "left": null,
            "margin": null,
            "max_height": null,
            "max_width": null,
            "min_height": null,
            "min_width": null,
            "object_fit": null,
            "object_position": null,
            "order": null,
            "overflow": null,
            "overflow_x": null,
            "overflow_y": null,
            "padding": null,
            "right": null,
            "top": null,
            "visibility": null,
            "width": null
          }
        },
        "e38ba14f132043378085df391627e36c": {
          "model_module": "@jupyter-widgets/controls",
          "model_name": "DescriptionStyleModel",
          "model_module_version": "1.5.0",
          "state": {
            "_model_module": "@jupyter-widgets/controls",
            "_model_module_version": "1.5.0",
            "_model_name": "DescriptionStyleModel",
            "_view_count": null,
            "_view_module": "@jupyter-widgets/base",
            "_view_module_version": "1.2.0",
            "_view_name": "StyleView",
            "description_width": ""
          }
        },
        "d79e3b8f222446c2a0d6efb063e27b14": {
          "model_module": "@jupyter-widgets/controls",
          "model_name": "HBoxModel",
          "model_module_version": "1.5.0",
          "state": {
            "_dom_classes": [],
            "_model_module": "@jupyter-widgets/controls",
            "_model_module_version": "1.5.0",
            "_model_name": "HBoxModel",
            "_view_count": null,
            "_view_module": "@jupyter-widgets/controls",
            "_view_module_version": "1.5.0",
            "_view_name": "HBoxView",
            "box_style": "",
            "children": [
              "IPY_MODEL_e015c13cb7564976a90b6f96e7863771",
              "IPY_MODEL_730371d9967f4e2e8b4979098f9602f9",
              "IPY_MODEL_3faf4e9c49b349e0ac299e9585ec7f7f"
            ],
            "layout": "IPY_MODEL_576c8ec2cb184642af6d9cc80b09ff3a"
          }
        },
        "e015c13cb7564976a90b6f96e7863771": {
          "model_module": "@jupyter-widgets/controls",
          "model_name": "HTMLModel",
          "model_module_version": "1.5.0",
          "state": {
            "_dom_classes": [],
            "_model_module": "@jupyter-widgets/controls",
            "_model_module_version": "1.5.0",
            "_model_name": "HTMLModel",
            "_view_count": null,
            "_view_module": "@jupyter-widgets/controls",
            "_view_module_version": "1.5.0",
            "_view_name": "HTMLView",
            "description": "",
            "description_tooltip": null,
            "layout": "IPY_MODEL_e18c2dd3be964f3fa1b8704d7ed569a0",
            "placeholder": "​",
            "style": "IPY_MODEL_642aa904f2ac41e48c47bc0cc260717c",
            "value": "tokenizer.json: 100%"
          }
        },
        "730371d9967f4e2e8b4979098f9602f9": {
          "model_module": "@jupyter-widgets/controls",
          "model_name": "FloatProgressModel",
          "model_module_version": "1.5.0",
          "state": {
            "_dom_classes": [],
            "_model_module": "@jupyter-widgets/controls",
            "_model_module_version": "1.5.0",
            "_model_name": "FloatProgressModel",
            "_view_count": null,
            "_view_module": "@jupyter-widgets/controls",
            "_view_module_version": "1.5.0",
            "_view_name": "ProgressView",
            "bar_style": "success",
            "description": "",
            "description_tooltip": null,
            "layout": "IPY_MODEL_a0f5e09409e04ae7ac85ad2cc56421a2",
            "max": 7028814,
            "min": 0,
            "orientation": "horizontal",
            "style": "IPY_MODEL_7b2a21a700724adc8f92cd4e15e8f1f0",
            "value": 7028814
          }
        },
        "3faf4e9c49b349e0ac299e9585ec7f7f": {
          "model_module": "@jupyter-widgets/controls",
          "model_name": "HTMLModel",
          "model_module_version": "1.5.0",
          "state": {
            "_dom_classes": [],
            "_model_module": "@jupyter-widgets/controls",
            "_model_module_version": "1.5.0",
            "_model_name": "HTMLModel",
            "_view_count": null,
            "_view_module": "@jupyter-widgets/controls",
            "_view_module_version": "1.5.0",
            "_view_name": "HTMLView",
            "description": "",
            "description_tooltip": null,
            "layout": "IPY_MODEL_15a8d4fb2efd42a89e238eadbb765c99",
            "placeholder": "​",
            "style": "IPY_MODEL_d948fb8b5a554fa4bf9381ac7cb14375",
            "value": " 7.03M/7.03M [00:00&lt;00:00, 32.0MB/s]"
          }
        },
        "576c8ec2cb184642af6d9cc80b09ff3a": {
          "model_module": "@jupyter-widgets/base",
          "model_name": "LayoutModel",
          "model_module_version": "1.2.0",
          "state": {
            "_model_module": "@jupyter-widgets/base",
            "_model_module_version": "1.2.0",
            "_model_name": "LayoutModel",
            "_view_count": null,
            "_view_module": "@jupyter-widgets/base",
            "_view_module_version": "1.2.0",
            "_view_name": "LayoutView",
            "align_content": null,
            "align_items": null,
            "align_self": null,
            "border": null,
            "bottom": null,
            "display": null,
            "flex": null,
            "flex_flow": null,
            "grid_area": null,
            "grid_auto_columns": null,
            "grid_auto_flow": null,
            "grid_auto_rows": null,
            "grid_column": null,
            "grid_gap": null,
            "grid_row": null,
            "grid_template_areas": null,
            "grid_template_columns": null,
            "grid_template_rows": null,
            "height": null,
            "justify_content": null,
            "justify_items": null,
            "left": null,
            "margin": null,
            "max_height": null,
            "max_width": null,
            "min_height": null,
            "min_width": null,
            "object_fit": null,
            "object_position": null,
            "order": null,
            "overflow": null,
            "overflow_x": null,
            "overflow_y": null,
            "padding": null,
            "right": null,
            "top": null,
            "visibility": null,
            "width": null
          }
        },
        "e18c2dd3be964f3fa1b8704d7ed569a0": {
          "model_module": "@jupyter-widgets/base",
          "model_name": "LayoutModel",
          "model_module_version": "1.2.0",
          "state": {
            "_model_module": "@jupyter-widgets/base",
            "_model_module_version": "1.2.0",
            "_model_name": "LayoutModel",
            "_view_count": null,
            "_view_module": "@jupyter-widgets/base",
            "_view_module_version": "1.2.0",
            "_view_name": "LayoutView",
            "align_content": null,
            "align_items": null,
            "align_self": null,
            "border": null,
            "bottom": null,
            "display": null,
            "flex": null,
            "flex_flow": null,
            "grid_area": null,
            "grid_auto_columns": null,
            "grid_auto_flow": null,
            "grid_auto_rows": null,
            "grid_column": null,
            "grid_gap": null,
            "grid_row": null,
            "grid_template_areas": null,
            "grid_template_columns": null,
            "grid_template_rows": null,
            "height": null,
            "justify_content": null,
            "justify_items": null,
            "left": null,
            "margin": null,
            "max_height": null,
            "max_width": null,
            "min_height": null,
            "min_width": null,
            "object_fit": null,
            "object_position": null,
            "order": null,
            "overflow": null,
            "overflow_x": null,
            "overflow_y": null,
            "padding": null,
            "right": null,
            "top": null,
            "visibility": null,
            "width": null
          }
        },
        "642aa904f2ac41e48c47bc0cc260717c": {
          "model_module": "@jupyter-widgets/controls",
          "model_name": "DescriptionStyleModel",
          "model_module_version": "1.5.0",
          "state": {
            "_model_module": "@jupyter-widgets/controls",
            "_model_module_version": "1.5.0",
            "_model_name": "DescriptionStyleModel",
            "_view_count": null,
            "_view_module": "@jupyter-widgets/base",
            "_view_module_version": "1.2.0",
            "_view_name": "StyleView",
            "description_width": ""
          }
        },
        "a0f5e09409e04ae7ac85ad2cc56421a2": {
          "model_module": "@jupyter-widgets/base",
          "model_name": "LayoutModel",
          "model_module_version": "1.2.0",
          "state": {
            "_model_module": "@jupyter-widgets/base",
            "_model_module_version": "1.2.0",
            "_model_name": "LayoutModel",
            "_view_count": null,
            "_view_module": "@jupyter-widgets/base",
            "_view_module_version": "1.2.0",
            "_view_name": "LayoutView",
            "align_content": null,
            "align_items": null,
            "align_self": null,
            "border": null,
            "bottom": null,
            "display": null,
            "flex": null,
            "flex_flow": null,
            "grid_area": null,
            "grid_auto_columns": null,
            "grid_auto_flow": null,
            "grid_auto_rows": null,
            "grid_column": null,
            "grid_gap": null,
            "grid_row": null,
            "grid_template_areas": null,
            "grid_template_columns": null,
            "grid_template_rows": null,
            "height": null,
            "justify_content": null,
            "justify_items": null,
            "left": null,
            "margin": null,
            "max_height": null,
            "max_width": null,
            "min_height": null,
            "min_width": null,
            "object_fit": null,
            "object_position": null,
            "order": null,
            "overflow": null,
            "overflow_x": null,
            "overflow_y": null,
            "padding": null,
            "right": null,
            "top": null,
            "visibility": null,
            "width": null
          }
        },
        "7b2a21a700724adc8f92cd4e15e8f1f0": {
          "model_module": "@jupyter-widgets/controls",
          "model_name": "ProgressStyleModel",
          "model_module_version": "1.5.0",
          "state": {
            "_model_module": "@jupyter-widgets/controls",
            "_model_module_version": "1.5.0",
            "_model_name": "ProgressStyleModel",
            "_view_count": null,
            "_view_module": "@jupyter-widgets/base",
            "_view_module_version": "1.2.0",
            "_view_name": "StyleView",
            "bar_color": null,
            "description_width": ""
          }
        },
        "15a8d4fb2efd42a89e238eadbb765c99": {
          "model_module": "@jupyter-widgets/base",
          "model_name": "LayoutModel",
          "model_module_version": "1.2.0",
          "state": {
            "_model_module": "@jupyter-widgets/base",
            "_model_module_version": "1.2.0",
            "_model_name": "LayoutModel",
            "_view_count": null,
            "_view_module": "@jupyter-widgets/base",
            "_view_module_version": "1.2.0",
            "_view_name": "LayoutView",
            "align_content": null,
            "align_items": null,
            "align_self": null,
            "border": null,
            "bottom": null,
            "display": null,
            "flex": null,
            "flex_flow": null,
            "grid_area": null,
            "grid_auto_columns": null,
            "grid_auto_flow": null,
            "grid_auto_rows": null,
            "grid_column": null,
            "grid_gap": null,
            "grid_row": null,
            "grid_template_areas": null,
            "grid_template_columns": null,
            "grid_template_rows": null,
            "height": null,
            "justify_content": null,
            "justify_items": null,
            "left": null,
            "margin": null,
            "max_height": null,
            "max_width": null,
            "min_height": null,
            "min_width": null,
            "object_fit": null,
            "object_position": null,
            "order": null,
            "overflow": null,
            "overflow_x": null,
            "overflow_y": null,
            "padding": null,
            "right": null,
            "top": null,
            "visibility": null,
            "width": null
          }
        },
        "d948fb8b5a554fa4bf9381ac7cb14375": {
          "model_module": "@jupyter-widgets/controls",
          "model_name": "DescriptionStyleModel",
          "model_module_version": "1.5.0",
          "state": {
            "_model_module": "@jupyter-widgets/controls",
            "_model_module_version": "1.5.0",
            "_model_name": "DescriptionStyleModel",
            "_view_count": null,
            "_view_module": "@jupyter-widgets/base",
            "_view_module_version": "1.2.0",
            "_view_name": "StyleView",
            "description_width": ""
          }
        },
        "884eef7cd03d4f44b0908ad05ee73d2a": {
          "model_module": "@jupyter-widgets/controls",
          "model_name": "HBoxModel",
          "model_module_version": "1.5.0",
          "state": {
            "_dom_classes": [],
            "_model_module": "@jupyter-widgets/controls",
            "_model_module_version": "1.5.0",
            "_model_name": "HBoxModel",
            "_view_count": null,
            "_view_module": "@jupyter-widgets/controls",
            "_view_module_version": "1.5.0",
            "_view_name": "HBoxView",
            "box_style": "",
            "children": [
              "IPY_MODEL_40b73c04df3e4820bb41fdb8de0055f7",
              "IPY_MODEL_d7d09bdb4f5d46498f347944f2b64f0c",
              "IPY_MODEL_74019057c4fb4501bfaeb2b849061d19"
            ],
            "layout": "IPY_MODEL_78e01e8fc44d4dacba4bc9c54aaaf043"
          }
        },
        "40b73c04df3e4820bb41fdb8de0055f7": {
          "model_module": "@jupyter-widgets/controls",
          "model_name": "HTMLModel",
          "model_module_version": "1.5.0",
          "state": {
            "_dom_classes": [],
            "_model_module": "@jupyter-widgets/controls",
            "_model_module_version": "1.5.0",
            "_model_name": "HTMLModel",
            "_view_count": null,
            "_view_module": "@jupyter-widgets/controls",
            "_view_module_version": "1.5.0",
            "_view_name": "HTMLView",
            "description": "",
            "description_tooltip": null,
            "layout": "IPY_MODEL_6f39b39a66e2418683699f9a4ceef3c0",
            "placeholder": "​",
            "style": "IPY_MODEL_c2f59cbe1f544c4089ceac7422a6fffe",
            "value": "added_tokens.json: 100%"
          }
        },
        "d7d09bdb4f5d46498f347944f2b64f0c": {
          "model_module": "@jupyter-widgets/controls",
          "model_name": "FloatProgressModel",
          "model_module_version": "1.5.0",
          "state": {
            "_dom_classes": [],
            "_model_module": "@jupyter-widgets/controls",
            "_model_module_version": "1.5.0",
            "_model_name": "FloatProgressModel",
            "_view_count": null,
            "_view_module": "@jupyter-widgets/controls",
            "_view_module_version": "1.5.0",
            "_view_name": "ProgressView",
            "bar_style": "success",
            "description": "",
            "description_tooltip": null,
            "layout": "IPY_MODEL_9877280825ac4f85a2a5320ef174bee5",
            "max": 80,
            "min": 0,
            "orientation": "horizontal",
            "style": "IPY_MODEL_1a9456b8326c435f80343ab81144ef55",
            "value": 80
          }
        },
        "74019057c4fb4501bfaeb2b849061d19": {
          "model_module": "@jupyter-widgets/controls",
          "model_name": "HTMLModel",
          "model_module_version": "1.5.0",
          "state": {
            "_dom_classes": [],
            "_model_module": "@jupyter-widgets/controls",
            "_model_module_version": "1.5.0",
            "_model_name": "HTMLModel",
            "_view_count": null,
            "_view_module": "@jupyter-widgets/controls",
            "_view_module_version": "1.5.0",
            "_view_name": "HTMLView",
            "description": "",
            "description_tooltip": null,
            "layout": "IPY_MODEL_0360aba19ab94f6a92f5dfe50560c6b8",
            "placeholder": "​",
            "style": "IPY_MODEL_643da53b8af3427bb911d7b9cab71cfc",
            "value": " 80.0/80.0 [00:00&lt;00:00, 5.57kB/s]"
          }
        },
        "78e01e8fc44d4dacba4bc9c54aaaf043": {
          "model_module": "@jupyter-widgets/base",
          "model_name": "LayoutModel",
          "model_module_version": "1.2.0",
          "state": {
            "_model_module": "@jupyter-widgets/base",
            "_model_module_version": "1.2.0",
            "_model_name": "LayoutModel",
            "_view_count": null,
            "_view_module": "@jupyter-widgets/base",
            "_view_module_version": "1.2.0",
            "_view_name": "LayoutView",
            "align_content": null,
            "align_items": null,
            "align_self": null,
            "border": null,
            "bottom": null,
            "display": null,
            "flex": null,
            "flex_flow": null,
            "grid_area": null,
            "grid_auto_columns": null,
            "grid_auto_flow": null,
            "grid_auto_rows": null,
            "grid_column": null,
            "grid_gap": null,
            "grid_row": null,
            "grid_template_areas": null,
            "grid_template_columns": null,
            "grid_template_rows": null,
            "height": null,
            "justify_content": null,
            "justify_items": null,
            "left": null,
            "margin": null,
            "max_height": null,
            "max_width": null,
            "min_height": null,
            "min_width": null,
            "object_fit": null,
            "object_position": null,
            "order": null,
            "overflow": null,
            "overflow_x": null,
            "overflow_y": null,
            "padding": null,
            "right": null,
            "top": null,
            "visibility": null,
            "width": null
          }
        },
        "6f39b39a66e2418683699f9a4ceef3c0": {
          "model_module": "@jupyter-widgets/base",
          "model_name": "LayoutModel",
          "model_module_version": "1.2.0",
          "state": {
            "_model_module": "@jupyter-widgets/base",
            "_model_module_version": "1.2.0",
            "_model_name": "LayoutModel",
            "_view_count": null,
            "_view_module": "@jupyter-widgets/base",
            "_view_module_version": "1.2.0",
            "_view_name": "LayoutView",
            "align_content": null,
            "align_items": null,
            "align_self": null,
            "border": null,
            "bottom": null,
            "display": null,
            "flex": null,
            "flex_flow": null,
            "grid_area": null,
            "grid_auto_columns": null,
            "grid_auto_flow": null,
            "grid_auto_rows": null,
            "grid_column": null,
            "grid_gap": null,
            "grid_row": null,
            "grid_template_areas": null,
            "grid_template_columns": null,
            "grid_template_rows": null,
            "height": null,
            "justify_content": null,
            "justify_items": null,
            "left": null,
            "margin": null,
            "max_height": null,
            "max_width": null,
            "min_height": null,
            "min_width": null,
            "object_fit": null,
            "object_position": null,
            "order": null,
            "overflow": null,
            "overflow_x": null,
            "overflow_y": null,
            "padding": null,
            "right": null,
            "top": null,
            "visibility": null,
            "width": null
          }
        },
        "c2f59cbe1f544c4089ceac7422a6fffe": {
          "model_module": "@jupyter-widgets/controls",
          "model_name": "DescriptionStyleModel",
          "model_module_version": "1.5.0",
          "state": {
            "_model_module": "@jupyter-widgets/controls",
            "_model_module_version": "1.5.0",
            "_model_name": "DescriptionStyleModel",
            "_view_count": null,
            "_view_module": "@jupyter-widgets/base",
            "_view_module_version": "1.2.0",
            "_view_name": "StyleView",
            "description_width": ""
          }
        },
        "9877280825ac4f85a2a5320ef174bee5": {
          "model_module": "@jupyter-widgets/base",
          "model_name": "LayoutModel",
          "model_module_version": "1.2.0",
          "state": {
            "_model_module": "@jupyter-widgets/base",
            "_model_module_version": "1.2.0",
            "_model_name": "LayoutModel",
            "_view_count": null,
            "_view_module": "@jupyter-widgets/base",
            "_view_module_version": "1.2.0",
            "_view_name": "LayoutView",
            "align_content": null,
            "align_items": null,
            "align_self": null,
            "border": null,
            "bottom": null,
            "display": null,
            "flex": null,
            "flex_flow": null,
            "grid_area": null,
            "grid_auto_columns": null,
            "grid_auto_flow": null,
            "grid_auto_rows": null,
            "grid_column": null,
            "grid_gap": null,
            "grid_row": null,
            "grid_template_areas": null,
            "grid_template_columns": null,
            "grid_template_rows": null,
            "height": null,
            "justify_content": null,
            "justify_items": null,
            "left": null,
            "margin": null,
            "max_height": null,
            "max_width": null,
            "min_height": null,
            "min_width": null,
            "object_fit": null,
            "object_position": null,
            "order": null,
            "overflow": null,
            "overflow_x": null,
            "overflow_y": null,
            "padding": null,
            "right": null,
            "top": null,
            "visibility": null,
            "width": null
          }
        },
        "1a9456b8326c435f80343ab81144ef55": {
          "model_module": "@jupyter-widgets/controls",
          "model_name": "ProgressStyleModel",
          "model_module_version": "1.5.0",
          "state": {
            "_model_module": "@jupyter-widgets/controls",
            "_model_module_version": "1.5.0",
            "_model_name": "ProgressStyleModel",
            "_view_count": null,
            "_view_module": "@jupyter-widgets/base",
            "_view_module_version": "1.2.0",
            "_view_name": "StyleView",
            "bar_color": null,
            "description_width": ""
          }
        },
        "0360aba19ab94f6a92f5dfe50560c6b8": {
          "model_module": "@jupyter-widgets/base",
          "model_name": "LayoutModel",
          "model_module_version": "1.2.0",
          "state": {
            "_model_module": "@jupyter-widgets/base",
            "_model_module_version": "1.2.0",
            "_model_name": "LayoutModel",
            "_view_count": null,
            "_view_module": "@jupyter-widgets/base",
            "_view_module_version": "1.2.0",
            "_view_name": "LayoutView",
            "align_content": null,
            "align_items": null,
            "align_self": null,
            "border": null,
            "bottom": null,
            "display": null,
            "flex": null,
            "flex_flow": null,
            "grid_area": null,
            "grid_auto_columns": null,
            "grid_auto_flow": null,
            "grid_auto_rows": null,
            "grid_column": null,
            "grid_gap": null,
            "grid_row": null,
            "grid_template_areas": null,
            "grid_template_columns": null,
            "grid_template_rows": null,
            "height": null,
            "justify_content": null,
            "justify_items": null,
            "left": null,
            "margin": null,
            "max_height": null,
            "max_width": null,
            "min_height": null,
            "min_width": null,
            "object_fit": null,
            "object_position": null,
            "order": null,
            "overflow": null,
            "overflow_x": null,
            "overflow_y": null,
            "padding": null,
            "right": null,
            "top": null,
            "visibility": null,
            "width": null
          }
        },
        "643da53b8af3427bb911d7b9cab71cfc": {
          "model_module": "@jupyter-widgets/controls",
          "model_name": "DescriptionStyleModel",
          "model_module_version": "1.5.0",
          "state": {
            "_model_module": "@jupyter-widgets/controls",
            "_model_module_version": "1.5.0",
            "_model_name": "DescriptionStyleModel",
            "_view_count": null,
            "_view_module": "@jupyter-widgets/base",
            "_view_module_version": "1.2.0",
            "_view_name": "StyleView",
            "description_width": ""
          }
        },
        "8a48fd47cfeb46ca83f26c1f6bae399f": {
          "model_module": "@jupyter-widgets/controls",
          "model_name": "HBoxModel",
          "model_module_version": "1.5.0",
          "state": {
            "_dom_classes": [],
            "_model_module": "@jupyter-widgets/controls",
            "_model_module_version": "1.5.0",
            "_model_name": "HBoxModel",
            "_view_count": null,
            "_view_module": "@jupyter-widgets/controls",
            "_view_module_version": "1.5.0",
            "_view_name": "HBoxView",
            "box_style": "",
            "children": [
              "IPY_MODEL_f4c9458b44fe4669b8d4e6a69c721df4",
              "IPY_MODEL_a367cb2cdb1c454eb1493550d6b57d8b",
              "IPY_MODEL_a2c0e941ab324a52950af81ef8005bda"
            ],
            "layout": "IPY_MODEL_8d1acce41a8d41c6aa72a38ed84fe401"
          }
        },
        "f4c9458b44fe4669b8d4e6a69c721df4": {
          "model_module": "@jupyter-widgets/controls",
          "model_name": "HTMLModel",
          "model_module_version": "1.5.0",
          "state": {
            "_dom_classes": [],
            "_model_module": "@jupyter-widgets/controls",
            "_model_module_version": "1.5.0",
            "_model_name": "HTMLModel",
            "_view_count": null,
            "_view_module": "@jupyter-widgets/controls",
            "_view_module_version": "1.5.0",
            "_view_name": "HTMLView",
            "description": "",
            "description_tooltip": null,
            "layout": "IPY_MODEL_8966302cc4fe4632a944411f69073bcf",
            "placeholder": "​",
            "style": "IPY_MODEL_657bf575fb274627aa6ff1b55e3e1346",
            "value": "special_tokens_map.json: 100%"
          }
        },
        "a367cb2cdb1c454eb1493550d6b57d8b": {
          "model_module": "@jupyter-widgets/controls",
          "model_name": "FloatProgressModel",
          "model_module_version": "1.5.0",
          "state": {
            "_dom_classes": [],
            "_model_module": "@jupyter-widgets/controls",
            "_model_module_version": "1.5.0",
            "_model_name": "FloatProgressModel",
            "_view_count": null,
            "_view_module": "@jupyter-widgets/controls",
            "_view_module_version": "1.5.0",
            "_view_name": "ProgressView",
            "bar_style": "success",
            "description": "",
            "description_tooltip": null,
            "layout": "IPY_MODEL_58d8b4d666d5449ab3a05be21b6cc3e9",
            "max": 370,
            "min": 0,
            "orientation": "horizontal",
            "style": "IPY_MODEL_d97729af31eb43b8bd2337f0f07e8e6f",
            "value": 370
          }
        },
        "a2c0e941ab324a52950af81ef8005bda": {
          "model_module": "@jupyter-widgets/controls",
          "model_name": "HTMLModel",
          "model_module_version": "1.5.0",
          "state": {
            "_dom_classes": [],
            "_model_module": "@jupyter-widgets/controls",
            "_model_module_version": "1.5.0",
            "_model_name": "HTMLModel",
            "_view_count": null,
            "_view_module": "@jupyter-widgets/controls",
            "_view_module_version": "1.5.0",
            "_view_name": "HTMLView",
            "description": "",
            "description_tooltip": null,
            "layout": "IPY_MODEL_515a9715d5754f919d4d1aac05fc3018",
            "placeholder": "​",
            "style": "IPY_MODEL_338757f17c2a4dc4883f0575087c021b",
            "value": " 370/370 [00:00&lt;00:00, 23.2kB/s]"
          }
        },
        "8d1acce41a8d41c6aa72a38ed84fe401": {
          "model_module": "@jupyter-widgets/base",
          "model_name": "LayoutModel",
          "model_module_version": "1.2.0",
          "state": {
            "_model_module": "@jupyter-widgets/base",
            "_model_module_version": "1.2.0",
            "_model_name": "LayoutModel",
            "_view_count": null,
            "_view_module": "@jupyter-widgets/base",
            "_view_module_version": "1.2.0",
            "_view_name": "LayoutView",
            "align_content": null,
            "align_items": null,
            "align_self": null,
            "border": null,
            "bottom": null,
            "display": null,
            "flex": null,
            "flex_flow": null,
            "grid_area": null,
            "grid_auto_columns": null,
            "grid_auto_flow": null,
            "grid_auto_rows": null,
            "grid_column": null,
            "grid_gap": null,
            "grid_row": null,
            "grid_template_areas": null,
            "grid_template_columns": null,
            "grid_template_rows": null,
            "height": null,
            "justify_content": null,
            "justify_items": null,
            "left": null,
            "margin": null,
            "max_height": null,
            "max_width": null,
            "min_height": null,
            "min_width": null,
            "object_fit": null,
            "object_position": null,
            "order": null,
            "overflow": null,
            "overflow_x": null,
            "overflow_y": null,
            "padding": null,
            "right": null,
            "top": null,
            "visibility": null,
            "width": null
          }
        },
        "8966302cc4fe4632a944411f69073bcf": {
          "model_module": "@jupyter-widgets/base",
          "model_name": "LayoutModel",
          "model_module_version": "1.2.0",
          "state": {
            "_model_module": "@jupyter-widgets/base",
            "_model_module_version": "1.2.0",
            "_model_name": "LayoutModel",
            "_view_count": null,
            "_view_module": "@jupyter-widgets/base",
            "_view_module_version": "1.2.0",
            "_view_name": "LayoutView",
            "align_content": null,
            "align_items": null,
            "align_self": null,
            "border": null,
            "bottom": null,
            "display": null,
            "flex": null,
            "flex_flow": null,
            "grid_area": null,
            "grid_auto_columns": null,
            "grid_auto_flow": null,
            "grid_auto_rows": null,
            "grid_column": null,
            "grid_gap": null,
            "grid_row": null,
            "grid_template_areas": null,
            "grid_template_columns": null,
            "grid_template_rows": null,
            "height": null,
            "justify_content": null,
            "justify_items": null,
            "left": null,
            "margin": null,
            "max_height": null,
            "max_width": null,
            "min_height": null,
            "min_width": null,
            "object_fit": null,
            "object_position": null,
            "order": null,
            "overflow": null,
            "overflow_x": null,
            "overflow_y": null,
            "padding": null,
            "right": null,
            "top": null,
            "visibility": null,
            "width": null
          }
        },
        "657bf575fb274627aa6ff1b55e3e1346": {
          "model_module": "@jupyter-widgets/controls",
          "model_name": "DescriptionStyleModel",
          "model_module_version": "1.5.0",
          "state": {
            "_model_module": "@jupyter-widgets/controls",
            "_model_module_version": "1.5.0",
            "_model_name": "DescriptionStyleModel",
            "_view_count": null,
            "_view_module": "@jupyter-widgets/base",
            "_view_module_version": "1.2.0",
            "_view_name": "StyleView",
            "description_width": ""
          }
        },
        "58d8b4d666d5449ab3a05be21b6cc3e9": {
          "model_module": "@jupyter-widgets/base",
          "model_name": "LayoutModel",
          "model_module_version": "1.2.0",
          "state": {
            "_model_module": "@jupyter-widgets/base",
            "_model_module_version": "1.2.0",
            "_model_name": "LayoutModel",
            "_view_count": null,
            "_view_module": "@jupyter-widgets/base",
            "_view_module_version": "1.2.0",
            "_view_name": "LayoutView",
            "align_content": null,
            "align_items": null,
            "align_self": null,
            "border": null,
            "bottom": null,
            "display": null,
            "flex": null,
            "flex_flow": null,
            "grid_area": null,
            "grid_auto_columns": null,
            "grid_auto_flow": null,
            "grid_auto_rows": null,
            "grid_column": null,
            "grid_gap": null,
            "grid_row": null,
            "grid_template_areas": null,
            "grid_template_columns": null,
            "grid_template_rows": null,
            "height": null,
            "justify_content": null,
            "justify_items": null,
            "left": null,
            "margin": null,
            "max_height": null,
            "max_width": null,
            "min_height": null,
            "min_width": null,
            "object_fit": null,
            "object_position": null,
            "order": null,
            "overflow": null,
            "overflow_x": null,
            "overflow_y": null,
            "padding": null,
            "right": null,
            "top": null,
            "visibility": null,
            "width": null
          }
        },
        "d97729af31eb43b8bd2337f0f07e8e6f": {
          "model_module": "@jupyter-widgets/controls",
          "model_name": "ProgressStyleModel",
          "model_module_version": "1.5.0",
          "state": {
            "_model_module": "@jupyter-widgets/controls",
            "_model_module_version": "1.5.0",
            "_model_name": "ProgressStyleModel",
            "_view_count": null,
            "_view_module": "@jupyter-widgets/base",
            "_view_module_version": "1.2.0",
            "_view_name": "StyleView",
            "bar_color": null,
            "description_width": ""
          }
        },
        "515a9715d5754f919d4d1aac05fc3018": {
          "model_module": "@jupyter-widgets/base",
          "model_name": "LayoutModel",
          "model_module_version": "1.2.0",
          "state": {
            "_model_module": "@jupyter-widgets/base",
            "_model_module_version": "1.2.0",
            "_model_name": "LayoutModel",
            "_view_count": null,
            "_view_module": "@jupyter-widgets/base",
            "_view_module_version": "1.2.0",
            "_view_name": "LayoutView",
            "align_content": null,
            "align_items": null,
            "align_self": null,
            "border": null,
            "bottom": null,
            "display": null,
            "flex": null,
            "flex_flow": null,
            "grid_area": null,
            "grid_auto_columns": null,
            "grid_auto_flow": null,
            "grid_auto_rows": null,
            "grid_column": null,
            "grid_gap": null,
            "grid_row": null,
            "grid_template_areas": null,
            "grid_template_columns": null,
            "grid_template_rows": null,
            "height": null,
            "justify_content": null,
            "justify_items": null,
            "left": null,
            "margin": null,
            "max_height": null,
            "max_width": null,
            "min_height": null,
            "min_width": null,
            "object_fit": null,
            "object_position": null,
            "order": null,
            "overflow": null,
            "overflow_x": null,
            "overflow_y": null,
            "padding": null,
            "right": null,
            "top": null,
            "visibility": null,
            "width": null
          }
        },
        "338757f17c2a4dc4883f0575087c021b": {
          "model_module": "@jupyter-widgets/controls",
          "model_name": "DescriptionStyleModel",
          "model_module_version": "1.5.0",
          "state": {
            "_model_module": "@jupyter-widgets/controls",
            "_model_module_version": "1.5.0",
            "_model_name": "DescriptionStyleModel",
            "_view_count": null,
            "_view_module": "@jupyter-widgets/base",
            "_view_module_version": "1.2.0",
            "_view_name": "StyleView",
            "description_width": ""
          }
        }
      }
    }
  },
  "nbformat": 4,
  "nbformat_minor": 5
}