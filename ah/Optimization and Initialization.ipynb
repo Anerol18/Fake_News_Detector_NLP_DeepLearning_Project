{
 "cells": [
  {
   "cell_type": "markdown",
   "id": "51a64f0e-bc10-4b30-bdd1-c5b976b2b604",
   "metadata": {},
   "source": [
    "# Optimization and Initialization "
   ]
  },
  {
   "cell_type": "code",
   "execution_count": 1,
   "id": "7f771dc7-6953-47f7-9273-8d4a8b2f4e9a",
   "metadata": {},
   "outputs": [
    {
     "name": "stdout",
     "output_type": "stream",
     "text": [
      "\n",
      "     active environment : DL-torch-arm64\n",
      "    active env location : /Applications/anaconda3/envs/DL-torch-arm64\n",
      "            shell level : 2\n",
      "       user config file : /Users/antoineherbet/.condarc\n",
      " populated config files : /Users/antoineherbet/.condarc\n",
      "          conda version : 24.7.1\n",
      "    conda-build version : 24.5.1\n",
      "         python version : 3.12.2.final.0\n",
      "                 solver : libmamba (default)\n",
      "       virtual packages : __archspec=1=m1\n",
      "                          __conda=24.7.1=0\n",
      "                          __osx=14.5=0\n",
      "                          __unix=0=0\n",
      "       base environment : /Applications/anaconda3  (writable)\n",
      "      conda av data dir : /Applications/anaconda3/etc/conda\n",
      "  conda av metadata url : None\n",
      "           channel URLs : https://conda.anaconda.org/conda-forge/osx-arm64\n",
      "                          https://conda.anaconda.org/conda-forge/noarch\n",
      "                          https://repo.anaconda.com/pkgs/main/osx-arm64\n",
      "                          https://repo.anaconda.com/pkgs/main/noarch\n",
      "                          https://repo.anaconda.com/pkgs/r/osx-arm64\n",
      "                          https://repo.anaconda.com/pkgs/r/noarch\n",
      "          package cache : /Applications/anaconda3/pkgs\n",
      "                          /Users/antoineherbet/.conda/pkgs\n",
      "       envs directories : /Applications/anaconda3/envs\n",
      "                          /Users/antoineherbet/.conda/envs\n",
      "               platform : osx-arm64\n",
      "             user-agent : conda/24.7.1 requests/2.32.2 CPython/3.12.2 Darwin/23.5.0 OSX/14.5 solver/libmamba conda-libmamba-solver/24.1.0 libmambapy/1.5.8 aau/0.4.4 c/. s/. e/.\n",
      "                UID:GID : 501:20\n",
      "             netrc file : None\n",
      "           offline mode : False\n",
      "\n",
      "\n"
     ]
    }
   ],
   "source": [
    "!conda info \n"
   ]
  },
  {
   "cell_type": "code",
   "execution_count": 2,
   "id": "58519c78-a6a4-406d-abde-a7c83f6db069",
   "metadata": {},
   "outputs": [
    {
     "name": "stdout",
     "output_type": "stream",
     "text": [
      "Cuda not available because the current PyTorch install was not built with Cuda enabled.\n",
      "Is Metal Performance Shader (mps) available? True\n",
      "Is Cuda available? False\n"
     ]
    }
   ],
   "source": [
    "import torch\n",
    "from torch import mps\n",
    "\n",
    "# If Metal Performance Shader (mps) is not available tell me:\n",
    "if not torch.backends.mps.is_available():\n",
    "    if not torch.backends.mps.is_built():\n",
    "        print(\"MPS not available because the current PyTorch install was not \"\n",
    "              \"built with MPS enabled.\")\n",
    "    else:\n",
    "        print(\"MPS not available because the current MacOS version is not 12.3+ \"\n",
    "              \"and/or you do not have an MPS-enabled device on this machine.\")\n",
    "\n",
    "# If mps is available directly put it on the device.\n",
    "else:\n",
    "    device = torch.device(\"mps\")\n",
    ",\n",
    "# If cuda (nvidia gpu) is not available tell me:\n",
    "if not torch.cuda.is_available():\n",
    "    print(\"Cuda not available because the current PyTorch install was not \"\n",
    "              \"built with Cuda enabled.\")\n",
    "   \n",
    "\n",
    "# If cuda is available directly put it on the device.\n",
    "else:\n",
    "    device = torch.device(\"cuda\")\n",
    ",\n",
    "\n",
    "# Is mps available?\n",
    "\n",
    "mps_avail = torch.backends.mps.is_available() \n",
    "print(f\"Is Metal Performance Shader (mps) available? {mps_avail}\")\n",
    "\n",
    ",\n",
    "\n",
    "# Is mps available?\n",
    "\n",
    "cuda_avail = torch.cuda.is_available() \n",
    "print(f\"Is Cuda available? {cuda_avail}\")"
   ]
  },
  {
   "cell_type": "markdown",
   "id": "04c373dd-0c5d-4709-aec6-57b0aa879a5d",
   "metadata": {},
   "source": [
    "In this tutorial, we will review techniques for optimization and initialization of neural networks. When increasing the depth of neural networks, there are various challenges we face. Most importantly, we need to have a stable gradient flow through the network, as otherwise, we might encounter vanishing or exploding gradients. This is why we will take a closer look at the following concepts: initialization and optimization.\n",
    "\n",
    "In the first half of the notebook, we will review different initialization techniques, and go step by step from the simplest initialization to methods that are nowadays used in very deep networks. In the second half, we focus on optimization comparing the optimizers SGD, SGD with Momentum, and Adam.\n",
    "\n",
    "Let's start with importing our standard libraries:"
   ]
  },
  {
   "cell_type": "code",
   "execution_count": 4,
   "id": "8ea9d20a-ef56-4123-b5b9-9bfd73b1fb02",
   "metadata": {},
   "outputs": [],
   "source": [
    "## Standard libraries\n",
    "import os\n",
    "import json\n",
    "import math\n",
    "import numpy as np\n",
    "import copy\n",
    "\n",
    "## Imports for plotting\n",
    "import matplotlib.pyplot as plt\n",
    "from matplotlib import cm\n",
    "import matplotlib_inline\n",
    "%matplotlib inline\n",
    "from IPython.display import set_matplotlib_formats\n",
    "matplotlib_inline.backend_inline.set_matplotlib_formats('svg','pdf')\n",
    "import seaborn as sns\n",
    "sns.set()\n",
    "\n",
    "## Progress bar\n",
    "from tqdm.notebook import tqdm\n",
    "\n",
    "## PyTorch\n",
    "import torch\n",
    "import torch.nn as nn\n",
    "import torch.nn.functional as F\n",
    "import torch.utils.data as data\n",
    "import torch.optim as optim"
   ]
  },
  {
   "cell_type": "markdown",
   "id": "22581304-ecd6-4417-9510-5f12d422b45c",
   "metadata": {},
   "source": [
    "We will use the same set_seed function as in Notebook 2, as weel as the path variables DATASET_PATH and CHECKPOINT_PATH.\n",
    "Adjust the paths if necessary."
   ]
  }
 ],
 "metadata": {
  "kernelspec": {
   "display_name": "Python 3 (ipykernel)",
   "language": "python",
   "name": "python3"
  },
  "language_info": {
   "codemirror_mode": {
    "name": "ipython",
    "version": 3
   },
   "file_extension": ".py",
   "mimetype": "text/x-python",
   "name": "python",
   "nbconvert_exporter": "python",
   "pygments_lexer": "ipython3",
   "version": "3.10.14"
  }
 },
 "nbformat": 4,
 "nbformat_minor": 5
}
