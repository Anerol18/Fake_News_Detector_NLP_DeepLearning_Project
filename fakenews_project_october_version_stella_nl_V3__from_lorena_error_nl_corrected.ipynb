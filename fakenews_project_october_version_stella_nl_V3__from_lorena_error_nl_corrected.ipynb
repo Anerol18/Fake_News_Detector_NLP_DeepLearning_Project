{
  "cells": [
    {
      "cell_type": "markdown",
      "metadata": {
        "id": "view-in-github"
      },
      "source": [
        "<a href=\"https://colab.research.google.com/github/Anerol18/Fake_News_Detector_NLP_DeepLearning_Project/blob/main/fakenews_project_october_version_stella_nl_V3__from_lorena_error.ipynb\" target=\"_parent\"><img src=\"https://colab.research.google.com/assets/colab-badge.svg\" alt=\"Open In Colab\"/></a>"
      ],
      "id": "view-in-github"
    },
    {
      "cell_type": "markdown",
      "id": "b78069c6-04c0-470a-b491-4f3948c21114",
      "metadata": {
        "id": "b78069c6-04c0-470a-b491-4f3948c21114"
      },
      "source": [
        "# Environment setting"
      ]
    },
    {
      "cell_type": "code",
      "execution_count": 1,
      "id": "euiMurqEFA7l",
      "metadata": {
        "id": "euiMurqEFA7l",
        "executionInfo": {
          "status": "ok",
          "timestamp": 1729496699074,
          "user_tz": -120,
          "elapsed": 8351,
          "user": {
            "displayName": "",
            "userId": ""
          }
        }
      },
      "outputs": [],
      "source": [
        "# Environment setting for Google Colab\n",
        "#!pip install transformers sentence-transformers tqdm\n",
        "\n",
        "import time\n",
        "import pandas as pd\n",
        "import numpy as np\n",
        "import torch\n",
        "import torch.nn as nn\n",
        "import torch.optim as optim\n",
        "from transformers import AutoModel, AutoTokenizer\n",
        "from sklearn.model_selection import train_test_split\n",
        "from sklearn.metrics import accuracy_score, classification_report, confusion_matrix\n",
        "from torch.utils.data import DataLoader, Dataset\n",
        "import matplotlib.pyplot as plt\n",
        "import seaborn as sns\n",
        "from sklearn.preprocessing import normalize\n",
        "from tqdm import tqdm\n"
      ]
    },
    {
      "cell_type": "code",
      "execution_count": 2,
      "id": "bfONY_eY6GAA",
      "metadata": {
        "colab": {
          "base_uri": "https://localhost:8080/"
        },
        "id": "bfONY_eY6GAA",
        "outputId": "ed4e058d-9b8c-4b5a-c4b8-1a913a16b7cb",
        "executionInfo": {
          "status": "ok",
          "timestamp": 1729496722839,
          "user_tz": -120,
          "elapsed": 21123,
          "user": {
            "displayName": "",
            "userId": ""
          }
        }
      },
      "outputs": [
        {
          "output_type": "stream",
          "name": "stdout",
          "text": [
            "Collecting flash_attn\n",
            "  Downloading flash_attn-2.6.3.tar.gz (2.6 MB)\n",
            "\u001b[?25l     \u001b[90m━━━━━━━━━━━━━━━━━━━━━━━━━━━━━━━━━━━━━━━━\u001b[0m \u001b[32m0.0/2.6 MB\u001b[0m \u001b[31m?\u001b[0m eta \u001b[36m-:--:--\u001b[0m\r\u001b[2K     \u001b[91m━━\u001b[0m\u001b[91m╸\u001b[0m\u001b[90m━━━━━━━━━━━━━━━━━━━━━━━━━━━━━━━━━━━━━\u001b[0m \u001b[32m0.2/2.6 MB\u001b[0m \u001b[31m6.3 MB/s\u001b[0m eta \u001b[36m0:00:01\u001b[0m\r\u001b[2K     \u001b[91m━━━━━━━━━━━━━━━━━━━━━━━━━━━━━━━━\u001b[0m\u001b[91m╸\u001b[0m\u001b[90m━━━━━━━\u001b[0m \u001b[32m2.1/2.6 MB\u001b[0m \u001b[31m30.7 MB/s\u001b[0m eta \u001b[36m0:00:01\u001b[0m\r\u001b[2K     \u001b[90m━━━━━━━━━━━━━━━━━━━━━━━━━━━━━━━━━━━━━━━━\u001b[0m \u001b[32m2.6/2.6 MB\u001b[0m \u001b[31m29.8 MB/s\u001b[0m eta \u001b[36m0:00:00\u001b[0m\n",
            "\u001b[?25h  Preparing metadata (setup.py) ... \u001b[?25l\u001b[?25hdone\n",
            "Requirement already satisfied: torch in /usr/local/lib/python3.10/dist-packages (from flash_attn) (2.4.1+cu121)\n",
            "Requirement already satisfied: einops in /usr/local/lib/python3.10/dist-packages (from flash_attn) (0.8.0)\n",
            "Requirement already satisfied: filelock in /usr/local/lib/python3.10/dist-packages (from torch->flash_attn) (3.16.1)\n",
            "Requirement already satisfied: typing-extensions>=4.8.0 in /usr/local/lib/python3.10/dist-packages (from torch->flash_attn) (4.12.2)\n",
            "Requirement already satisfied: sympy in /usr/local/lib/python3.10/dist-packages (from torch->flash_attn) (1.13.3)\n",
            "Requirement already satisfied: networkx in /usr/local/lib/python3.10/dist-packages (from torch->flash_attn) (3.3)\n",
            "Requirement already satisfied: jinja2 in /usr/local/lib/python3.10/dist-packages (from torch->flash_attn) (3.1.4)\n",
            "Requirement already satisfied: fsspec in /usr/local/lib/python3.10/dist-packages (from torch->flash_attn) (2024.6.1)\n",
            "Requirement already satisfied: MarkupSafe>=2.0 in /usr/local/lib/python3.10/dist-packages (from jinja2->torch->flash_attn) (2.1.5)\n",
            "Requirement already satisfied: mpmath<1.4,>=1.1.0 in /usr/local/lib/python3.10/dist-packages (from sympy->torch->flash_attn) (1.3.0)\n",
            "Building wheels for collected packages: flash_attn\n",
            "  Building wheel for flash_attn (setup.py) ... \u001b[?25l\u001b[?25hdone\n",
            "  Created wheel for flash_attn: filename=flash_attn-2.6.3-cp310-cp310-linux_x86_64.whl size=187309225 sha256=237ef9c6157db394e1ddde4ba609a21ebb98382377a27041edc09318801a6f24\n",
            "  Stored in directory: /root/.cache/pip/wheels/7e/e3/c3/89c7a2f3c4adc07cd1c675f8bb7b9ad4d18f64a72bccdfe826\n",
            "Successfully built flash_attn\n",
            "Installing collected packages: flash_attn\n",
            "Successfully installed flash_attn-2.6.3\n"
          ]
        }
      ],
      "source": [
        "!pip install flash_attn\n"
      ]
    },
    {
      "cell_type": "code",
      "execution_count": 3,
      "id": "U4osI_YG3vUq",
      "metadata": {
        "colab": {
          "base_uri": "https://localhost:8080/"
        },
        "id": "U4osI_YG3vUq",
        "outputId": "785cec2b-b3de-41a1-a4fe-aba2f4c28d79",
        "executionInfo": {
          "status": "ok",
          "timestamp": 1729496728449,
          "user_tz": -120,
          "elapsed": 2,
          "user": {
            "displayName": "",
            "userId": ""
          }
        }
      },
      "outputs": [
        {
          "output_type": "execute_result",
          "data": {
            "text/plain": [
              "device(type='cuda')"
            ]
          },
          "metadata": {},
          "execution_count": 3
        }
      ],
      "source": [
        "torch.device(\"cuda\" if torch.cuda.is_available() else \"mps\" if torch.backends.mps.is_available() else \"cpu\")"
      ]
    },
    {
      "cell_type": "code",
      "execution_count": 4,
      "id": "c7f07b50-8f29-4475-8376-728ca909daf6",
      "metadata": {
        "id": "c7f07b50-8f29-4475-8376-728ca909daf6",
        "executionInfo": {
          "status": "ok",
          "timestamp": 1729496731233,
          "user_tz": -120,
          "elapsed": 2,
          "user": {
            "displayName": "",
            "userId": ""
          }
        }
      },
      "outputs": [],
      "source": [
        "# Setting seed:\n",
        "\n",
        "def set_seed_fun(seed_number: int):\n",
        "    \"\"\"\n",
        "    We could also use pytorch_lightning package\n",
        "    try:\n",
        "        import pytorch_lightning as pl\n",
        "    except ModuleNotFoundError: # Google Colab does not have PyTorch Lightning installed by default. Hence, we do it here if necessary\n",
        "        !pip install --quiet pytorch-lightning>=1.5\n",
        "        import pytorch_lightning as pl\n",
        "\n",
        "    pl.seed_everything(42)\n",
        "    \"\"\"\n",
        "    np.random.seed(seed_number)\n",
        "    if torch.backends.mps.is_available():\n",
        "        torch.mps.manual_seed(seed_number)\n",
        "    if torch.cuda.is_available():\n",
        "        torch.manual_seed(seed_number)\n",
        "        torch.cuda.manual_seed(seed_number)\n",
        "        torch.cuda.manual_seed_all(seed_number)\n",
        "        torch.backends.cudnn.deterministic = True\n",
        "        torch.backends.cudnn.benchark = False\n",
        "\n",
        "set_seed_fun(42)\n"
      ]
    },
    {
      "cell_type": "code",
      "execution_count": 5,
      "id": "nbMVcXmm6xUA",
      "metadata": {
        "id": "nbMVcXmm6xUA",
        "executionInfo": {
          "status": "ok",
          "timestamp": 1729496733653,
          "user_tz": -120,
          "elapsed": 1,
          "user": {
            "displayName": "",
            "userId": ""
          }
        }
      },
      "outputs": [],
      "source": [
        "# Set up the device (cuda, mps, or cpu)\n",
        "device = torch.device(\"cuda\" if torch.cuda.is_available() else \"cpu\")\n"
      ]
    },
    {
      "cell_type": "code",
      "execution_count": 6,
      "id": "tUaf6SRS53AH",
      "metadata": {
        "colab": {
          "base_uri": "https://localhost:8080/",
          "height": 565,
          "referenced_widgets": [
            "88d2681b67ee477c8d04036312416e52",
            "b23eaaa329c34ee4af59ad7b57a96643",
            "84345e385ec54b4f983876bb9c539b88",
            "af0c4e3988f54511b3ffb48c80ef5ae7",
            "f8894eb5a85b4d76946f70dcf8be9228",
            "02bac7a8179c4af2a149425822f0867e",
            "210e1e6754544cc79bb0dfb3fe6691d9",
            "bb943f815ec5469e82a747009e438ea6",
            "2f6d915b5b5d481e980a80719f97e252",
            "46a9e3bc8dda41c9a4f143038733f40c",
            "0b528163a2a64f9495c90a0f433cdc3a",
            "639d387358504b6a93a6cbdf22b56c9b",
            "4267c685de194d0c8e24e4fe741ae64a",
            "426ce2923d9740109fa01d2853425a8f",
            "988f0417d2d8484e8e07b29b8ccf77e6",
            "45aec695537a4b12afcb1087f94883a2",
            "49d9936af2bd40ca9cedb08e944d8387",
            "3aef997f6bdf4346a71c8c56c1528086",
            "d467ae76608f4b52bc4dda550f7396ea",
            "8250faedf7bf4b33a3cceb25ffd634bf",
            "242aea2b6a984effb7a8aa92b6ca4098",
            "8dc338eb4ed04d89904d713fd2147f5d",
            "f49baba9c50a4d35a430eeefab89cadb",
            "ef8101eb582d43e78a68510e114bf34c",
            "60ee41f55af14315a5f77c25564835a9",
            "dc414efd1cda4ae8a5f70fe72f7e3ddd",
            "d40783f2ef974d058bc42b000c4fe4ec",
            "79300d94ec444278a4f7ca37e5105bf3",
            "2d579bcc2390400b9074caa6a59ea1ed",
            "4f44a1031e4746c28080ddf115c66678",
            "e336fac607cd4d7c9d1d9623bd995850",
            "fafb4e9b36e6472f81fb90162b6edd3e",
            "7e6feab258bc47e1b1be76c769047d04",
            "357bc42d048b4a9ea0cc4544a3eea17d",
            "9a6dc066a7c74b4fb43ea70fe64a4e18",
            "a053bb87a10442db94e576a0a0306fb6",
            "2f25c971e3e24302ba35631d278506bb",
            "06a2bf47657247dfaae82fa59c5ec988",
            "241758a1cd844e1a8a1fd04acd184f4f",
            "b83e8b23f93448b3af8f4f38abb73f34",
            "9c0c4d13f3714d70aaa5579c877d1f07",
            "10d72d5787ac4b239d713c978a57300b",
            "1520d5d4484543f195586374c75c4386",
            "0217ae6883f64d5b9e7340d93d1cf1f7",
            "bfd7dae6b4b94911b27d9b6a76538ebd",
            "0909fb7ee85044ada070be51db53ad9d",
            "b314dfd654dc494fa89f759267f14652",
            "2b832e76874946c6ae30f26644f2160b",
            "b71cd44561524766b7988d7cf8bec285",
            "09e8ab86c4ee4a0eabe2043a470fcd13",
            "334af6d4b7fa46c3996193840bda04a2",
            "d93a7a5e2e394a86ade1ef1e4a5ae904",
            "fa30da884c714defa048ae06839bfc53",
            "8f04bc55670f4419b160da542c257822",
            "19960405fe3c44bcb2dc1e540e67977b",
            "c64df92036894eb395fc9600750b7b78",
            "0cc6ffd159e545f9952e86e879de02b7",
            "001c5ec24aa64af483b4371de31d0a76",
            "73372792cbe14c62a530b63af8a5fa60",
            "70140b1ff75747979489999a00ba9fc1",
            "479dae78f75342298ea8f8c1d0f72a24",
            "43d90573fe04428faf4640120ec1600c",
            "e9c08acc596a488794a76e6d834f773d",
            "aa49daba629e41b5a5ffb8958d2855c9",
            "89e09105cf45491a88f546239ee31037",
            "3ae9a539489342d38d3552730b8e8632",
            "66e7f0238c2d4f0b854daadfdb8753a4",
            "75310a24c0ad4c12ab483b353413f6ee",
            "7e67d6685ed04fd0843e3a44d272af6f",
            "5b4b12bdd9804d0399b259688c8a54e3",
            "64dec18800fd486591d2bd6a08b07378",
            "d4385fbbc8d7443cbb4152aa68f5626b",
            "ca044cf1156640059805a4eb26f08ce3",
            "03d0c2cf03204c61b442501c0ac3bc27",
            "dccd1ef3d8e1455597f6f1f30076ded1",
            "5f1641ffc5f34ee187581938f4873095",
            "e38ba14f132043378085df391627e36c",
            "d79e3b8f222446c2a0d6efb063e27b14",
            "e015c13cb7564976a90b6f96e7863771",
            "730371d9967f4e2e8b4979098f9602f9",
            "3faf4e9c49b349e0ac299e9585ec7f7f",
            "576c8ec2cb184642af6d9cc80b09ff3a",
            "e18c2dd3be964f3fa1b8704d7ed569a0",
            "642aa904f2ac41e48c47bc0cc260717c",
            "a0f5e09409e04ae7ac85ad2cc56421a2",
            "7b2a21a700724adc8f92cd4e15e8f1f0",
            "15a8d4fb2efd42a89e238eadbb765c99",
            "d948fb8b5a554fa4bf9381ac7cb14375",
            "884eef7cd03d4f44b0908ad05ee73d2a",
            "40b73c04df3e4820bb41fdb8de0055f7",
            "d7d09bdb4f5d46498f347944f2b64f0c",
            "74019057c4fb4501bfaeb2b849061d19",
            "78e01e8fc44d4dacba4bc9c54aaaf043",
            "6f39b39a66e2418683699f9a4ceef3c0",
            "c2f59cbe1f544c4089ceac7422a6fffe",
            "9877280825ac4f85a2a5320ef174bee5",
            "1a9456b8326c435f80343ab81144ef55",
            "0360aba19ab94f6a92f5dfe50560c6b8",
            "643da53b8af3427bb911d7b9cab71cfc",
            "8a48fd47cfeb46ca83f26c1f6bae399f",
            "f4c9458b44fe4669b8d4e6a69c721df4",
            "a367cb2cdb1c454eb1493550d6b57d8b",
            "a2c0e941ab324a52950af81ef8005bda",
            "8d1acce41a8d41c6aa72a38ed84fe401",
            "8966302cc4fe4632a944411f69073bcf",
            "657bf575fb274627aa6ff1b55e3e1346",
            "58d8b4d666d5449ab3a05be21b6cc3e9",
            "d97729af31eb43b8bd2337f0f07e8e6f",
            "515a9715d5754f919d4d1aac05fc3018",
            "338757f17c2a4dc4883f0575087c021b"
          ]
        },
        "id": "tUaf6SRS53AH",
        "outputId": "6f1853e7-8c04-4cbb-ba0c-bd0a23aad5e2",
        "executionInfo": {
          "status": "ok",
          "timestamp": 1729496780268,
          "user_tz": -120,
          "elapsed": 44419,
          "user": {
            "displayName": "",
            "userId": ""
          }
        }
      },
      "outputs": [
        {
          "output_type": "stream",
          "name": "stderr",
          "text": [
            "/usr/local/lib/python3.10/dist-packages/huggingface_hub/utils/_token.py:89: UserWarning: \n",
            "The secret `HF_TOKEN` does not exist in your Colab secrets.\n",
            "To authenticate with the Hugging Face Hub, create a token in your settings tab (https://huggingface.co/settings/tokens), set it as secret in your Google Colab and restart your session.\n",
            "You will be able to reuse this secret in all of your notebooks.\n",
            "Please note that authentication is recommended but still optional to access public models or datasets.\n",
            "  warnings.warn(\n"
          ]
        },
        {
          "output_type": "display_data",
          "data": {
            "text/plain": [
              "config.json:   0%|          | 0.00/844 [00:00<?, ?B/s]"
            ],
            "application/vnd.jupyter.widget-view+json": {
              "version_major": 2,
              "version_minor": 0,
              "model_id": "88d2681b67ee477c8d04036312416e52"
            }
          },
          "metadata": {}
        },
        {
          "output_type": "display_data",
          "data": {
            "text/plain": [
              "modeling_qwen.py:   0%|          | 0.00/65.2k [00:00<?, ?B/s]"
            ],
            "application/vnd.jupyter.widget-view+json": {
              "version_major": 2,
              "version_minor": 0,
              "model_id": "639d387358504b6a93a6cbdf22b56c9b"
            }
          },
          "metadata": {}
        },
        {
          "output_type": "stream",
          "name": "stderr",
          "text": [
            "A new version of the following files was downloaded from https://huggingface.co/dunzhang/stella_en_1.5B_v5:\n",
            "- modeling_qwen.py\n",
            ". Make sure to double-check they do not contain any added malicious code. To avoid downloading new versions of the code file, you can pin a revision.\n"
          ]
        },
        {
          "output_type": "display_data",
          "data": {
            "text/plain": [
              "model.safetensors:   0%|          | 0.00/6.17G [00:00<?, ?B/s]"
            ],
            "application/vnd.jupyter.widget-view+json": {
              "version_major": 2,
              "version_minor": 0,
              "model_id": "f49baba9c50a4d35a430eeefab89cadb"
            }
          },
          "metadata": {}
        },
        {
          "output_type": "display_data",
          "data": {
            "text/plain": [
              "tokenizer_config.json:   0%|          | 0.00/1.31k [00:00<?, ?B/s]"
            ],
            "application/vnd.jupyter.widget-view+json": {
              "version_major": 2,
              "version_minor": 0,
              "model_id": "357bc42d048b4a9ea0cc4544a3eea17d"
            }
          },
          "metadata": {}
        },
        {
          "output_type": "display_data",
          "data": {
            "text/plain": [
              "tokenization_qwen.py:   0%|          | 0.00/10.8k [00:00<?, ?B/s]"
            ],
            "application/vnd.jupyter.widget-view+json": {
              "version_major": 2,
              "version_minor": 0,
              "model_id": "bfd7dae6b4b94911b27d9b6a76538ebd"
            }
          },
          "metadata": {}
        },
        {
          "output_type": "stream",
          "name": "stderr",
          "text": [
            "A new version of the following files was downloaded from https://huggingface.co/dunzhang/stella_en_1.5B_v5:\n",
            "- tokenization_qwen.py\n",
            ". Make sure to double-check they do not contain any added malicious code. To avoid downloading new versions of the code file, you can pin a revision.\n"
          ]
        },
        {
          "output_type": "display_data",
          "data": {
            "text/plain": [
              "vocab.json:   0%|          | 0.00/2.78M [00:00<?, ?B/s]"
            ],
            "application/vnd.jupyter.widget-view+json": {
              "version_major": 2,
              "version_minor": 0,
              "model_id": "c64df92036894eb395fc9600750b7b78"
            }
          },
          "metadata": {}
        },
        {
          "output_type": "display_data",
          "data": {
            "text/plain": [
              "merges.txt:   0%|          | 0.00/1.67M [00:00<?, ?B/s]"
            ],
            "application/vnd.jupyter.widget-view+json": {
              "version_major": 2,
              "version_minor": 0,
              "model_id": "66e7f0238c2d4f0b854daadfdb8753a4"
            }
          },
          "metadata": {}
        },
        {
          "output_type": "display_data",
          "data": {
            "text/plain": [
              "tokenizer.json:   0%|          | 0.00/7.03M [00:00<?, ?B/s]"
            ],
            "application/vnd.jupyter.widget-view+json": {
              "version_major": 2,
              "version_minor": 0,
              "model_id": "d79e3b8f222446c2a0d6efb063e27b14"
            }
          },
          "metadata": {}
        },
        {
          "output_type": "display_data",
          "data": {
            "text/plain": [
              "added_tokens.json:   0%|          | 0.00/80.0 [00:00<?, ?B/s]"
            ],
            "application/vnd.jupyter.widget-view+json": {
              "version_major": 2,
              "version_minor": 0,
              "model_id": "884eef7cd03d4f44b0908ad05ee73d2a"
            }
          },
          "metadata": {}
        },
        {
          "output_type": "display_data",
          "data": {
            "text/plain": [
              "special_tokens_map.json:   0%|          | 0.00/370 [00:00<?, ?B/s]"
            ],
            "application/vnd.jupyter.widget-view+json": {
              "version_major": 2,
              "version_minor": 0,
              "model_id": "8a48fd47cfeb46ca83f26c1f6bae399f"
            }
          },
          "metadata": {}
        }
      ],
      "source": [
        "# Load the embedding model (dunzhang/stella_en_1.5B_v5)\n",
        "model_name = \"dunzhang/stella_en_1.5B_v5\"\n",
        "model = AutoModel.from_pretrained(model_name, trust_remote_code=True).to(device).eval()\n",
        "tokenizer = AutoTokenizer.from_pretrained(model_name, trust_remote_code=True)\n"
      ]
    },
    {
      "cell_type": "code",
      "execution_count": 7,
      "id": "99e07a94-fbf3-4d20-84bc-822e61682eac",
      "metadata": {
        "id": "99e07a94-fbf3-4d20-84bc-822e61682eac",
        "executionInfo": {
          "status": "ok",
          "timestamp": 1729496784257,
          "user_tz": -120,
          "elapsed": 276,
          "user": {
            "displayName": "",
            "userId": ""
          }
        }
      },
      "outputs": [],
      "source": [
        "# Import dataset from github\n",
        "# Raw URL of the CSV file\n",
        "url = 'https://raw.githubusercontent.com/Anerol18/Fake_News_Detector_NLP_DeepLearning_Project/main/final_combined_dataset.csv'\n",
        "df = pd.read_csv(url)"
      ]
    },
    {
      "cell_type": "code",
      "execution_count": 8,
      "id": "46d4ab2b-ee2a-4ce9-9b20-c457b0b0ac2c",
      "metadata": {
        "id": "46d4ab2b-ee2a-4ce9-9b20-c457b0b0ac2c",
        "executionInfo": {
          "status": "ok",
          "timestamp": 1729496785671,
          "user_tz": -120,
          "elapsed": 299,
          "user": {
            "displayName": "",
            "userId": ""
          }
        }
      },
      "outputs": [],
      "source": [
        "# Prepare data\n",
        "X = df['Text'].values.astype(str)\n",
        "y = (df['Label'] == 'fake').astype(int).values\n"
      ]
    },
    {
      "cell_type": "code",
      "execution_count": 9,
      "id": "81a7d200-6a4e-4bb1-a166-05da53b3ab10",
      "metadata": {
        "id": "81a7d200-6a4e-4bb1-a166-05da53b3ab10",
        "executionInfo": {
          "status": "ok",
          "timestamp": 1729496787590,
          "user_tz": -120,
          "elapsed": 252,
          "user": {
            "displayName": "",
            "userId": ""
          }
        }
      },
      "outputs": [],
      "source": [
        "# Split the data into training, validation, and test sets\n",
        "X_train, X_temp, y_train, y_temp = train_test_split(X, y, test_size=0.3, random_state=42)\n",
        "X_val, X_test, y_val, y_test = train_test_split(X_temp, y_temp, test_size=0.5, random_state=42)\n"
      ]
    },
    {
      "cell_type": "markdown",
      "id": "6dc6ae47-93f1-40a0-9295-3c75928120c7",
      "metadata": {
        "id": "6dc6ae47-93f1-40a0-9295-3c75928120c7"
      },
      "source": [
        "# Embedding"
      ]
    },
    {
      "cell_type": "code",
      "execution_count": 10,
      "id": "b7Nubkly8ocs",
      "metadata": {
        "id": "b7Nubkly8ocs",
        "executionInfo": {
          "status": "ok",
          "timestamp": 1729496790049,
          "user_tz": -120,
          "elapsed": 1,
          "user": {
            "displayName": "",
            "userId": ""
          }
        }
      },
      "outputs": [],
      "source": [
        "# Modified function without dimension reduction\n",
        "def generate_stella_embeddings(texts, tokenizer, model, batch_size=32):\n",
        "    embeddings = []\n",
        "\n",
        "    for i in tqdm(range(0, len(texts), batch_size), desc=\"Generating Embeddings\"):\n",
        "        batch_texts = texts[i:i + batch_size]\n",
        "\n",
        "        with torch.no_grad():\n",
        "            inputs = tokenizer(batch_texts, padding=\"longest\", truncation=True, max_length=512, return_tensors=\"pt\").to(device)\n",
        "            attention_mask = inputs[\"attention_mask\"]\n",
        "            outputs = model(**inputs)[0]\n",
        "            last_hidden = outputs.masked_fill(~attention_mask[..., None].bool(), 0.0)\n",
        "            embeddings_batch = last_hidden.sum(dim=1) / attention_mask.sum(dim=1)[..., None]\n",
        "            embeddings_batch = normalize(embeddings_batch.cpu().numpy())\n",
        "\n",
        "            embeddings.append(embeddings_batch)\n",
        "\n",
        "    return np.vstack(embeddings)"
      ]
    },
    {
      "cell_type": "code",
      "execution_count": 11,
      "id": "befa178b-cbc7-4d7f-9c96-5cbb828470ee",
      "metadata": {
        "id": "befa178b-cbc7-4d7f-9c96-5cbb828470ee",
        "executionInfo": {
          "status": "ok",
          "timestamp": 1729496792766,
          "user_tz": -120,
          "elapsed": 2,
          "user": {
            "displayName": "",
            "userId": ""
          }
        }
      },
      "outputs": [],
      "source": [
        "#####################################\n",
        "# benchmark beginning for embedding #\n",
        "#####################################\n",
        "time_start_embed = time.perf_counter()"
      ]
    },
    {
      "cell_type": "code",
      "execution_count": null,
      "id": "a1Z8m1kVFnTQ",
      "metadata": {
        "id": "a1Z8m1kVFnTQ"
      },
      "outputs": [],
      "source": [
        "# Initialize the Vertex AI TextEmbeddingModel\n",
        "# embedding_model = TextEmbeddingModel.from_pretrained(\"text-embedding-004\")"
      ]
    },
    {
      "cell_type": "code",
      "execution_count": 12,
      "id": "UF22BrrY79RS",
      "metadata": {
        "id": "UF22BrrY79RS",
        "executionInfo": {
          "status": "ok",
          "timestamp": 1729496796483,
          "user_tz": -120,
          "elapsed": 286,
          "user": {
            "displayName": "",
            "userId": ""
          }
        }
      },
      "outputs": [],
      "source": [
        "# Ensure data is in the correct format\n",
        "X_train = X_train.tolist() if isinstance(X_train, np.ndarray) else X_train\n",
        "X_val = X_val.tolist() if isinstance(X_val, np.ndarray) else X_val\n",
        "X_test = X_test.tolist() if isinstance(X_test, np.ndarray) else X_test\n"
      ]
    },
    {
      "cell_type": "code",
      "execution_count": 13,
      "id": "kUiUJO8c9Udz",
      "metadata": {
        "colab": {
          "base_uri": "https://localhost:8080/"
        },
        "id": "kUiUJO8c9Udz",
        "outputId": "a897f6bf-bedb-49de-c63a-d9ca7157f7c8",
        "executionInfo": {
          "status": "ok",
          "timestamp": 1729497318432,
          "user_tz": -120,
          "elapsed": 518938,
          "user": {
            "displayName": "",
            "userId": ""
          }
        }
      },
      "outputs": [
        {
          "output_type": "stream",
          "name": "stderr",
          "text": [
            "Generating Embeddings: 100%|██████████| 401/401 [06:05<00:00,  1.10it/s]\n",
            "Generating Embeddings: 100%|██████████| 86/86 [01:14<00:00,  1.15it/s]\n",
            "Generating Embeddings: 100%|██████████| 86/86 [01:18<00:00,  1.10it/s]\n"
          ]
        }
      ],
      "source": [
        "# Generate embeddings for the train, validation, and test sets\n",
        "X_train_embeddings = generate_stella_embeddings(X_train, tokenizer, model)\n",
        "X_val_embeddings = generate_stella_embeddings(X_val, tokenizer, model)\n",
        "X_test_embeddings = generate_stella_embeddings(X_test, tokenizer, model)\n"
      ]
    },
    {
      "cell_type": "code",
      "execution_count": null,
      "id": "eb68c53d-0a6c-4f2e-99f6-1c85d0d26ef1",
      "metadata": {
        "id": "eb68c53d-0a6c-4f2e-99f6-1c85d0d26ef1"
      },
      "outputs": [],
      "source": [
        "#####################################\n",
        "# benchmark ending for embedding    #\n",
        "#####################################\n",
        "time_end_embed = time.perf_counter()"
      ]
    },
    {
      "cell_type": "markdown",
      "id": "fc999217-4072-46d1-8e44-b05cd901fa66",
      "metadata": {
        "id": "fc999217-4072-46d1-8e44-b05cd901fa66"
      },
      "source": [
        "# Training part"
      ]
    },
    {
      "cell_type": "markdown",
      "id": "7acb5108-17ca-499e-8ecd-b4933f1b2b18",
      "metadata": {
        "id": "7acb5108-17ca-499e-8ecd-b4933f1b2b18"
      },
      "source": [
        "## Class functions\n",
        "\n",
        "Definition of functions to:\n",
        "- Transform a data set into the good format\n",
        "- create a simple neural network architecture\n",
        "- create a funtion to transform seconds into a list of (hours, minutes, seconds)"
      ]
    },
    {
      "cell_type": "code",
      "execution_count": 14,
      "id": "423bc231-7992-40a8-aaaa-cc7920a72ceb",
      "metadata": {
        "id": "423bc231-7992-40a8-aaaa-cc7920a72ceb",
        "executionInfo": {
          "status": "ok",
          "timestamp": 1729497322892,
          "user_tz": -120,
          "elapsed": 287,
          "user": {
            "displayName": "",
            "userId": ""
          }
        }
      },
      "outputs": [],
      "source": [
        "# Define a Dataset class for PyTorch\n",
        "class NewsDataset(Dataset):\n",
        "    def __init__(self, X, y):\n",
        "        self.X = X\n",
        "        self.y = y\n",
        "\n",
        "    def __len__(self):\n",
        "        return len(self.y)\n",
        "\n",
        "    def __getitem__(self, idx):\n",
        "         # Ensure X is a numeric tensor\n",
        "        text_tensor = torch.tensor(self.X[idx], dtype=torch.float32)  # Make sure this is float\n",
        "        label_tensor = torch.tensor(self.y[idx], dtype=torch.long)  # Labels should be long for classification\n",
        "        return text_tensor, label_tensor"
      ]
    },
    {
      "cell_type": "code",
      "execution_count": null,
      "id": "bpqcOYYqZ1fv",
      "metadata": {
        "id": "bpqcOYYqZ1fv"
      },
      "outputs": [],
      "source": [
        "# input_size = 1536 / 768 / 384 / 192"
      ]
    },
    {
      "cell_type": "code",
      "execution_count": 15,
      "id": "8c2b1910-63be-4ca7-ab7d-f441ad81c576",
      "metadata": {
        "id": "8c2b1910-63be-4ca7-ab7d-f441ad81c576",
        "executionInfo": {
          "status": "ok",
          "timestamp": 1729497328875,
          "user_tz": -120,
          "elapsed": 283,
          "user": {
            "displayName": "",
            "userId": ""
          }
        }
      },
      "outputs": [],
      "source": [
        "# Define a simple neural network\n",
        "class SimpleNN(nn.Module):\n",
        "    def __init__(self, input_size):\n",
        "        super(SimpleNN, self).__init__()\n",
        "        self.fc0 = nn.Linear(input_size, 3072)\n",
        "        self.dropout0 = nn.Dropout(p=0.6)\n",
        "        self.relu0 = nn.ReLU()\n",
        "        self.fc01 = nn.Linear(3072, 3072)\n",
        "        self.dropout01 = nn.Dropout(p=0.6)\n",
        "        self.relu01 = nn.ReLU()\n",
        "        self.fc1 = nn.Linear(3072, 768)\n",
        "        self.dropout1 = nn.Dropout(p=0.6)\n",
        "        self.relu1 = nn.ReLU()\n",
        "        #self.fc11 = nn.Linear(768, 768)\n",
        "        #self.dropout11 = nn.Dropout(p=0.6)\n",
        "        #self.relu11 = nn.ReLU()\n",
        "        #self.fc2 = nn.Linear(768, 384)\n",
        "        #self.dropout2 = nn.Dropout(p=0.6)\n",
        "        #self.relu2 = nn.ReLU()\n",
        "        #self.fc21 = nn.Linear(384, 384)\n",
        "        #self.dropout21 = nn.Dropout(p=0.6)\n",
        "        #self.relu21 = nn.ReLU()\n",
        "        self.fc3 = nn.Linear(768, 2)\n",
        "\n",
        "    def forward(self, x):\n",
        "        x = self.fc0(x)\n",
        "        x = self.dropout0(x)\n",
        "        x = self.relu0(x)\n",
        "        x = self.fc01(x)\n",
        "        x = self.dropout01(x)\n",
        "        x = self.relu01(x)\n",
        "        x = self.fc1(x)\n",
        "        x = self.dropout1(x)\n",
        "        x = self.relu1(x)\n",
        "        #x = self.fc11(x)\n",
        "        #x = self.dropout1(x)\n",
        "        #x = self.relu1(x)\n",
        "        #x = self.fc2(x)\n",
        "        #x = self.dropout2(x)\n",
        "        #x = self.relu2(x)\n",
        "        #x = self.fc21(x)\n",
        "        #x = self.dropout21(x)\n",
        "        #x = self.relu21(x)\n",
        "        x = self.fc3(x)\n",
        "        return x\n"
      ]
    },
    {
      "cell_type": "code",
      "execution_count": 16,
      "id": "ff2fedd9-c85c-4144-8dd5-139af39d891d",
      "metadata": {
        "id": "ff2fedd9-c85c-4144-8dd5-139af39d891d",
        "executionInfo": {
          "status": "ok",
          "timestamp": 1729497332583,
          "user_tz": -120,
          "elapsed": 298,
          "user": {
            "displayName": "",
            "userId": ""
          }
        }
      },
      "outputs": [],
      "source": [
        "def sec2hms(ss):\n",
        "\t(hh, ss)=divmod(ss, 3600)\n",
        "\t(mm, ss)=divmod(ss, 60)\n",
        "\treturn (hh, mm, ss)"
      ]
    },
    {
      "cell_type": "markdown",
      "id": "f5a1eed2-7a53-4921-9d9f-cb35848dedbf",
      "metadata": {
        "id": "f5a1eed2-7a53-4921-9d9f-cb35848dedbf"
      },
      "source": [
        "## Training function\n",
        "\n",
        "Definition of the training function."
      ]
    },
    {
      "cell_type": "code",
      "execution_count": 17,
      "id": "3c424347-5b2d-42cd-829a-1a36e6dcf742",
      "metadata": {
        "id": "3c424347-5b2d-42cd-829a-1a36e6dcf742",
        "executionInfo": {
          "status": "ok",
          "timestamp": 1729497334891,
          "user_tz": -120,
          "elapsed": 296,
          "user": {
            "displayName": "",
            "userId": ""
          }
        }
      },
      "outputs": [],
      "source": [
        "# Function to train the model\n",
        "def train_model(X_train, y_train, X_val, y_val, input_size):\n",
        "    train_dataset = NewsDataset(X_train, y_train)\n",
        "    val_dataset = NewsDataset(X_val, y_val)\n",
        "\n",
        "    train_loader = DataLoader(train_dataset, batch_size=64, shuffle=True)\n",
        "    val_loader = DataLoader(val_dataset, batch_size=64, shuffle=False)\n",
        "\n",
        "    weight_decay_values = [0.0, 0.0001, 0.001, 0.01, 0.1]  # Added: Range of weight decay values to experiment with\n",
        "    results = {}  # Added: Store results for each weight decay value\n",
        "\n",
        "    for weight_decay in weight_decay_values:  # Added: Loop through each weight decay value\n",
        "        model = SimpleNN(input_size).to(device)\n",
        "        criterion = nn.CrossEntropyLoss()\n",
        "        optimizer = optim.AdamW(model.parameters(), lr=2e-5, weight_decay=weight_decay)\n",
        "\n",
        "        num_epochs = 40\n",
        "        best_val_loss = float('inf')\n",
        "        patience = 2\n",
        "        patience_counter = 0\n",
        "\n",
        "        # Initialize lists to store losses and accuracies\n",
        "        train_losses = []\n",
        "        val_losses = []\n",
        "        train_accuracies = []\n",
        "        val_accuracies = []\n",
        "\n",
        "        for epoch in range(num_epochs):\n",
        "            model.train()\n",
        "            running_loss = 0.0\n",
        "            correct = 0\n",
        "            total = 0\n",
        "\n",
        "            for X_batch, y_batch in train_loader:\n",
        "                X_batch, y_batch = X_batch.to(device), y_batch.to(device)\n",
        "                optimizer.zero_grad()\n",
        "                outputs = model(X_batch)\n",
        "                loss = criterion(outputs, y_batch)\n",
        "                loss.backward()\n",
        "                optimizer.step()\n",
        "\n",
        "                running_loss += loss.item()  # Accumulate training loss\n",
        "\n",
        "                _, predicted = torch.max(outputs, 1)\n",
        "                total += y_batch.size(0)\n",
        "                correct += (predicted == y_batch).sum().item()  # Track correct predictions\n",
        "\n",
        "\n",
        "            avg_train_loss = running_loss / len(train_loader)  # Calculate average training loss\n",
        "            train_accuracy = correct / total  # Calculate training accuracy\n",
        "\n",
        "            train_losses.append(avg_train_loss)\n",
        "            train_accuracies.append(train_accuracy)\n",
        "\n",
        "\n",
        "            model.eval()\n",
        "            val_loss = 0\n",
        "            correct = 0\n",
        "            total = 0\n",
        "            with torch.no_grad():\n",
        "                for X_batch, y_batch in val_loader:\n",
        "                    X_batch, y_batch = X_batch.to(device), y_batch.to(device)\n",
        "                    outputs = model(X_batch)\n",
        "                    loss = criterion(outputs, y_batch)\n",
        "                    val_loss += loss.item()\n",
        "\n",
        "                    _, predicted = torch.max(outputs, 1)\n",
        "                    total += y_batch.size(0)\n",
        "                    correct += (predicted == y_batch).sum().item()\n",
        "\n",
        "            avg_val_loss = val_loss / len(val_loader)\n",
        "            val_accuracy = correct / total\n",
        "\n",
        "            val_losses.append(avg_val_loss)\n",
        "            val_accuracies.append(val_accuracy)\n",
        "            print(f'Epoch {epoch+1}/{num_epochs}, Training Loss: {avg_train_loss}, Training Accuracy: {train_accuracy}, Validation Loss: {avg_val_loss}')\n",
        "\n",
        "            if val_loss < best_val_loss:\n",
        "                best_val_loss = val_loss\n",
        "                patience_counter = 0\n",
        "            else:\n",
        "                patience_counter += 1\n",
        "\n",
        "            if patience_counter >= patience:\n",
        "                print(\"Early stopping\")\n",
        "                break\n",
        "\n",
        "        results[weight_decay] = {\n",
        "            'train_losses': train_losses,\n",
        "            'val_losses': val_losses,\n",
        "            'train_accuracies': train_accuracies,\n",
        "            'val_accuracies': val_accuracies\n",
        "        }\n",
        "\n",
        "    return results"
      ]
    },
    {
      "cell_type": "markdown",
      "id": "58ce1736-5492-4a67-9311-4294831030b0",
      "metadata": {
        "id": "58ce1736-5492-4a67-9311-4294831030b0"
      },
      "source": [
        "## Model initialization"
      ]
    },
    {
      "cell_type": "markdown",
      "id": "c7ebddb4-ac72-4d8e-9bc7-164b69619894",
      "metadata": {
        "id": "c7ebddb4-ac72-4d8e-9bc7-164b69619894"
      },
      "source": [
        "## Training"
      ]
    },
    {
      "cell_type": "code",
      "execution_count": 18,
      "id": "4511da9a-0124-4288-82a6-7a36576ad514",
      "metadata": {
        "id": "4511da9a-0124-4288-82a6-7a36576ad514",
        "executionInfo": {
          "status": "ok",
          "timestamp": 1729497340047,
          "user_tz": -120,
          "elapsed": 277,
          "user": {
            "displayName": "",
            "userId": ""
          }
        }
      },
      "outputs": [],
      "source": [
        "#####################################\n",
        "# benchmark beginning for modeling  #\n",
        "#####################################\n",
        "time_start_model = time.perf_counter()"
      ]
    },
    {
      "cell_type": "code",
      "execution_count": 19,
      "id": "toO_23frOXAC",
      "metadata": {
        "id": "toO_23frOXAC",
        "executionInfo": {
          "status": "ok",
          "timestamp": 1729497342324,
          "user_tz": -120,
          "elapsed": 282,
          "user": {
            "displayName": "",
            "userId": ""
          }
        }
      },
      "outputs": [],
      "source": [
        "input_size = 1536"
      ]
    },
    {
      "cell_type": "code",
      "execution_count": 20,
      "id": "gjUGzK27PlT0",
      "metadata": {
        "id": "gjUGzK27PlT0",
        "executionInfo": {
          "status": "ok",
          "timestamp": 1729497343768,
          "user_tz": -120,
          "elapsed": 1,
          "user": {
            "displayName": "",
            "userId": ""
          }
        }
      },
      "outputs": [],
      "source": [
        "# Set up the device (cuda, mps, or cpu)\n",
        "device = torch.device(\"cuda\" if torch.cuda.is_available() else \"mps\" if torch.backends.mps.is_available() else \"cpu\")"
      ]
    },
    {
      "cell_type": "code",
      "execution_count": 33,
      "id": "40991ebd-b228-4ebe-ae91-f750a75ce5ed",
      "metadata": {
        "colab": {
          "base_uri": "https://localhost:8080/"
        },
        "id": "40991ebd-b228-4ebe-ae91-f750a75ce5ed",
        "outputId": "ec6c066e-913b-42ef-f58c-04a4f5511d30",
        "collapsed": true,
        "executionInfo": {
          "status": "ok",
          "timestamp": 1729498151054,
          "user_tz": -120,
          "elapsed": 156277,
          "user": {
            "displayName": "",
            "userId": ""
          }
        }
      },
      "outputs": [
        {
          "output_type": "stream",
          "name": "stdout",
          "text": [
            "Epoch 1/40, Training Loss: 0.6102278066511772, Training Accuracy: 0.711038200140614, Validation Loss: 0.2932016475256099\n",
            "Epoch 2/40, Training Loss: 0.23601232903004063, Training Accuracy: 0.9089914850402312, Validation Loss: 0.19822876068741777\n",
            "Epoch 3/40, Training Loss: 0.19518891683042938, Training Accuracy: 0.9256308100929614, Validation Loss: 0.18510457665421243\n",
            "Epoch 4/40, Training Loss: 0.17778400276134262, Training Accuracy: 0.9328177486133896, Validation Loss: 0.17289796177037928\n",
            "Epoch 5/40, Training Loss: 0.1630560643229615, Training Accuracy: 0.9399265682368565, Validation Loss: 0.16510034265906312\n",
            "Epoch 6/40, Training Loss: 0.15126699791637374, Training Accuracy: 0.9442231075697212, Validation Loss: 0.16029393075163975\n",
            "Epoch 7/40, Training Loss: 0.1422510706258947, Training Accuracy: 0.9478165768299351, Validation Loss: 0.15789036496087563\n",
            "Epoch 8/40, Training Loss: 0.1339346459923099, Training Accuracy: 0.9493789547691587, Validation Loss: 0.1510195881994658\n",
            "Epoch 9/40, Training Loss: 0.12273648622635733, Training Accuracy: 0.9560190610108585, Validation Loss: 0.1465283562970716\n",
            "Epoch 10/40, Training Loss: 0.11967798148684983, Training Accuracy: 0.9560971799078197, Validation Loss: 0.14614520317246749\n",
            "Epoch 11/40, Training Loss: 0.1054196351564568, Training Accuracy: 0.9614873837981408, Validation Loss: 0.14894601373478425\n",
            "Epoch 12/40, Training Loss: 0.10280322090755055, Training Accuracy: 0.9634403562221702, Validation Loss: 0.13765987519954526\n",
            "Epoch 13/40, Training Loss: 0.09655851336075595, Training Accuracy: 0.9663307554097336, Validation Loss: 0.13881116607334726\n",
            "Epoch 14/40, Training Loss: 0.08783719874165526, Training Accuracy: 0.9686743223185689, Validation Loss: 0.1382591154772875\n",
            "Early stopping\n",
            "Epoch 1/40, Training Loss: 0.6065178374708885, Training Accuracy: 0.7194750410124209, Validation Loss: 0.28837143577808555\n",
            "Epoch 2/40, Training Loss: 0.23086798035386782, Training Accuracy: 0.9120381220217171, Validation Loss: 0.1988025879444078\n",
            "Epoch 3/40, Training Loss: 0.1952777650550156, Training Accuracy: 0.9243027888446215, Validation Loss: 0.18121869706137236\n",
            "Epoch 4/40, Training Loss: 0.17667025359189925, Training Accuracy: 0.9333645808921178, Validation Loss: 0.17269175430369932\n",
            "Epoch 5/40, Training Loss: 0.16322863630403706, Training Accuracy: 0.9407858761034295, Validation Loss: 0.16732890903949738\n",
            "Epoch 6/40, Training Loss: 0.15535364224950768, Training Accuracy: 0.9416451839700023, Validation Loss: 0.15858792981436087\n",
            "Epoch 7/40, Training Loss: 0.14248116516429393, Training Accuracy: 0.9482071713147411, Validation Loss: 0.153457602962505\n",
            "Epoch 8/40, Training Loss: 0.13254448094993682, Training Accuracy: 0.9520349972658386, Validation Loss: 0.16358056629812995\n",
            "Epoch 9/40, Training Loss: 0.12448278248115484, Training Accuracy: 0.9560190610108585, Validation Loss: 0.14659306961436605\n",
            "Epoch 10/40, Training Loss: 0.11580590628995675, Training Accuracy: 0.9582845090227325, Validation Loss: 0.14383793968793956\n",
            "Epoch 11/40, Training Loss: 0.11027949473667722, Training Accuracy: 0.9596125302710726, Validation Loss: 0.14156238466154697\n",
            "Epoch 12/40, Training Loss: 0.10156770881765814, Training Accuracy: 0.9635965940160925, Validation Loss: 0.1378778236549954\n",
            "Epoch 13/40, Training Loss: 0.09497927735323336, Training Accuracy: 0.9657839231310054, Validation Loss: 0.13724445577624234\n",
            "Epoch 14/40, Training Loss: 0.08485647087565748, Training Accuracy: 0.9692211545972971, Validation Loss: 0.13658799690216086\n",
            "Epoch 15/40, Training Loss: 0.07849498355670818, Training Accuracy: 0.9729708616514334, Validation Loss: 0.13424733203164366\n",
            "Epoch 16/40, Training Loss: 0.07389787191181792, Training Accuracy: 0.9746894773845793, Validation Loss: 0.13282703253072362\n",
            "Epoch 17/40, Training Loss: 0.06526168546811979, Training Accuracy: 0.9782048277478322, Validation Loss: 0.1329748792097319\n",
            "Epoch 18/40, Training Loss: 0.05977595158718267, Training Accuracy: 0.9804702757597062, Validation Loss: 0.13486236203895058\n",
            "Early stopping\n",
            "Epoch 1/40, Training Loss: 0.6046465794690212, Training Accuracy: 0.6809624248105617, Validation Loss: 0.2831220789704212\n",
            "Epoch 2/40, Training Loss: 0.23381374596585683, Training Accuracy: 0.9105538629794547, Validation Loss: 0.19821865544762723\n",
            "Epoch 3/40, Training Loss: 0.19352100493933133, Training Accuracy: 0.9281306147957191, Validation Loss: 0.1833769881794619\n",
            "Epoch 4/40, Training Loss: 0.17600846896179725, Training Accuracy: 0.934380126552613, Validation Loss: 0.1716918186392895\n",
            "Epoch 5/40, Training Loss: 0.1631403969906604, Training Accuracy: 0.9396922115459729, Validation Loss: 0.16393151411483453\n",
            "Epoch 6/40, Training Loss: 0.15261382193522371, Training Accuracy: 0.9440668697757988, Validation Loss: 0.16042304004347602\n",
            "Epoch 7/40, Training Loss: 0.14133661252386237, Training Accuracy: 0.9494570736661199, Validation Loss: 0.15525954303353331\n",
            "Epoch 8/40, Training Loss: 0.13526578396309713, Training Accuracy: 0.9502382626357316, Validation Loss: 0.15230374072873315\n",
            "Epoch 9/40, Training Loss: 0.1275423542777104, Training Accuracy: 0.9538317318959456, Validation Loss: 0.14476540615392286\n",
            "Epoch 10/40, Training Loss: 0.11686173056377404, Training Accuracy: 0.9572689633622373, Validation Loss: 0.1457836363724498\n",
            "Epoch 11/40, Training Loss: 0.10766633195960107, Training Accuracy: 0.9608624326224514, Validation Loss: 0.1434908715444942\n",
            "Epoch 12/40, Training Loss: 0.10167578062904414, Training Accuracy: 0.963362237325209, Validation Loss: 0.14644970043107522\n",
            "Epoch 13/40, Training Loss: 0.09301712071124595, Training Accuracy: 0.9678150144519959, Validation Loss: 0.1351613882322644\n",
            "Epoch 14/40, Training Loss: 0.08545550934284629, Training Accuracy: 0.9701585813608312, Validation Loss: 0.13429853545371875\n",
            "Epoch 15/40, Training Loss: 0.08512471727934198, Training Accuracy: 0.97273650496055, Validation Loss: 0.13351965149821238\n",
            "Epoch 16/40, Training Loss: 0.0755443369077932, Training Accuracy: 0.973205218342317, Validation Loss: 0.13166789112742558\n",
            "Epoch 17/40, Training Loss: 0.06525035709141526, Training Accuracy: 0.9767986876025311, Validation Loss: 0.1352742145834274\n",
            "Epoch 18/40, Training Loss: 0.061511419048597714, Training Accuracy: 0.9803921568627451, Validation Loss: 0.13351441213731155\n",
            "Early stopping\n",
            "Epoch 1/40, Training Loss: 0.6138683223160938, Training Accuracy: 0.6883837200218733, Validation Loss: 0.29640151283075644\n",
            "Epoch 2/40, Training Loss: 0.2334178281827501, Training Accuracy: 0.9098507929068042, Validation Loss: 0.19836701036885726\n",
            "Epoch 3/40, Training Loss: 0.19700523942190024, Training Accuracy: 0.9260214045777674, Validation Loss: 0.18088435156400814\n",
            "Epoch 4/40, Training Loss: 0.17795459621247664, Training Accuracy: 0.933911413170846, Validation Loss: 0.1743856145198955\n",
            "Epoch 5/40, Training Loss: 0.1671057547725255, Training Accuracy: 0.9368799312553707, Validation Loss: 0.16637688234101894\n",
            "Epoch 6/40, Training Loss: 0.15331868406626123, Training Accuracy: 0.9433637997031482, Validation Loss: 0.16203990838555402\n",
            "Epoch 7/40, Training Loss: 0.16106936871189975, Training Accuracy: 0.9465666744785564, Validation Loss: 0.15920999776138817\n",
            "Epoch 8/40, Training Loss: 0.14136145497435953, Training Accuracy: 0.9503945004296539, Validation Loss: 0.15023520043076471\n",
            "Epoch 9/40, Training Loss: 0.12831839468024336, Training Accuracy: 0.9530505429263338, Validation Loss: 0.14946982472441916\n",
            "Epoch 10/40, Training Loss: 0.12290558917216253, Training Accuracy: 0.9546910397625186, Validation Loss: 0.14837618284793788\n",
            "Epoch 11/40, Training Loss: 0.11546822216052478, Training Accuracy: 0.9585188657136161, Validation Loss: 0.14343132589792096\n",
            "Epoch 12/40, Training Loss: 0.10668412239298883, Training Accuracy: 0.9610967893133349, Validation Loss: 0.13734404734054276\n",
            "Epoch 13/40, Training Loss: 0.10677427201721798, Training Accuracy: 0.963362237325209, Validation Loss: 0.14158705362053806\n",
            "Epoch 14/40, Training Loss: 0.09591835836861955, Training Accuracy: 0.9657839231310054, Validation Loss: 0.13455226956758387\n",
            "Epoch 15/40, Training Loss: 0.08604811909446372, Training Accuracy: 0.9711741270213264, Validation Loss: 0.13268285695203516\n",
            "Epoch 16/40, Training Loss: 0.08104227669247477, Training Accuracy: 0.9710960081243653, Validation Loss: 0.1401674248018237\n",
            "Epoch 17/40, Training Loss: 0.07573628285668087, Training Accuracy: 0.9751581907663464, Validation Loss: 0.1394744577362787\n",
            "Early stopping\n",
            "Epoch 1/40, Training Loss: 0.6123621314022671, Training Accuracy: 0.6646355753456761, Validation Loss: 0.2960533700710119\n",
            "Epoch 2/40, Training Loss: 0.23655842159369692, Training Accuracy: 0.9100851495976877, Validation Loss: 0.19831873771063116\n",
            "Epoch 3/40, Training Loss: 0.19559839910906346, Training Accuracy: 0.9251620967111944, Validation Loss: 0.18268761367991912\n",
            "Epoch 4/40, Training Loss: 0.17708324541833567, Training Accuracy: 0.9346144832434966, Validation Loss: 0.17328136206366296\n",
            "Epoch 5/40, Training Loss: 0.16341681561122337, Training Accuracy: 0.9394578548550895, Validation Loss: 0.1671691905967025\n",
            "Epoch 6/40, Training Loss: 0.15775292678110636, Training Accuracy: 0.9421138973517694, Validation Loss: 0.16527540825827178\n",
            "Epoch 7/40, Training Loss: 0.14573149742970976, Training Accuracy: 0.9472697445512069, Validation Loss: 0.15710328753257907\n",
            "Epoch 8/40, Training Loss: 0.1329518575823648, Training Accuracy: 0.9516444027810327, Validation Loss: 0.15222162917949433\n",
            "Epoch 9/40, Training Loss: 0.12918195222398446, Training Accuracy: 0.9529724240293727, Validation Loss: 0.148465811773095\n",
            "Epoch 10/40, Training Loss: 0.1203957663140079, Training Accuracy: 0.9566440121865479, Validation Loss: 0.14394596478966779\n",
            "Epoch 11/40, Training Loss: 0.1117803640387065, Training Accuracy: 0.9585969846105773, Validation Loss: 0.14147110292038254\n",
            "Epoch 12/40, Training Loss: 0.10259489518235813, Training Accuracy: 0.9632059995312866, Validation Loss: 0.1380385707977206\n",
            "Epoch 13/40, Training Loss: 0.09789300063597177, Training Accuracy: 0.9664088743066948, Validation Loss: 0.1357662881356339\n",
            "Epoch 14/40, Training Loss: 0.09092765714885176, Training Accuracy: 0.9687524412155301, Validation Loss: 0.1360809910436009\n",
            "Epoch 15/40, Training Loss: 0.0822956966727379, Training Accuracy: 0.9720334348878994, Validation Loss: 0.1354097022220146\n",
            "Epoch 16/40, Training Loss: 0.0742847889184544, Training Accuracy: 0.9735958128271229, Validation Loss: 0.13797069401588552\n",
            "Epoch 17/40, Training Loss: 0.06905902435757516, Training Accuracy: 0.9771111631903757, Validation Loss: 0.13707309025664663\n",
            "Early stopping\n"
          ]
        }
      ],
      "source": [
        "# Train the model\n",
        "results = train_model(X_train_embeddings, y_train, X_val_embeddings, y_val, input_size)\n",
        "\n"
      ]
    },
    {
      "cell_type": "code",
      "execution_count": 34,
      "id": "43732b1f-cdf3-450d-a147-0349d3fc86be",
      "metadata": {
        "id": "43732b1f-cdf3-450d-a147-0349d3fc86be",
        "executionInfo": {
          "status": "ok",
          "timestamp": 1729498305879,
          "user_tz": -120,
          "elapsed": 301,
          "user": {
            "displayName": "",
            "userId": ""
          }
        }
      },
      "outputs": [],
      "source": [
        "#####################################\n",
        "# benchmark ending for modeling     #\n",
        "#####################################\n",
        "time_end_model = time.perf_counter()"
      ]
    },
    {
      "cell_type": "code",
      "source": [
        "# Find the best weight decay value\n",
        "best_weight_decay = None\n",
        "best_val_loss = float('inf')\n",
        "\n",
        "for wd, metrics in results.items():\n",
        "    final_val_loss = metrics['val_losses'][-1]  # Get the last validation loss for this weight decay\n",
        "    if final_val_loss < best_val_loss:\n",
        "        best_val_loss = final_val_loss\n",
        "        best_weight_decay = wd\n",
        "\n",
        "print(f\"Best Weight Decay: {best_weight_decay}, Best Validation Loss: {best_val_loss}\")"
      ],
      "metadata": {
        "colab": {
          "base_uri": "https://localhost:8080/"
        },
        "id": "aU4o_ZFfz1xb",
        "outputId": "5a43e3b2-5f2f-494c-ecc7-9217e19e6100",
        "executionInfo": {
          "status": "ok",
          "timestamp": 1729498311766,
          "user_tz": -120,
          "elapsed": 300,
          "user": {
            "displayName": "",
            "userId": ""
          }
        }
      },
      "id": "aU4o_ZFfz1xb",
      "execution_count": 35,
      "outputs": [
        {
          "output_type": "stream",
          "name": "stdout",
          "text": [
            "Best Weight Decay: 0.001, Best Validation Loss: 0.13351441213731155\n"
          ]
        }
      ]
    },
    {
      "cell_type": "code",
      "source": [
        "# Visualize the results\n",
        "plt.figure(figsize=(12, 6))\n",
        "for wd, metrics in results.items():\n",
        "    plt.plot(metrics['val_losses'], label=f'Weight Decay: {wd}')\n",
        "plt.title('Validation Loss vs. Epochs for Different Weight Decay Values')\n",
        "plt.xlabel('Epochs')\n",
        "plt.ylabel('Validation Loss')\n",
        "plt.legend()\n",
        "plt.show()"
      ],
      "metadata": {
        "colab": {
          "base_uri": "https://localhost:8080/",
          "height": 564
        },
        "id": "emqM1rZq06O1",
        "outputId": "030139e3-ff2d-46a2-c6a6-09960f129019",
        "executionInfo": {
          "status": "ok",
          "timestamp": 1729498315465,
          "user_tz": -120,
          "elapsed": 703,
          "user": {
            "displayName": "",
            "userId": ""
          }
        }
      },
      "id": "emqM1rZq06O1",
      "execution_count": 36,
      "outputs": [
        {
          "output_type": "display_data",
          "data": {
            "text/plain": [
              "<Figure size 1200x600 with 1 Axes>"
            ],
            "image/png": "[encoded data removed]"
          },
          "metadata": {}
        }
      ]
    },
    {
      "cell_type": "markdown",
      "source": [
        "##Retrain the model using the best AdamW decay"
      ],
      "metadata": {
        "id": "2k0cyEC-1Dhz"
      },
      "id": "2k0cyEC-1Dhz"
    },
    {
      "cell_type": "code",
      "source": [
        "# Function to train the model\n",
        "def retrain_with_best_decay(X_train, y_train, X_val, y_val, input_size, best_weight_decay):\n",
        "    train_dataset = NewsDataset(X_train, y_train)\n",
        "    val_dataset = NewsDataset(X_val, y_val)\n",
        "\n",
        "    train_loader = DataLoader(train_dataset, batch_size=64, shuffle=True)\n",
        "    val_loader = DataLoader(val_dataset, batch_size=64, shuffle=False)\n",
        "\n",
        "    model = SimpleNN(input_size).to(device)\n",
        "    criterion = nn.CrossEntropyLoss()\n",
        "    optimizer = optim.AdamW(model.parameters(), lr=2e-5, weight_decay=best_weight_decay)\n",
        "\n",
        "    num_epochs = 40\n",
        "    best_val_loss = float('inf')\n",
        "    patience = 2\n",
        "    patience_counter = 0\n",
        "\n",
        "    # Initialize lists to store losses and accuracies\n",
        "    train_losses = []\n",
        "    val_losses = []\n",
        "    train_accuracies = []\n",
        "    val_accuracies = []\n",
        "\n",
        "    for epoch in range(num_epochs):\n",
        "        model.train()\n",
        "        running_loss = 0.0\n",
        "        correct = 0\n",
        "        total = 0\n",
        "\n",
        "        for X_batch, y_batch in train_loader:\n",
        "            X_batch, y_batch = X_batch.to(device), y_batch.to(device)\n",
        "            optimizer.zero_grad()\n",
        "            outputs = model(X_batch)\n",
        "            loss = criterion(outputs, y_batch)\n",
        "            loss.backward()\n",
        "            optimizer.step()\n",
        "\n",
        "            running_loss += loss.item()  # Accumulate training loss\n",
        "\n",
        "            _, predicted = torch.max(outputs, 1)\n",
        "            total += y_batch.size(0)\n",
        "            correct += (predicted == y_batch).sum().item()  # Track correct predictions\n",
        "\n",
        "\n",
        "        avg_train_loss = running_loss / len(train_loader)  # Calculate average training loss\n",
        "        train_accuracy = correct / total  # Calculate training accuracy\n",
        "\n",
        "        train_losses.append(avg_train_loss)\n",
        "        train_accuracies.append(train_accuracy)\n",
        "\n",
        "\n",
        "        model.eval()\n",
        "        val_loss = 0\n",
        "        correct = 0\n",
        "        total = 0\n",
        "        with torch.no_grad():\n",
        "            for X_batch, y_batch in val_loader:\n",
        "                X_batch, y_batch = X_batch.to(device), y_batch.to(device)\n",
        "                outputs = model(X_batch)\n",
        "                loss = criterion(outputs, y_batch)\n",
        "                val_loss += loss.item()\n",
        "\n",
        "                _, predicted = torch.max(outputs, 1)\n",
        "                total += y_batch.size(0)\n",
        "                correct += (predicted == y_batch).sum().item()\n",
        "\n",
        "        avg_val_loss = val_loss / len(val_loader)\n",
        "        val_accuracy = correct / total\n",
        "\n",
        "        val_losses.append(avg_val_loss)\n",
        "        val_accuracies.append(val_accuracy)\n",
        "        print(f'Epoch {epoch+1}/{num_epochs}, Training Loss: {avg_train_loss}, Training Accuracy: {train_accuracy}')\n",
        "        print(f'Epoch {epoch+1}/{num_epochs}, Validation Loss: {avg_val_loss}')\n",
        "\n",
        "        if val_loss < best_val_loss:\n",
        "            best_val_loss = val_loss\n",
        "            patience_counter = 0\n",
        "        else:\n",
        "            patience_counter += 1\n",
        "\n",
        "        if patience_counter >= patience:\n",
        "            print(\"Early stopping\")\n",
        "            break\n",
        "\n",
        "    return model, train_losses, val_losses, train_accuracies, val_accuracies\n"
      ],
      "metadata": {
        "id": "YT-I6Ovw1DKS",
        "executionInfo": {
          "status": "ok",
          "timestamp": 1729498323111,
          "user_tz": -120,
          "elapsed": 298,
          "user": {
            "displayName": "",
            "userId": ""
          }
        }
      },
      "id": "YT-I6Ovw1DKS",
      "execution_count": 37,
      "outputs": []
    },
    {
      "cell_type": "code",
      "source": [
        "#####################################\n",
        "# benchmark beginning for modeling  #\n",
        "#####################################\n",
        "time_start_model = time.perf_counter()"
      ],
      "metadata": {
        "id": "_ok46oQSA0S8",
        "executionInfo": {
          "status": "ok",
          "timestamp": 1729498328212,
          "user_tz": -120,
          "elapsed": 287,
          "user": {
            "displayName": "",
            "userId": ""
          }
        }
      },
      "id": "_ok46oQSA0S8",
      "execution_count": 38,
      "outputs": []
    },
    {
      "cell_type": "code",
      "source": [
        "input_size = 1536"
      ],
      "metadata": {
        "id": "5uAsMQenA9jc",
        "executionInfo": {
          "status": "ok",
          "timestamp": 1729498329405,
          "user_tz": -120,
          "elapsed": 298,
          "user": {
            "displayName": "",
            "userId": ""
          }
        }
      },
      "id": "5uAsMQenA9jc",
      "execution_count": 39,
      "outputs": []
    },
    {
      "cell_type": "code",
      "source": [
        "# Set up the device (cuda, mps, or cpu)\n",
        "device = torch.device(\"cuda\" if torch.cuda.is_available() else \"mps\" if torch.backends.mps.is_available() else \"cpu\")"
      ],
      "metadata": {
        "id": "v7fswXOzBIzT",
        "executionInfo": {
          "status": "ok",
          "timestamp": 1729498331100,
          "user_tz": -120,
          "elapsed": 277,
          "user": {
            "displayName": "",
            "userId": ""
          }
        }
      },
      "id": "v7fswXOzBIzT",
      "execution_count": 40,
      "outputs": []
    },
    {
      "cell_type": "code",
      "source": [
        "#Coverting into int\n",
        "label_mapping = {'real': 0, 'fake': 1}\n",
        "\n",
        "# Convert y_train and y_val only if they are strings\n",
        "y_train = [label_mapping.get(label, label) if isinstance(label, str) else label for label in y_train]\n",
        "y_val = [label_mapping.get(label, label) if isinstance(label, str) else label for label in y_val]\n",
        "\n",
        "# Ensure all elements are integers before creating tensors\n",
        "y_train = [int(label) for label in y_train]  # Convert all elements to integers\n",
        "y_val = [int(label) for label in y_val]  # Convert all elements to integers\n"
      ],
      "metadata": {
        "id": "Rx7m_Eut-jnW",
        "executionInfo": {
          "status": "ok",
          "timestamp": 1729497789789,
          "user_tz": -120,
          "elapsed": 300,
          "user": {
            "displayName": "",
            "userId": ""
          }
        }
      },
      "id": "Rx7m_Eut-jnW",
      "execution_count": 31,
      "outputs": []
    },
    {
      "cell_type": "code",
      "source": [
        "# Train the model with the best weight decay\n",
        "model, train_losses, val_losses, train_accuracies, val_accuracies = retrain_with_best_decay(X_train_embeddings, y_train, X_val_embeddings, y_val, input_size, best_weight_decay)\n"
      ],
      "metadata": {
        "colab": {
          "base_uri": "https://localhost:8080/"
        },
        "id": "87rFZ-7v-nlk",
        "outputId": "33e7b06a-633a-46f1-aa15-fcc71d7bf408",
        "executionInfo": {
          "status": "ok",
          "timestamp": 1729498645070,
          "user_tz": -120,
          "elapsed": 34689,
          "user": {
            "displayName": "",
            "userId": ""
          }
        }
      },
      "id": "87rFZ-7v-nlk",
      "execution_count": 43,
      "outputs": [
        {
          "output_type": "stream",
          "name": "stdout",
          "text": [
            "Epoch 1/40, Training Loss: 0.6060665103778318, Training Accuracy: 0.7283805952659949\n",
            "Epoch 1/40, Validation Loss: 0.2890420230322106\n",
            "Epoch 2/40, Training Loss: 0.23415792846255265, Training Accuracy: 0.9098507929068042\n",
            "Epoch 2/40, Validation Loss: 0.20007449319196302\n",
            "Epoch 3/40, Training Loss: 0.19800521179440603, Training Accuracy: 0.927661901413952\n",
            "Epoch 3/40, Validation Loss: 0.1826609179031017\n",
            "Epoch 4/40, Training Loss: 0.1781415324009473, Training Accuracy: 0.9348488399343802\n",
            "Epoch 4/40, Validation Loss: 0.1712947766794715\n",
            "Epoch 5/40, Training Loss: 0.16557118566058093, Training Accuracy: 0.9395359737520507\n",
            "Epoch 5/40, Validation Loss: 0.16484904410534126\n",
            "Epoch 6/40, Training Loss: 0.1542156898597283, Training Accuracy: 0.9439887508788376\n",
            "Epoch 6/40, Validation Loss: 0.15996245086886163\n",
            "Epoch 7/40, Training Loss: 0.1421031213576317, Training Accuracy: 0.9505507382235763\n",
            "Epoch 7/40, Validation Loss: 0.1550349735243376\n",
            "Epoch 8/40, Training Loss: 0.13393847307940918, Training Accuracy: 0.9520349972658386\n",
            "Epoch 8/40, Validation Loss: 0.15128128932312476\n",
            "Epoch 9/40, Training Loss: 0.12593292276055287, Training Accuracy: 0.9545348019685962\n",
            "Epoch 9/40, Validation Loss: 0.14648574131519296\n",
            "Epoch 10/40, Training Loss: 0.11874508698104848, Training Accuracy: 0.9564096554956644\n",
            "Epoch 10/40, Validation Loss: 0.15899038895271544\n",
            "Epoch 11/40, Training Loss: 0.11003468332080106, Training Accuracy: 0.9618779782829466\n",
            "Epoch 11/40, Validation Loss: 0.13915703601615373\n",
            "Epoch 12/40, Training Loss: 0.10472756016313733, Training Accuracy: 0.9625810483555972\n",
            "Epoch 12/40, Validation Loss: 0.1364248058823652\n",
            "Epoch 13/40, Training Loss: 0.09610735545796689, Training Accuracy: 0.9653933286461995\n",
            "Epoch 13/40, Validation Loss: 0.1356218566381654\n",
            "Epoch 14/40, Training Loss: 0.08592064674455437, Training Accuracy: 0.9689086790094524\n",
            "Epoch 14/40, Validation Loss: 0.13533573268457902\n",
            "Epoch 15/40, Training Loss: 0.0818622454781368, Training Accuracy: 0.9721115537848606\n",
            "Epoch 15/40, Validation Loss: 0.13594530886688896\n",
            "Epoch 16/40, Training Loss: 0.075485024495955, Training Accuracy: 0.9730489805483946\n",
            "Epoch 16/40, Validation Loss: 0.1308425992380741\n",
            "Epoch 17/40, Training Loss: 0.06749418249356083, Training Accuracy: 0.9767986876025311\n",
            "Epoch 17/40, Validation Loss: 0.13333862209909184\n",
            "Epoch 18/40, Training Loss: 0.06154964055860718, Training Accuracy: 0.9800015623779392\n",
            "Epoch 18/40, Validation Loss: 0.13239842263418575\n",
            "Early stopping\n"
          ]
        }
      ]
    },
    {
      "cell_type": "markdown",
      "source": [
        "##Evaluating\n"
      ],
      "metadata": {
        "id": "97kVEkEgDbsM"
      },
      "id": "97kVEkEgDbsM"
    },
    {
      "cell_type": "code",
      "source": [
        "# Evaluate the model on the test set\n",
        "model.eval()\n",
        "y_pred = []\n",
        "with torch.no_grad():\n",
        "    for X_batch in torch.tensor(X_test_embeddings, dtype=torch.float32).to(device):\n",
        "        outputs = model(X_batch.unsqueeze(0))\n",
        "        _, predicted = torch.max(outputs, 1)\n",
        "        y_pred.append(predicted.cpu().numpy()[0])"
      ],
      "metadata": {
        "id": "RghZfzDH2W-K",
        "executionInfo": {
          "status": "ok",
          "timestamp": 1729498671848,
          "user_tz": -120,
          "elapsed": 965,
          "user": {
            "displayName": "",
            "userId": ""
          }
        }
      },
      "id": "RghZfzDH2W-K",
      "execution_count": 44,
      "outputs": []
    },
    {
      "cell_type": "code",
      "execution_count": 45,
      "id": "eec37c8e-621e-46c8-a1d3-9badc7dd37e8",
      "metadata": {
        "colab": {
          "base_uri": "https://localhost:8080/"
        },
        "id": "eec37c8e-621e-46c8-a1d3-9badc7dd37e8",
        "outputId": "d40c0e2d-ada9-411f-e80e-132c134b4f91",
        "executionInfo": {
          "status": "ok",
          "timestamp": 1729498674831,
          "user_tz": -120,
          "elapsed": 288,
          "user": {
            "displayName": "",
            "userId": ""
          }
        }
      },
      "outputs": [
        {
          "output_type": "stream",
          "name": "stdout",
          "text": [
            "Accuracy: 0.9544460641399417\n",
            "Classification Report:              precision    recall  f1-score   support\n",
            "\n",
            "        real       0.96      0.95      0.96      1413\n",
            "        fake       0.95      0.95      0.95      1331\n",
            "\n",
            "    accuracy                           0.95      2744\n",
            "   macro avg       0.95      0.95      0.95      2744\n",
            "weighted avg       0.95      0.95      0.95      2744\n",
            "\n",
            "Confusion Matrix:[[1349   64]\n",
            " [  61 1270]]\n"
          ]
        }
      ],
      "source": [
        "# Evaluate performance\n",
        "acc = accuracy_score(y_test, y_pred)\n",
        "class_report = classification_report(y_test, y_pred, target_names=[\"real\", \"fake\"])\n",
        "conf_matrix = confusion_matrix(y_test, y_pred)\n",
        "\n",
        "print(f\"Accuracy: {acc}\")\n",
        "print(f\"Classification Report:{class_report}\")\n",
        "print(f\"Confusion Matrix:{conf_matrix}\")\n"
      ]
    },
    {
      "cell_type": "code",
      "execution_count": 46,
      "id": "2fd422e1-9c39-43a3-9caa-511491cd9341",
      "metadata": {
        "colab": {
          "base_uri": "https://localhost:8080/",
          "height": 564
        },
        "id": "2fd422e1-9c39-43a3-9caa-511491cd9341",
        "outputId": "518f6f0d-19b6-4f57-8643-441f311c7446",
        "scrolled": true,
        "executionInfo": {
          "status": "ok",
          "timestamp": 1729499096167,
          "user_tz": -120,
          "elapsed": 325,
          "user": {
            "displayName": "",
            "userId": ""
          }
        }
      },
      "outputs": [
        {
          "output_type": "display_data",
          "data": {
            "text/plain": [
              "<Figure size 800x600 with 2 Axes>"
            ],
            "image/png": "[encoded data removed]"
          },
          "metadata": {}
        }
      ],
      "source": [
        "# Visualize the confusion matrix\n",
        "plt.figure(figsize=(8, 6))\n",
        "sns.heatmap(conf_matrix, annot=True, fmt='d', cmap='Blues', xticklabels=[\"real\", \"fake\"], yticklabels=[\"real\", \"fake\"])\n",
        "plt.ylabel('True Label')\n",
        "plt.xlabel('Predicted Label')\n",
        "plt.title('Confusion Matrix')\n",
        "plt.show()"
      ]
    },
    {
      "cell_type": "code",
      "execution_count": 47,
      "id": "kWxAjJVkP_Lg",
      "metadata": {
        "colab": {
          "base_uri": "https://localhost:8080/",
          "height": 453
        },
        "id": "kWxAjJVkP_Lg",
        "outputId": "32ed3d86-a2d2-40d3-c18d-d9cf5a65638a",
        "executionInfo": {
          "status": "ok",
          "timestamp": 1729499104569,
          "user_tz": -120,
          "elapsed": 1004,
          "user": {
            "displayName": "",
            "userId": ""
          }
        }
      },
      "outputs": [
        {
          "output_type": "display_data",
          "data": {
            "text/plain": [
              "<Figure size 1200x500 with 2 Axes>"
            ],
            "image/png": "[encoded data removed]"
          },
          "metadata": {}
        }
      ],
      "source": [
        "# Plot the loss curves\n",
        "plt.figure(figsize=(12, 5))\n",
        "plt.subplot(1, 2, 1)\n",
        "plt.plot(range(1, len(train_losses) + 1), train_losses, label='Train Loss')\n",
        "plt.plot(range(1, len(val_losses) + 1), val_losses, label='Validation Loss')\n",
        "plt.xlabel('Epochs')\n",
        "plt.ylabel('Loss')\n",
        "plt.title('Training and Validation Loss')\n",
        "plt.legend()\n",
        "\n",
        "# Plot the accuracy curves\n",
        "plt.subplot(1, 2, 2)\n",
        "plt.plot(range(1, len(train_accuracies) + 1), train_accuracies, label='Train Accuracy')\n",
        "plt.plot(range(1, len(val_accuracies) + 1), val_accuracies, label='Validation Accuracy')\n",
        "plt.xlabel('Epochs')\n",
        "plt.ylabel('Accuracy')\n",
        "plt.title('Training and Validation Accuracy')\n",
        "plt.legend()\n",
        "plt.tight_layout()\n",
        "plt.show()"
      ]
    },
    {
      "cell_type": "code",
      "execution_count": 48,
      "id": "akMaGh1QXXk4",
      "metadata": {
        "colab": {
          "base_uri": "https://localhost:8080/"
        },
        "id": "akMaGh1QXXk4",
        "outputId": "3f7d14e6-97bb-4343-cd74-b9b6ab7a0250",
        "executionInfo": {
          "status": "ok",
          "timestamp": 1729499111527,
          "user_tz": -120,
          "elapsed": 271,
          "user": {
            "displayName": "",
            "userId": ""
          }
        }
      },
      "outputs": [
        {
          "output_type": "stream",
          "name": "stdout",
          "text": [
            "Train Losses: [0.6060665103778318, 0.23415792846255265, 0.19800521179440603, 0.1781415324009473, 0.16557118566058093, 0.1542156898597283, 0.1421031213576317, 0.13393847307940918, 0.12593292276055287, 0.11874508698104848, 0.11003468332080106, 0.10472756016313733, 0.09610735545796689, 0.08592064674455437, 0.0818622454781368, 0.075485024495955, 0.06749418249356083, 0.06154964055860718]\n",
            "Validation Losses: [0.2890420230322106, 0.20007449319196302, 0.1826609179031017, 0.1712947766794715, 0.16484904410534126, 0.15996245086886163, 0.1550349735243376, 0.15128128932312476, 0.14648574131519296, 0.15899038895271544, 0.13915703601615373, 0.1364248058823652, 0.1356218566381654, 0.13533573268457902, 0.13594530886688896, 0.1308425992380741, 0.13333862209909184, 0.13239842263418575]\n",
            "Train Accuracies: [0.7283805952659949, 0.9098507929068042, 0.927661901413952, 0.9348488399343802, 0.9395359737520507, 0.9439887508788376, 0.9505507382235763, 0.9520349972658386, 0.9545348019685962, 0.9564096554956644, 0.9618779782829466, 0.9625810483555972, 0.9653933286461995, 0.9689086790094524, 0.9721115537848606, 0.9730489805483946, 0.9767986876025311, 0.9800015623779392]\n",
            "Validation Accuracies: [0.8975574188844331, 0.9190667152752461, 0.9259934378417791, 0.93437841779074, 0.935836675173168, 0.938753189938024, 0.936565803864382, 0.9405760116660591, 0.9456799125045571, 0.93802406124681, 0.9500546846518411, 0.951877506379876, 0.95260663507109, 0.9522420707254831, 0.9515129420342691, 0.954064892453518, 0.954794021144732, 0.9529711994166971]\n"
          ]
        }
      ],
      "source": [
        "print(\"Train Losses:\", train_losses)\n",
        "print(\"Validation Losses:\", val_losses)\n",
        "print(\"Train Accuracies:\", train_accuracies)\n",
        "print(\"Validation Accuracies:\", val_accuracies)"
      ]
    },
    {
      "cell_type": "markdown",
      "id": "7ad31460-8f94-4de2-be81-aa55e8196ebb",
      "metadata": {
        "id": "7ad31460-8f94-4de2-be81-aa55e8196ebb"
      },
      "source": [
        "## Benchmark results"
      ]
    },
    {
      "cell_type": "code",
      "execution_count": 49,
      "id": "4efc1ba3-f5f4-4723-bd6e-bbead42ddd5b",
      "metadata": {
        "colab": {
          "base_uri": "https://localhost:8080/",
          "height": 245
        },
        "id": "4efc1ba3-f5f4-4723-bd6e-bbead42ddd5b",
        "outputId": "0b1be04b-d3d0-4740-ef47-d677bdd18162",
        "executionInfo": {
          "status": "error",
          "timestamp": 1729499119328,
          "user_tz": -120,
          "elapsed": 273,
          "user": {
            "displayName": "",
            "userId": ""
          }
        }
      },
      "outputs": [
        {
          "output_type": "error",
          "ename": "NameError",
          "evalue": "name 'time_end_embed' is not defined",
          "traceback": [
            "\u001b[0;31m---------------------------------------------------------------------------\u001b[0m",
            "\u001b[0;31mNameError\u001b[0m                                 Traceback (most recent call last)",
            "\u001b[0;32m<ipython-input-49-dcf7f9305e97>\u001b[0m in \u001b[0;36m<cell line: 5>\u001b[0;34m()\u001b[0m\n\u001b[1;32m      3\u001b[0m \u001b[0;31m#####################################\u001b[0m\u001b[0;34m\u001b[0m\u001b[0;34m\u001b[0m\u001b[0m\n\u001b[1;32m      4\u001b[0m \u001b[0;31m# calculating the performances\u001b[0m\u001b[0;34m\u001b[0m\u001b[0;34m\u001b[0m\u001b[0m\n\u001b[0;32m----> 5\u001b[0;31m \u001b[0membedding_duration\u001b[0m \u001b[0;34m=\u001b[0m \u001b[0mtime_end_embed\u001b[0m \u001b[0;34m-\u001b[0m \u001b[0mtime_start_embed\u001b[0m\u001b[0;34m\u001b[0m\u001b[0;34m\u001b[0m\u001b[0m\n\u001b[0m\u001b[1;32m      6\u001b[0m \u001b[0mmodeling_duration\u001b[0m \u001b[0;34m=\u001b[0m \u001b[0mtime_end_model\u001b[0m \u001b[0;34m-\u001b[0m \u001b[0mtime_start_model\u001b[0m\u001b[0;34m\u001b[0m\u001b[0;34m\u001b[0m\u001b[0m\n\u001b[1;32m      7\u001b[0m \u001b[0;34m\u001b[0m\u001b[0m\n",
            "\u001b[0;31mNameError\u001b[0m: name 'time_end_embed' is not defined"
          ]
        }
      ],
      "source": [
        "#####################################\n",
        "#          Benchmark results        #\n",
        "#####################################\n",
        "# calculating the performances\n",
        "embedding_duration = time_end_embed - time_start_embed\n",
        "modeling_duration = time_end_model - time_start_model\n",
        "\n",
        "# formating\n",
        "embedding_duration_hms = sec2hms(embedding_duration)\n",
        "modeling_duration_hms = sec2hms(modeling_duration)\n",
        "\n",
        "# printing the embedding and modeling performances\n",
        "\n",
        "print(f'Embedding duration : {embedding_duration_hms[0]:.0f}:{embedding_duration_hms[1]:.0f}:{embedding_duration_hms[2]:.3f}')\n",
        "print(f'Modeling duration : {modeling_duration_hms[0]:.0f}:{modeling_duration_hms[1]:.0f}:{modeling_duration_hms[2]:.3f}')"
      ]
    },
    {
      "cell_type": "code",
      "execution_count": null,
      "id": "4fb71ef3-27fb-47bc-8c9b-b1d7dd9aeb17",
      "metadata": {
        "id": "4fb71ef3-27fb-47bc-8c9b-b1d7dd9aeb17"
      },
      "outputs": [],
      "source": [
        "## we should write a function with an if else condition for when a drive is in and where there's not\n",
        "# Save the trained model to Google Drive\n",
        "# final_model_path = '/content/drive/My Drive/fake_news_model_roberta3.pth'\n",
        "# torch.save(model.state_dict(), final_model_path)\n",
        "# print(f\"Model saved to: {final_model_path}\")\n",
        "torch.save(model.state_dict(), \"stella_model.tar\")\n"
      ]
    }
  ],
  "metadata": {
    "accelerator": "GPU",
    "colab": {
      "gpuType": "T4",
      "provenance": [],
      "name": "fakenews_project_october_version_stella_nl_V3__from_lorena_error.ipynb"
    },
    "kernelspec": {
      "display_name": "Python 3 (ipykernel)",
      "language": "python",
      "name": "python3"
    },
    "language_info": {
      "codemirror_mode": {
        "name": "ipython",
        "version": 3
      },
      "file_extension": ".py",
      "mimetype": "text/x-python",
      "name": "python",
      "nbconvert_exporter": "python",
      "pygments_lexer": "ipython3",
      "version": "3.10.14"
    },
    "widgets": {
      "application/vnd.jupyter.widget-state+json": {
        "88d2681b67ee477c8d04036312416e52": {
          "model_module": "@jupyter-widgets/controls",
          "model_name": "HBoxModel",
          "model_module_version": "1.5.0",
          "state": {
            "_dom_classes": [],
            "_model_module": "@jupyter-widgets/controls",
            "_model_module_version": "1.5.0",
            "_model_name": "HBoxModel",
            "_view_count": null,
            "_view_module": "@jupyter-widgets/controls",
            "_view_module_version": "1.5.0",
            "_view_name": "HBoxView",
            "box_style": "",
            "children": [
              "IPY_MODEL_b23eaaa329c34ee4af59ad7b57a96643",
              "IPY_MODEL_84345e385ec54b4f983876bb9c539b88",
              "IPY_MODEL_af0c4e3988f54511b3ffb48c80ef5ae7"
            ],
            "layout": "IPY_MODEL_f8894eb5a85b4d76946f70dcf8be9228"
          }
        },
        "b23eaaa329c34ee4af59ad7b57a96643": {
          "model_module": "@jupyter-widgets/controls",
          "model_name": "HTMLModel",
          "model_module_version": "1.5.0",
          "state": {
            "_dom_classes": [],
            "_model_module": "@jupyter-widgets/controls",
            "_model_module_version": "1.5.0",
            "_model_name": "HTMLModel",
            "_view_count": null,
            "_view_module": "@jupyter-widgets/controls",
            "_view_module_version": "1.5.0",
            "_view_name": "HTMLView",
            "description": "",
            "description_tooltip": null,
            "layout": "IPY_MODEL_02bac7a8179c4af2a149425822f0867e",
            "placeholder": "​",
            "style": "IPY_MODEL_210e1e6754544cc79bb0dfb3fe6691d9",
            "value": "config.json: 100%"
          }
        },
        "84345e385ec54b4f983876bb9c539b88": {
          "model_module": "@jupyter-widgets/controls",
          "model_name": "FloatProgressModel",
          "model_module_version": "1.5.0",
          "state": {
            "_dom_classes": [],
            "_model_module": "@jupyter-widgets/controls",
            "_model_module_version": "1.5.0",
            "_model_name": "FloatProgressModel",
            "_view_count": null,
            "_view_module": "@jupyter-widgets/controls",
            "_view_module_version": "1.5.0",
            "_view_name": "ProgressView",
            "bar_style": "success",
            "description": "",
            "description_tooltip": null,
            "layout": "IPY_MODEL_bb943f815ec5469e82a747009e438ea6",
            "max": 844,
            "min": 0,
            "orientation": "horizontal",
            "style": "IPY_MODEL_2f6d915b5b5d481e980a80719f97e252",
            "value": 844
          }
        },
        "af0c4e3988f54511b3ffb48c80ef5ae7": {
          "model_module": "@jupyter-widgets/controls",
          "model_name": "HTMLModel",
          "model_module_version": "1.5.0",
          "state": {
            "_dom_classes": [],
            "_model_module": "@jupyter-widgets/controls",
            "_model_module_version": "1.5.0",
            "_model_name": "HTMLModel",
            "_view_count": null,
            "_view_module": "@jupyter-widgets/controls",
            "_view_module_version": "1.5.0",
            "_view_name": "HTMLView",
            "description": "",
            "description_tooltip": null,
            "layout": "IPY_MODEL_46a9e3bc8dda41c9a4f143038733f40c",
            "placeholder": "​",
            "style": "IPY_MODEL_0b528163a2a64f9495c90a0f433cdc3a",
            "value": " 844/844 [00:00&lt;00:00, 34.0kB/s]"
          }
        },
        "f8894eb5a85b4d76946f70dcf8be9228": {
          "model_module": "@jupyter-widgets/base",
          "model_name": "LayoutModel",
          "model_module_version": "1.2.0",
          "state": {
            "_model_module": "@jupyter-widgets/base",
            "_model_module_version": "1.2.0",
            "_model_name": "LayoutModel",
            "_view_count": null,
            "_view_module": "@jupyter-widgets/base",
            "_view_module_version": "1.2.0",
            "_view_name": "LayoutView",
            "align_content": null,
            "align_items": null,
            "align_self": null,
            "border": null,
            "bottom": null,
            "display": null,
            "flex": null,
            "flex_flow": null,
            "grid_area": null,
            "grid_auto_columns": null,
            "grid_auto_flow": null,
            "grid_auto_rows": null,
            "grid_column": null,
            "grid_gap": null,
            "grid_row": null,
            "grid_template_areas": null,
            "grid_template_columns": null,
            "grid_template_rows": null,
            "height": null,
            "justify_content": null,
            "justify_items": null,
            "left": null,
            "margin": null,
            "max_height": null,
            "max_width": null,
            "min_height": null,
            "min_width": null,
            "object_fit": null,
            "object_position": null,
            "order": null,
            "overflow": null,
            "overflow_x": null,
            "overflow_y": null,
            "padding": null,
            "right": null,
            "top": null,
            "visibility": null,
            "width": null
          }
        },
        "02bac7a8179c4af2a149425822f0867e": {
          "model_module": "@jupyter-widgets/base",
          "model_name": "LayoutModel",
          "model_module_version": "1.2.0",
          "state": {
            "_model_module": "@jupyter-widgets/base",
            "_model_module_version": "1.2.0",
            "_model_name": "LayoutModel",
            "_view_count": null,
            "_view_module": "@jupyter-widgets/base",
            "_view_module_version": "1.2.0",
            "_view_name": "LayoutView",
            "align_content": null,
            "align_items": null,
            "align_self": null,
            "border": null,
            "bottom": null,
            "display": null,
            "flex": null,
            "flex_flow": null,
            "grid_area": null,
            "grid_auto_columns": null,
            "grid_auto_flow": null,
            "grid_auto_rows": null,
            "grid_column": null,
            "grid_gap": null,
            "grid_row": null,
            "grid_template_areas": null,
            "grid_template_columns": null,
            "grid_template_rows": null,
            "height": null,
            "justify_content": null,
            "justify_items": null,
            "left": null,
            "margin": null,
            "max_height": null,
            "max_width": null,
            "min_height": null,
            "min_width": null,
            "object_fit": null,
            "object_position": null,
            "order": null,
            "overflow": null,
            "overflow_x": null,
            "overflow_y": null,
            "padding": null,
            "right": null,
            "top": null,
            "visibility": null,
            "width": null
          }
        },
        "210e1e6754544cc79bb0dfb3fe6691d9": {
          "model_module": "@jupyter-widgets/controls",
          "model_name": "DescriptionStyleModel",
          "model_module_version": "1.5.0",
          "state": {
            "_model_module": "@jupyter-widgets/controls",
            "_model_module_version": "1.5.0",
            "_model_name": "DescriptionStyleModel",
            "_view_count": null,
            "_view_module": "@jupyter-widgets/base",
            "_view_module_version": "1.2.0",
            "_view_name": "StyleView",
            "description_width": ""
          }
        },
        "bb943f815ec5469e82a747009e438ea6": {
          "model_module": "@jupyter-widgets/base",
          "model_name": "LayoutModel",
          "model_module_version": "1.2.0",
          "state": {
            "_model_module": "@jupyter-widgets/base",
            "_model_module_version": "1.2.0",
            "_model_name": "LayoutModel",
            "_view_count": null,
            "_view_module": "@jupyter-widgets/base",
            "_view_module_version": "1.2.0",
            "_view_name": "LayoutView",
            "align_content": null,
            "align_items": null,
            "align_self": null,
            "border": null,
            "bottom": null,
            "display": null,
            "flex": null,
            "flex_flow": null,
            "grid_area": null,
            "grid_auto_columns": null,
            "grid_auto_flow": null,
            "grid_auto_rows": null,
            "grid_column": null,
            "grid_gap": null,
            "grid_row": null,
            "grid_template_areas": null,
            "grid_template_columns": null,
            "grid_template_rows": null,
            "height": null,
            "justify_content": null,
            "justify_items": null,
            "left": null,
            "margin": null,
            "max_height": null,
            "max_width": null,
            "min_height": null,
            "min_width": null,
            "object_fit": null,
            "object_position": null,
            "order": null,
            "overflow": null,
            "overflow_x": null,
            "overflow_y": null,
            "padding": null,
            "right": null,
            "top": null,
            "visibility": null,
            "width": null
          }
        },
        "2f6d915b5b5d481e980a80719f97e252": {
          "model_module": "@jupyter-widgets/controls",
          "model_name": "ProgressStyleModel",
          "model_module_version": "1.5.0",
          "state": {
            "_model_module": "@jupyter-widgets/controls",
            "_model_module_version": "1.5.0",
            "_model_name": "ProgressStyleModel",
            "_view_count": null,
            "_view_module": "@jupyter-widgets/base",
            "_view_module_version": "1.2.0",
            "_view_name": "StyleView",
            "bar_color": null,
            "description_width": ""
          }
        },
        "46a9e3bc8dda41c9a4f143038733f40c": {
          "model_module": "@jupyter-widgets/base",
          "model_name": "LayoutModel",
          "model_module_version": "1.2.0",
          "state": {
            "_model_module": "@jupyter-widgets/base",
            "_model_module_version": "1.2.0",
            "_model_name": "LayoutModel",
            "_view_count": null,
            "_view_module": "@jupyter-widgets/base",
            "_view_module_version": "1.2.0",
            "_view_name": "LayoutView",
            "align_content": null,
            "align_items": null,
            "align_self": null,
            "border": null,
            "bottom": null,
            "display": null,
            "flex": null,
            "flex_flow": null,
            "grid_area": null,
            "grid_auto_columns": null,
            "grid_auto_flow": null,
            "grid_auto_rows": null,
            "grid_column": null,
            "grid_gap": null,
            "grid_row": null,
            "grid_template_areas": null,
            "grid_template_columns": null,
            "grid_template_rows": null,
            "height": null,
            "justify_content": null,
            "justify_items": null,
            "left": null,
            "margin": null,
            "max_height": null,
            "max_width": null,
            "min_height": null,
            "min_width": null,
            "object_fit": null,
            "object_position": null,
            "order": null,
            "overflow": null,
            "overflow_x": null,
            "overflow_y": null,
            "padding": null,
            "right": null,
            "top": null,
            "visibility": null,
            "width": null
          }
        },
        "0b528163a2a64f9495c90a0f433cdc3a": {
          "model_module": "@jupyter-widgets/controls",
          "model_name": "DescriptionStyleModel",
          "model_module_version": "1.5.0",
          "state": {
            "_model_module": "@jupyter-widgets/controls",
            "_model_module_version": "1.5.0",
            "_model_name": "DescriptionStyleModel",
            "_view_count": null,
            "_view_module": "@jupyter-widgets/base",
            "_view_module_version": "1.2.0",
            "_view_name": "StyleView",
            "description_width": ""
          }
        },
        "639d387358504b6a93a6cbdf22b56c9b": {
          "model_module": "@jupyter-widgets/controls",
          "model_name": "HBoxModel",
          "model_module_version": "1.5.0",
          "state": {
            "_dom_classes": [],
            "_model_module": "@jupyter-widgets/controls",
            "_model_module_version": "1.5.0",
            "_model_name": "HBoxModel",
            "_view_count": null,
            "_view_module": "@jupyter-widgets/controls",
            "_view_module_version": "1.5.0",
            "_view_name": "HBoxView",
            "box_style": "",
            "children": [
              "IPY_MODEL_4267c685de194d0c8e24e4fe741ae64a",
              "IPY_MODEL_426ce2923d9740109fa01d2853425a8f",
              "IPY_MODEL_988f0417d2d8484e8e07b29b8ccf77e6"
            ],
            "layout": "IPY_MODEL_45aec695537a4b12afcb1087f94883a2"
          }
        },
        "4267c685de194d0c8e24e4fe741ae64a": {
          "model_module": "@jupyter-widgets/controls",
          "model_name": "HTMLModel",
          "model_module_version": "1.5.0",
          "state": {
            "_dom_classes": [],
            "_model_module": "@jupyter-widgets/controls",
            "_model_module_version": "1.5.0",
            "_model_name": "HTMLModel",
            "_view_count": null,
            "_view_module": "@jupyter-widgets/controls",
            "_view_module_version": "1.5.0",
            "_view_name": "HTMLView",
            "description": "",
            "description_tooltip": null,
            "layout": "IPY_MODEL_49d9936af2bd40ca9cedb08e944d8387",
            "placeholder": "​",
            "style": "IPY_MODEL_3aef997f6bdf4346a71c8c56c1528086",
            "value": "modeling_qwen.py: 100%"
          }
        },
        "426ce2923d9740109fa01d2853425a8f": {
          "model_module": "@jupyter-widgets/controls",
          "model_name": "FloatProgressModel",
          "model_module_version": "1.5.0",
          "state": {
            "_dom_classes": [],
            "_model_module": "@jupyter-widgets/controls",
            "_model_module_version": "1.5.0",
            "_model_name": "FloatProgressModel",
            "_view_count": null,
            "_view_module": "@jupyter-widgets/controls",
            "_view_module_version": "1.5.0",
            "_view_name": "ProgressView",
            "bar_style": "success",
            "description": "",
            "description_tooltip": null,
            "layout": "IPY_MODEL_d467ae76608f4b52bc4dda550f7396ea",
            "max": 65203,
            "min": 0,
            "orientation": "horizontal",
            "style": "IPY_MODEL_8250faedf7bf4b33a3cceb25ffd634bf",
            "value": 65203
          }
        },
        "988f0417d2d8484e8e07b29b8ccf77e6": {
          "model_module": "@jupyter-widgets/controls",
          "model_name": "HTMLModel",
          "model_module_version": "1.5.0",
          "state": {
            "_dom_classes": [],
            "_model_module": "@jupyter-widgets/controls",
            "_model_module_version": "1.5.0",
            "_model_name": "HTMLModel",
            "_view_count": null,
            "_view_module": "@jupyter-widgets/controls",
            "_view_module_version": "1.5.0",
            "_view_name": "HTMLView",
            "description": "",
            "description_tooltip": null,
            "layout": "IPY_MODEL_242aea2b6a984effb7a8aa92b6ca4098",
            "placeholder": "​",
            "style": "IPY_MODEL_8dc338eb4ed04d89904d713fd2147f5d",
            "value": " 65.2k/65.2k [00:00&lt;00:00, 2.09MB/s]"
          }
        },
        "45aec695537a4b12afcb1087f94883a2": {
          "model_module": "@jupyter-widgets/base",
          "model_name": "LayoutModel",
          "model_module_version": "1.2.0",
          "state": {
            "_model_module": "@jupyter-widgets/base",
            "_model_module_version": "1.2.0",
            "_model_name": "LayoutModel",
            "_view_count": null,
            "_view_module": "@jupyter-widgets/base",
            "_view_module_version": "1.2.0",
            "_view_name": "LayoutView",
            "align_content": null,
            "align_items": null,
            "align_self": null,
            "border": null,
            "bottom": null,
            "display": null,
            "flex": null,
            "flex_flow": null,
            "grid_area": null,
            "grid_auto_columns": null,
            "grid_auto_flow": null,
            "grid_auto_rows": null,
            "grid_column": null,
            "grid_gap": null,
            "grid_row": null,
            "grid_template_areas": null,
            "grid_template_columns": null,
            "grid_template_rows": null,
            "height": null,
            "justify_content": null,
            "justify_items": null,
            "left": null,
            "margin": null,
            "max_height": null,
            "max_width": null,
            "min_height": null,
            "min_width": null,
            "object_fit": null,
            "object_position": null,
            "order": null,
            "overflow": null,
            "overflow_x": null,
            "overflow_y": null,
            "padding": null,
            "right": null,
            "top": null,
            "visibility": null,
            "width": null
          }
        },
        "49d9936af2bd40ca9cedb08e944d8387": {
          "model_module": "@jupyter-widgets/base",
          "model_name": "LayoutModel",
          "model_module_version": "1.2.0",
          "state": {
            "_model_module": "@jupyter-widgets/base",
            "_model_module_version": "1.2.0",
            "_model_name": "LayoutModel",
            "_view_count": null,
            "_view_module": "@jupyter-widgets/base",
            "_view_module_version": "1.2.0",
            "_view_name": "LayoutView",
            "align_content": null,
            "align_items": null,
            "align_self": null,
            "border": null,
            "bottom": null,
            "display": null,
            "flex": null,
            "flex_flow": null,
            "grid_area": null,
            "grid_auto_columns": null,
            "grid_auto_flow": null,
            "grid_auto_rows": null,
            "grid_column": null,
            "grid_gap": null,
            "grid_row": null,
            "grid_template_areas": null,
            "grid_template_columns": null,
            "grid_template_rows": null,
            "height": null,
            "justify_content": null,
            "justify_items": null,
            "left": null,
            "margin": null,
            "max_height": null,
            "max_width": null,
            "min_height": null,
            "min_width": null,
            "object_fit": null,
            "object_position": null,
            "order": null,
            "overflow": null,
            "overflow_x": null,
            "overflow_y": null,
            "padding": null,
            "right": null,
            "top": null,
            "visibility": null,
            "width": null
          }
        },
        "3aef997f6bdf4346a71c8c56c1528086": {
          "model_module": "@jupyter-widgets/controls",
          "model_name": "DescriptionStyleModel",
          "model_module_version": "1.5.0",
          "state": {
            "_model_module": "@jupyter-widgets/controls",
            "_model_module_version": "1.5.0",
            "_model_name": "DescriptionStyleModel",
            "_view_count": null,
            "_view_module": "@jupyter-widgets/base",
            "_view_module_version": "1.2.0",
            "_view_name": "StyleView",
            "description_width": ""
          }
        },
        "d467ae76608f4b52bc4dda550f7396ea": {
          "model_module": "@jupyter-widgets/base",
          "model_name": "LayoutModel",
          "model_module_version": "1.2.0",
          "state": {
            "_model_module": "@jupyter-widgets/base",
            "_model_module_version": "1.2.0",
            "_model_name": "LayoutModel",
            "_view_count": null,
            "_view_module": "@jupyter-widgets/base",
            "_view_module_version": "1.2.0",
            "_view_name": "LayoutView",
            "align_content": null,
            "align_items": null,
            "align_self": null,
            "border": null,
            "bottom": null,
            "display": null,
            "flex": null,
            "flex_flow": null,
            "grid_area": null,
            "grid_auto_columns": null,
            "grid_auto_flow": null,
            "grid_auto_rows": null,
            "grid_column": null,
            "grid_gap": null,
            "grid_row": null,
            "grid_template_areas": null,
            "grid_template_columns": null,
            "grid_template_rows": null,
            "height": null,
            "justify_content": null,
            "justify_items": null,
            "left": null,
            "margin": null,
            "max_height": null,
            "max_width": null,
            "min_height": null,
            "min_width": null,
            "object_fit": null,
            "object_position": null,
            "order": null,
            "overflow": null,
            "overflow_x": null,
            "overflow_y": null,
            "padding": null,
            "right": null,
            "top": null,
            "visibility": null,
            "width": null
          }
        },
        "8250faedf7bf4b33a3cceb25ffd634bf": {
          "model_module": "@jupyter-widgets/controls",
          "model_name": "ProgressStyleModel",
          "model_module_version": "1.5.0",
          "state": {
            "_model_module": "@jupyter-widgets/controls",
            "_model_module_version": "1.5.0",
            "_model_name": "ProgressStyleModel",
            "_view_count": null,
            "_view_module": "@jupyter-widgets/base",
            "_view_module_version": "1.2.0",
            "_view_name": "StyleView",
            "bar_color": null,
            "description_width": ""
          }
        },
        "242aea2b6a984effb7a8aa92b6ca4098": {
          "model_module": "@jupyter-widgets/base",
          "model_name": "LayoutModel",
          "model_module_version": "1.2.0",
          "state": {
            "_model_module": "@jupyter-widgets/base",
            "_model_module_version": "1.2.0",
            "_model_name": "LayoutModel",
            "_view_count": null,
            "_view_module": "@jupyter-widgets/base",
            "_view_module_version": "1.2.0",
            "_view_name": "LayoutView",
            "align_content": null,
            "align_items": null,
            "align_self": null,
            "border": null,
            "bottom": null,
            "display": null,
            "flex": null,
            "flex_flow": null,
            "grid_area": null,
            "grid_auto_columns": null,
            "grid_auto_flow": null,
            "grid_auto_rows": null,
            "grid_column": null,
            "grid_gap": null,
            "grid_row": null,
            "grid_template_areas": null,
            "grid_template_columns": null,
            "grid_template_rows": null,
            "height": null,
            "justify_content": null,
            "justify_items": null,
            "left": null,
            "margin": null,
            "max_height": null,
            "max_width": null,
            "min_height": null,
            "min_width": null,
            "object_fit": null,
            "object_position": null,
            "order": null,
            "overflow": null,
            "overflow_x": null,
            "overflow_y": null,
            "padding": null,
            "right": null,
            "top": null,
            "visibility": null,
            "width": null
          }
        },
        "8dc338eb4ed04d89904d713fd2147f5d": {
          "model_module": "@jupyter-widgets/controls",
          "model_name": "DescriptionStyleModel",
          "model_module_version": "1.5.0",
          "state": {
            "_model_module": "@jupyter-widgets/controls",
            "_model_module_version": "1.5.0",
            "_model_name": "DescriptionStyleModel",
            "_view_count": null,
            "_view_module": "@jupyter-widgets/base",
            "_view_module_version": "1.2.0",
            "_view_name": "StyleView",
            "description_width": ""
          }
        },
        "f49baba9c50a4d35a430eeefab89cadb": {
          "model_module": "@jupyter-widgets/controls",
          "model_name": "HBoxModel",
          "model_module_version": "1.5.0",
          "state": {
            "_dom_classes": [],
            "_model_module": "@jupyter-widgets/controls",
            "_model_module_version": "1.5.0",
            "_model_name": "HBoxModel",
            "_view_count": null,
            "_view_module": "@jupyter-widgets/controls",
            "_view_module_version": "1.5.0",
            "_view_name": "HBoxView",
            "box_style": "",
            "children": [
              "IPY_MODEL_ef8101eb582d43e78a68510e114bf34c",
              "IPY_MODEL_60ee41f55af14315a5f77c25564835a9",
              "IPY_MODEL_dc414efd1cda4ae8a5f70fe72f7e3ddd"
            ],
            "layout": "IPY_MODEL_d40783f2ef974d058bc42b000c4fe4ec"
          }
        },
        "ef8101eb582d43e78a68510e114bf34c": {
          "model_module": "@jupyter-widgets/controls",
          "model_name": "HTMLModel",
          "model_module_version": "1.5.0",
          "state": {
            "_dom_classes": [],
            "_model_module": "@jupyter-widgets/controls",
            "_model_module_version": "1.5.0",
            "_model_name": "HTMLModel",
            "_view_count": null,
            "_view_module": "@jupyter-widgets/controls",
            "_view_module_version": "1.5.0",
            "_view_name": "HTMLView",
            "description": "",
            "description_tooltip": null,
            "layout": "IPY_MODEL_79300d94ec444278a4f7ca37e5105bf3",
            "placeholder": "​",
            "style": "IPY_MODEL_2d579bcc2390400b9074caa6a59ea1ed",
            "value": "model.safetensors: 100%"
          }
        },
        "60ee41f55af14315a5f77c25564835a9": {
          "model_module": "@jupyter-widgets/controls",
          "model_name": "FloatProgressModel",
          "model_module_version": "1.5.0",
          "state": {
            "_dom_classes": [],
            "_model_module": "@jupyter-widgets/controls",
            "_model_module_version": "1.5.0",
            "_model_name": "FloatProgressModel",
            "_view_count": null,
            "_view_module": "@jupyter-widgets/controls",
            "_view_module_version": "1.5.0",
            "_view_name": "ProgressView",
            "bar_style": "success",
            "description": "",
            "description_tooltip": null,
            "layout": "IPY_MODEL_4f44a1031e4746c28080ddf115c66678",
            "max": 6173113776,
            "min": 0,
            "orientation": "horizontal",
            "style": "IPY_MODEL_e336fac607cd4d7c9d1d9623bd995850",
            "value": 6173113776
          }
        },
        "dc414efd1cda4ae8a5f70fe72f7e3ddd": {
          "model_module": "@jupyter-widgets/controls",
          "model_name": "HTMLModel",
          "model_module_version": "1.5.0",
          "state": {
            "_dom_classes": [],
            "_model_module": "@jupyter-widgets/controls",
            "_model_module_version": "1.5.0",
            "_model_name": "HTMLModel",
            "_view_count": null,
            "_view_module": "@jupyter-widgets/controls",
            "_view_module_version": "1.5.0",
            "_view_name": "HTMLView",
            "description": "",
            "description_tooltip": null,
            "layout": "IPY_MODEL_fafb4e9b36e6472f81fb90162b6edd3e",
            "placeholder": "​",
            "style": "IPY_MODEL_7e6feab258bc47e1b1be76c769047d04",
            "value": " 6.17G/6.17G [00:30&lt;00:00, 246MB/s]"
          }
        },
        "d40783f2ef974d058bc42b000c4fe4ec": {
          "model_module": "@jupyter-widgets/base",
          "model_name": "LayoutModel",
          "model_module_version": "1.2.0",
          "state": {
            "_model_module": "@jupyter-widgets/base",
            "_model_module_version": "1.2.0",
            "_model_name": "LayoutModel",
            "_view_count": null,
            "_view_module": "@jupyter-widgets/base",
            "_view_module_version": "1.2.0",
            "_view_name": "LayoutView",
            "align_content": null,
            "align_items": null,
            "align_self": null,
            "border": null,
            "bottom": null,
            "display": null,
            "flex": null,
            "flex_flow": null,
            "grid_area": null,
            "grid_auto_columns": null,
            "grid_auto_flow": null,
            "grid_auto_rows": null,
            "grid_column": null,
            "grid_gap": null,
            "grid_row": null,
            "grid_template_areas": null,
            "grid_template_columns": null,
            "grid_template_rows": null,
            "height": null,
            "justify_content": null,
            "justify_items": null,
            "left": null,
            "margin": null,
            "max_height": null,
            "max_width": null,
            "min_height": null,
            "min_width": null,
            "object_fit": null,
            "object_position": null,
            "order": null,
            "overflow": null,
            "overflow_x": null,
            "overflow_y": null,
            "padding": null,
            "right": null,
            "top": null,
            "visibility": null,
            "width": null
          }
        },
        "79300d94ec444278a4f7ca37e5105bf3": {
          "model_module": "@jupyter-widgets/base",
          "model_name": "LayoutModel",
          "model_module_version": "1.2.0",
          "state": {
            "_model_module": "@jupyter-widgets/base",
            "_model_module_version": "1.2.0",
            "_model_name": "LayoutModel",
            "_view_count": null,
            "_view_module": "@jupyter-widgets/base",
            "_view_module_version": "1.2.0",
            "_view_name": "LayoutView",
            "align_content": null,
            "align_items": null,
            "align_self": null,
            "border": null,
            "bottom": null,
            "display": null,
            "flex": null,
            "flex_flow": null,
            "grid_area": null,
            "grid_auto_columns": null,
            "grid_auto_flow": null,
            "grid_auto_rows": null,
            "grid_column": null,
            "grid_gap": null,
            "grid_row": null,
            "grid_template_areas": null,
            "grid_template_columns": null,
            "grid_template_rows": null,
            "height": null,
            "justify_content": null,
            "justify_items": null,
            "left": null,
            "margin": null,
            "max_height": null,
            "max_width": null,
            "min_height": null,
            "min_width": null,
            "object_fit": null,
            "object_position": null,
            "order": null,
            "overflow": null,
            "overflow_x": null,
            "overflow_y": null,
            "padding": null,
            "right": null,
            "top": null,
            "visibility": null,
            "width": null
          }
        },
        "2d579bcc2390400b9074caa6a59ea1ed": {
          "model_module": "@jupyter-widgets/controls",
          "model_name": "DescriptionStyleModel",
          "model_module_version": "1.5.0",
          "state": {
            "_model_module": "@jupyter-widgets/controls",
            "_model_module_version": "1.5.0",
            "_model_name": "DescriptionStyleModel",
            "_view_count": null,
            "_view_module": "@jupyter-widgets/base",
            "_view_module_version": "1.2.0",
            "_view_name": "StyleView",
            "description_width": ""
          }
        },
        "4f44a1031e4746c28080ddf115c66678": {
          "model_module": "@jupyter-widgets/base",
          "model_name": "LayoutModel",
          "model_module_version": "1.2.0",
          "state": {
            "_model_module": "@jupyter-widgets/base",
            "_model_module_version": "1.2.0",
            "_model_name": "LayoutModel",
            "_view_count": null,
            "_view_module": "@jupyter-widgets/base",
            "_view_module_version": "1.2.0",
            "_view_name": "LayoutView",
            "align_content": null,
            "align_items": null,
            "align_self": null,
            "border": null,
            "bottom": null,
            "display": null,
            "flex": null,
            "flex_flow": null,
            "grid_area": null,
            "grid_auto_columns": null,
            "grid_auto_flow": null,
            "grid_auto_rows": null,
            "grid_column": null,
            "grid_gap": null,
            "grid_row": null,
            "grid_template_areas": null,
            "grid_template_columns": null,
            "grid_template_rows": null,
            "height": null,
            "justify_content": null,
            "justify_items": null,
            "left": null,
            "margin": null,
            "max_height": null,
            "max_width": null,
            "min_height": null,
            "min_width": null,
            "object_fit": null,
            "object_position": null,
            "order": null,
            "overflow": null,
            "overflow_x": null,
            "overflow_y": null,
            "padding": null,
            "right": null,
            "top": null,
            "visibility": null,
            "width": null
          }
        },
        "e336fac607cd4d7c9d1d9623bd995850": {
          "model_module": "@jupyter-widgets/controls",
          "model_name": "ProgressStyleModel",
          "model_module_version": "1.5.0",
          "state": {
            "_model_module": "@jupyter-widgets/controls",
            "_model_module_version": "1.5.0",
            "_model_name": "ProgressStyleModel",
            "_view_count": null,
            "_view_module": "@jupyter-widgets/base",
            "_view_module_version": "1.2.0",
            "_view_name": "StyleView",
            "bar_color": null,
            "description_width": ""
          }
        },
        "fafb4e9b36e6472f81fb90162b6edd3e": {
          "model_module": "@jupyter-widgets/base",
          "model_name": "LayoutModel",
          "model_module_version": "1.2.0",
          "state": {
            "_model_module": "@jupyter-widgets/base",
            "_model_module_version": "1.2.0",
            "_model_name": "LayoutModel",
            "_view_count": null,
            "_view_module": "@jupyter-widgets/base",
            "_view_module_version": "1.2.0",
            "_view_name": "LayoutView",
            "align_content": null,
            "align_items": null,
            "align_self": null,
            "border": null,
            "bottom": null,
            "display": null,
            "flex": null,
            "flex_flow": null,
            "grid_area": null,
            "grid_auto_columns": null,
            "grid_auto_flow": null,
            "grid_auto_rows": null,
            "grid_column": null,
            "grid_gap": null,
            "grid_row": null,
            "grid_template_areas": null,
            "grid_template_columns": null,
            "grid_template_rows": null,
            "height": null,
            "justify_content": null,
            "justify_items": null,
            "left": null,
            "margin": null,
            "max_height": null,
            "max_width": null,
            "min_height": null,
            "min_width": null,
            "object_fit": null,
            "object_position": null,
            "order": null,
            "overflow": null,
            "overflow_x": null,
            "overflow_y": null,
            "padding": null,
            "right": null,
            "top": null,
            "visibility": null,
            "width": null
          }
        },
        "7e6feab258bc47e1b1be76c769047d04": {
          "model_module": "@jupyter-widgets/controls",
          "model_name": "DescriptionStyleModel",
          "model_module_version": "1.5.0",
          "state": {
            "_model_module": "@jupyter-widgets/controls",
            "_model_module_version": "1.5.0",
            "_model_name": "DescriptionStyleModel",
            "_view_count": null,
            "_view_module": "@jupyter-widgets/base",
            "_view_module_version": "1.2.0",
            "_view_name": "StyleView",
            "description_width": ""
          }
        },
        "357bc42d048b4a9ea0cc4544a3eea17d": {
          "model_module": "@jupyter-widgets/controls",
          "model_name": "HBoxModel",
          "model_module_version": "1.5.0",
          "state": {
            "_dom_classes": [],
            "_model_module": "@jupyter-widgets/controls",
            "_model_module_version": "1.5.0",
            "_model_name": "HBoxModel",
            "_view_count": null,
            "_view_module": "@jupyter-widgets/controls",
            "_view_module_version": "1.5.0",
            "_view_name": "HBoxView",
            "box_style": "",
            "children": [
              "IPY_MODEL_9a6dc066a7c74b4fb43ea70fe64a4e18",
              "IPY_MODEL_a053bb87a10442db94e576a0a0306fb6",
              "IPY_MODEL_2f25c971e3e24302ba35631d278506bb"
            ],
            "layout": "IPY_MODEL_06a2bf47657247dfaae82fa59c5ec988"
          }
        },
        "9a6dc066a7c74b4fb43ea70fe64a4e18": {
          "model_module": "@jupyter-widgets/controls",
          "model_name": "HTMLModel",
          "model_module_version": "1.5.0",
          "state": {
            "_dom_classes": [],
            "_model_module": "@jupyter-widgets/controls",
            "_model_module_version": "1.5.0",
            "_model_name": "HTMLModel",
            "_view_count": null,
            "_view_module": "@jupyter-widgets/controls",
            "_view_module_version": "1.5.0",
            "_view_name": "HTMLView",
            "description": "",
            "description_tooltip": null,
            "layout": "IPY_MODEL_241758a1cd844e1a8a1fd04acd184f4f",
            "placeholder": "​",
            "style": "IPY_MODEL_b83e8b23f93448b3af8f4f38abb73f34",
            "value": "tokenizer_config.json: 100%"
          }
        },
        "a053bb87a10442db94e576a0a0306fb6": {
          "model_module": "@jupyter-widgets/controls",
          "model_name": "FloatProgressModel",
          "model_module_version": "1.5.0",
          "state": {
            "_dom_classes": [],
            "_model_module": "@jupyter-widgets/controls",
            "_model_module_version": "1.5.0",
            "_model_name": "FloatProgressModel",
            "_view_count": null,
            "_view_module": "@jupyter-widgets/controls",
            "_view_module_version": "1.5.0",
            "_view_name": "ProgressView",
            "bar_style": "success",
            "description": "",
            "description_tooltip": null,
            "layout": "IPY_MODEL_9c0c4d13f3714d70aaa5579c877d1f07",
            "max": 1312,
            "min": 0,
            "orientation": "horizontal",
            "style": "IPY_MODEL_10d72d5787ac4b239d713c978a57300b",
            "value": 1312
          }
        },
        "2f25c971e3e24302ba35631d278506bb": {
          "model_module": "@jupyter-widgets/controls",
          "model_name": "HTMLModel",
          "model_module_version": "1.5.0",
          "state": {
            "_dom_classes": [],
            "_model_module": "@jupyter-widgets/controls",
            "_model_module_version": "1.5.0",
            "_model_name": "HTMLModel",
            "_view_count": null,
            "_view_module": "@jupyter-widgets/controls",
            "_view_module_version": "1.5.0",
            "_view_name": "HTMLView",
            "description": "",
            "description_tooltip": null,
            "layout": "IPY_MODEL_1520d5d4484543f195586374c75c4386",
            "placeholder": "​",
            "style": "IPY_MODEL_0217ae6883f64d5b9e7340d93d1cf1f7",
            "value": " 1.31k/1.31k [00:00&lt;00:00, 89.0kB/s]"
          }
        },
        "06a2bf47657247dfaae82fa59c5ec988": {
          "model_module": "@jupyter-widgets/base",
          "model_name": "LayoutModel",
          "model_module_version": "1.2.0",
          "state": {
            "_model_module": "@jupyter-widgets/base",
            "_model_module_version": "1.2.0",
            "_model_name": "LayoutModel",
            "_view_count": null,
            "_view_module": "@jupyter-widgets/base",
            "_view_module_version": "1.2.0",
            "_view_name": "LayoutView",
            "align_content": null,
            "align_items": null,
            "align_self": null,
            "border": null,
            "bottom": null,
            "display": null,
            "flex": null,
            "flex_flow": null,
            "grid_area": null,
            "grid_auto_columns": null,
            "grid_auto_flow": null,
            "grid_auto_rows": null,
            "grid_column": null,
            "grid_gap": null,
            "grid_row": null,
            "grid_template_areas": null,
            "grid_template_columns": null,
            "grid_template_rows": null,
            "height": null,
            "justify_content": null,
            "justify_items": null,
            "left": null,
            "margin": null,
            "max_height": null,
            "max_width": null,
            "min_height": null,
            "min_width": null,
            "object_fit": null,
            "object_position": null,
            "order": null,
            "overflow": null,
            "overflow_x": null,
            "overflow_y": null,
            "padding": null,
            "right": null,
            "top": null,
            "visibility": null,
            "width": null
          }
        },
        "241758a1cd844e1a8a1fd04acd184f4f": {
          "model_module": "@jupyter-widgets/base",
          "model_name": "LayoutModel",
          "model_module_version": "1.2.0",
          "state": {
            "_model_module": "@jupyter-widgets/base",
            "_model_module_version": "1.2.0",
            "_model_name": "LayoutModel",
            "_view_count": null,
            "_view_module": "@jupyter-widgets/base",
            "_view_module_version": "1.2.0",
            "_view_name": "LayoutView",
            "align_content": null,
            "align_items": null,
            "align_self": null,
            "border": null,
            "bottom": null,
            "display": null,
            "flex": null,
            "flex_flow": null,
            "grid_area": null,
            "grid_auto_columns": null,
            "grid_auto_flow": null,
            "grid_auto_rows": null,
            "grid_column": null,
            "grid_gap": null,
            "grid_row": null,
            "grid_template_areas": null,
            "grid_template_columns": null,
            "grid_template_rows": null,
            "height": null,
            "justify_content": null,
            "justify_items": null,
            "left": null,
            "margin": null,
            "max_height": null,
            "max_width": null,
            "min_height": null,
            "min_width": null,
            "object_fit": null,
            "object_position": null,
            "order": null,
            "overflow": null,
            "overflow_x": null,
            "overflow_y": null,
            "padding": null,
            "right": null,
            "top": null,
            "visibility": null,
            "width": null
          }
        },
        "b83e8b23f93448b3af8f4f38abb73f34": {
          "model_module": "@jupyter-widgets/controls",
          "model_name": "DescriptionStyleModel",
          "model_module_version": "1.5.0",
          "state": {
            "_model_module": "@jupyter-widgets/controls",
            "_model_module_version": "1.5.0",
            "_model_name": "DescriptionStyleModel",
            "_view_count": null,
            "_view_module": "@jupyter-widgets/base",
            "_view_module_version": "1.2.0",
            "_view_name": "StyleView",
            "description_width": ""
          }
        },
        "9c0c4d13f3714d70aaa5579c877d1f07": {
          "model_module": "@jupyter-widgets/base",
          "model_name": "LayoutModel",
          "model_module_version": "1.2.0",
          "state": {
            "_model_module": "@jupyter-widgets/base",
            "_model_module_version": "1.2.0",
            "_model_name": "LayoutModel",
            "_view_count": null,
            "_view_module": "@jupyter-widgets/base",
            "_view_module_version": "1.2.0",
            "_view_name": "LayoutView",
            "align_content": null,
            "align_items": null,
            "align_self": null,
            "border": null,
            "bottom": null,
            "display": null,
            "flex": null,
            "flex_flow": null,
            "grid_area": null,
            "grid_auto_columns": null,
            "grid_auto_flow": null,
            "grid_auto_rows": null,
            "grid_column": null,
            "grid_gap": null,
            "grid_row": null,
            "grid_template_areas": null,
            "grid_template_columns": null,
            "grid_template_rows": null,
            "height": null,
            "justify_content": null,
            "justify_items": null,
            "left": null,
            "margin": null,
            "max_height": null,
            "max_width": null,
            "min_height": null,
            "min_width": null,
            "object_fit": null,
            "object_position": null,
            "order": null,
            "overflow": null,
            "overflow_x": null,
            "overflow_y": null,
            "padding": null,
            "right": null,
            "top": null,
            "visibility": null,
            "width": null
          }
        },
        "10d72d5787ac4b239d713c978a57300b": {
          "model_module": "@jupyter-widgets/controls",
          "model_name": "ProgressStyleModel",
          "model_module_version": "1.5.0",
          "state": {
            "_model_module": "@jupyter-widgets/controls",
            "_model_module_version": "1.5.0",
            "_model_name": "ProgressStyleModel",
            "_view_count": null,
            "_view_module": "@jupyter-widgets/base",
            "_view_module_version": "1.2.0",
            "_view_name": "StyleView",
            "bar_color": null,
            "description_width": ""
          }
        },
        "1520d5d4484543f195586374c75c4386": {
          "model_module": "@jupyter-widgets/base",
          "model_name": "LayoutModel",
          "model_module_version": "1.2.0",
          "state": {
            "_model_module": "@jupyter-widgets/base",
            "_model_module_version": "1.2.0",
            "_model_name": "LayoutModel",
            "_view_count": null,
            "_view_module": "@jupyter-widgets/base",
            "_view_module_version": "1.2.0",
            "_view_name": "LayoutView",
            "align_content": null,
            "align_items": null,
            "align_self": null,
            "border": null,
            "bottom": null,
            "display": null,
            "flex": null,
            "flex_flow": null,
            "grid_area": null,
            "grid_auto_columns": null,
            "grid_auto_flow": null,
            "grid_auto_rows": null,
            "grid_column": null,
            "grid_gap": null,
            "grid_row": null,
            "grid_template_areas": null,
            "grid_template_columns": null,
            "grid_template_rows": null,
            "height": null,
            "justify_content": null,
            "justify_items": null,
            "left": null,
            "margin": null,
            "max_height": null,
            "max_width": null,
            "min_height": null,
            "min_width": null,
            "object_fit": null,
            "object_position": null,
            "order": null,
            "overflow": null,
            "overflow_x": null,
            "overflow_y": null,
            "padding": null,
            "right": null,
            "top": null,
            "visibility": null,
            "width": null
          }
        },
        "0217ae6883f64d5b9e7340d93d1cf1f7": {
          "model_module": "@jupyter-widgets/controls",
          "model_name": "DescriptionStyleModel",
          "model_module_version": "1.5.0",
          "state": {
            "_model_module": "@jupyter-widgets/controls",
            "_model_module_version": "1.5.0",
            "_model_name": "DescriptionStyleModel",
            "_view_count": null,
            "_view_module": "@jupyter-widgets/base",
            "_view_module_version": "1.2.0",
            "_view_name": "StyleView",
            "description_width": ""
          }
        },
        "bfd7dae6b4b94911b27d9b6a76538ebd": {
          "model_module": "@jupyter-widgets/controls",
          "model_name": "HBoxModel",
          "model_module_version": "1.5.0",
          "state": {
            "_dom_classes": [],
            "_model_module": "@jupyter-widgets/controls",
            "_model_module_version": "1.5.0",
            "_model_name": "HBoxModel",
            "_view_count": null,
            "_view_module": "@jupyter-widgets/controls",
            "_view_module_version": "1.5.0",
            "_view_name": "HBoxView",
            "box_style": "",
            "children": [
              "IPY_MODEL_0909fb7ee85044ada070be51db53ad9d",
              "IPY_MODEL_b314dfd654dc494fa89f759267f14652",
              "IPY_MODEL_2b832e76874946c6ae30f26644f2160b"
            ],
            "layout": "IPY_MODEL_b71cd44561524766b7988d7cf8bec285"
          }
        },
        "0909fb7ee85044ada070be51db53ad9d": {
          "model_module": "@jupyter-widgets/controls",
          "model_name": "HTMLModel",
          "model_module_version": "1.5.0",
          "state": {
            "_dom_classes": [],
            "_model_module": "@jupyter-widgets/controls",
            "_model_module_version": "1.5.0",
            "_model_name": "HTMLModel",
            "_view_count": null,
            "_view_module": "@jupyter-widgets/controls",
            "_view_module_version": "1.5.0",
            "_view_name": "HTMLView",
            "description": "",
            "description_tooltip": null,
            "layout": "IPY_MODEL_09e8ab86c4ee4a0eabe2043a470fcd13",
            "placeholder": "​",
            "style": "IPY_MODEL_334af6d4b7fa46c3996193840bda04a2",
            "value": "tokenization_qwen.py: 100%"
          }
        },
        "b314dfd654dc494fa89f759267f14652": {
          "model_module": "@jupyter-widgets/controls",
          "model_name": "FloatProgressModel",
          "model_module_version": "1.5.0",
          "state": {
            "_dom_classes": [],
            "_model_module": "@jupyter-widgets/controls",
            "_model_module_version": "1.5.0",
            "_model_name": "FloatProgressModel",
            "_view_count": null,
            "_view_module": "@jupyter-widgets/controls",
            "_view_module_version": "1.5.0",
            "_view_name": "ProgressView",
            "bar_style": "success",
            "description": "",
            "description_tooltip": null,
            "layout": "IPY_MODEL_d93a7a5e2e394a86ade1ef1e4a5ae904",
            "max": 10811,
            "min": 0,
            "orientation": "horizontal",
            "style": "IPY_MODEL_fa30da884c714defa048ae06839bfc53",
            "value": 10811
          }
        },
        "2b832e76874946c6ae30f26644f2160b": {
          "model_module": "@jupyter-widgets/controls",
          "model_name": "HTMLModel",
          "model_module_version": "1.5.0",
          "state": {
            "_dom_classes": [],
            "_model_module": "@jupyter-widgets/controls",
            "_model_module_version": "1.5.0",
            "_model_name": "HTMLModel",
            "_view_count": null,
            "_view_module": "@jupyter-widgets/controls",
            "_view_module_version": "1.5.0",
            "_view_name": "HTMLView",
            "description": "",
            "description_tooltip": null,
            "layout": "IPY_MODEL_8f04bc55670f4419b160da542c257822",
            "placeholder": "​",
            "style": "IPY_MODEL_19960405fe3c44bcb2dc1e540e67977b",
            "value": " 10.8k/10.8k [00:00&lt;00:00, 691kB/s]"
          }
        },
        "b71cd44561524766b7988d7cf8bec285": {
          "model_module": "@jupyter-widgets/base",
          "model_name": "LayoutModel",
          "model_module_version": "1.2.0",
          "state": {
            "_model_module": "@jupyter-widgets/base",
            "_model_module_version": "1.2.0",
            "_model_name": "LayoutModel",
            "_view_count": null,
            "_view_module": "@jupyter-widgets/base",
            "_view_module_version": "1.2.0",
            "_view_name": "LayoutView",
            "align_content": null,
            "align_items": null,
            "align_self": null,
            "border": null,
            "bottom": null,
            "display": null,
            "flex": null,
            "flex_flow": null,
            "grid_area": null,
            "grid_auto_columns": null,
            "grid_auto_flow": null,
            "grid_auto_rows": null,
            "grid_column": null,
            "grid_gap": null,
            "grid_row": null,
            "grid_template_areas": null,
            "grid_template_columns": null,
            "grid_template_rows": null,
            "height": null,
            "justify_content": null,
            "justify_items": null,
            "left": null,
            "margin": null,
            "max_height": null,
            "max_width": null,
            "min_height": null,
            "min_width": null,
            "object_fit": null,
            "object_position": null,
            "order": null,
            "overflow": null,
            "overflow_x": null,
            "overflow_y": null,
            "padding": null,
            "right": null,
            "top": null,
            "visibility": null,
            "width": null
          }
        },
        "09e8ab86c4ee4a0eabe2043a470fcd13": {
          "model_module": "@jupyter-widgets/base",
          "model_name": "LayoutModel",
          "model_module_version": "1.2.0",
          "state": {
            "_model_module": "@jupyter-widgets/base",
            "_model_module_version": "1.2.0",
            "_model_name": "LayoutModel",
            "_view_count": null,
            "_view_module": "@jupyter-widgets/base",
            "_view_module_version": "1.2.0",
            "_view_name": "LayoutView",
            "align_content": null,
            "align_items": null,
            "align_self": null,
            "border": null,
            "bottom": null,
            "display": null,
            "flex": null,
            "flex_flow": null,
            "grid_area": null,
            "grid_auto_columns": null,
            "grid_auto_flow": null,
            "grid_auto_rows": null,
            "grid_column": null,
            "grid_gap": null,
            "grid_row": null,
            "grid_template_areas": null,
            "grid_template_columns": null,
            "grid_template_rows": null,
            "height": null,
            "justify_content": null,
            "justify_items": null,
            "left": null,
            "margin": null,
            "max_height": null,
            "max_width": null,
            "min_height": null,
            "min_width": null,
            "object_fit": null,
            "object_position": null,
            "order": null,
            "overflow": null,
            "overflow_x": null,
            "overflow_y": null,
            "padding": null,
            "right": null,
            "top": null,
            "visibility": null,
            "width": null
          }
        },
        "334af6d4b7fa46c3996193840bda04a2": {
          "model_module": "@jupyter-widgets/controls",
          "model_name": "DescriptionStyleModel",
          "model_module_version": "1.5.0",
          "state": {
            "_model_module": "@jupyter-widgets/controls",
            "_model_module_version": "1.5.0",
            "_model_name": "DescriptionStyleModel",
            "_view_count": null,
            "_view_module": "@jupyter-widgets/base",
            "_view_module_version": "1.2.0",
            "_view_name": "StyleView",
            "description_width": ""
          }
        },
        "d93a7a5e2e394a86ade1ef1e4a5ae904": {
          "model_module": "@jupyter-widgets/base",
          "model_name": "LayoutModel",
          "model_module_version": "1.2.0",
          "state": {
            "_model_module": "@jupyter-widgets/base",
            "_model_module_version": "1.2.0",
            "_model_name": "LayoutModel",
            "_view_count": null,
            "_view_module": "@jupyter-widgets/base",
            "_view_module_version": "1.2.0",
            "_view_name": "LayoutView",
            "align_content": null,
            "align_items": null,
            "align_self": null,
            "border": null,
            "bottom": null,
            "display": null,
            "flex": null,
            "flex_flow": null,
            "grid_area": null,
            "grid_auto_columns": null,
            "grid_auto_flow": null,
            "grid_auto_rows": null,
            "grid_column": null,
            "grid_gap": null,
            "grid_row": null,
            "grid_template_areas": null,
            "grid_template_columns": null,
            "grid_template_rows": null,
            "height": null,
            "justify_content": null,
            "justify_items": null,
            "left": null,
            "margin": null,
            "max_height": null,
            "max_width": null,
            "min_height": null,
            "min_width": null,
            "object_fit": null,
            "object_position": null,
            "order": null,
            "overflow": null,
            "overflow_x": null,
            "overflow_y": null,
            "padding": null,
            "right": null,
            "top": null,
            "visibility": null,
            "width": null
          }
        },
        "fa30da884c714defa048ae06839bfc53": {
          "model_module": "@jupyter-widgets/controls",
          "model_name": "ProgressStyleModel",
          "model_module_version": "1.5.0",
          "state": {
            "_model_module": "@jupyter-widgets/controls",
            "_model_module_version": "1.5.0",
            "_model_name": "ProgressStyleModel",
            "_view_count": null,
            "_view_module": "@jupyter-widgets/base",
            "_view_module_version": "1.2.0",
            "_view_name": "StyleView",
            "bar_color": null,
            "description_width": ""
          }
        },
        "8f04bc55670f4419b160da542c257822": {
          "model_module": "@jupyter-widgets/base",
          "model_name": "LayoutModel",
          "model_module_version": "1.2.0",
          "state": {
            "_model_module": "@jupyter-widgets/base",
            "_model_module_version": "1.2.0",
            "_model_name": "LayoutModel",
            "_view_count": null,
            "_view_module": "@jupyter-widgets/base",
            "_view_module_version": "1.2.0",
            "_view_name": "LayoutView",
            "align_content": null,
            "align_items": null,
            "align_self": null,
            "border": null,
            "bottom": null,
            "display": null,
            "flex": null,
            "flex_flow": null,
            "grid_area": null,
            "grid_auto_columns": null,
            "grid_auto_flow": null,
            "grid_auto_rows": null,
            "grid_column": null,
            "grid_gap": null,
            "grid_row": null,
            "grid_template_areas": null,
            "grid_template_columns": null,
            "grid_template_rows": null,
            "height": null,
            "justify_content": null,
            "justify_items": null,
            "left": null,
            "margin": null,
            "max_height": null,
            "max_width": null,
            "min_height": null,
            "min_width": null,
            "object_fit": null,
            "object_position": null,
            "order": null,
            "overflow": null,
            "overflow_x": null,
            "overflow_y": null,
            "padding": null,
            "right": null,
            "top": null,
            "visibility": null,
            "width": null
          }
        },
        "19960405fe3c44bcb2dc1e540e67977b": {
          "model_module": "@jupyter-widgets/controls",
          "model_name": "DescriptionStyleModel",
          "model_module_version": "1.5.0",
          "state": {
            "_model_module": "@jupyter-widgets/controls",
            "_model_module_version": "1.5.0",
            "_model_name": "DescriptionStyleModel",
            "_view_count": null,
            "_view_module": "@jupyter-widgets/base",
            "_view_module_version": "1.2.0",
            "_view_name": "StyleView",
            "description_width": ""
          }
        },
        "c64df92036894eb395fc9600750b7b78": {
          "model_module": "@jupyter-widgets/controls",
          "model_name": "HBoxModel",
          "model_module_version": "1.5.0",
          "state": {
            "_dom_classes": [],
            "_model_module": "@jupyter-widgets/controls",
            "_model_module_version": "1.5.0",
            "_model_name": "HBoxModel",
            "_view_count": null,
            "_view_module": "@jupyter-widgets/controls",
            "_view_module_version": "1.5.0",
            "_view_name": "HBoxView",
            "box_style": "",
            "children": [
              "IPY_MODEL_0cc6ffd159e545f9952e86e879de02b7",
              "IPY_MODEL_001c5ec24aa64af483b4371de31d0a76",
              "IPY_MODEL_73372792cbe14c62a530b63af8a5fa60"
            ],
            "layout": "IPY_MODEL_70140b1ff75747979489999a00ba9fc1"
          }
        },
        "0cc6ffd159e545f9952e86e879de02b7": {
          "model_module": "@jupyter-widgets/controls",
          "model_name": "HTMLModel",
          "model_module_version": "1.5.0",
          "state": {
            "_dom_classes": [],
            "_model_module": "@jupyter-widgets/controls",
            "_model_module_version": "1.5.0",
            "_model_name": "HTMLModel",
            "_view_count": null,
            "_view_module": "@jupyter-widgets/controls",
            "_view_module_version": "1.5.0",
            "_view_name": "HTMLView",
            "description": "",
            "description_tooltip": null,
            "layout": "IPY_MODEL_479dae78f75342298ea8f8c1d0f72a24",
            "placeholder": "​",
            "style": "IPY_MODEL_43d90573fe04428faf4640120ec1600c",
            "value": "vocab.json: 100%"
          }
        },
        "001c5ec24aa64af483b4371de31d0a76": {
          "model_module": "@jupyter-widgets/controls",
          "model_name": "FloatProgressModel",
          "model_module_version": "1.5.0",
          "state": {
            "_dom_classes": [],
            "_model_module": "@jupyter-widgets/controls",
            "_model_module_version": "1.5.0",
            "_model_name": "FloatProgressModel",
            "_view_count": null,
            "_view_module": "@jupyter-widgets/controls",
            "_view_module_version": "1.5.0",
            "_view_name": "ProgressView",
            "bar_style": "success",
            "description": "",
            "description_tooltip": null,
            "layout": "IPY_MODEL_e9c08acc596a488794a76e6d834f773d",
            "max": 2776833,
            "min": 0,
            "orientation": "horizontal",
            "style": "IPY_MODEL_aa49daba629e41b5a5ffb8958d2855c9",
            "value": 2776833
          }
        },
        "73372792cbe14c62a530b63af8a5fa60": {
          "model_module": "@jupyter-widgets/controls",
          "model_name": "HTMLModel",
          "model_module_version": "1.5.0",
          "state": {
            "_dom_classes": [],
            "_model_module": "@jupyter-widgets/controls",
            "_model_module_version": "1.5.0",
            "_model_name": "HTMLModel",
            "_view_count": null,
            "_view_module": "@jupyter-widgets/controls",
            "_view_module_version": "1.5.0",
            "_view_name": "HTMLView",
            "description": "",
            "description_tooltip": null,
            "layout": "IPY_MODEL_89e09105cf45491a88f546239ee31037",
            "placeholder": "​",
            "style": "IPY_MODEL_3ae9a539489342d38d3552730b8e8632",
            "value": " 2.78M/2.78M [00:00&lt;00:00, 7.16MB/s]"
          }
        },
        "70140b1ff75747979489999a00ba9fc1": {
          "model_module": "@jupyter-widgets/base",
          "model_name": "LayoutModel",
          "model_module_version": "1.2.0",
          "state": {
            "_model_module": "@jupyter-widgets/base",
            "_model_module_version": "1.2.0",
            "_model_name": "LayoutModel",
            "_view_count": null,
            "_view_module": "@jupyter-widgets/base",
            "_view_module_version": "1.2.0",
            "_view_name": "LayoutView",
            "align_content": null,
            "align_items": null,
            "align_self": null,
            "border": null,
            "bottom": null,
            "display": null,
            "flex": null,
            "flex_flow": null,
            "grid_area": null,
            "grid_auto_columns": null,
            "grid_auto_flow": null,
            "grid_auto_rows": null,
            "grid_column": null,
            "grid_gap": null,
            "grid_row": null,
            "grid_template_areas": null,
            "grid_template_columns": null,
            "grid_template_rows": null,
            "height": null,
            "justify_content": null,
            "justify_items": null,
            "left": null,
            "margin": null,
            "max_height": null,
            "max_width": null,
            "min_height": null,
            "min_width": null,
            "object_fit": null,
            "object_position": null,
            "order": null,
            "overflow": null,
            "overflow_x": null,
            "overflow_y": null,
            "padding": null,
            "right": null,
            "top": null,
            "visibility": null,
            "width": null
          }
        },
        "479dae78f75342298ea8f8c1d0f72a24": {
          "model_module": "@jupyter-widgets/base",
          "model_name": "LayoutModel",
          "model_module_version": "1.2.0",
          "state": {
            "_model_module": "@jupyter-widgets/base",
            "_model_module_version": "1.2.0",
            "_model_name": "LayoutModel",
            "_view_count": null,
            "_view_module": "@jupyter-widgets/base",
            "_view_module_version": "1.2.0",
            "_view_name": "LayoutView",
            "align_content": null,
            "align_items": null,
            "align_self": null,
            "border": null,
            "bottom": null,
            "display": null,
            "flex": null,
            "flex_flow": null,
            "grid_area": null,
            "grid_auto_columns": null,
            "grid_auto_flow": null,
            "grid_auto_rows": null,
            "grid_column": null,
            "grid_gap": null,
            "grid_row": null,
            "grid_template_areas": null,
            "grid_template_columns": null,
            "grid_template_rows": null,
            "height": null,
            "justify_content": null,
            "justify_items": null,
            "left": null,
            "margin": null,
            "max_height": null,
            "max_width": null,
            "min_height": null,
            "min_width": null,
            "object_fit": null,
            "object_position": null,
            "order": null,
            "overflow": null,
            "overflow_x": null,
            "overflow_y": null,
            "padding": null,
            "right": null,
            "top": null,
            "visibility": null,
            "width": null
          }
        },
        "43d90573fe04428faf4640120ec1600c": {
          "model_module": "@jupyter-widgets/controls",
          "model_name": "DescriptionStyleModel",
          "model_module_version": "1.5.0",
          "state": {
            "_model_module": "@jupyter-widgets/controls",
            "_model_module_version": "1.5.0",
            "_model_name": "DescriptionStyleModel",
            "_view_count": null,
            "_view_module": "@jupyter-widgets/base",
            "_view_module_version": "1.2.0",
            "_view_name": "StyleView",
            "description_width": ""
          }
        },
        "e9c08acc596a488794a76e6d834f773d": {
          "model_module": "@jupyter-widgets/base",
          "model_name": "LayoutModel",
          "model_module_version": "1.2.0",
          "state": {
            "_model_module": "@jupyter-widgets/base",
            "_model_module_version": "1.2.0",
            "_model_name": "LayoutModel",
            "_view_count": null,
            "_view_module": "@jupyter-widgets/base",
            "_view_module_version": "1.2.0",
            "_view_name": "LayoutView",
            "align_content": null,
            "align_items": null,
            "align_self": null,
            "border": null,
            "bottom": null,
            "display": null,
            "flex": null,
            "flex_flow": null,
            "grid_area": null,
            "grid_auto_columns": null,
            "grid_auto_flow": null,
            "grid_auto_rows": null,
            "grid_column": null,
            "grid_gap": null,
            "grid_row": null,
            "grid_template_areas": null,
            "grid_template_columns": null,
            "grid_template_rows": null,
            "height": null,
            "justify_content": null,
            "justify_items": null,
            "left": null,
            "margin": null,
            "max_height": null,
            "max_width": null,
            "min_height": null,
            "min_width": null,
            "object_fit": null,
            "object_position": null,
            "order": null,
            "overflow": null,
            "overflow_x": null,
            "overflow_y": null,
            "padding": null,
            "right": null,
            "top": null,
            "visibility": null,
            "width": null
          }
        },
        "aa49daba629e41b5a5ffb8958d2855c9": {
          "model_module": "@jupyter-widgets/controls",
          "model_name": "ProgressStyleModel",
          "model_module_version": "1.5.0",
          "state": {
            "_model_module": "@jupyter-widgets/controls",
            "_model_module_version": "1.5.0",
            "_model_name": "ProgressStyleModel",
            "_view_count": null,
            "_view_module": "@jupyter-widgets/base",
            "_view_module_version": "1.2.0",
            "_view_name": "StyleView",
            "bar_color": null,
            "description_width": ""
          }
        },
        "89e09105cf45491a88f546239ee31037": {
          "model_module": "@jupyter-widgets/base",
          "model_name": "LayoutModel",
          "model_module_version": "1.2.0",
          "state": {
            "_model_module": "@jupyter-widgets/base",
            "_model_module_version": "1.2.0",
            "_model_name": "LayoutModel",
            "_view_count": null,
            "_view_module": "@jupyter-widgets/base",
            "_view_module_version": "1.2.0",
            "_view_name": "LayoutView",
            "align_content": null,
            "align_items": null,
            "align_self": null,
            "border": null,
            "bottom": null,
            "display": null,
            "flex": null,
            "flex_flow": null,
            "grid_area": null,
            "grid_auto_columns": null,
            "grid_auto_flow": null,
            "grid_auto_rows": null,
            "grid_column": null,
            "grid_gap": null,
            "grid_row": null,
            "grid_template_areas": null,
            "grid_template_columns": null,
            "grid_template_rows": null,
            "height": null,
            "justify_content": null,
            "justify_items": null,
            "left": null,
            "margin": null,
            "max_height": null,
            "max_width": null,
            "min_height": null,
            "min_width": null,
            "object_fit": null,
            "object_position": null,
            "order": null,
            "overflow": null,
            "overflow_x": null,
            "overflow_y": null,
            "padding": null,
            "right": null,
            "top": null,
            "visibility": null,
            "width": null
          }
        },
        "3ae9a539489342d38d3552730b8e8632": {
          "model_module": "@jupyter-widgets/controls",
          "model_name": "DescriptionStyleModel",
          "model_module_version": "1.5.0",
          "state": {
            "_model_module": "@jupyter-widgets/controls",
            "_model_module_version": "1.5.0",
            "_model_name": "DescriptionStyleModel",
            "_view_count": null,
            "_view_module": "@jupyter-widgets/base",
            "_view_module_version": "1.2.0",
            "_view_name": "StyleView",
            "description_width": ""
          }
        },
        "66e7f0238c2d4f0b854daadfdb8753a4": {
          "model_module": "@jupyter-widgets/controls",
          "model_name": "HBoxModel",
          "model_module_version": "1.5.0",
          "state": {
            "_dom_classes": [],
            "_model_module": "@jupyter-widgets/controls",
            "_model_module_version": "1.5.0",
            "_model_name": "HBoxModel",
            "_view_count": null,
            "_view_module": "@jupyter-widgets/controls",
            "_view_module_version": "1.5.0",
            "_view_name": "HBoxView",
            "box_style": "",
            "children": [
              "IPY_MODEL_75310a24c0ad4c12ab483b353413f6ee",
              "IPY_MODEL_7e67d6685ed04fd0843e3a44d272af6f",
              "IPY_MODEL_5b4b12bdd9804d0399b259688c8a54e3"
            ],
            "layout": "IPY_MODEL_64dec18800fd486591d2bd6a08b07378"
          }
        },
        "75310a24c0ad4c12ab483b353413f6ee": {
          "model_module": "@jupyter-widgets/controls",
          "model_name": "HTMLModel",
          "model_module_version": "1.5.0",
          "state": {
            "_dom_classes": [],
            "_model_module": "@jupyter-widgets/controls",
            "_model_module_version": "1.5.0",
            "_model_name": "HTMLModel",
            "_view_count": null,
            "_view_module": "@jupyter-widgets/controls",
            "_view_module_version": "1.5.0",
            "_view_name": "HTMLView",
            "description": "",
            "description_tooltip": null,
            "layout": "IPY_MODEL_d4385fbbc8d7443cbb4152aa68f5626b",
            "placeholder": "​",
            "style": "IPY_MODEL_ca044cf1156640059805a4eb26f08ce3",
            "value": "merges.txt: 100%"
          }
        },
        "7e67d6685ed04fd0843e3a44d272af6f": {
          "model_module": "@jupyter-widgets/controls",
          "model_name": "FloatProgressModel",
          "model_module_version": "1.5.0",
          "state": {
            "_dom_classes": [],
            "_model_module": "@jupyter-widgets/controls",
            "_model_module_version": "1.5.0",
            "_model_name": "FloatProgressModel",
            "_view_count": null,
            "_view_module": "@jupyter-widgets/controls",
            "_view_module_version": "1.5.0",
            "_view_name": "ProgressView",
            "bar_style": "success",
            "description": "",
            "description_tooltip": null,
            "layout": "IPY_MODEL_03d0c2cf03204c61b442501c0ac3bc27",
            "max": 1671853,
            "min": 0,
            "orientation": "horizontal",
            "style": "IPY_MODEL_dccd1ef3d8e1455597f6f1f30076ded1",
            "value": 1671853
          }
        },
        "5b4b12bdd9804d0399b259688c8a54e3": {
          "model_module": "@jupyter-widgets/controls",
          "model_name": "HTMLModel",
          "model_module_version": "1.5.0",
          "state": {
            "_dom_classes": [],
            "_model_module": "@jupyter-widgets/controls",
            "_model_module_version": "1.5.0",
            "_model_name": "HTMLModel",
            "_view_count": null,
            "_view_module": "@jupyter-widgets/controls",
            "_view_module_version": "1.5.0",
            "_view_name": "HTMLView",
            "description": "",
            "description_tooltip": null,
            "layout": "IPY_MODEL_5f1641ffc5f34ee187581938f4873095",
            "placeholder": "​",
            "style": "IPY_MODEL_e38ba14f132043378085df391627e36c",
            "value": " 1.67M/1.67M [00:00&lt;00:00, 19.1MB/s]"
          }
        },
        "64dec18800fd486591d2bd6a08b07378": {
          "model_module": "@jupyter-widgets/base",
          "model_name": "LayoutModel",
          "model_module_version": "1.2.0",
          "state": {
            "_model_module": "@jupyter-widgets/base",
            "_model_module_version": "1.2.0",
            "_model_name": "LayoutModel",
            "_view_count": null,
            "_view_module": "@jupyter-widgets/base",
            "_view_module_version": "1.2.0",
            "_view_name": "LayoutView",
            "align_content": null,
            "align_items": null,
            "align_self": null,
            "border": null,
            "bottom": null,
            "display": null,
            "flex": null,
            "flex_flow": null,
            "grid_area": null,
            "grid_auto_columns": null,
            "grid_auto_flow": null,
            "grid_auto_rows": null,
            "grid_column": null,
            "grid_gap": null,
            "grid_row": null,
            "grid_template_areas": null,
            "grid_template_columns": null,
            "grid_template_rows": null,
            "height": null,
            "justify_content": null,
            "justify_items": null,
            "left": null,
            "margin": null,
            "max_height": null,
            "max_width": null,
            "min_height": null,
            "min_width": null,
            "object_fit": null,
            "object_position": null,
            "order": null,
            "overflow": null,
            "overflow_x": null,
            "overflow_y": null,
            "padding": null,
            "right": null,
            "top": null,
            "visibility": null,
            "width": null
          }
        },
        "d4385fbbc8d7443cbb4152aa68f5626b": {
          "model_module": "@jupyter-widgets/base",
          "model_name": "LayoutModel",
          "model_module_version": "1.2.0",
          "state": {
            "_model_module": "@jupyter-widgets/base",
            "_model_module_version": "1.2.0",
            "_model_name": "LayoutModel",
            "_view_count": null,
            "_view_module": "@jupyter-widgets/base",
            "_view_module_version": "1.2.0",
            "_view_name": "LayoutView",
            "align_content": null,
            "align_items": null,
            "align_self": null,
            "border": null,
            "bottom": null,
            "display": null,
            "flex": null,
            "flex_flow": null,
            "grid_area": null,
            "grid_auto_columns": null,
            "grid_auto_flow": null,
            "grid_auto_rows": null,
            "grid_column": null,
            "grid_gap": null,
            "grid_row": null,
            "grid_template_areas": null,
            "grid_template_columns": null,
            "grid_template_rows": null,
            "height": null,
            "justify_content": null,
            "justify_items": null,
            "left": null,
            "margin": null,
            "max_height": null,
            "max_width": null,
            "min_height": null,
            "min_width": null,
            "object_fit": null,
            "object_position": null,
            "order": null,
            "overflow": null,
            "overflow_x": null,
            "overflow_y": null,
            "padding": null,
            "right": null,
            "top": null,
            "visibility": null,
            "width": null
          }
        },
        "ca044cf1156640059805a4eb26f08ce3": {
          "model_module": "@jupyter-widgets/controls",
          "model_name": "DescriptionStyleModel",
          "model_module_version": "1.5.0",
          "state": {
            "_model_module": "@jupyter-widgets/controls",
            "_model_module_version": "1.5.0",
            "_model_name": "DescriptionStyleModel",
            "_view_count": null,
            "_view_module": "@jupyter-widgets/base",
            "_view_module_version": "1.2.0",
            "_view_name": "StyleView",
            "description_width": ""
          }
        },
        "03d0c2cf03204c61b442501c0ac3bc27": {
          "model_module": "@jupyter-widgets/base",
          "model_name": "LayoutModel",
          "model_module_version": "1.2.0",
          "state": {
            "_model_module": "@jupyter-widgets/base",
            "_model_module_version": "1.2.0",
            "_model_name": "LayoutModel",
            "_view_count": null,
            "_view_module": "@jupyter-widgets/base",
            "_view_module_version": "1.2.0",
            "_view_name": "LayoutView",
            "align_content": null,
            "align_items": null,
            "align_self": null,
            "border": null,
            "bottom": null,
            "display": null,
            "flex": null,
            "flex_flow": null,
            "grid_area": null,
            "grid_auto_columns": null,
            "grid_auto_flow": null,
            "grid_auto_rows": null,
            "grid_column": null,
            "grid_gap": null,
            "grid_row": null,
            "grid_template_areas": null,
            "grid_template_columns": null,
            "grid_template_rows": null,
            "height": null,
            "justify_content": null,
            "justify_items": null,
            "left": null,
            "margin": null,
            "max_height": null,
            "max_width": null,
            "min_height": null,
            "min_width": null,
            "object_fit": null,
            "object_position": null,
            "order": null,
            "overflow": null,
            "overflow_x": null,
            "overflow_y": null,
            "padding": null,
            "right": null,
            "top": null,
            "visibility": null,
            "width": null
          }
        },
        "dccd1ef3d8e1455597f6f1f30076ded1": {
          "model_module": "@jupyter-widgets/controls",
          "model_name": "ProgressStyleModel",
          "model_module_version": "1.5.0",
          "state": {
            "_model_module": "@jupyter-widgets/controls",
            "_model_module_version": "1.5.0",
            "_model_name": "ProgressStyleModel",
            "_view_count": null,
            "_view_module": "@jupyter-widgets/base",
            "_view_module_version": "1.2.0",
            "_view_name": "StyleView",
            "bar_color": null,
            "description_width": ""
          }
        },
        "5f1641ffc5f34ee187581938f4873095": {
          "model_module": "@jupyter-widgets/base",
          "model_name": "LayoutModel",
          "model_module_version": "1.2.0",
          "state": {
            "_model_module": "@jupyter-widgets/base",
            "_model_module_version": "1.2.0",
            "_model_name": "LayoutModel",
            "_view_count": null,
            "_view_module": "@jupyter-widgets/base",
            "_view_module_version": "1.2.0",
            "_view_name": "LayoutView",
            "align_content": null,
            "align_items": null,
            "align_self": null,
            "border": null,
            "bottom": null,
            "display": null,
            "flex": null,
            "flex_flow": null,
            "grid_area": null,
            "grid_auto_columns": null,
            "grid_auto_flow": null,
            "grid_auto_rows": null,
            "grid_column": null,
            "grid_gap": null,
            "grid_row": null,
            "grid_template_areas": null,
            "grid_template_columns": null,
            "grid_template_rows": null,
            "height": null,
            "justify_content": null,
            "justify_items": null,
            "left": null,
            "margin": null,
            "max_height": null,
            "max_width": null,
            "min_height": null,
            "min_width": null,
            "object_fit": null,
            "object_position": null,
            "order": null,
            "overflow": null,
            "overflow_x": null,
            "overflow_y": null,
            "padding": null,
            "right": null,
            "top": null,
            "visibility": null,
            "width": null
          }
        },
        "e38ba14f132043378085df391627e36c": {
          "model_module": "@jupyter-widgets/controls",
          "model_name": "DescriptionStyleModel",
          "model_module_version": "1.5.0",
          "state": {
            "_model_module": "@jupyter-widgets/controls",
            "_model_module_version": "1.5.0",
            "_model_name": "DescriptionStyleModel",
            "_view_count": null,
            "_view_module": "@jupyter-widgets/base",
            "_view_module_version": "1.2.0",
            "_view_name": "StyleView",
            "description_width": ""
          }
        },
        "d79e3b8f222446c2a0d6efb063e27b14": {
          "model_module": "@jupyter-widgets/controls",
          "model_name": "HBoxModel",
          "model_module_version": "1.5.0",
          "state": {
            "_dom_classes": [],
            "_model_module": "@jupyter-widgets/controls",
            "_model_module_version": "1.5.0",
            "_model_name": "HBoxModel",
            "_view_count": null,
            "_view_module": "@jupyter-widgets/controls",
            "_view_module_version": "1.5.0",
            "_view_name": "HBoxView",
            "box_style": "",
            "children": [
              "IPY_MODEL_e015c13cb7564976a90b6f96e7863771",
              "IPY_MODEL_730371d9967f4e2e8b4979098f9602f9",
              "IPY_MODEL_3faf4e9c49b349e0ac299e9585ec7f7f"
            ],
            "layout": "IPY_MODEL_576c8ec2cb184642af6d9cc80b09ff3a"
          }
        },
        "e015c13cb7564976a90b6f96e7863771": {
          "model_module": "@jupyter-widgets/controls",
          "model_name": "HTMLModel",
          "model_module_version": "1.5.0",
          "state": {
            "_dom_classes": [],
            "_model_module": "@jupyter-widgets/controls",
            "_model_module_version": "1.5.0",
            "_model_name": "HTMLModel",
            "_view_count": null,
            "_view_module": "@jupyter-widgets/controls",
            "_view_module_version": "1.5.0",
            "_view_name": "HTMLView",
            "description": "",
            "description_tooltip": null,
            "layout": "IPY_MODEL_e18c2dd3be964f3fa1b8704d7ed569a0",
            "placeholder": "​",
            "style": "IPY_MODEL_642aa904f2ac41e48c47bc0cc260717c",
            "value": "tokenizer.json: 100%"
          }
        },
        "730371d9967f4e2e8b4979098f9602f9": {
          "model_module": "@jupyter-widgets/controls",
          "model_name": "FloatProgressModel",
          "model_module_version": "1.5.0",
          "state": {
            "_dom_classes": [],
            "_model_module": "@jupyter-widgets/controls",
            "_model_module_version": "1.5.0",
            "_model_name": "FloatProgressModel",
            "_view_count": null,
            "_view_module": "@jupyter-widgets/controls",
            "_view_module_version": "1.5.0",
            "_view_name": "ProgressView",
            "bar_style": "success",
            "description": "",
            "description_tooltip": null,
            "layout": "IPY_MODEL_a0f5e09409e04ae7ac85ad2cc56421a2",
            "max": 7028814,
            "min": 0,
            "orientation": "horizontal",
            "style": "IPY_MODEL_7b2a21a700724adc8f92cd4e15e8f1f0",
            "value": 7028814
          }
        },
        "3faf4e9c49b349e0ac299e9585ec7f7f": {
          "model_module": "@jupyter-widgets/controls",
          "model_name": "HTMLModel",
          "model_module_version": "1.5.0",
          "state": {
            "_dom_classes": [],
            "_model_module": "@jupyter-widgets/controls",
            "_model_module_version": "1.5.0",
            "_model_name": "HTMLModel",
            "_view_count": null,
            "_view_module": "@jupyter-widgets/controls",
            "_view_module_version": "1.5.0",
            "_view_name": "HTMLView",
            "description": "",
            "description_tooltip": null,
            "layout": "IPY_MODEL_15a8d4fb2efd42a89e238eadbb765c99",
            "placeholder": "​",
            "style": "IPY_MODEL_d948fb8b5a554fa4bf9381ac7cb14375",
            "value": " 7.03M/7.03M [00:00&lt;00:00, 32.0MB/s]"
          }
        },
        "576c8ec2cb184642af6d9cc80b09ff3a": {
          "model_module": "@jupyter-widgets/base",
          "model_name": "LayoutModel",
          "model_module_version": "1.2.0",
          "state": {
            "_model_module": "@jupyter-widgets/base",
            "_model_module_version": "1.2.0",
            "_model_name": "LayoutModel",
            "_view_count": null,
            "_view_module": "@jupyter-widgets/base",
            "_view_module_version": "1.2.0",
            "_view_name": "LayoutView",
            "align_content": null,
            "align_items": null,
            "align_self": null,
            "border": null,
            "bottom": null,
            "display": null,
            "flex": null,
            "flex_flow": null,
            "grid_area": null,
            "grid_auto_columns": null,
            "grid_auto_flow": null,
            "grid_auto_rows": null,
            "grid_column": null,
            "grid_gap": null,
            "grid_row": null,
            "grid_template_areas": null,
            "grid_template_columns": null,
            "grid_template_rows": null,
            "height": null,
            "justify_content": null,
            "justify_items": null,
            "left": null,
            "margin": null,
            "max_height": null,
            "max_width": null,
            "min_height": null,
            "min_width": null,
            "object_fit": null,
            "object_position": null,
            "order": null,
            "overflow": null,
            "overflow_x": null,
            "overflow_y": null,
            "padding": null,
            "right": null,
            "top": null,
            "visibility": null,
            "width": null
          }
        },
        "e18c2dd3be964f3fa1b8704d7ed569a0": {
          "model_module": "@jupyter-widgets/base",
          "model_name": "LayoutModel",
          "model_module_version": "1.2.0",
          "state": {
            "_model_module": "@jupyter-widgets/base",
            "_model_module_version": "1.2.0",
            "_model_name": "LayoutModel",
            "_view_count": null,
            "_view_module": "@jupyter-widgets/base",
            "_view_module_version": "1.2.0",
            "_view_name": "LayoutView",
            "align_content": null,
            "align_items": null,
            "align_self": null,
            "border": null,
            "bottom": null,
            "display": null,
            "flex": null,
            "flex_flow": null,
            "grid_area": null,
            "grid_auto_columns": null,
            "grid_auto_flow": null,
            "grid_auto_rows": null,
            "grid_column": null,
            "grid_gap": null,
            "grid_row": null,
            "grid_template_areas": null,
            "grid_template_columns": null,
            "grid_template_rows": null,
            "height": null,
            "justify_content": null,
            "justify_items": null,
            "left": null,
            "margin": null,
            "max_height": null,
            "max_width": null,
            "min_height": null,
            "min_width": null,
            "object_fit": null,
            "object_position": null,
            "order": null,
            "overflow": null,
            "overflow_x": null,
            "overflow_y": null,
            "padding": null,
            "right": null,
            "top": null,
            "visibility": null,
            "width": null
          }
        },
        "642aa904f2ac41e48c47bc0cc260717c": {
          "model_module": "@jupyter-widgets/controls",
          "model_name": "DescriptionStyleModel",
          "model_module_version": "1.5.0",
          "state": {
            "_model_module": "@jupyter-widgets/controls",
            "_model_module_version": "1.5.0",
            "_model_name": "DescriptionStyleModel",
            "_view_count": null,
            "_view_module": "@jupyter-widgets/base",
            "_view_module_version": "1.2.0",
            "_view_name": "StyleView",
            "description_width": ""
          }
        },
        "a0f5e09409e04ae7ac85ad2cc56421a2": {
          "model_module": "@jupyter-widgets/base",
          "model_name": "LayoutModel",
          "model_module_version": "1.2.0",
          "state": {
            "_model_module": "@jupyter-widgets/base",
            "_model_module_version": "1.2.0",
            "_model_name": "LayoutModel",
            "_view_count": null,
            "_view_module": "@jupyter-widgets/base",
            "_view_module_version": "1.2.0",
            "_view_name": "LayoutView",
            "align_content": null,
            "align_items": null,
            "align_self": null,
            "border": null,
            "bottom": null,
            "display": null,
            "flex": null,
            "flex_flow": null,
            "grid_area": null,
            "grid_auto_columns": null,
            "grid_auto_flow": null,
            "grid_auto_rows": null,
            "grid_column": null,
            "grid_gap": null,
            "grid_row": null,
            "grid_template_areas": null,
            "grid_template_columns": null,
            "grid_template_rows": null,
            "height": null,
            "justify_content": null,
            "justify_items": null,
            "left": null,
            "margin": null,
            "max_height": null,
            "max_width": null,
            "min_height": null,
            "min_width": null,
            "object_fit": null,
            "object_position": null,
            "order": null,
            "overflow": null,
            "overflow_x": null,
            "overflow_y": null,
            "padding": null,
            "right": null,
            "top": null,
            "visibility": null,
            "width": null
          }
        },
        "7b2a21a700724adc8f92cd4e15e8f1f0": {
          "model_module": "@jupyter-widgets/controls",
          "model_name": "ProgressStyleModel",
          "model_module_version": "1.5.0",
          "state": {
            "_model_module": "@jupyter-widgets/controls",
            "_model_module_version": "1.5.0",
            "_model_name": "ProgressStyleModel",
            "_view_count": null,
            "_view_module": "@jupyter-widgets/base",
            "_view_module_version": "1.2.0",
            "_view_name": "StyleView",
            "bar_color": null,
            "description_width": ""
          }
        },
        "15a8d4fb2efd42a89e238eadbb765c99": {
          "model_module": "@jupyter-widgets/base",
          "model_name": "LayoutModel",
          "model_module_version": "1.2.0",
          "state": {
            "_model_module": "@jupyter-widgets/base",
            "_model_module_version": "1.2.0",
            "_model_name": "LayoutModel",
            "_view_count": null,
            "_view_module": "@jupyter-widgets/base",
            "_view_module_version": "1.2.0",
            "_view_name": "LayoutView",
            "align_content": null,
            "align_items": null,
            "align_self": null,
            "border": null,
            "bottom": null,
            "display": null,
            "flex": null,
            "flex_flow": null,
            "grid_area": null,
            "grid_auto_columns": null,
            "grid_auto_flow": null,
            "grid_auto_rows": null,
            "grid_column": null,
            "grid_gap": null,
            "grid_row": null,
            "grid_template_areas": null,
            "grid_template_columns": null,
            "grid_template_rows": null,
            "height": null,
            "justify_content": null,
            "justify_items": null,
            "left": null,
            "margin": null,
            "max_height": null,
            "max_width": null,
            "min_height": null,
            "min_width": null,
            "object_fit": null,
            "object_position": null,
            "order": null,
            "overflow": null,
            "overflow_x": null,
            "overflow_y": null,
            "padding": null,
            "right": null,
            "top": null,
            "visibility": null,
            "width": null
          }
        },
        "d948fb8b5a554fa4bf9381ac7cb14375": {
          "model_module": "@jupyter-widgets/controls",
          "model_name": "DescriptionStyleModel",
          "model_module_version": "1.5.0",
          "state": {
            "_model_module": "@jupyter-widgets/controls",
            "_model_module_version": "1.5.0",
            "_model_name": "DescriptionStyleModel",
            "_view_count": null,
            "_view_module": "@jupyter-widgets/base",
            "_view_module_version": "1.2.0",
            "_view_name": "StyleView",
            "description_width": ""
          }
        },
        "884eef7cd03d4f44b0908ad05ee73d2a": {
          "model_module": "@jupyter-widgets/controls",
          "model_name": "HBoxModel",
          "model_module_version": "1.5.0",
          "state": {
            "_dom_classes": [],
            "_model_module": "@jupyter-widgets/controls",
            "_model_module_version": "1.5.0",
            "_model_name": "HBoxModel",
            "_view_count": null,
            "_view_module": "@jupyter-widgets/controls",
            "_view_module_version": "1.5.0",
            "_view_name": "HBoxView",
            "box_style": "",
            "children": [
              "IPY_MODEL_40b73c04df3e4820bb41fdb8de0055f7",
              "IPY_MODEL_d7d09bdb4f5d46498f347944f2b64f0c",
              "IPY_MODEL_74019057c4fb4501bfaeb2b849061d19"
            ],
            "layout": "IPY_MODEL_78e01e8fc44d4dacba4bc9c54aaaf043"
          }
        },
        "40b73c04df3e4820bb41fdb8de0055f7": {
          "model_module": "@jupyter-widgets/controls",
          "model_name": "HTMLModel",
          "model_module_version": "1.5.0",
          "state": {
            "_dom_classes": [],
            "_model_module": "@jupyter-widgets/controls",
            "_model_module_version": "1.5.0",
            "_model_name": "HTMLModel",
            "_view_count": null,
            "_view_module": "@jupyter-widgets/controls",
            "_view_module_version": "1.5.0",
            "_view_name": "HTMLView",
            "description": "",
            "description_tooltip": null,
            "layout": "IPY_MODEL_6f39b39a66e2418683699f9a4ceef3c0",
            "placeholder": "​",
            "style": "IPY_MODEL_c2f59cbe1f544c4089ceac7422a6fffe",
            "value": "added_tokens.json: 100%"
          }
        },
        "d7d09bdb4f5d46498f347944f2b64f0c": {
          "model_module": "@jupyter-widgets/controls",
          "model_name": "FloatProgressModel",
          "model_module_version": "1.5.0",
          "state": {
            "_dom_classes": [],
            "_model_module": "@jupyter-widgets/controls",
            "_model_module_version": "1.5.0",
            "_model_name": "FloatProgressModel",
            "_view_count": null,
            "_view_module": "@jupyter-widgets/controls",
            "_view_module_version": "1.5.0",
            "_view_name": "ProgressView",
            "bar_style": "success",
            "description": "",
            "description_tooltip": null,
            "layout": "IPY_MODEL_9877280825ac4f85a2a5320ef174bee5",
            "max": 80,
            "min": 0,
            "orientation": "horizontal",
            "style": "IPY_MODEL_1a9456b8326c435f80343ab81144ef55",
            "value": 80
          }
        },
        "74019057c4fb4501bfaeb2b849061d19": {
          "model_module": "@jupyter-widgets/controls",
          "model_name": "HTMLModel",
          "model_module_version": "1.5.0",
          "state": {
            "_dom_classes": [],
            "_model_module": "@jupyter-widgets/controls",
            "_model_module_version": "1.5.0",
            "_model_name": "HTMLModel",
            "_view_count": null,
            "_view_module": "@jupyter-widgets/controls",
            "_view_module_version": "1.5.0",
            "_view_name": "HTMLView",
            "description": "",
            "description_tooltip": null,
            "layout": "IPY_MODEL_0360aba19ab94f6a92f5dfe50560c6b8",
            "placeholder": "​",
            "style": "IPY_MODEL_643da53b8af3427bb911d7b9cab71cfc",
            "value": " 80.0/80.0 [00:00&lt;00:00, 5.57kB/s]"
          }
        },
        "78e01e8fc44d4dacba4bc9c54aaaf043": {
          "model_module": "@jupyter-widgets/base",
          "model_name": "LayoutModel",
          "model_module_version": "1.2.0",
          "state": {
            "_model_module": "@jupyter-widgets/base",
            "_model_module_version": "1.2.0",
            "_model_name": "LayoutModel",
            "_view_count": null,
            "_view_module": "@jupyter-widgets/base",
            "_view_module_version": "1.2.0",
            "_view_name": "LayoutView",
            "align_content": null,
            "align_items": null,
            "align_self": null,
            "border": null,
            "bottom": null,
            "display": null,
            "flex": null,
            "flex_flow": null,
            "grid_area": null,
            "grid_auto_columns": null,
            "grid_auto_flow": null,
            "grid_auto_rows": null,
            "grid_column": null,
            "grid_gap": null,
            "grid_row": null,
            "grid_template_areas": null,
            "grid_template_columns": null,
            "grid_template_rows": null,
            "height": null,
            "justify_content": null,
            "justify_items": null,
            "left": null,
            "margin": null,
            "max_height": null,
            "max_width": null,
            "min_height": null,
            "min_width": null,
            "object_fit": null,
            "object_position": null,
            "order": null,
            "overflow": null,
            "overflow_x": null,
            "overflow_y": null,
            "padding": null,
            "right": null,
            "top": null,
            "visibility": null,
            "width": null
          }
        },
        "6f39b39a66e2418683699f9a4ceef3c0": {
          "model_module": "@jupyter-widgets/base",
          "model_name": "LayoutModel",
          "model_module_version": "1.2.0",
          "state": {
            "_model_module": "@jupyter-widgets/base",
            "_model_module_version": "1.2.0",
            "_model_name": "LayoutModel",
            "_view_count": null,
            "_view_module": "@jupyter-widgets/base",
            "_view_module_version": "1.2.0",
            "_view_name": "LayoutView",
            "align_content": null,
            "align_items": null,
            "align_self": null,
            "border": null,
            "bottom": null,
            "display": null,
            "flex": null,
            "flex_flow": null,
            "grid_area": null,
            "grid_auto_columns": null,
            "grid_auto_flow": null,
            "grid_auto_rows": null,
            "grid_column": null,
            "grid_gap": null,
            "grid_row": null,
            "grid_template_areas": null,
            "grid_template_columns": null,
            "grid_template_rows": null,
            "height": null,
            "justify_content": null,
            "justify_items": null,
            "left": null,
            "margin": null,
            "max_height": null,
            "max_width": null,
            "min_height": null,
            "min_width": null,
            "object_fit": null,
            "object_position": null,
            "order": null,
            "overflow": null,
            "overflow_x": null,
            "overflow_y": null,
            "padding": null,
            "right": null,
            "top": null,
            "visibility": null,
            "width": null
          }
        },
        "c2f59cbe1f544c4089ceac7422a6fffe": {
          "model_module": "@jupyter-widgets/controls",
          "model_name": "DescriptionStyleModel",
          "model_module_version": "1.5.0",
          "state": {
            "_model_module": "@jupyter-widgets/controls",
            "_model_module_version": "1.5.0",
            "_model_name": "DescriptionStyleModel",
            "_view_count": null,
            "_view_module": "@jupyter-widgets/base",
            "_view_module_version": "1.2.0",
            "_view_name": "StyleView",
            "description_width": ""
          }
        },
        "9877280825ac4f85a2a5320ef174bee5": {
          "model_module": "@jupyter-widgets/base",
          "model_name": "LayoutModel",
          "model_module_version": "1.2.0",
          "state": {
            "_model_module": "@jupyter-widgets/base",
            "_model_module_version": "1.2.0",
            "_model_name": "LayoutModel",
            "_view_count": null,
            "_view_module": "@jupyter-widgets/base",
            "_view_module_version": "1.2.0",
            "_view_name": "LayoutView",
            "align_content": null,
            "align_items": null,
            "align_self": null,
            "border": null,
            "bottom": null,
            "display": null,
            "flex": null,
            "flex_flow": null,
            "grid_area": null,
            "grid_auto_columns": null,
            "grid_auto_flow": null,
            "grid_auto_rows": null,
            "grid_column": null,
            "grid_gap": null,
            "grid_row": null,
            "grid_template_areas": null,
            "grid_template_columns": null,
            "grid_template_rows": null,
            "height": null,
            "justify_content": null,
            "justify_items": null,
            "left": null,
            "margin": null,
            "max_height": null,
            "max_width": null,
            "min_height": null,
            "min_width": null,
            "object_fit": null,
            "object_position": null,
            "order": null,
            "overflow": null,
            "overflow_x": null,
            "overflow_y": null,
            "padding": null,
            "right": null,
            "top": null,
            "visibility": null,
            "width": null
          }
        },
        "1a9456b8326c435f80343ab81144ef55": {
          "model_module": "@jupyter-widgets/controls",
          "model_name": "ProgressStyleModel",
          "model_module_version": "1.5.0",
          "state": {
            "_model_module": "@jupyter-widgets/controls",
            "_model_module_version": "1.5.0",
            "_model_name": "ProgressStyleModel",
            "_view_count": null,
            "_view_module": "@jupyter-widgets/base",
            "_view_module_version": "1.2.0",
            "_view_name": "StyleView",
            "bar_color": null,
            "description_width": ""
          }
        },
        "0360aba19ab94f6a92f5dfe50560c6b8": {
          "model_module": "@jupyter-widgets/base",
          "model_name": "LayoutModel",
          "model_module_version": "1.2.0",
          "state": {
            "_model_module": "@jupyter-widgets/base",
            "_model_module_version": "1.2.0",
            "_model_name": "LayoutModel",
            "_view_count": null,
            "_view_module": "@jupyter-widgets/base",
            "_view_module_version": "1.2.0",
            "_view_name": "LayoutView",
            "align_content": null,
            "align_items": null,
            "align_self": null,
            "border": null,
            "bottom": null,
            "display": null,
            "flex": null,
            "flex_flow": null,
            "grid_area": null,
            "grid_auto_columns": null,
            "grid_auto_flow": null,
            "grid_auto_rows": null,
            "grid_column": null,
            "grid_gap": null,
            "grid_row": null,
            "grid_template_areas": null,
            "grid_template_columns": null,
            "grid_template_rows": null,
            "height": null,
            "justify_content": null,
            "justify_items": null,
            "left": null,
            "margin": null,
            "max_height": null,
            "max_width": null,
            "min_height": null,
            "min_width": null,
            "object_fit": null,
            "object_position": null,
            "order": null,
            "overflow": null,
            "overflow_x": null,
            "overflow_y": null,
            "padding": null,
            "right": null,
            "top": null,
            "visibility": null,
            "width": null
          }
        },
        "643da53b8af3427bb911d7b9cab71cfc": {
          "model_module": "@jupyter-widgets/controls",
          "model_name": "DescriptionStyleModel",
          "model_module_version": "1.5.0",
          "state": {
            "_model_module": "@jupyter-widgets/controls",
            "_model_module_version": "1.5.0",
            "_model_name": "DescriptionStyleModel",
            "_view_count": null,
            "_view_module": "@jupyter-widgets/base",
            "_view_module_version": "1.2.0",
            "_view_name": "StyleView",
            "description_width": ""
          }
        },
        "8a48fd47cfeb46ca83f26c1f6bae399f": {
          "model_module": "@jupyter-widgets/controls",
          "model_name": "HBoxModel",
          "model_module_version": "1.5.0",
          "state": {
            "_dom_classes": [],
            "_model_module": "@jupyter-widgets/controls",
            "_model_module_version": "1.5.0",
            "_model_name": "HBoxModel",
            "_view_count": null,
            "_view_module": "@jupyter-widgets/controls",
            "_view_module_version": "1.5.0",
            "_view_name": "HBoxView",
            "box_style": "",
            "children": [
              "IPY_MODEL_f4c9458b44fe4669b8d4e6a69c721df4",
              "IPY_MODEL_a367cb2cdb1c454eb1493550d6b57d8b",
              "IPY_MODEL_a2c0e941ab324a52950af81ef8005bda"
            ],
            "layout": "IPY_MODEL_8d1acce41a8d41c6aa72a38ed84fe401"
          }
        },
        "f4c9458b44fe4669b8d4e6a69c721df4": {
          "model_module": "@jupyter-widgets/controls",
          "model_name": "HTMLModel",
          "model_module_version": "1.5.0",
          "state": {
            "_dom_classes": [],
            "_model_module": "@jupyter-widgets/controls",
            "_model_module_version": "1.5.0",
            "_model_name": "HTMLModel",
            "_view_count": null,
            "_view_module": "@jupyter-widgets/controls",
            "_view_module_version": "1.5.0",
            "_view_name": "HTMLView",
            "description": "",
            "description_tooltip": null,
            "layout": "IPY_MODEL_8966302cc4fe4632a944411f69073bcf",
            "placeholder": "​",
            "style": "IPY_MODEL_657bf575fb274627aa6ff1b55e3e1346",
            "value": "special_tokens_map.json: 100%"
          }
        },
        "a367cb2cdb1c454eb1493550d6b57d8b": {
          "model_module": "@jupyter-widgets/controls",
          "model_name": "FloatProgressModel",
          "model_module_version": "1.5.0",
          "state": {
            "_dom_classes": [],
            "_model_module": "@jupyter-widgets/controls",
            "_model_module_version": "1.5.0",
            "_model_name": "FloatProgressModel",
            "_view_count": null,
            "_view_module": "@jupyter-widgets/controls",
            "_view_module_version": "1.5.0",
            "_view_name": "ProgressView",
            "bar_style": "success",
            "description": "",
            "description_tooltip": null,
            "layout": "IPY_MODEL_58d8b4d666d5449ab3a05be21b6cc3e9",
            "max": 370,
            "min": 0,
            "orientation": "horizontal",
            "style": "IPY_MODEL_d97729af31eb43b8bd2337f0f07e8e6f",
            "value": 370
          }
        },
        "a2c0e941ab324a52950af81ef8005bda": {
          "model_module": "@jupyter-widgets/controls",
          "model_name": "HTMLModel",
          "model_module_version": "1.5.0",
          "state": {
            "_dom_classes": [],
            "_model_module": "@jupyter-widgets/controls",
            "_model_module_version": "1.5.0",
            "_model_name": "HTMLModel",
            "_view_count": null,
            "_view_module": "@jupyter-widgets/controls",
            "_view_module_version": "1.5.0",
            "_view_name": "HTMLView",
            "description": "",
            "description_tooltip": null,
            "layout": "IPY_MODEL_515a9715d5754f919d4d1aac05fc3018",
            "placeholder": "​",
            "style": "IPY_MODEL_338757f17c2a4dc4883f0575087c021b",
            "value": " 370/370 [00:00&lt;00:00, 23.2kB/s]"
          }
        },
        "8d1acce41a8d41c6aa72a38ed84fe401": {
          "model_module": "@jupyter-widgets/base",
          "model_name": "LayoutModel",
          "model_module_version": "1.2.0",
          "state": {
            "_model_module": "@jupyter-widgets/base",
            "_model_module_version": "1.2.0",
            "_model_name": "LayoutModel",
            "_view_count": null,
            "_view_module": "@jupyter-widgets/base",
            "_view_module_version": "1.2.0",
            "_view_name": "LayoutView",
            "align_content": null,
            "align_items": null,
            "align_self": null,
            "border": null,
            "bottom": null,
            "display": null,
            "flex": null,
            "flex_flow": null,
            "grid_area": null,
            "grid_auto_columns": null,
            "grid_auto_flow": null,
            "grid_auto_rows": null,
            "grid_column": null,
            "grid_gap": null,
            "grid_row": null,
            "grid_template_areas": null,
            "grid_template_columns": null,
            "grid_template_rows": null,
            "height": null,
            "justify_content": null,
            "justify_items": null,
            "left": null,
            "margin": null,
            "max_height": null,
            "max_width": null,
            "min_height": null,
            "min_width": null,
            "object_fit": null,
            "object_position": null,
            "order": null,
            "overflow": null,
            "overflow_x": null,
            "overflow_y": null,
            "padding": null,
            "right": null,
            "top": null,
            "visibility": null,
            "width": null
          }
        },
        "8966302cc4fe4632a944411f69073bcf": {
          "model_module": "@jupyter-widgets/base",
          "model_name": "LayoutModel",
          "model_module_version": "1.2.0",
          "state": {
            "_model_module": "@jupyter-widgets/base",
            "_model_module_version": "1.2.0",
            "_model_name": "LayoutModel",
            "_view_count": null,
            "_view_module": "@jupyter-widgets/base",
            "_view_module_version": "1.2.0",
            "_view_name": "LayoutView",
            "align_content": null,
            "align_items": null,
            "align_self": null,
            "border": null,
            "bottom": null,
            "display": null,
            "flex": null,
            "flex_flow": null,
            "grid_area": null,
            "grid_auto_columns": null,
            "grid_auto_flow": null,
            "grid_auto_rows": null,
            "grid_column": null,
            "grid_gap": null,
            "grid_row": null,
            "grid_template_areas": null,
            "grid_template_columns": null,
            "grid_template_rows": null,
            "height": null,
            "justify_content": null,
            "justify_items": null,
            "left": null,
            "margin": null,
            "max_height": null,
            "max_width": null,
            "min_height": null,
            "min_width": null,
            "object_fit": null,
            "object_position": null,
            "order": null,
            "overflow": null,
            "overflow_x": null,
            "overflow_y": null,
            "padding": null,
            "right": null,
            "top": null,
            "visibility": null,
            "width": null
          }
        },
        "657bf575fb274627aa6ff1b55e3e1346": {
          "model_module": "@jupyter-widgets/controls",
          "model_name": "DescriptionStyleModel",
          "model_module_version": "1.5.0",
          "state": {
            "_model_module": "@jupyter-widgets/controls",
            "_model_module_version": "1.5.0",
            "_model_name": "DescriptionStyleModel",
            "_view_count": null,
            "_view_module": "@jupyter-widgets/base",
            "_view_module_version": "1.2.0",
            "_view_name": "StyleView",
            "description_width": ""
          }
        },
        "58d8b4d666d5449ab3a05be21b6cc3e9": {
          "model_module": "@jupyter-widgets/base",
          "model_name": "LayoutModel",
          "model_module_version": "1.2.0",
          "state": {
            "_model_module": "@jupyter-widgets/base",
            "_model_module_version": "1.2.0",
            "_model_name": "LayoutModel",
            "_view_count": null,
            "_view_module": "@jupyter-widgets/base",
            "_view_module_version": "1.2.0",
            "_view_name": "LayoutView",
            "align_content": null,
            "align_items": null,
            "align_self": null,
            "border": null,
            "bottom": null,
            "display": null,
            "flex": null,
            "flex_flow": null,
            "grid_area": null,
            "grid_auto_columns": null,
            "grid_auto_flow": null,
            "grid_auto_rows": null,
            "grid_column": null,
            "grid_gap": null,
            "grid_row": null,
            "grid_template_areas": null,
            "grid_template_columns": null,
            "grid_template_rows": null,
            "height": null,
            "justify_content": null,
            "justify_items": null,
            "left": null,
            "margin": null,
            "max_height": null,
            "max_width": null,
            "min_height": null,
            "min_width": null,
            "object_fit": null,
            "object_position": null,
            "order": null,
            "overflow": null,
            "overflow_x": null,
            "overflow_y": null,
            "padding": null,
            "right": null,
            "top": null,
            "visibility": null,
            "width": null
          }
        },
        "d97729af31eb43b8bd2337f0f07e8e6f": {
          "model_module": "@jupyter-widgets/controls",
          "model_name": "ProgressStyleModel",
          "model_module_version": "1.5.0",
          "state": {
            "_model_module": "@jupyter-widgets/controls",
            "_model_module_version": "1.5.0",
            "_model_name": "ProgressStyleModel",
            "_view_count": null,
            "_view_module": "@jupyter-widgets/base",
            "_view_module_version": "1.2.0",
            "_view_name": "StyleView",
            "bar_color": null,
            "description_width": ""
          }
        },
        "515a9715d5754f919d4d1aac05fc3018": {
          "model_module": "@jupyter-widgets/base",
          "model_name": "LayoutModel",
          "model_module_version": "1.2.0",
          "state": {
            "_model_module": "@jupyter-widgets/base",
            "_model_module_version": "1.2.0",
            "_model_name": "LayoutModel",
            "_view_count": null,
            "_view_module": "@jupyter-widgets/base",
            "_view_module_version": "1.2.0",
            "_view_name": "LayoutView",
            "align_content": null,
            "align_items": null,
            "align_self": null,
            "border": null,
            "bottom": null,
            "display": null,
            "flex": null,
            "flex_flow": null,
            "grid_area": null,
            "grid_auto_columns": null,
            "grid_auto_flow": null,
            "grid_auto_rows": null,
            "grid_column": null,
            "grid_gap": null,
            "grid_row": null,
            "grid_template_areas": null,
            "grid_template_columns": null,
            "grid_template_rows": null,
            "height": null,
            "justify_content": null,
            "justify_items": null,
            "left": null,
            "margin": null,
            "max_height": null,
            "max_width": null,
            "min_height": null,
            "min_width": null,
            "object_fit": null,
            "object_position": null,
            "order": null,
            "overflow": null,
            "overflow_x": null,
            "overflow_y": null,
            "padding": null,
            "right": null,
            "top": null,
            "visibility": null,
            "width": null
          }
        },
        "338757f17c2a4dc4883f0575087c021b": {
          "model_module": "@jupyter-widgets/controls",
          "model_name": "DescriptionStyleModel",
          "model_module_version": "1.5.0",
          "state": {
            "_model_module": "@jupyter-widgets/controls",
            "_model_module_version": "1.5.0",
            "_model_name": "DescriptionStyleModel",
            "_view_count": null,
            "_view_module": "@jupyter-widgets/base",
            "_view_module_version": "1.2.0",
            "_view_name": "StyleView",
            "description_width": ""
          }
        }
      }
    }
  },
  "nbformat": 4,
  "nbformat_minor": 5
}